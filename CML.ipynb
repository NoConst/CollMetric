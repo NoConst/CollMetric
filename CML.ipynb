{
  "nbformat": 4,
  "nbformat_minor": 0,
  "metadata": {
    "colab": {
      "name": "CML.ipynb",
      "version": "0.3.2",
      "provenance": [],
      "collapsed_sections": [],
      "toc_visible": true
    },
    "kernelspec": {
      "name": "python3",
      "display_name": "Python 3"
    },
    "accelerator": "GPU"
  },
  "cells": [
    {
      "metadata": {
        "id": "hF3daAJDB9Ux",
        "colab_type": "code",
        "outputId": "46a129d1-d18f-4bbf-d0f1-d17a7fbc9a10",
        "colab": {
          "base_uri": "https://localhost:8080/",
          "height": 125
        }
      },
      "cell_type": "code",
      "source": [
        "# Load the Drive helper and mount\n",
        "from google.colab import drive\n",
        "\n",
        "# This will prompt for authorization.\n",
        "drive.mount('/content/drive')"
      ],
      "execution_count": 1,
      "outputs": [
        {
          "output_type": "stream",
          "text": [
            "Go to this URL in a browser: https://accounts.google.com/o/oauth2/auth?client_id=947318989803-6bn6qk8qdgf4n4g3pfee6491hc0brc4i.apps.googleusercontent.com&redirect_uri=urn%3Aietf%3Awg%3Aoauth%3A2.0%3Aoob&scope=email%20https%3A%2F%2Fwww.googleapis.com%2Fauth%2Fdocs.test%20https%3A%2F%2Fwww.googleapis.com%2Fauth%2Fdrive%20https%3A%2F%2Fwww.googleapis.com%2Fauth%2Fdrive.photos.readonly%20https%3A%2F%2Fwww.googleapis.com%2Fauth%2Fpeopleapi.readonly&response_type=code\n",
            "\n",
            "Enter your authorization code:\n",
            "··········\n",
            "Mounted at /content/drive\n"
          ],
          "name": "stdout"
        }
      ]
    },
    {
      "metadata": {
        "id": "QbOaymPmCW0F",
        "colab_type": "code",
        "colab": {}
      },
      "cell_type": "code",
      "source": [
        "cp -r drive/My\\ Drive/workspace/deep\\ learning\\ based\\ recommendation\\ systems/CML/citeulike-t/ ."
      ],
      "execution_count": 0,
      "outputs": []
    },
    {
      "metadata": {
        "id": "yvHXn9iDeM-r",
        "colab_type": "code",
        "colab": {
          "base_uri": "https://localhost:8080/",
          "height": 316
        },
        "outputId": "40041801-b91a-45d3-98ef-5760f17760aa"
      },
      "cell_type": "code",
      "source": [
        "!nvidia-smi"
      ],
      "execution_count": 1,
      "outputs": [
        {
          "output_type": "stream",
          "text": [
            "Wed Dec 26 03:11:30 2018       \n",
            "+-----------------------------------------------------------------------------+\n",
            "| NVIDIA-SMI 396.44                 Driver Version: 396.44                    |\n",
            "|-------------------------------+----------------------+----------------------+\n",
            "| GPU  Name        Persistence-M| Bus-Id        Disp.A | Volatile Uncorr. ECC |\n",
            "| Fan  Temp  Perf  Pwr:Usage/Cap|         Memory-Usage | GPU-Util  Compute M. |\n",
            "|===============================+======================+======================|\n",
            "|   0  Tesla K80           Off  | 00000000:00:04.0 Off |                    0 |\n",
            "| N/A   35C    P8    30W / 149W |      0MiB / 11441MiB |      0%      Default |\n",
            "+-------------------------------+----------------------+----------------------+\n",
            "                                                                               \n",
            "+-----------------------------------------------------------------------------+\n",
            "| Processes:                                                       GPU Memory |\n",
            "|  GPU       PID   Type   Process name                             Usage      |\n",
            "|=============================================================================|\n",
            "|  No running processes found                                                 |\n",
            "+-----------------------------------------------------------------------------+\n"
          ],
          "name": "stdout"
        }
      ]
    },
    {
      "metadata": {
        "id": "wTn5cZnOfYWV",
        "colab_type": "code",
        "colab": {}
      },
      "cell_type": "code",
      "source": [
        "!apt-get install psmisc"
      ],
      "execution_count": 0,
      "outputs": []
    },
    {
      "metadata": {
        "id": "u4555QH2eV1S",
        "colab_type": "code",
        "colab": {
          "base_uri": "https://localhost:8080/",
          "height": 87
        },
        "outputId": "fe8608bb-39fa-4aa3-acc1-9a1b7bf1c814"
      },
      "cell_type": "code",
      "source": [
        "!fuser -v /dev/nvidia*"
      ],
      "execution_count": 41,
      "outputs": [
        {
          "output_type": "stream",
          "text": [
            "                     USER        PID ACCESS COMMAND\n",
            "/dev/nvidia0:        root         75 F...m python3\n",
            "/dev/nvidiactl:      root         75 F...m python3\n",
            "/dev/nvidia-uvm:     root         75 F.... python3\n"
          ],
          "name": "stdout"
        }
      ]
    },
    {
      "metadata": {
        "id": "uPLKAIkeflH4",
        "colab_type": "code",
        "colab": {}
      },
      "cell_type": "code",
      "source": [
        "!kill -9 75"
      ],
      "execution_count": 0,
      "outputs": []
    },
    {
      "metadata": {
        "id": "rvoXYub8Fq5E",
        "colab_type": "text"
      },
      "cell_type": "markdown",
      "source": [
        "# Data Pre-process"
      ]
    },
    {
      "metadata": {
        "id": "wahtQTZUC44K",
        "colab_type": "text"
      },
      "cell_type": "markdown",
      "source": [
        "## Read Data"
      ]
    },
    {
      "metadata": {
        "id": "uSK3oCRXDhuI",
        "colab_type": "code",
        "colab": {}
      },
      "cell_type": "code",
      "source": [
        "from collections import defaultdict\n",
        "import numpy as np\n",
        "from scipy.sparse import dok_matrix, lil_matrix\n",
        "from tqdm import tqdm"
      ],
      "execution_count": 0,
      "outputs": []
    },
    {
      "metadata": {
        "id": "5222ZNFmC6hu",
        "colab_type": "code",
        "colab": {}
      },
      "cell_type": "code",
      "source": [
        "def citeulike(tag_occurence_thres=10):\n",
        "    user_dict = defaultdict(set)\n",
        "    \n",
        "    # read user-item interactions\n",
        "    for u, item_list in enumerate(open(\"citeulike-t/users.dat\").readlines()):\n",
        "        items = item_list.strip().split(\" \")\n",
        "        # ignore the first element in each line, which is the number of items the user liked. \n",
        "        for item in items[1:]:\n",
        "            user_dict[u].add(int(item))\n",
        "\n",
        "    n_users = len(user_dict)\n",
        "    n_items = max([item for items in user_dict.values() for item in items]) + 1\n",
        "    \n",
        "    # store in the sparse matrix, great!!!\n",
        "    user_item_matrix = dok_matrix((n_users, n_items), dtype=np.int32)\n",
        "    for u, item_list in enumerate(open(\"citeulike-t/users.dat\").readlines()):\n",
        "        items = item_list.strip().split(\" \")\n",
        "        # ignore the first element in each line, which is the number of items the user liked. \n",
        "        for item in items[1:]:\n",
        "            user_item_matrix[u, int(item)] = 1\n",
        "\n",
        "            \n",
        "    # each line is: tag no. item1 item2 item3 ... ... (these item has this tag)    \n",
        "    # only use tag which has at least tag_occurence_thres items \n",
        "    n_features = 0\n",
        "    for l in open(\"citeulike-t/tag-item.dat\").readlines():\n",
        "        items = l.strip().split(\" \")\n",
        "        if int(items[0]) >= tag_occurence_thres:\n",
        "            n_features += 1\n",
        "    print(\"{} features over tag_occurence_thres ({})\".format(n_features, tag_occurence_thres))\n",
        "    features = dok_matrix((n_items, n_features), dtype=np.int32)\n",
        "    feature_index = 0\n",
        "    for l in open(\"citeulike-t/tag-item.dat\").readlines():\n",
        "        items = l.strip().split(\" \")\n",
        "        if int(items[0]) >= tag_occurence_thres:\n",
        "            features[[int(i) for i in items[1:]], feature_index] = 1 # reverse\n",
        "            feature_index += 1\n",
        "\n",
        "    return user_item_matrix, features"
      ],
      "execution_count": 0,
      "outputs": []
    },
    {
      "metadata": {
        "id": "qE3JoHAyE_nN",
        "colab_type": "code",
        "outputId": "9030793c-313e-40d4-ab7c-8ce0f55410c6",
        "colab": {
          "base_uri": "https://localhost:8080/",
          "height": 34
        }
      },
      "cell_type": "code",
      "source": [
        "user_item_matrix, features = citeulike(tag_occurence_thres=5)"
      ],
      "execution_count": 4,
      "outputs": [
        {
          "output_type": "stream",
          "text": [
            "8311 features over tag_occurence_thres (5)\n"
          ],
          "name": "stdout"
        }
      ]
    },
    {
      "metadata": {
        "id": "35hOLEIuFCj7",
        "colab_type": "code",
        "outputId": "420a3b2b-cbd2-494d-cc66-b627ce528355",
        "colab": {
          "base_uri": "https://localhost:8080/",
          "height": 34
        }
      },
      "cell_type": "code",
      "source": [
        "n_users, n_items = user_item_matrix.shape # 7947 users, 25975 items\n",
        "n_users, n_items "
      ],
      "execution_count": 5,
      "outputs": [
        {
          "output_type": "execute_result",
          "data": {
            "text/plain": [
              "(7947, 25975)"
            ]
          },
          "metadata": {
            "tags": []
          },
          "execution_count": 5
        }
      ]
    },
    {
      "metadata": {
        "id": "CzP7OwvQFG1Z",
        "colab_type": "code",
        "colab": {}
      },
      "cell_type": "code",
      "source": [
        "# make feature as dense matrix, add a small number to smooth\n",
        "dense_features = features.toarray() + 1E-10"
      ],
      "execution_count": 0,
      "outputs": []
    },
    {
      "metadata": {
        "id": "J8VCcF6kFVOR",
        "colab_type": "code",
        "outputId": "e675faea-97e3-4da5-c0f1-a68003a07f88",
        "colab": {
          "base_uri": "https://localhost:8080/",
          "height": 34
        }
      },
      "cell_type": "code",
      "source": [
        "dense_features.shape # 25975 items, 10403 tags"
      ],
      "execution_count": 8,
      "outputs": [
        {
          "output_type": "execute_result",
          "data": {
            "text/plain": [
              "(25975, 8311)"
            ]
          },
          "metadata": {
            "tags": []
          },
          "execution_count": 8
        }
      ]
    },
    {
      "metadata": {
        "id": "Asywlnp6Fk1a",
        "colab_type": "text"
      },
      "cell_type": "markdown",
      "source": [
        "## Split Data"
      ]
    },
    {
      "metadata": {
        "id": "cCvrAGMbFZDi",
        "colab_type": "code",
        "colab": {}
      },
      "cell_type": "code",
      "source": [
        "def split_data(user_item_matrix, split_ratio=(3, 1, 1), seed=1):\n",
        "    # set the seed to have deterministic results\n",
        "    np.random.seed(seed)\n",
        "    train = dok_matrix(user_item_matrix.shape)\n",
        "    validation = dok_matrix(user_item_matrix.shape)\n",
        "    test = dok_matrix(user_item_matrix.shape)\n",
        "    # convert it to lil format for fast row access\n",
        "    user_item_matrix = lil_matrix(user_item_matrix)\n",
        "    for user in tqdm(range(user_item_matrix.shape[0]), desc=\"Split data into train/valid/test\"):\n",
        "        items = list(user_item_matrix.rows[user]) # api of lil_matrix, rows fetch non-zero elements\n",
        "        # if this user has more than 5 interactions\n",
        "        if len(items) >= 5:\n",
        "\n",
        "            np.random.shuffle(items) # shuffle\n",
        "\n",
        "            train_count = int(len(items) * split_ratio[0] / sum(split_ratio))\n",
        "            valid_count = int(len(items) * split_ratio[1] / sum(split_ratio))\n",
        "\n",
        "            for i in items[0: train_count]:\n",
        "                train[user, i] = 1\n",
        "            for i in items[train_count: train_count + valid_count]:\n",
        "                validation[user, i] = 1\n",
        "            for i in items[train_count + valid_count:]:\n",
        "                test[user, i] = 1\n",
        "    print(\"{}/{}/{} train/valid/test samples\".format(\n",
        "        len(train.nonzero()[0]),\n",
        "        len(validation.nonzero()[0]),\n",
        "        len(test.nonzero()[0])))\n",
        "    return train, validation, test"
      ],
      "execution_count": 0,
      "outputs": []
    },
    {
      "metadata": {
        "id": "w9BbP54ZG950",
        "colab_type": "code",
        "outputId": "94b8f5d8-8f61-4cde-85b3-43d1df73a917",
        "colab": {
          "base_uri": "https://localhost:8080/",
          "height": 52
        }
      },
      "cell_type": "code",
      "source": [
        "# get train/valid/test user-item matrices\n",
        "train, valid, test = split_data(user_item_matrix)"
      ],
      "execution_count": 10,
      "outputs": [
        {
          "output_type": "stream",
          "text": [
            "Split data into train/valid/test: 100%|██████████| 7947/7947 [00:01<00:00, 5518.17it/s]\n"
          ],
          "name": "stderr"
        },
        {
          "output_type": "stream",
          "text": [
            "73427/23311/28842 train/valid/test samples\n"
          ],
          "name": "stdout"
        }
      ]
    },
    {
      "metadata": {
        "id": "ESHsu2H3VRRo",
        "colab_type": "text"
      },
      "cell_type": "markdown",
      "source": [
        "## Evaluator"
      ]
    },
    {
      "metadata": {
        "id": "6HtnOCJKVQs9",
        "colab_type": "code",
        "colab": {}
      },
      "cell_type": "code",
      "source": [
        "from scipy.sparse import lil_matrix\n",
        "\n",
        "\n",
        "class RecallEvaluator(object):\n",
        "    def __init__(self, model, train_user_item_matrix, test_user_item_matrix):\n",
        "        \"\"\"\n",
        "        Create a evaluator for recall@K evaluation\n",
        "        :param model: the model we are going to evaluate\n",
        "        :param train_user_item_matrix: the user-item pairs used in the training set. These pairs will be ignored\n",
        "               in the recall calculation\n",
        "        :param test_user_item_matrix: the held-out user-item pairs we make prediction against\n",
        "        \"\"\"\n",
        "        self.model = model\n",
        "        self.train_user_item_matrix = lil_matrix(train_user_item_matrix)\n",
        "        self.test_user_item_matrix = lil_matrix(test_user_item_matrix)\n",
        "        n_users = train_user_item_matrix.shape[0]\n",
        "        self.user_to_test_set = {u: set(self.test_user_item_matrix.rows[u])\n",
        "                                 for u in range(n_users) if self.test_user_item_matrix.rows[u]}\n",
        "\n",
        "        if self.train_user_item_matrix is not None:\n",
        "            self.user_to_train_set = {u: set(self.train_user_item_matrix.rows[u])\n",
        "                                      for u in range(n_users) if self.train_user_item_matrix.rows[u]}\n",
        "            self.max_train_count = max(len(row) for row in self.train_user_item_matrix.rows)\n",
        "        else:\n",
        "            self.max_train_count = 0\n",
        "\n",
        "    def eval(self, sess, users, k=50):\n",
        "        \"\"\"\n",
        "        Compute the Top-K recall for a particular user given the predicted scores to items\n",
        "        :param users: the users to eval the recall\n",
        "        :param k: compute the recall for the top K items\n",
        "        :return: recall@K\n",
        "        \"\"\"\n",
        "        # compute the top (K +  Max Number Of Training Items for any user) items for each user\n",
        "\n",
        "        _, user_tops = sess.run(tf.nn.top_k(self.model.item_scores, k + self.max_train_count),\n",
        "                                {self.model.score_user_ids: users})\n",
        "        recalls = []\n",
        "        for user_id, tops in zip(users, user_tops):\n",
        "            train_set = self.user_to_train_set.get(user_id, set())\n",
        "            test_set = self.user_to_test_set.get(user_id, set())\n",
        "            top_n_items = 0\n",
        "            hits = 0\n",
        "            for i in tops:\n",
        "                # ignore item in the training set\n",
        "                if i in train_set:\n",
        "                    continue\n",
        "                elif i in test_set:\n",
        "                    hits += 1\n",
        "                top_n_items += 1\n",
        "                if top_n_items == k:\n",
        "                    break\n",
        "            recalls.append(hits / float(len(test_set)))\n",
        "        return recalls"
      ],
      "execution_count": 0,
      "outputs": []
    },
    {
      "metadata": {
        "id": "lIpQ59IMHGfU",
        "colab_type": "text"
      },
      "cell_type": "markdown",
      "source": [
        "## Sampler"
      ]
    },
    {
      "metadata": {
        "id": "hBuUr9kWHhFf",
        "colab_type": "code",
        "colab": {}
      },
      "cell_type": "code",
      "source": [
        "import numpy\n",
        "from multiprocessing import Process, Queue\n",
        "from scipy.sparse import lil_matrix"
      ],
      "execution_count": 0,
      "outputs": []
    },
    {
      "metadata": {
        "id": "mBesE6ZlHu3X",
        "colab_type": "code",
        "colab": {}
      },
      "cell_type": "code",
      "source": [
        "# each process will run this function in parallel to generate \n",
        "# (user, pos-item) and for each (user,pos-item) pair, fetch N negatives\n",
        "\n",
        "def sample_function(user_item_matrix, batch_size, n_negative, result_queue, check_negative=True):\n",
        "    \"\"\"\n",
        "\n",
        "    :param user_item_matrix: the user-item matrix for positive user-item pairs\n",
        "    :param batch_size: number of samples to return\n",
        "    :param n_negative: number of negative samples per user-positive-item pair\n",
        "    :param result_queue: the output queue\n",
        "    :return: None\n",
        "    \"\"\"\n",
        "    user_item_matrix = lil_matrix(user_item_matrix)\n",
        "    # nonzero() return 2 tuples, first: user index, secend: item index. they are alignd.\n",
        "    # user_item_pairs's shape: (interaction_num, 2)\n",
        "    user_item_pairs = numpy.asarray(user_item_matrix.nonzero()).T # (134860,2)\n",
        "    # key: user, value: items\n",
        "    user_to_positive_set = {u: set(row) for u, row in enumerate(user_item_matrix.rows)}\n",
        "    \n",
        "    # while true to block!!!!\n",
        "    while True: \n",
        "        numpy.random.shuffle(user_item_pairs) # shuffle\n",
        "        for i in range(int(len(user_item_pairs) / batch_size)):\n",
        "\n",
        "            user_positive_items_pairs = user_item_pairs[i * batch_size: (i + 1) * batch_size, :]\n",
        "\n",
        "            # sample negative samples\n",
        "            negative_samples = numpy.random.randint(\n",
        "                0,\n",
        "                user_item_matrix.shape[1],\n",
        "                size=(batch_size, n_negative))\n",
        "\n",
        "            # Check if we sample any positive items as negative samples.\n",
        "            # Note: this step can be optional as the chance that we sample a positive item is fairly low given a\n",
        "            # large item set.\n",
        "            if check_negative:\n",
        "                for user_positive, negatives, i in zip(user_positive_items_pairs,\n",
        "                                                       negative_samples,\n",
        "                                                       range(len(negative_samples))):\n",
        "                    user = user_positive[0]\n",
        "                    for j, neg in enumerate(negatives):\n",
        "                        while neg in user_to_positive_set[user]:\n",
        "                            negative_samples[i, j] = neg = numpy.random.randint(0, user_item_matrix.shape[1])\n",
        "            result_queue.put((user_positive_items_pairs, negative_samples))\n",
        "\n"
      ],
      "execution_count": 0,
      "outputs": []
    },
    {
      "metadata": {
        "id": "z2iA_XoDHBiW",
        "colab_type": "code",
        "colab": {}
      },
      "cell_type": "code",
      "source": [
        "# create warp sampler\n",
        "# A generator that, in parallel, generates tuples: \n",
        "# user-positive-item pairs, negative-items\n",
        "# of the shapes (Batch Size, 2) and (Batch Size, N_Negative)\n",
        "\n",
        "class WarpSampler(object):\n",
        "\n",
        "    def __init__(self, user_item_matrix, batch_size=10000, n_negative=10, n_workers=5, check_negative=True):\n",
        "        self.result_queue = Queue(maxsize=n_workers*2) # 10 mini-batch??\n",
        "        self.processors = []\n",
        "        for i in range(n_workers):\n",
        "            self.processors.append(\n",
        "                Process(target=sample_function, args=(user_item_matrix,\n",
        "                                                      batch_size,\n",
        "                                                      n_negative,\n",
        "                                                      self.result_queue,\n",
        "                                                      check_negative)))\n",
        "            self.processors[-1].start()\n",
        "\n",
        "    def next_batch(self):\n",
        "        return self.result_queue.get()\n",
        "\n",
        "    def close(self):\n",
        "        for p in self.processors:  # type: Process\n",
        "            p.terminate()\n",
        "            p.join()"
      ],
      "execution_count": 0,
      "outputs": []
    },
    {
      "metadata": {
        "id": "4NEKmV0rLq8d",
        "colab_type": "text"
      },
      "cell_type": "markdown",
      "source": [
        "# Model"
      ]
    },
    {
      "metadata": {
        "id": "xVE4CoPPLU3X",
        "colab_type": "code",
        "colab": {}
      },
      "cell_type": "code",
      "source": [
        "import functools\n",
        "import numpy\n",
        "import tensorflow as tf\n",
        "import toolz\n",
        "from tqdm import tqdm"
      ],
      "execution_count": 0,
      "outputs": []
    },
    {
      "metadata": {
        "id": "hog_k0mCT-7M",
        "colab_type": "code",
        "colab": {}
      },
      "cell_type": "code",
      "source": [
        "\n",
        "def doublewrap(function):\n",
        "    \"\"\"\n",
        "    A decorator decorator, allowing to use the decorator to be used without\n",
        "    parentheses if not arguments are provided. All arguments must be optional.\n",
        "    \"\"\"\n",
        "\n",
        "    @functools.wraps(function)\n",
        "    def decorator(*args, **kwargs):\n",
        "        if len(args) == 1 and len(kwargs) == 0 and callable(args[0]):\n",
        "            return function(args[0])\n",
        "        else:\n",
        "            return lambda wrapee: function(wrapee, *args, **kwargs)\n",
        "\n",
        "    return decorator\n",
        "\n",
        "\n",
        "@doublewrap\n",
        "def define_scope(function, scope=None, *args, **kwargs):\n",
        "    \"\"\"\n",
        "    A decorator for functions that define TensorFlow operations. The wrapped\n",
        "    function will only be executed once. Subsequent calls to it will directly\n",
        "    return the result so that operations are added to the graph only once.\n",
        "    The operations added by the function live within a tf.variable_scope(). If\n",
        "    this decorator is used with arguments, they will be forwarded to the\n",
        "    variable scope. The scope name defaults to the name of the wrapped\n",
        "    function.\n",
        "    \"\"\"\n",
        "    attribute = '_cache_' + function.__name__\n",
        "    name = scope or function.__name__\n",
        "\n",
        "    @property\n",
        "    @functools.wraps(function)\n",
        "    def decorator(self):\n",
        "        if not hasattr(self, attribute):\n",
        "            with tf.variable_scope(name, *args, **kwargs):\n",
        "                setattr(self, attribute, function(self))\n",
        "        return getattr(self, attribute)\n",
        "\n",
        "    return decorator\n"
      ],
      "execution_count": 0,
      "outputs": []
    },
    {
      "metadata": {
        "id": "eqRgwHlKLwvV",
        "colab_type": "code",
        "colab": {}
      },
      "cell_type": "code",
      "source": [
        "class CML(object):\n",
        "    def __init__(self,\n",
        "                 n_users,\n",
        "                 n_items,\n",
        "                 embed_dim=20,\n",
        "                 features=None,\n",
        "                 margin=1.5,\n",
        "                 master_learning_rate=0.1,\n",
        "                 clip_norm=1.0,\n",
        "                 hidden_layer_dim=128,\n",
        "                 dropout_rate=0.2,\n",
        "                 feature_l2_reg=0.1,\n",
        "                 feature_projection_scaling_factor=0.5,\n",
        "                 use_rank_weight=True,\n",
        "                 use_cov_loss=True,\n",
        "                 cov_loss_weight=0.1\n",
        "                 ):\n",
        "        \"\"\"\n",
        "\n",
        "        :param n_users: number of users i.e. |U|\n",
        "        :param n_items: number of items i.e. |V|\n",
        "        :param embed_dim: embedding size i.e. K (default 20)\n",
        "        :param features: (optional) the feature vectors of items, shape: (|V|, N_Features).\n",
        "               Set it to None will disable feature loss(default: None)\n",
        "        :param margin: hinge loss threshold i.e. z\n",
        "        :param master_learning_rate: master learning rate for AdaGrad\n",
        "        :param clip_norm: clip norm threshold (default 1.0)\n",
        "        :param hidden_layer_dim: the size of feature projector's hidden layer (default: 128)\n",
        "        :param dropout_rate: the dropout rate between the hidden layer to final feature projection layer\n",
        "        :param feature_l2_reg: feature loss weight\n",
        "        :param feature_projection_scaling_factor: scale the feature projection before compute l2 loss. Ideally,\n",
        "               the scaled feature projection should be mostly within the clip_norm\n",
        "        :param use_rank_weight: whether to use rank weight\n",
        "        :param use_cov_loss: use covariance loss to discourage redundancy in the user/item embedding\n",
        "        \"\"\"\n",
        "        self.n_users = n_users\n",
        "        self.n_items = n_items\n",
        "        self.embed_dim = embed_dim\n",
        "\n",
        "        self.clip_norm = clip_norm\n",
        "        self.margin = margin\n",
        "        if features is not None:\n",
        "            self.features = tf.constant(features, dtype=tf.float32)\n",
        "        else:\n",
        "            self.features = None\n",
        "\n",
        "        self.master_learning_rate = master_learning_rate\n",
        "        self.hidden_layer_dim = hidden_layer_dim\n",
        "        self.dropout_rate = dropout_rate\n",
        "        self.feature_l2_reg = feature_l2_reg\n",
        "        self.feature_projection_scaling_factor = feature_projection_scaling_factor\n",
        "        self.use_rank_weight = use_rank_weight\n",
        "        self.use_cov_loss = use_cov_loss\n",
        "        self.cov_loss_weight = cov_loss_weight\n",
        "\n",
        "\n",
        "        self.user_positive_items_pairs = tf.placeholder(tf.int32, [None, 2], 'user_pos_items')\n",
        "        self.negative_samples = tf.placeholder(tf.int32, [None, None], name='neg_items')\n",
        "        self.score_user_ids = tf.placeholder(tf.int32, [None], name='eval_user_ids')\n",
        "\n",
        "\n",
        "        self.user_embeddings\n",
        "        self.item_embeddings\n",
        "        self.embedding_loss\n",
        "        self.feature_loss\n",
        "        self.loss\n",
        "        self.optimize\n",
        "\n",
        "\n",
        "    @define_scope\n",
        "    def user_embeddings(self):\n",
        "        return tf.Variable(tf.random_normal([self.n_users, self.embed_dim],\n",
        "                                            stddev=1 / (self.embed_dim ** 0.5), dtype=tf.float32))\n",
        "\n",
        "    @define_scope\n",
        "    def item_embeddings(self):\n",
        "        return tf.Variable(tf.random_normal([self.n_items, self.embed_dim],\n",
        "                                            stddev=1 / (self.embed_dim ** 0.5), dtype=tf.float32))\n",
        "\n",
        "    @define_scope\n",
        "    def mlp_layer_1(self):\n",
        "        return tf.layers.dense(inputs=self.features,\n",
        "                               units=self.hidden_layer_dim,\n",
        "                               activation=tf.nn.relu, name=\"mlp_layer_1\")\n",
        "\n",
        "    @define_scope\n",
        "    def mlp_layer_2(self):\n",
        "        dropout = tf.layers.dropout(inputs=self.mlp_layer_1, rate=self.dropout_rate)\n",
        "        return tf.layers.dense(inputs=dropout, units=self.embed_dim, name=\"mlp_layer_2\")\n",
        "\n",
        "    @define_scope\n",
        "    def feature_projection(self):\n",
        "        \"\"\"\n",
        "        :return: the projection of the feature vectors to the user-item embedding\n",
        "        \"\"\"\n",
        "\n",
        "        # feature loss\n",
        "        if self.features is not None:\n",
        "            # fully-connected layer\n",
        "            output = self.mlp_layer_2 * self.feature_projection_scaling_factor\n",
        "\n",
        "            # projection to the embedding\n",
        "            return tf.clip_by_norm(output, self.clip_norm, axes=[1], name=\"feature_projection\")\n",
        "\n",
        "    @define_scope\n",
        "    def feature_loss(self):\n",
        "        \"\"\"\n",
        "        :return: the l2 loss of the distance between items' their embedding and their feature projection\n",
        "        \"\"\"\n",
        "        loss = tf.constant(0, dtype=tf.float32)\n",
        "        if self.feature_projection is not None:\n",
        "            # the distance between feature projection and the item's actual location in the embedding\n",
        "            feature_distance = tf.reduce_sum(tf.squared_difference(\n",
        "                self.item_embeddings,\n",
        "                self.feature_projection), 1)\n",
        "\n",
        "            # apply regularization weight\n",
        "            loss += tf.reduce_sum(feature_distance, name=\"feature_loss\") * self.feature_l2_reg\n",
        "\n",
        "        return loss\n",
        "    @define_scope\n",
        "    def covariance_loss(self):\n",
        "\n",
        "        X = tf.concat((self.item_embeddings, self.user_embeddings), 0)\n",
        "        n_rows = tf.cast(tf.shape(X)[0], tf.float32)\n",
        "        X = X - (tf.reduce_mean(X, axis=0))\n",
        "        cov = tf.matmul(X, X, transpose_a=True) / n_rows\n",
        "\n",
        "        return tf.reduce_sum(tf.matrix_set_diag(cov, tf.zeros(self.embed_dim, tf.float32))) * self.cov_loss_weight\n",
        "\n",
        "    @define_scope\n",
        "    def embedding_loss(self):\n",
        "        \"\"\"\n",
        "        :return: the distance metric loss\n",
        "        \"\"\"\n",
        "        # Let\n",
        "        # N = batch size,\n",
        "        # K = embedding size,\n",
        "        # W = number of negative samples per a user-positive-item pair\n",
        "\n",
        "        # user embedding (N, K)\n",
        "        users = tf.nn.embedding_lookup(self.user_embeddings,\n",
        "                                       self.user_positive_items_pairs[:, 0],\n",
        "                                       name=\"users\")\n",
        "\n",
        "        # positive item embedding (N, K)\n",
        "        pos_items = tf.nn.embedding_lookup(self.item_embeddings, self.user_positive_items_pairs[:, 1],\n",
        "                                           name=\"pos_items\")\n",
        "        # positive item to user distance (N)\n",
        "        pos_distances = tf.reduce_sum(tf.squared_difference(users, pos_items), 1, name=\"pos_distances\")\n",
        "\n",
        "        # negative item embedding (N, K, W)\n",
        "        neg_items = tf.transpose(tf.nn.embedding_lookup(self.item_embeddings, self.negative_samples),\n",
        "                                 (0, 2, 1), name=\"neg_items\")\n",
        "        # distance to negative items (N x W)\n",
        "        distance_to_neg_items = tf.reduce_sum(tf.squared_difference(tf.expand_dims(users, -1), neg_items), 1,\n",
        "                                              name=\"distance_to_neg_items\")\n",
        "\n",
        "        # best negative item (among W negative samples) their distance to the user embedding (N)\n",
        "        closest_negative_item_distances = tf.reduce_min(distance_to_neg_items, 1, name=\"closest_negative_distances\")\n",
        "\n",
        "        # compute hinge loss (N)\n",
        "        loss_per_pair = tf.maximum(pos_distances - closest_negative_item_distances + self.margin, 0,\n",
        "                                   name=\"pair_loss\")\n",
        "\n",
        "        if self.use_rank_weight:\n",
        "            # indicator matrix for impostors (N x W)\n",
        "            impostors = (tf.expand_dims(pos_distances, -1) - distance_to_neg_items + self.margin) > 0\n",
        "            # approximate the rank of positive item by (number of impostor / W per user-positive pair)\n",
        "            rank = tf.reduce_mean(tf.cast(impostors, dtype=tf.float32), 1, name=\"rank_weight\") * self.n_items\n",
        "            # apply rank weight\n",
        "            loss_per_pair *= tf.log(rank + 1)\n",
        "\n",
        "        # the embedding loss\n",
        "        loss = tf.reduce_sum(loss_per_pair, name=\"loss\")\n",
        "\n",
        "        return loss\n",
        "\n",
        "    @define_scope\n",
        "    def loss(self):\n",
        "        \"\"\"\n",
        "        :return: the total loss = embedding loss + feature loss\n",
        "        \"\"\"\n",
        "        loss = self.embedding_loss + self.feature_loss\n",
        "        if self.use_cov_loss:\n",
        "            loss += self.covariance_loss\n",
        "        return loss\n",
        "\n",
        "    @define_scope\n",
        "    def clip_by_norm_op(self):\n",
        "        return [tf.assign(self.user_embeddings, tf.clip_by_norm(self.user_embeddings, self.clip_norm, axes=[1])),\n",
        "                tf.assign(self.item_embeddings, tf.clip_by_norm(self.item_embeddings, self.clip_norm, axes=[1]))]\n",
        "\n",
        "    @define_scope\n",
        "    def optimize(self):\n",
        "        # have two separate learning rates. The first one for user/item embedding is un-normalized.\n",
        "        # The second one for feature projector NN is normalized by the number of items.\n",
        "        gds = []\n",
        "\n",
        "        # fix feature_embeddings and update user_embedding and item_embedding\n",
        "        gds.append(tf.train\n",
        "                   .AdamOptimizer(self.master_learning_rate)\n",
        "                   .minimize(self.loss, var_list=[self.user_embeddings, self.item_embeddings]))\n",
        "\n",
        "        # both update feature_embedding and item_embedding, Coordinate Ascent\n",
        "        if self.feature_projection is not None:\n",
        "            gds.append(tf.train\n",
        "                       .AdamOptimizer(self.master_learning_rate)\n",
        "                       .minimize(self.feature_loss / self.n_items))\n",
        "\n",
        "        with tf.control_dependencies(gds):\n",
        "            return gds + [self.clip_by_norm_op]\n",
        "\n",
        "    @define_scope\n",
        "    def item_scores(self):\n",
        "        # (N_USER_IDS, 1, K)\n",
        "        user = tf.expand_dims(tf.nn.embedding_lookup(self.user_embeddings, self.score_user_ids), 1)\n",
        "        # (1, N_ITEM, K)\n",
        "        item = tf.expand_dims(self.item_embeddings, 0)\n",
        "        # score = minus distance (N_USER, N_ITEM)\n",
        "        return -tf.reduce_sum(tf.squared_difference(user, item), 2, name=\"scores\")\n",
        "        "
      ],
      "execution_count": 0,
      "outputs": []
    },
    {
      "metadata": {
        "id": "IWZ37NjUUBYH",
        "colab_type": "code",
        "colab": {}
      },
      "cell_type": "code",
      "source": [
        "BATCH_SIZE = 50000\n",
        "N_NEGATIVE = 20\n",
        "EVALUATION_EVERY_N_BATCHES = 30\n",
        "EMBED_DIM = 100"
      ],
      "execution_count": 0,
      "outputs": []
    },
    {
      "metadata": {
        "id": "XUhER3oUgIw_",
        "colab_type": "code",
        "colab": {}
      },
      "cell_type": "code",
      "source": [
        "sampler = WarpSampler(train, batch_size=BATCH_SIZE, n_negative=N_NEGATIVE, check_negative=True)"
      ],
      "execution_count": 0,
      "outputs": []
    },
    {
      "metadata": {
        "id": "x9lkH5sxUFrc",
        "colab_type": "code",
        "colab": {}
      },
      "cell_type": "code",
      "source": [
        "def optimize(model, sampler, train, valid):\n",
        "    \"\"\"\n",
        "    Optimize the model. TODO: implement early-stopping\n",
        "    :param model: model to optimize\n",
        "    :param sampler: mini-batch sampler\n",
        "    :param train: train user-item matrix\n",
        "    :param valid: validation user-item matrix\n",
        "    :return: None\n",
        "    \"\"\"\n",
        "    sess = tf.Session()\n",
        "    sess.run(tf.global_variables_initializer())\n",
        "    if model.feature_projection is not None:\n",
        "        # initialize item embedding with feature projection\n",
        "        sess.run(tf.assign(model.item_embeddings, model.feature_projection))\n",
        "\n",
        "    # sample some users to calculate recall validation\n",
        "    valid_users = numpy.random.choice(list(set(valid.nonzero()[0])), size=1000, replace=False)\n",
        "\n",
        "    while True:\n",
        "        # create evaluator on validation set\n",
        "        validation_recall = RecallEvaluator(model, train, valid)\n",
        "        # compute recall on validate set\n",
        "        valid_recalls = []\n",
        "\n",
        "        # compute recall in chunks to utilize speedup provided by Tensorflow\n",
        "        for user_chunk in toolz.partition_all(100, valid_users):\n",
        "            valid_recalls.extend([validation_recall.eval(sess, user_chunk)])\n",
        "        print(\"\\nRecall on (sampled) validation set: {}\".format(numpy.mean(valid_recalls)))\n",
        "        # TODO: early stopping based on validation recall\n",
        "\n",
        "        # train model\n",
        "        losses = []\n",
        "        # run n mini-batches\n",
        "        for _ in tqdm(range(EVALUATION_EVERY_N_BATCHES), desc=\"Optimizing...\"):\n",
        "            user_pos, neg = sampler.next_batch()\n",
        "            _, loss = sess.run((model.optimize, model.loss),\n",
        "                               {model.user_positive_items_pairs: user_pos,\n",
        "                                model.negative_samples: neg})\n",
        "\n",
        "            losses.append(loss)\n",
        "\n",
        "        print(\"\\nTraining loss {}\".format(numpy.mean(losses)))\n",
        "\n"
      ],
      "execution_count": 0,
      "outputs": []
    },
    {
      "metadata": {
        "id": "WX1_dkdTUaZ5",
        "colab_type": "text"
      },
      "cell_type": "markdown",
      "source": [
        "## Run"
      ]
    },
    {
      "metadata": {
        "id": "BBkgMX-4gOea",
        "colab_type": "code",
        "colab": {}
      },
      "cell_type": "code",
      "source": [
        "# WITHOUT features\n",
        "# Train a user-item joint embedding, where the items a user likes will be pulled closer to this users.\n",
        "# Once the embedding is trained, the recommendations are made by finding the k-Nearest-Neighbor to each user.\n",
        "\n",
        "'''\n",
        "model = CML(n_users,\n",
        "            n_items,\n",
        "            # set features to None to disable feature projection\n",
        "            features=None,\n",
        "            # size of embedding\n",
        "            embed_dim=EMBED_DIM,\n",
        "            # the size of hinge loss margin.\n",
        "            margin=1.9,\n",
        "            # clip the embedding so that their norm <= clip_norm\n",
        "            clip_norm=1,\n",
        "            # learning rate for Adam\n",
        "            master_learning_rate=0.001,\n",
        "\n",
        "            # whether to enable rank weight. If True, the loss will be scaled by the estimated\n",
        "            # log-rank of the positive items. If False, no weight will be applied.\n",
        "\n",
        "            # This is particularly useful to speed up the training for large item set.\n",
        "\n",
        "            # Weston, Jason, Samy Bengio, and Nicolas Usunier.\n",
        "            # \"Wsabie: Scaling up to large vocabulary image annotation.\" IJCAI. Vol. 11. 2011.\n",
        "            use_rank_weight=True,\n",
        "\n",
        "            # whether to enable covariance regularization to encourage efficient use of the vector space.\n",
        "            # More useful when the size of embedding is smaller (e.g. < 20 ).\n",
        "            use_cov_loss=False,\n",
        "\n",
        "            # weight of the cov_loss\n",
        "            cov_loss_weight=1\n",
        "            )\n",
        "'''\n",
        "\n",
        "#optimize(model, sampler, train, valid)\n",
        "\n",
        "# WITH features\n",
        "# In this case, we additionally train a feature projector to project raw item features into the\n",
        "# embedding. The projection serves as \"a prior\" to inform the item's potential location in the embedding.\n",
        "# We use a two fully-connected layers NN as our feature projector. (This model is much more computation intensive.\n",
        "# A GPU machine is recommended)\n",
        "model = CML(n_users,\n",
        "            n_items,\n",
        "            # enable feature projection\n",
        "            features=dense_features,\n",
        "            embed_dim=EMBED_DIM,\n",
        "            margin=2.0,\n",
        "            clip_norm=1.1,\n",
        "            master_learning_rate=0.001,\n",
        "            # the size of the hidden layer in the feature projector NN\n",
        "            hidden_layer_dim=512,\n",
        "            # dropout rate between hidden layer and output layer in the feature projector NN\n",
        "            dropout_rate=0.3,\n",
        "            # scale the output of the NN so that the magnitude of the NN output is closer to the item embedding\n",
        "            feature_projection_scaling_factor=1,\n",
        "            # the penalty to the distance between projection and item's actual location in the embedding\n",
        "            # tune this to adjust how much the embedding should be biased towards the item features.\n",
        "            feature_l2_reg=0.1,\n",
        "\n",
        "            # whether to enable rank weight. If True, the loss will be scaled by the estimated\n",
        "            # log-rank of the positive items. If False, no weight will be applied.\n",
        "\n",
        "            # This is particularly useful to speed up the training for large item set.\n",
        "\n",
        "            # Weston, Jason, Samy Bengio, and Nicolas Usunier.\n",
        "            # \"Wsabie: Scaling up to large vocabulary image annotation.\" IJCAI. Vol. 11. 2011.\n",
        "            use_rank_weight=True,\n",
        "\n",
        "            # whether to enable covariance regularization to encourage efficient use of the vector space.\n",
        "            # More useful when the size of embedding is smaller (e.g. < 20 ).\n",
        "            use_cov_loss=True,\n",
        "\n",
        "            # weight of the cov_loss\n",
        "            cov_loss_weight=1\n",
        "            )"
      ],
      "execution_count": 0,
      "outputs": []
    },
    {
      "metadata": {
        "id": "rVBOYCndgkEU",
        "colab_type": "code",
        "colab": {
          "base_uri": "https://localhost:8080/",
          "height": 3162
        },
        "outputId": "83c95f0e-49ee-4408-8128-a2a6199977c9"
      },
      "cell_type": "code",
      "source": [
        "optimize(model, sampler, train, valid)"
      ],
      "execution_count": 25,
      "outputs": [
        {
          "output_type": "stream",
          "text": [
            "\rOptimizing...:   0%|          | 0/30 [00:00<?, ?it/s]"
          ],
          "name": "stderr"
        },
        {
          "output_type": "stream",
          "text": [
            "\n",
            "Recall on (sampled) validation set: 0.0016383116883116884\n"
          ],
          "name": "stdout"
        },
        {
          "output_type": "stream",
          "text": [
            "Optimizing...: 100%|██████████| 30/30 [00:49<00:00,  1.88s/it]\n"
          ],
          "name": "stderr"
        },
        {
          "output_type": "stream",
          "text": [
            "\n",
            "Training loss 1124511.75\n"
          ],
          "name": "stdout"
        },
        {
          "output_type": "stream",
          "text": [
            "\rOptimizing...:   0%|          | 0/30 [00:00<?, ?it/s]"
          ],
          "name": "stderr"
        },
        {
          "output_type": "stream",
          "text": [
            "\n",
            "Recall on (sampled) validation set: 0.0032647546454727307\n"
          ],
          "name": "stdout"
        },
        {
          "output_type": "stream",
          "text": [
            "Optimizing...: 100%|██████████| 30/30 [01:02<00:00,  1.93s/it]\n"
          ],
          "name": "stderr"
        },
        {
          "output_type": "stream",
          "text": [
            "\n",
            "Training loss 1028574.1875\n"
          ],
          "name": "stdout"
        },
        {
          "output_type": "stream",
          "text": [
            "\rOptimizing...:   0%|          | 0/30 [00:00<?, ?it/s]"
          ],
          "name": "stderr"
        },
        {
          "output_type": "stream",
          "text": [
            "\n",
            "Recall on (sampled) validation set: 0.029292800587997603\n"
          ],
          "name": "stdout"
        },
        {
          "output_type": "stream",
          "text": [
            "Optimizing...: 100%|██████████| 30/30 [01:02<00:00,  2.05s/it]\n"
          ],
          "name": "stderr"
        },
        {
          "output_type": "stream",
          "text": [
            "\n",
            "Training loss 970049.5625\n"
          ],
          "name": "stdout"
        },
        {
          "output_type": "stream",
          "text": [
            "\rOptimizing...:   0%|          | 0/30 [00:00<?, ?it/s]"
          ],
          "name": "stderr"
        },
        {
          "output_type": "stream",
          "text": [
            "\n",
            "Recall on (sampled) validation set: 0.08448525566066117\n"
          ],
          "name": "stdout"
        },
        {
          "output_type": "stream",
          "text": [
            "Optimizing...: 100%|██████████| 30/30 [01:02<00:00,  2.37s/it]\n"
          ],
          "name": "stderr"
        },
        {
          "output_type": "stream",
          "text": [
            "\n",
            "Training loss 923925.625\n"
          ],
          "name": "stdout"
        },
        {
          "output_type": "stream",
          "text": [
            "\rOptimizing...:   0%|          | 0/30 [00:00<?, ?it/s]"
          ],
          "name": "stderr"
        },
        {
          "output_type": "stream",
          "text": [
            "\n",
            "Recall on (sampled) validation set: 0.13494490023424277\n"
          ],
          "name": "stdout"
        },
        {
          "output_type": "stream",
          "text": [
            "Optimizing...: 100%|██████████| 30/30 [01:00<00:00,  1.87s/it]\n"
          ],
          "name": "stderr"
        },
        {
          "output_type": "stream",
          "text": [
            "\n",
            "Training loss 883120.75\n"
          ],
          "name": "stdout"
        },
        {
          "output_type": "stream",
          "text": [
            "\rOptimizing...:   0%|          | 0/30 [00:00<?, ?it/s]"
          ],
          "name": "stderr"
        },
        {
          "output_type": "stream",
          "text": [
            "\n",
            "Recall on (sampled) validation set: 0.17766364605711704\n"
          ],
          "name": "stdout"
        },
        {
          "output_type": "stream",
          "text": [
            "Optimizing...: 100%|██████████| 30/30 [01:02<00:00,  2.06s/it]\n"
          ],
          "name": "stderr"
        },
        {
          "output_type": "stream",
          "text": [
            "\n",
            "Training loss 843492.75\n"
          ],
          "name": "stdout"
        },
        {
          "output_type": "stream",
          "text": [
            "\rOptimizing...:   0%|          | 0/30 [00:00<?, ?it/s]"
          ],
          "name": "stderr"
        },
        {
          "output_type": "stream",
          "text": [
            "\n",
            "Recall on (sampled) validation set: 0.21492896631396785\n"
          ],
          "name": "stdout"
        },
        {
          "output_type": "stream",
          "text": [
            "Optimizing...: 100%|██████████| 30/30 [01:01<00:00,  1.94s/it]\n"
          ],
          "name": "stderr"
        },
        {
          "output_type": "stream",
          "text": [
            "\n",
            "Training loss 803676.0625\n"
          ],
          "name": "stdout"
        },
        {
          "output_type": "stream",
          "text": [
            "\rOptimizing...:   0%|          | 0/30 [00:00<?, ?it/s]"
          ],
          "name": "stderr"
        },
        {
          "output_type": "stream",
          "text": [
            "\n",
            "Recall on (sampled) validation set: 0.2515709561003286\n"
          ],
          "name": "stdout"
        },
        {
          "output_type": "stream",
          "text": [
            "Optimizing...: 100%|██████████| 30/30 [01:01<00:00,  1.77s/it]\n"
          ],
          "name": "stderr"
        },
        {
          "output_type": "stream",
          "text": [
            "\n",
            "Training loss 763691.9375\n"
          ],
          "name": "stdout"
        },
        {
          "output_type": "stream",
          "text": [
            "\rOptimizing...:   0%|          | 0/30 [00:00<?, ?it/s]"
          ],
          "name": "stderr"
        },
        {
          "output_type": "stream",
          "text": [
            "\n",
            "Recall on (sampled) validation set: 0.2667060986743216\n"
          ],
          "name": "stdout"
        },
        {
          "output_type": "stream",
          "text": [
            "Optimizing...: 100%|██████████| 30/30 [01:03<00:00,  2.26s/it]\n"
          ],
          "name": "stderr"
        },
        {
          "output_type": "stream",
          "text": [
            "\n",
            "Training loss 723543.3125\n"
          ],
          "name": "stdout"
        },
        {
          "output_type": "stream",
          "text": [
            "\rOptimizing...:   0%|          | 0/30 [00:00<?, ?it/s]"
          ],
          "name": "stderr"
        },
        {
          "output_type": "stream",
          "text": [
            "\n",
            "Recall on (sampled) validation set: 0.28197055978245406\n"
          ],
          "name": "stdout"
        },
        {
          "output_type": "stream",
          "text": [
            "Optimizing...: 100%|██████████| 30/30 [01:02<00:00,  2.29s/it]\n"
          ],
          "name": "stderr"
        },
        {
          "output_type": "stream",
          "text": [
            "\n",
            "Training loss 683006.5625\n"
          ],
          "name": "stdout"
        },
        {
          "output_type": "stream",
          "text": [
            "\rOptimizing...:   0%|          | 0/30 [00:00<?, ?it/s]"
          ],
          "name": "stderr"
        },
        {
          "output_type": "stream",
          "text": [
            "\n",
            "Recall on (sampled) validation set: 0.2850923503213439\n"
          ],
          "name": "stdout"
        },
        {
          "output_type": "stream",
          "text": [
            "Optimizing...: 100%|██████████| 30/30 [01:01<00:00,  1.88s/it]\n"
          ],
          "name": "stderr"
        },
        {
          "output_type": "stream",
          "text": [
            "\n",
            "Training loss 642707.0\n"
          ],
          "name": "stdout"
        },
        {
          "output_type": "stream",
          "text": [
            "\rOptimizing...:   0%|          | 0/30 [00:00<?, ?it/s]"
          ],
          "name": "stderr"
        },
        {
          "output_type": "stream",
          "text": [
            "\n",
            "Recall on (sampled) validation set: 0.2936665777129699\n"
          ],
          "name": "stdout"
        },
        {
          "output_type": "stream",
          "text": [
            "Optimizing...: 100%|██████████| 30/30 [01:03<00:00,  2.33s/it]\n"
          ],
          "name": "stderr"
        },
        {
          "output_type": "stream",
          "text": [
            "\n",
            "Training loss 602380.0\n"
          ],
          "name": "stdout"
        },
        {
          "output_type": "stream",
          "text": [
            "\rOptimizing...:   0%|          | 0/30 [00:00<?, ?it/s]"
          ],
          "name": "stderr"
        },
        {
          "output_type": "stream",
          "text": [
            "\n",
            "Recall on (sampled) validation set: 0.3007926875543155\n"
          ],
          "name": "stdout"
        },
        {
          "output_type": "stream",
          "text": [
            "Optimizing...: 100%|██████████| 30/30 [01:01<00:00,  1.96s/it]\n"
          ],
          "name": "stderr"
        },
        {
          "output_type": "stream",
          "text": [
            "\n",
            "Training loss 569565.6875\n"
          ],
          "name": "stdout"
        },
        {
          "output_type": "stream",
          "text": [
            "\rOptimizing...:   0%|          | 0/30 [00:00<?, ?it/s]"
          ],
          "name": "stderr"
        },
        {
          "output_type": "stream",
          "text": [
            "\n",
            "Recall on (sampled) validation set: 0.3062782155450583\n"
          ],
          "name": "stdout"
        },
        {
          "output_type": "stream",
          "text": [
            "Optimizing...: 100%|██████████| 30/30 [01:01<00:00,  2.19s/it]\n"
          ],
          "name": "stderr"
        },
        {
          "output_type": "stream",
          "text": [
            "\n",
            "Training loss 543835.375\n"
          ],
          "name": "stdout"
        },
        {
          "output_type": "stream",
          "text": [
            "\rOptimizing...:   0%|          | 0/30 [00:00<?, ?it/s]"
          ],
          "name": "stderr"
        },
        {
          "output_type": "stream",
          "text": [
            "\n",
            "Recall on (sampled) validation set: 0.3043429385742585\n"
          ],
          "name": "stdout"
        },
        {
          "output_type": "stream",
          "text": [
            "Optimizing...: 100%|██████████| 30/30 [01:00<00:00,  1.66s/it]\n"
          ],
          "name": "stderr"
        },
        {
          "output_type": "stream",
          "text": [
            "\n",
            "Training loss 528104.125\n"
          ],
          "name": "stdout"
        },
        {
          "output_type": "stream",
          "text": [
            "\rOptimizing...:   0%|          | 0/30 [00:00<?, ?it/s]"
          ],
          "name": "stderr"
        },
        {
          "output_type": "stream",
          "text": [
            "\n",
            "Recall on (sampled) validation set: 0.3077634118627458\n"
          ],
          "name": "stdout"
        },
        {
          "output_type": "stream",
          "text": [
            "Optimizing...: 100%|██████████| 30/30 [01:02<00:00,  1.90s/it]\n"
          ],
          "name": "stderr"
        },
        {
          "output_type": "stream",
          "text": [
            "\n",
            "Training loss 515471.6875\n"
          ],
          "name": "stdout"
        },
        {
          "output_type": "stream",
          "text": [
            "\rOptimizing...:   0%|          | 0/30 [00:00<?, ?it/s]"
          ],
          "name": "stderr"
        },
        {
          "output_type": "stream",
          "text": [
            "\n",
            "Recall on (sampled) validation set: 0.30559217742387945\n"
          ],
          "name": "stdout"
        },
        {
          "output_type": "stream",
          "text": [
            "Optimizing...: 100%|██████████| 30/30 [01:03<00:00,  2.31s/it]\n"
          ],
          "name": "stderr"
        },
        {
          "output_type": "stream",
          "text": [
            "\n",
            "Training loss 506996.4375\n"
          ],
          "name": "stdout"
        },
        {
          "output_type": "stream",
          "text": [
            "\rOptimizing...:   0%|          | 0/30 [00:00<?, ?it/s]"
          ],
          "name": "stderr"
        },
        {
          "output_type": "stream",
          "text": [
            "\n",
            "Recall on (sampled) validation set: 0.3066431415350338\n"
          ],
          "name": "stdout"
        },
        {
          "output_type": "stream",
          "text": [
            "Optimizing...: 100%|██████████| 30/30 [01:02<00:00,  2.37s/it]\n"
          ],
          "name": "stderr"
        },
        {
          "output_type": "stream",
          "text": [
            "\n",
            "Training loss 499637.09375\n"
          ],
          "name": "stdout"
        },
        {
          "output_type": "stream",
          "text": [
            "\rOptimizing...:   0%|          | 0/30 [00:00<?, ?it/s]"
          ],
          "name": "stderr"
        },
        {
          "output_type": "stream",
          "text": [
            "\n",
            "Recall on (sampled) validation set: 0.30524213879912054\n"
          ],
          "name": "stdout"
        },
        {
          "output_type": "stream",
          "text": [
            "Optimizing...: 100%|██████████| 30/30 [01:01<00:00,  2.32s/it]\n"
          ],
          "name": "stderr"
        },
        {
          "output_type": "stream",
          "text": [
            "\n",
            "Training loss 494370.3125\n"
          ],
          "name": "stdout"
        },
        {
          "output_type": "stream",
          "text": [
            "\rOptimizing...:   0%|          | 0/30 [00:00<?, ?it/s]"
          ],
          "name": "stderr"
        },
        {
          "output_type": "stream",
          "text": [
            "\n",
            "Recall on (sampled) validation set: 0.305382014411204\n"
          ],
          "name": "stdout"
        },
        {
          "output_type": "stream",
          "text": [
            "Optimizing...: 100%|██████████| 30/30 [01:02<00:00,  2.39s/it]\n"
          ],
          "name": "stderr"
        },
        {
          "output_type": "stream",
          "text": [
            "\n",
            "Training loss 488775.21875\n"
          ],
          "name": "stdout"
        },
        {
          "output_type": "stream",
          "text": [
            "\rOptimizing...:   0%|          | 0/30 [00:00<?, ?it/s]"
          ],
          "name": "stderr"
        },
        {
          "output_type": "stream",
          "text": [
            "\n",
            "Recall on (sampled) validation set: 0.3059263902095092\n"
          ],
          "name": "stdout"
        },
        {
          "output_type": "stream",
          "text": [
            "Optimizing...: 100%|██████████| 30/30 [01:01<00:00,  2.38s/it]\n"
          ],
          "name": "stderr"
        },
        {
          "output_type": "stream",
          "text": [
            "\n",
            "Training loss 484852.3125\n"
          ],
          "name": "stdout"
        },
        {
          "output_type": "stream",
          "text": [
            "\rOptimizing...:   0%|          | 0/30 [00:00<?, ?it/s]"
          ],
          "name": "stderr"
        },
        {
          "output_type": "stream",
          "text": [
            "\n",
            "Recall on (sampled) validation set: 0.30499439454282506\n"
          ],
          "name": "stdout"
        },
        {
          "output_type": "stream",
          "text": [
            "Optimizing...: 100%|██████████| 30/30 [01:01<00:00,  1.94s/it]\n"
          ],
          "name": "stderr"
        },
        {
          "output_type": "stream",
          "text": [
            "\n",
            "Training loss 480915.5625\n"
          ],
          "name": "stdout"
        },
        {
          "output_type": "stream",
          "text": [
            "\rOptimizing...:   0%|          | 0/30 [00:00<?, ?it/s]"
          ],
          "name": "stderr"
        },
        {
          "output_type": "stream",
          "text": [
            "\n",
            "Recall on (sampled) validation set: 0.30254963214458375\n"
          ],
          "name": "stdout"
        },
        {
          "output_type": "stream",
          "text": [
            "Optimizing...: 100%|██████████| 30/30 [01:02<00:00,  2.33s/it]\n"
          ],
          "name": "stderr"
        },
        {
          "output_type": "stream",
          "text": [
            "\n",
            "Training loss 477416.125\n"
          ],
          "name": "stdout"
        },
        {
          "output_type": "stream",
          "text": [
            "\rOptimizing...:   0%|          | 0/30 [00:00<?, ?it/s]"
          ],
          "name": "stderr"
        },
        {
          "output_type": "stream",
          "text": [
            "\n",
            "Recall on (sampled) validation set: 0.29860009523478265\n"
          ],
          "name": "stdout"
        },
        {
          "output_type": "stream",
          "text": [
            "Optimizing...: 100%|██████████| 30/30 [01:02<00:00,  2.43s/it]\n"
          ],
          "name": "stderr"
        },
        {
          "output_type": "stream",
          "text": [
            "\n",
            "Training loss 474817.03125\n"
          ],
          "name": "stdout"
        },
        {
          "output_type": "stream",
          "text": [
            "\rOptimizing...:   0%|          | 0/30 [00:00<?, ?it/s]"
          ],
          "name": "stderr"
        },
        {
          "output_type": "stream",
          "text": [
            "\n",
            "Recall on (sampled) validation set: 0.2974426060577856\n"
          ],
          "name": "stdout"
        },
        {
          "output_type": "stream",
          "text": [
            "Optimizing...: 100%|██████████| 30/30 [01:00<00:00,  2.27s/it]\n"
          ],
          "name": "stderr"
        },
        {
          "output_type": "stream",
          "text": [
            "\n",
            "Training loss 471428.53125\n"
          ],
          "name": "stdout"
        },
        {
          "output_type": "stream",
          "text": [
            "\rOptimizing...:   0%|          | 0/30 [00:00<?, ?it/s]"
          ],
          "name": "stderr"
        },
        {
          "output_type": "stream",
          "text": [
            "\n",
            "Recall on (sampled) validation set: 0.30583635876551957\n"
          ],
          "name": "stdout"
        },
        {
          "output_type": "stream",
          "text": [
            "Optimizing...:  17%|█▋        | 5/30 [00:07<00:44,  1.79s/it]\n"
          ],
          "name": "stderr"
        },
        {
          "output_type": "error",
          "ename": "KeyboardInterrupt",
          "evalue": "ignored",
          "traceback": [
            "\u001b[0;31m---------------------------------------------------------------------------\u001b[0m",
            "\u001b[0;31mKeyboardInterrupt\u001b[0m                         Traceback (most recent call last)",
            "\u001b[0;32m<ipython-input-25-7036ae77928f>\u001b[0m in \u001b[0;36m<module>\u001b[0;34m()\u001b[0m\n\u001b[0;32m----> 1\u001b[0;31m \u001b[0moptimize\u001b[0m\u001b[0;34m(\u001b[0m\u001b[0mmodel\u001b[0m\u001b[0;34m,\u001b[0m \u001b[0msampler\u001b[0m\u001b[0;34m,\u001b[0m \u001b[0mtrain\u001b[0m\u001b[0;34m,\u001b[0m \u001b[0mvalid\u001b[0m\u001b[0;34m)\u001b[0m\u001b[0;34m\u001b[0m\u001b[0;34m\u001b[0m\u001b[0m\n\u001b[0m",
            "\u001b[0;32m<ipython-input-21-689129c6224b>\u001b[0m in \u001b[0;36moptimize\u001b[0;34m(model, sampler, train, valid)\u001b[0m\n\u001b[1;32m     33\u001b[0m         \u001b[0;31m# run n mini-batches\u001b[0m\u001b[0;34m\u001b[0m\u001b[0;34m\u001b[0m\u001b[0;34m\u001b[0m\u001b[0m\n\u001b[1;32m     34\u001b[0m         \u001b[0;32mfor\u001b[0m \u001b[0m_\u001b[0m \u001b[0;32min\u001b[0m \u001b[0mtqdm\u001b[0m\u001b[0;34m(\u001b[0m\u001b[0mrange\u001b[0m\u001b[0;34m(\u001b[0m\u001b[0mEVALUATION_EVERY_N_BATCHES\u001b[0m\u001b[0;34m)\u001b[0m\u001b[0;34m,\u001b[0m \u001b[0mdesc\u001b[0m\u001b[0;34m=\u001b[0m\u001b[0;34m\"Optimizing...\"\u001b[0m\u001b[0;34m)\u001b[0m\u001b[0;34m:\u001b[0m\u001b[0;34m\u001b[0m\u001b[0;34m\u001b[0m\u001b[0m\n\u001b[0;32m---> 35\u001b[0;31m             \u001b[0muser_pos\u001b[0m\u001b[0;34m,\u001b[0m \u001b[0mneg\u001b[0m \u001b[0;34m=\u001b[0m \u001b[0msampler\u001b[0m\u001b[0;34m.\u001b[0m\u001b[0mnext_batch\u001b[0m\u001b[0;34m(\u001b[0m\u001b[0;34m)\u001b[0m\u001b[0;34m\u001b[0m\u001b[0;34m\u001b[0m\u001b[0m\n\u001b[0m\u001b[1;32m     36\u001b[0m             _, loss = sess.run((model.optimize, model.loss),\n\u001b[1;32m     37\u001b[0m                                {model.user_positive_items_pairs: user_pos,\n",
            "\u001b[0;32m<ipython-input-14-2d773087d6f8>\u001b[0m in \u001b[0;36mnext_batch\u001b[0;34m(self)\u001b[0m\n\u001b[1;32m     15\u001b[0m \u001b[0;34m\u001b[0m\u001b[0m\n\u001b[1;32m     16\u001b[0m     \u001b[0;32mdef\u001b[0m \u001b[0mnext_batch\u001b[0m\u001b[0;34m(\u001b[0m\u001b[0mself\u001b[0m\u001b[0;34m)\u001b[0m\u001b[0;34m:\u001b[0m\u001b[0;34m\u001b[0m\u001b[0;34m\u001b[0m\u001b[0m\n\u001b[0;32m---> 17\u001b[0;31m         \u001b[0;32mreturn\u001b[0m \u001b[0mself\u001b[0m\u001b[0;34m.\u001b[0m\u001b[0mresult_queue\u001b[0m\u001b[0;34m.\u001b[0m\u001b[0mget\u001b[0m\u001b[0;34m(\u001b[0m\u001b[0;34m)\u001b[0m\u001b[0;34m\u001b[0m\u001b[0;34m\u001b[0m\u001b[0m\n\u001b[0m\u001b[1;32m     18\u001b[0m \u001b[0;34m\u001b[0m\u001b[0m\n\u001b[1;32m     19\u001b[0m     \u001b[0;32mdef\u001b[0m \u001b[0mclose\u001b[0m\u001b[0;34m(\u001b[0m\u001b[0mself\u001b[0m\u001b[0;34m)\u001b[0m\u001b[0;34m:\u001b[0m\u001b[0;34m\u001b[0m\u001b[0;34m\u001b[0m\u001b[0m\n",
            "\u001b[0;32m/usr/lib/python3.6/multiprocessing/queues.py\u001b[0m in \u001b[0;36mget\u001b[0;34m(self, block, timeout)\u001b[0m\n\u001b[1;32m     92\u001b[0m         \u001b[0;32mif\u001b[0m \u001b[0mblock\u001b[0m \u001b[0;32mand\u001b[0m \u001b[0mtimeout\u001b[0m \u001b[0;32mis\u001b[0m \u001b[0;32mNone\u001b[0m\u001b[0;34m:\u001b[0m\u001b[0;34m\u001b[0m\u001b[0;34m\u001b[0m\u001b[0m\n\u001b[1;32m     93\u001b[0m             \u001b[0;32mwith\u001b[0m \u001b[0mself\u001b[0m\u001b[0;34m.\u001b[0m\u001b[0m_rlock\u001b[0m\u001b[0;34m:\u001b[0m\u001b[0;34m\u001b[0m\u001b[0;34m\u001b[0m\u001b[0m\n\u001b[0;32m---> 94\u001b[0;31m                 \u001b[0mres\u001b[0m \u001b[0;34m=\u001b[0m \u001b[0mself\u001b[0m\u001b[0;34m.\u001b[0m\u001b[0m_recv_bytes\u001b[0m\u001b[0;34m(\u001b[0m\u001b[0;34m)\u001b[0m\u001b[0;34m\u001b[0m\u001b[0;34m\u001b[0m\u001b[0m\n\u001b[0m\u001b[1;32m     95\u001b[0m             \u001b[0mself\u001b[0m\u001b[0;34m.\u001b[0m\u001b[0m_sem\u001b[0m\u001b[0;34m.\u001b[0m\u001b[0mrelease\u001b[0m\u001b[0;34m(\u001b[0m\u001b[0;34m)\u001b[0m\u001b[0;34m\u001b[0m\u001b[0;34m\u001b[0m\u001b[0m\n\u001b[1;32m     96\u001b[0m         \u001b[0;32melse\u001b[0m\u001b[0;34m:\u001b[0m\u001b[0;34m\u001b[0m\u001b[0;34m\u001b[0m\u001b[0m\n",
            "\u001b[0;32m/usr/lib/python3.6/multiprocessing/connection.py\u001b[0m in \u001b[0;36mrecv_bytes\u001b[0;34m(self, maxlength)\u001b[0m\n\u001b[1;32m    214\u001b[0m         \u001b[0;32mif\u001b[0m \u001b[0mmaxlength\u001b[0m \u001b[0;32mis\u001b[0m \u001b[0;32mnot\u001b[0m \u001b[0;32mNone\u001b[0m \u001b[0;32mand\u001b[0m \u001b[0mmaxlength\u001b[0m \u001b[0;34m<\u001b[0m \u001b[0;36m0\u001b[0m\u001b[0;34m:\u001b[0m\u001b[0;34m\u001b[0m\u001b[0;34m\u001b[0m\u001b[0m\n\u001b[1;32m    215\u001b[0m             \u001b[0;32mraise\u001b[0m \u001b[0mValueError\u001b[0m\u001b[0;34m(\u001b[0m\u001b[0;34m\"negative maxlength\"\u001b[0m\u001b[0;34m)\u001b[0m\u001b[0;34m\u001b[0m\u001b[0;34m\u001b[0m\u001b[0m\n\u001b[0;32m--> 216\u001b[0;31m         \u001b[0mbuf\u001b[0m \u001b[0;34m=\u001b[0m \u001b[0mself\u001b[0m\u001b[0;34m.\u001b[0m\u001b[0m_recv_bytes\u001b[0m\u001b[0;34m(\u001b[0m\u001b[0mmaxlength\u001b[0m\u001b[0;34m)\u001b[0m\u001b[0;34m\u001b[0m\u001b[0;34m\u001b[0m\u001b[0m\n\u001b[0m\u001b[1;32m    217\u001b[0m         \u001b[0;32mif\u001b[0m \u001b[0mbuf\u001b[0m \u001b[0;32mis\u001b[0m \u001b[0;32mNone\u001b[0m\u001b[0;34m:\u001b[0m\u001b[0;34m\u001b[0m\u001b[0;34m\u001b[0m\u001b[0m\n\u001b[1;32m    218\u001b[0m             \u001b[0mself\u001b[0m\u001b[0;34m.\u001b[0m\u001b[0m_bad_message_length\u001b[0m\u001b[0;34m(\u001b[0m\u001b[0;34m)\u001b[0m\u001b[0;34m\u001b[0m\u001b[0;34m\u001b[0m\u001b[0m\n",
            "\u001b[0;32m/usr/lib/python3.6/multiprocessing/connection.py\u001b[0m in \u001b[0;36m_recv_bytes\u001b[0;34m(self, maxsize)\u001b[0m\n\u001b[1;32m    405\u001b[0m \u001b[0;34m\u001b[0m\u001b[0m\n\u001b[1;32m    406\u001b[0m     \u001b[0;32mdef\u001b[0m \u001b[0m_recv_bytes\u001b[0m\u001b[0;34m(\u001b[0m\u001b[0mself\u001b[0m\u001b[0;34m,\u001b[0m \u001b[0mmaxsize\u001b[0m\u001b[0;34m=\u001b[0m\u001b[0;32mNone\u001b[0m\u001b[0;34m)\u001b[0m\u001b[0;34m:\u001b[0m\u001b[0;34m\u001b[0m\u001b[0;34m\u001b[0m\u001b[0m\n\u001b[0;32m--> 407\u001b[0;31m         \u001b[0mbuf\u001b[0m \u001b[0;34m=\u001b[0m \u001b[0mself\u001b[0m\u001b[0;34m.\u001b[0m\u001b[0m_recv\u001b[0m\u001b[0;34m(\u001b[0m\u001b[0;36m4\u001b[0m\u001b[0;34m)\u001b[0m\u001b[0;34m\u001b[0m\u001b[0;34m\u001b[0m\u001b[0m\n\u001b[0m\u001b[1;32m    408\u001b[0m         \u001b[0msize\u001b[0m\u001b[0;34m,\u001b[0m \u001b[0;34m=\u001b[0m \u001b[0mstruct\u001b[0m\u001b[0;34m.\u001b[0m\u001b[0munpack\u001b[0m\u001b[0;34m(\u001b[0m\u001b[0;34m\"!i\"\u001b[0m\u001b[0;34m,\u001b[0m \u001b[0mbuf\u001b[0m\u001b[0;34m.\u001b[0m\u001b[0mgetvalue\u001b[0m\u001b[0;34m(\u001b[0m\u001b[0;34m)\u001b[0m\u001b[0;34m)\u001b[0m\u001b[0;34m\u001b[0m\u001b[0;34m\u001b[0m\u001b[0m\n\u001b[1;32m    409\u001b[0m         \u001b[0;32mif\u001b[0m \u001b[0mmaxsize\u001b[0m \u001b[0;32mis\u001b[0m \u001b[0;32mnot\u001b[0m \u001b[0;32mNone\u001b[0m \u001b[0;32mand\u001b[0m \u001b[0msize\u001b[0m \u001b[0;34m>\u001b[0m \u001b[0mmaxsize\u001b[0m\u001b[0;34m:\u001b[0m\u001b[0;34m\u001b[0m\u001b[0;34m\u001b[0m\u001b[0m\n",
            "\u001b[0;32m/usr/lib/python3.6/multiprocessing/connection.py\u001b[0m in \u001b[0;36m_recv\u001b[0;34m(self, size, read)\u001b[0m\n\u001b[1;32m    377\u001b[0m         \u001b[0mremaining\u001b[0m \u001b[0;34m=\u001b[0m \u001b[0msize\u001b[0m\u001b[0;34m\u001b[0m\u001b[0;34m\u001b[0m\u001b[0m\n\u001b[1;32m    378\u001b[0m         \u001b[0;32mwhile\u001b[0m \u001b[0mremaining\u001b[0m \u001b[0;34m>\u001b[0m \u001b[0;36m0\u001b[0m\u001b[0;34m:\u001b[0m\u001b[0;34m\u001b[0m\u001b[0;34m\u001b[0m\u001b[0m\n\u001b[0;32m--> 379\u001b[0;31m             \u001b[0mchunk\u001b[0m \u001b[0;34m=\u001b[0m \u001b[0mread\u001b[0m\u001b[0;34m(\u001b[0m\u001b[0mhandle\u001b[0m\u001b[0;34m,\u001b[0m \u001b[0mremaining\u001b[0m\u001b[0;34m)\u001b[0m\u001b[0;34m\u001b[0m\u001b[0;34m\u001b[0m\u001b[0m\n\u001b[0m\u001b[1;32m    380\u001b[0m             \u001b[0mn\u001b[0m \u001b[0;34m=\u001b[0m \u001b[0mlen\u001b[0m\u001b[0;34m(\u001b[0m\u001b[0mchunk\u001b[0m\u001b[0;34m)\u001b[0m\u001b[0;34m\u001b[0m\u001b[0;34m\u001b[0m\u001b[0m\n\u001b[1;32m    381\u001b[0m             \u001b[0;32mif\u001b[0m \u001b[0mn\u001b[0m \u001b[0;34m==\u001b[0m \u001b[0;36m0\u001b[0m\u001b[0;34m:\u001b[0m\u001b[0;34m\u001b[0m\u001b[0;34m\u001b[0m\u001b[0m\n",
            "\u001b[0;31mKeyboardInterrupt\u001b[0m: "
          ]
        }
      ]
    },
    {
      "metadata": {
        "id": "r6-wDvqdUIuQ",
        "colab_type": "code",
        "colab": {
          "base_uri": "https://localhost:8080/",
          "height": 3462
        },
        "outputId": "d13ba5c0-c532-4d78-f78d-8d19b21b656c"
      },
      "cell_type": "code",
      "source": [
        "optimize(model, sampler, train, valid)"
      ],
      "execution_count": 29,
      "outputs": [
        {
          "output_type": "stream",
          "text": [
            "\rOptimizing...:   0%|          | 0/30 [00:00<?, ?it/s]"
          ],
          "name": "stderr"
        },
        {
          "output_type": "stream",
          "text": [
            "\n",
            "Recall on (sampled) validation set: 0.00040854978354978356\n"
          ],
          "name": "stdout"
        },
        {
          "output_type": "stream",
          "text": [
            "Optimizing...: 100%|██████████| 30/30 [00:50<00:00,  1.57s/it]\n"
          ],
          "name": "stderr"
        },
        {
          "output_type": "stream",
          "text": [
            "\n",
            "Training loss 1124872.125\n"
          ],
          "name": "stdout"
        },
        {
          "output_type": "stream",
          "text": [
            "\rOptimizing...:   0%|          | 0/30 [00:00<?, ?it/s]"
          ],
          "name": "stderr"
        },
        {
          "output_type": "stream",
          "text": [
            "\n",
            "Recall on (sampled) validation set: 0.0045845633616517795\n"
          ],
          "name": "stdout"
        },
        {
          "output_type": "stream",
          "text": [
            "Optimizing...: 100%|██████████| 30/30 [01:00<00:00,  1.60s/it]\n"
          ],
          "name": "stderr"
        },
        {
          "output_type": "stream",
          "text": [
            "\n",
            "Training loss 1028325.5625\n"
          ],
          "name": "stdout"
        },
        {
          "output_type": "stream",
          "text": [
            "\rOptimizing...:   0%|          | 0/30 [00:00<?, ?it/s]"
          ],
          "name": "stderr"
        },
        {
          "output_type": "stream",
          "text": [
            "\n",
            "Recall on (sampled) validation set: 0.03862928372630982\n"
          ],
          "name": "stdout"
        },
        {
          "output_type": "stream",
          "text": [
            "Optimizing...: 100%|██████████| 30/30 [01:00<00:00,  1.65s/it]\n"
          ],
          "name": "stderr"
        },
        {
          "output_type": "stream",
          "text": [
            "\n",
            "Training loss 968517.625\n"
          ],
          "name": "stdout"
        },
        {
          "output_type": "stream",
          "text": [
            "\rOptimizing...:   0%|          | 0/30 [00:00<?, ?it/s]"
          ],
          "name": "stderr"
        },
        {
          "output_type": "stream",
          "text": [
            "\n",
            "Recall on (sampled) validation set: 0.08326469167923764\n"
          ],
          "name": "stdout"
        },
        {
          "output_type": "stream",
          "text": [
            "Optimizing...: 100%|██████████| 30/30 [01:00<00:00,  1.71s/it]\n"
          ],
          "name": "stderr"
        },
        {
          "output_type": "stream",
          "text": [
            "\n",
            "Training loss 922649.9375\n"
          ],
          "name": "stdout"
        },
        {
          "output_type": "stream",
          "text": [
            "\rOptimizing...:   0%|          | 0/30 [00:00<?, ?it/s]"
          ],
          "name": "stderr"
        },
        {
          "output_type": "stream",
          "text": [
            "\n",
            "Recall on (sampled) validation set: 0.14150332877752242\n"
          ],
          "name": "stdout"
        },
        {
          "output_type": "stream",
          "text": [
            "Optimizing...: 100%|██████████| 30/30 [01:01<00:00,  2.09s/it]\n"
          ],
          "name": "stderr"
        },
        {
          "output_type": "stream",
          "text": [
            "\n",
            "Training loss 881353.0\n"
          ],
          "name": "stdout"
        },
        {
          "output_type": "stream",
          "text": [
            "\rOptimizing...:   0%|          | 0/30 [00:00<?, ?it/s]"
          ],
          "name": "stderr"
        },
        {
          "output_type": "stream",
          "text": [
            "\n",
            "Recall on (sampled) validation set: 0.19787792202355747\n"
          ],
          "name": "stdout"
        },
        {
          "output_type": "stream",
          "text": [
            "Optimizing...: 100%|██████████| 30/30 [01:00<00:00,  1.99s/it]\n"
          ],
          "name": "stderr"
        },
        {
          "output_type": "stream",
          "text": [
            "\n",
            "Training loss 841243.0625\n"
          ],
          "name": "stdout"
        },
        {
          "output_type": "stream",
          "text": [
            "\rOptimizing...:   0%|          | 0/30 [00:00<?, ?it/s]"
          ],
          "name": "stderr"
        },
        {
          "output_type": "stream",
          "text": [
            "\n",
            "Recall on (sampled) validation set: 0.23785660051875832\n"
          ],
          "name": "stdout"
        },
        {
          "output_type": "stream",
          "text": [
            "Optimizing...: 100%|██████████| 30/30 [01:00<00:00,  1.96s/it]\n"
          ],
          "name": "stderr"
        },
        {
          "output_type": "stream",
          "text": [
            "\n",
            "Training loss 801391.875\n"
          ],
          "name": "stdout"
        },
        {
          "output_type": "stream",
          "text": [
            "\rOptimizing...:   0%|          | 0/30 [00:00<?, ?it/s]"
          ],
          "name": "stderr"
        },
        {
          "output_type": "stream",
          "text": [
            "\n",
            "Recall on (sampled) validation set: 0.25938440136905677\n"
          ],
          "name": "stdout"
        },
        {
          "output_type": "stream",
          "text": [
            "Optimizing...: 100%|██████████| 30/30 [01:00<00:00,  2.20s/it]\n"
          ],
          "name": "stderr"
        },
        {
          "output_type": "stream",
          "text": [
            "\n",
            "Training loss 760502.0\n"
          ],
          "name": "stdout"
        },
        {
          "output_type": "stream",
          "text": [
            "\rOptimizing...:   0%|          | 0/30 [00:00<?, ?it/s]"
          ],
          "name": "stderr"
        },
        {
          "output_type": "stream",
          "text": [
            "\n",
            "Recall on (sampled) validation set: 0.2854228630997434\n"
          ],
          "name": "stdout"
        },
        {
          "output_type": "stream",
          "text": [
            "Optimizing...: 100%|██████████| 30/30 [01:00<00:00,  2.41s/it]\n"
          ],
          "name": "stderr"
        },
        {
          "output_type": "stream",
          "text": [
            "\n",
            "Training loss 719331.0\n"
          ],
          "name": "stdout"
        },
        {
          "output_type": "stream",
          "text": [
            "\rOptimizing...:   0%|          | 0/30 [00:00<?, ?it/s]"
          ],
          "name": "stderr"
        },
        {
          "output_type": "stream",
          "text": [
            "\n",
            "Recall on (sampled) validation set: 0.2958023261147635\n"
          ],
          "name": "stdout"
        },
        {
          "output_type": "stream",
          "text": [
            "Optimizing...: 100%|██████████| 30/30 [00:59<00:00,  2.07s/it]\n"
          ],
          "name": "stderr"
        },
        {
          "output_type": "stream",
          "text": [
            "\n",
            "Training loss 679528.4375\n"
          ],
          "name": "stdout"
        },
        {
          "output_type": "stream",
          "text": [
            "\rOptimizing...:   0%|          | 0/30 [00:00<?, ?it/s]"
          ],
          "name": "stderr"
        },
        {
          "output_type": "stream",
          "text": [
            "\n",
            "Recall on (sampled) validation set: 0.3082457127193138\n"
          ],
          "name": "stdout"
        },
        {
          "output_type": "stream",
          "text": [
            "Optimizing...: 100%|██████████| 30/30 [01:00<00:00,  1.85s/it]\n"
          ],
          "name": "stderr"
        },
        {
          "output_type": "stream",
          "text": [
            "\n",
            "Training loss 638196.9375\n"
          ],
          "name": "stdout"
        },
        {
          "output_type": "stream",
          "text": [
            "\rOptimizing...:   0%|          | 0/30 [00:00<?, ?it/s]"
          ],
          "name": "stderr"
        },
        {
          "output_type": "stream",
          "text": [
            "\n",
            "Recall on (sampled) validation set: 0.31032007736535117\n"
          ],
          "name": "stdout"
        },
        {
          "output_type": "stream",
          "text": [
            "Optimizing...: 100%|██████████| 30/30 [00:59<00:00,  2.01s/it]\n"
          ],
          "name": "stderr"
        },
        {
          "output_type": "stream",
          "text": [
            "\n",
            "Training loss 598607.625\n"
          ],
          "name": "stdout"
        },
        {
          "output_type": "stream",
          "text": [
            "\rOptimizing...:   0%|          | 0/30 [00:00<?, ?it/s]"
          ],
          "name": "stderr"
        },
        {
          "output_type": "stream",
          "text": [
            "\n",
            "Recall on (sampled) validation set: 0.32097388446742375\n"
          ],
          "name": "stdout"
        },
        {
          "output_type": "stream",
          "text": [
            "Optimizing...: 100%|██████████| 30/30 [01:00<00:00,  1.84s/it]\n"
          ],
          "name": "stderr"
        },
        {
          "output_type": "stream",
          "text": [
            "\n",
            "Training loss 566449.5625\n"
          ],
          "name": "stdout"
        },
        {
          "output_type": "stream",
          "text": [
            "\rOptimizing...:   0%|          | 0/30 [00:00<?, ?it/s]"
          ],
          "name": "stderr"
        },
        {
          "output_type": "stream",
          "text": [
            "\n",
            "Recall on (sampled) validation set: 0.32634969700589744\n"
          ],
          "name": "stdout"
        },
        {
          "output_type": "stream",
          "text": [
            "Optimizing...: 100%|██████████| 30/30 [01:01<00:00,  2.33s/it]\n"
          ],
          "name": "stderr"
        },
        {
          "output_type": "stream",
          "text": [
            "\n",
            "Training loss 543756.5625\n"
          ],
          "name": "stdout"
        },
        {
          "output_type": "stream",
          "text": [
            "\rOptimizing...:   0%|          | 0/30 [00:00<?, ?it/s]"
          ],
          "name": "stderr"
        },
        {
          "output_type": "stream",
          "text": [
            "\n",
            "Recall on (sampled) validation set: 0.3297015587222254\n"
          ],
          "name": "stdout"
        },
        {
          "output_type": "stream",
          "text": [
            "Optimizing...: 100%|██████████| 30/30 [00:59<00:00,  2.21s/it]\n"
          ],
          "name": "stderr"
        },
        {
          "output_type": "stream",
          "text": [
            "\n",
            "Training loss 527899.75\n"
          ],
          "name": "stdout"
        },
        {
          "output_type": "stream",
          "text": [
            "\rOptimizing...:   0%|          | 0/30 [00:00<?, ?it/s]"
          ],
          "name": "stderr"
        },
        {
          "output_type": "stream",
          "text": [
            "\n",
            "Recall on (sampled) validation set: 0.3212603423730331\n"
          ],
          "name": "stdout"
        },
        {
          "output_type": "stream",
          "text": [
            "Optimizing...: 100%|██████████| 30/30 [00:59<00:00,  2.09s/it]\n"
          ],
          "name": "stderr"
        },
        {
          "output_type": "stream",
          "text": [
            "\n",
            "Training loss 515877.96875\n"
          ],
          "name": "stdout"
        },
        {
          "output_type": "stream",
          "text": [
            "\rOptimizing...:   0%|          | 0/30 [00:00<?, ?it/s]"
          ],
          "name": "stderr"
        },
        {
          "output_type": "stream",
          "text": [
            "\n",
            "Recall on (sampled) validation set: 0.32504738989942733\n"
          ],
          "name": "stdout"
        },
        {
          "output_type": "stream",
          "text": [
            "Optimizing...: 100%|██████████| 30/30 [00:59<00:00,  1.91s/it]\n"
          ],
          "name": "stderr"
        },
        {
          "output_type": "stream",
          "text": [
            "\n",
            "Training loss 508100.90625\n"
          ],
          "name": "stdout"
        },
        {
          "output_type": "stream",
          "text": [
            "\rOptimizing...:   0%|          | 0/30 [00:00<?, ?it/s]"
          ],
          "name": "stderr"
        },
        {
          "output_type": "stream",
          "text": [
            "\n",
            "Recall on (sampled) validation set: 0.3229886360710546\n"
          ],
          "name": "stdout"
        },
        {
          "output_type": "stream",
          "text": [
            "Optimizing...: 100%|██████████| 30/30 [01:00<00:00,  2.15s/it]\n"
          ],
          "name": "stderr"
        },
        {
          "output_type": "stream",
          "text": [
            "\n",
            "Training loss 500490.28125\n"
          ],
          "name": "stdout"
        },
        {
          "output_type": "stream",
          "text": [
            "\rOptimizing...:   0%|          | 0/30 [00:00<?, ?it/s]"
          ],
          "name": "stderr"
        },
        {
          "output_type": "stream",
          "text": [
            "\n",
            "Recall on (sampled) validation set: 0.3200317332026791\n"
          ],
          "name": "stdout"
        },
        {
          "output_type": "stream",
          "text": [
            "Optimizing...: 100%|██████████| 30/30 [00:59<00:00,  1.97s/it]\n"
          ],
          "name": "stderr"
        },
        {
          "output_type": "stream",
          "text": [
            "\n",
            "Training loss 494982.4375\n"
          ],
          "name": "stdout"
        },
        {
          "output_type": "stream",
          "text": [
            "\rOptimizing...:   0%|          | 0/30 [00:00<?, ?it/s]"
          ],
          "name": "stderr"
        },
        {
          "output_type": "stream",
          "text": [
            "\n",
            "Recall on (sampled) validation set: 0.3202092644756774\n"
          ],
          "name": "stdout"
        },
        {
          "output_type": "stream",
          "text": [
            "Optimizing...: 100%|██████████| 30/30 [01:00<00:00,  2.09s/it]\n"
          ],
          "name": "stderr"
        },
        {
          "output_type": "stream",
          "text": [
            "\n",
            "Training loss 489810.34375\n"
          ],
          "name": "stdout"
        },
        {
          "output_type": "stream",
          "text": [
            "\rOptimizing...:   0%|          | 0/30 [00:00<?, ?it/s]"
          ],
          "name": "stderr"
        },
        {
          "output_type": "stream",
          "text": [
            "\n",
            "Recall on (sampled) validation set: 0.32317859678766947\n"
          ],
          "name": "stdout"
        },
        {
          "output_type": "stream",
          "text": [
            "Optimizing...: 100%|██████████| 30/30 [00:58<00:00,  1.74s/it]\n"
          ],
          "name": "stderr"
        },
        {
          "output_type": "stream",
          "text": [
            "\n",
            "Training loss 486082.15625\n"
          ],
          "name": "stdout"
        },
        {
          "output_type": "stream",
          "text": [
            "\rOptimizing...:   0%|          | 0/30 [00:00<?, ?it/s]"
          ],
          "name": "stderr"
        },
        {
          "output_type": "stream",
          "text": [
            "\n",
            "Recall on (sampled) validation set: 0.32274721703005205\n"
          ],
          "name": "stdout"
        },
        {
          "output_type": "stream",
          "text": [
            "Optimizing...: 100%|██████████| 30/30 [00:59<00:00,  1.84s/it]\n"
          ],
          "name": "stderr"
        },
        {
          "output_type": "stream",
          "text": [
            "\n",
            "Training loss 482077.9375\n"
          ],
          "name": "stdout"
        },
        {
          "output_type": "stream",
          "text": [
            "\rOptimizing...:   0%|          | 0/30 [00:00<?, ?it/s]"
          ],
          "name": "stderr"
        },
        {
          "output_type": "stream",
          "text": [
            "\n",
            "Recall on (sampled) validation set: 0.319208460155125\n"
          ],
          "name": "stdout"
        },
        {
          "output_type": "stream",
          "text": [
            "Optimizing...: 100%|██████████| 30/30 [01:00<00:00,  2.17s/it]\n"
          ],
          "name": "stderr"
        },
        {
          "output_type": "stream",
          "text": [
            "\n",
            "Training loss 478802.21875\n"
          ],
          "name": "stdout"
        },
        {
          "output_type": "stream",
          "text": [
            "\rOptimizing...:   0%|          | 0/30 [00:00<?, ?it/s]"
          ],
          "name": "stderr"
        },
        {
          "output_type": "stream",
          "text": [
            "\n",
            "Recall on (sampled) validation set: 0.3212613430316729\n"
          ],
          "name": "stdout"
        },
        {
          "output_type": "stream",
          "text": [
            "Optimizing...: 100%|██████████| 30/30 [01:01<00:00,  2.62s/it]\n"
          ],
          "name": "stderr"
        },
        {
          "output_type": "stream",
          "text": [
            "\n",
            "Training loss 475900.15625\n"
          ],
          "name": "stdout"
        },
        {
          "output_type": "stream",
          "text": [
            "\rOptimizing...:   0%|          | 0/30 [00:00<?, ?it/s]"
          ],
          "name": "stderr"
        },
        {
          "output_type": "stream",
          "text": [
            "\n",
            "Recall on (sampled) validation set: 0.3186211369525877\n"
          ],
          "name": "stdout"
        },
        {
          "output_type": "stream",
          "text": [
            "Optimizing...: 100%|██████████| 30/30 [00:58<00:00,  2.34s/it]\n"
          ],
          "name": "stderr"
        },
        {
          "output_type": "stream",
          "text": [
            "\n",
            "Training loss 471882.84375\n"
          ],
          "name": "stdout"
        },
        {
          "output_type": "stream",
          "text": [
            "\rOptimizing...:   0%|          | 0/30 [00:00<?, ?it/s]"
          ],
          "name": "stderr"
        },
        {
          "output_type": "stream",
          "text": [
            "\n",
            "Recall on (sampled) validation set: 0.3253496016869533\n"
          ],
          "name": "stdout"
        },
        {
          "output_type": "stream",
          "text": [
            "Optimizing...: 100%|██████████| 30/30 [00:58<00:00,  1.87s/it]\n"
          ],
          "name": "stderr"
        },
        {
          "output_type": "stream",
          "text": [
            "\n",
            "Training loss 469329.59375\n"
          ],
          "name": "stdout"
        },
        {
          "output_type": "stream",
          "text": [
            "\rOptimizing...:   0%|          | 0/30 [00:00<?, ?it/s]"
          ],
          "name": "stderr"
        },
        {
          "output_type": "stream",
          "text": [
            "\n",
            "Recall on (sampled) validation set: 0.31989974640891855\n"
          ],
          "name": "stdout"
        },
        {
          "output_type": "stream",
          "text": [
            "Optimizing...: 100%|██████████| 30/30 [00:59<00:00,  2.01s/it]\n"
          ],
          "name": "stderr"
        },
        {
          "output_type": "stream",
          "text": [
            "\n",
            "Training loss 467386.46875\n"
          ],
          "name": "stdout"
        },
        {
          "output_type": "stream",
          "text": [
            "\rOptimizing...:   0%|          | 0/30 [00:00<?, ?it/s]"
          ],
          "name": "stderr"
        },
        {
          "output_type": "stream",
          "text": [
            "\n",
            "Recall on (sampled) validation set: 0.31916385493496235\n"
          ],
          "name": "stdout"
        },
        {
          "output_type": "stream",
          "text": [
            "Optimizing...: 100%|██████████| 30/30 [00:58<00:00,  1.99s/it]\n"
          ],
          "name": "stderr"
        },
        {
          "output_type": "stream",
          "text": [
            "\n",
            "Training loss 464687.5\n"
          ],
          "name": "stdout"
        },
        {
          "output_type": "stream",
          "text": [
            "\rOptimizing...:   0%|          | 0/30 [00:00<?, ?it/s]"
          ],
          "name": "stderr"
        },
        {
          "output_type": "stream",
          "text": [
            "\n",
            "Recall on (sampled) validation set: 0.3177630212563393\n"
          ],
          "name": "stdout"
        },
        {
          "output_type": "stream",
          "text": [
            "Optimizing...:  13%|█▎        | 4/30 [00:05<00:34,  1.34s/it]\n"
          ],
          "name": "stderr"
        },
        {
          "output_type": "error",
          "ename": "KeyboardInterrupt",
          "evalue": "ignored",
          "traceback": [
            "\u001b[0;31m---------------------------------------------------------------------------\u001b[0m",
            "\u001b[0;31mKeyboardInterrupt\u001b[0m                         Traceback (most recent call last)",
            "\u001b[0;32m<ipython-input-29-4b6940d46d92>\u001b[0m in \u001b[0;36m<module>\u001b[0;34m()\u001b[0m\n\u001b[1;32m     73\u001b[0m             \u001b[0mcov_loss_weight\u001b[0m\u001b[0;34m=\u001b[0m\u001b[0;36m1\u001b[0m\u001b[0;34m\u001b[0m\u001b[0;34m\u001b[0m\u001b[0m\n\u001b[1;32m     74\u001b[0m             )\n\u001b[0;32m---> 75\u001b[0;31m \u001b[0moptimize\u001b[0m\u001b[0;34m(\u001b[0m\u001b[0mmodel\u001b[0m\u001b[0;34m,\u001b[0m \u001b[0msampler\u001b[0m\u001b[0;34m,\u001b[0m \u001b[0mtrain\u001b[0m\u001b[0;34m,\u001b[0m \u001b[0mvalid\u001b[0m\u001b[0;34m)\u001b[0m\u001b[0;34m\u001b[0m\u001b[0;34m\u001b[0m\u001b[0m\n\u001b[0m",
            "\u001b[0;32m<ipython-input-23-8b4a8cd9486b>\u001b[0m in \u001b[0;36moptimize\u001b[0;34m(model, sampler, train, valid)\u001b[0m\n\u001b[1;32m     35\u001b[0m         \u001b[0;31m# run n mini-batches\u001b[0m\u001b[0;34m\u001b[0m\u001b[0;34m\u001b[0m\u001b[0;34m\u001b[0m\u001b[0m\n\u001b[1;32m     36\u001b[0m         \u001b[0;32mfor\u001b[0m \u001b[0m_\u001b[0m \u001b[0;32min\u001b[0m \u001b[0mtqdm\u001b[0m\u001b[0;34m(\u001b[0m\u001b[0mrange\u001b[0m\u001b[0;34m(\u001b[0m\u001b[0mEVALUATION_EVERY_N_BATCHES\u001b[0m\u001b[0;34m)\u001b[0m\u001b[0;34m,\u001b[0m \u001b[0mdesc\u001b[0m\u001b[0;34m=\u001b[0m\u001b[0;34m\"Optimizing...\"\u001b[0m\u001b[0;34m)\u001b[0m\u001b[0;34m:\u001b[0m\u001b[0;34m\u001b[0m\u001b[0;34m\u001b[0m\u001b[0m\n\u001b[0;32m---> 37\u001b[0;31m             \u001b[0muser_pos\u001b[0m\u001b[0;34m,\u001b[0m \u001b[0mneg\u001b[0m \u001b[0;34m=\u001b[0m \u001b[0msampler\u001b[0m\u001b[0;34m.\u001b[0m\u001b[0mnext_batch\u001b[0m\u001b[0;34m(\u001b[0m\u001b[0;34m)\u001b[0m\u001b[0;34m\u001b[0m\u001b[0;34m\u001b[0m\u001b[0m\n\u001b[0m\u001b[1;32m     38\u001b[0m             _, loss = sess.run((model.optimize, model.loss),\n\u001b[1;32m     39\u001b[0m                                {model.user_positive_items_pairs: user_pos,\n",
            "\u001b[0;32m<ipython-input-16-2d773087d6f8>\u001b[0m in \u001b[0;36mnext_batch\u001b[0;34m(self)\u001b[0m\n\u001b[1;32m     15\u001b[0m \u001b[0;34m\u001b[0m\u001b[0m\n\u001b[1;32m     16\u001b[0m     \u001b[0;32mdef\u001b[0m \u001b[0mnext_batch\u001b[0m\u001b[0;34m(\u001b[0m\u001b[0mself\u001b[0m\u001b[0;34m)\u001b[0m\u001b[0;34m:\u001b[0m\u001b[0;34m\u001b[0m\u001b[0;34m\u001b[0m\u001b[0m\n\u001b[0;32m---> 17\u001b[0;31m         \u001b[0;32mreturn\u001b[0m \u001b[0mself\u001b[0m\u001b[0;34m.\u001b[0m\u001b[0mresult_queue\u001b[0m\u001b[0;34m.\u001b[0m\u001b[0mget\u001b[0m\u001b[0;34m(\u001b[0m\u001b[0;34m)\u001b[0m\u001b[0;34m\u001b[0m\u001b[0;34m\u001b[0m\u001b[0m\n\u001b[0m\u001b[1;32m     18\u001b[0m \u001b[0;34m\u001b[0m\u001b[0m\n\u001b[1;32m     19\u001b[0m     \u001b[0;32mdef\u001b[0m \u001b[0mclose\u001b[0m\u001b[0;34m(\u001b[0m\u001b[0mself\u001b[0m\u001b[0;34m)\u001b[0m\u001b[0;34m:\u001b[0m\u001b[0;34m\u001b[0m\u001b[0;34m\u001b[0m\u001b[0m\n",
            "\u001b[0;32m/usr/lib/python3.6/multiprocessing/queues.py\u001b[0m in \u001b[0;36mget\u001b[0;34m(self, block, timeout)\u001b[0m\n\u001b[1;32m     92\u001b[0m         \u001b[0;32mif\u001b[0m \u001b[0mblock\u001b[0m \u001b[0;32mand\u001b[0m \u001b[0mtimeout\u001b[0m \u001b[0;32mis\u001b[0m \u001b[0;32mNone\u001b[0m\u001b[0;34m:\u001b[0m\u001b[0;34m\u001b[0m\u001b[0;34m\u001b[0m\u001b[0m\n\u001b[1;32m     93\u001b[0m             \u001b[0;32mwith\u001b[0m \u001b[0mself\u001b[0m\u001b[0;34m.\u001b[0m\u001b[0m_rlock\u001b[0m\u001b[0;34m:\u001b[0m\u001b[0;34m\u001b[0m\u001b[0;34m\u001b[0m\u001b[0m\n\u001b[0;32m---> 94\u001b[0;31m                 \u001b[0mres\u001b[0m \u001b[0;34m=\u001b[0m \u001b[0mself\u001b[0m\u001b[0;34m.\u001b[0m\u001b[0m_recv_bytes\u001b[0m\u001b[0;34m(\u001b[0m\u001b[0;34m)\u001b[0m\u001b[0;34m\u001b[0m\u001b[0;34m\u001b[0m\u001b[0m\n\u001b[0m\u001b[1;32m     95\u001b[0m             \u001b[0mself\u001b[0m\u001b[0;34m.\u001b[0m\u001b[0m_sem\u001b[0m\u001b[0;34m.\u001b[0m\u001b[0mrelease\u001b[0m\u001b[0;34m(\u001b[0m\u001b[0;34m)\u001b[0m\u001b[0;34m\u001b[0m\u001b[0;34m\u001b[0m\u001b[0m\n\u001b[1;32m     96\u001b[0m         \u001b[0;32melse\u001b[0m\u001b[0;34m:\u001b[0m\u001b[0;34m\u001b[0m\u001b[0;34m\u001b[0m\u001b[0m\n",
            "\u001b[0;32m/usr/lib/python3.6/multiprocessing/connection.py\u001b[0m in \u001b[0;36mrecv_bytes\u001b[0;34m(self, maxlength)\u001b[0m\n\u001b[1;32m    214\u001b[0m         \u001b[0;32mif\u001b[0m \u001b[0mmaxlength\u001b[0m \u001b[0;32mis\u001b[0m \u001b[0;32mnot\u001b[0m \u001b[0;32mNone\u001b[0m \u001b[0;32mand\u001b[0m \u001b[0mmaxlength\u001b[0m \u001b[0;34m<\u001b[0m \u001b[0;36m0\u001b[0m\u001b[0;34m:\u001b[0m\u001b[0;34m\u001b[0m\u001b[0;34m\u001b[0m\u001b[0m\n\u001b[1;32m    215\u001b[0m             \u001b[0;32mraise\u001b[0m \u001b[0mValueError\u001b[0m\u001b[0;34m(\u001b[0m\u001b[0;34m\"negative maxlength\"\u001b[0m\u001b[0;34m)\u001b[0m\u001b[0;34m\u001b[0m\u001b[0;34m\u001b[0m\u001b[0m\n\u001b[0;32m--> 216\u001b[0;31m         \u001b[0mbuf\u001b[0m \u001b[0;34m=\u001b[0m \u001b[0mself\u001b[0m\u001b[0;34m.\u001b[0m\u001b[0m_recv_bytes\u001b[0m\u001b[0;34m(\u001b[0m\u001b[0mmaxlength\u001b[0m\u001b[0;34m)\u001b[0m\u001b[0;34m\u001b[0m\u001b[0;34m\u001b[0m\u001b[0m\n\u001b[0m\u001b[1;32m    217\u001b[0m         \u001b[0;32mif\u001b[0m \u001b[0mbuf\u001b[0m \u001b[0;32mis\u001b[0m \u001b[0;32mNone\u001b[0m\u001b[0;34m:\u001b[0m\u001b[0;34m\u001b[0m\u001b[0;34m\u001b[0m\u001b[0m\n\u001b[1;32m    218\u001b[0m             \u001b[0mself\u001b[0m\u001b[0;34m.\u001b[0m\u001b[0m_bad_message_length\u001b[0m\u001b[0;34m(\u001b[0m\u001b[0;34m)\u001b[0m\u001b[0;34m\u001b[0m\u001b[0;34m\u001b[0m\u001b[0m\n",
            "\u001b[0;32m/usr/lib/python3.6/multiprocessing/connection.py\u001b[0m in \u001b[0;36m_recv_bytes\u001b[0;34m(self, maxsize)\u001b[0m\n\u001b[1;32m    405\u001b[0m \u001b[0;34m\u001b[0m\u001b[0m\n\u001b[1;32m    406\u001b[0m     \u001b[0;32mdef\u001b[0m \u001b[0m_recv_bytes\u001b[0m\u001b[0;34m(\u001b[0m\u001b[0mself\u001b[0m\u001b[0;34m,\u001b[0m \u001b[0mmaxsize\u001b[0m\u001b[0;34m=\u001b[0m\u001b[0;32mNone\u001b[0m\u001b[0;34m)\u001b[0m\u001b[0;34m:\u001b[0m\u001b[0;34m\u001b[0m\u001b[0;34m\u001b[0m\u001b[0m\n\u001b[0;32m--> 407\u001b[0;31m         \u001b[0mbuf\u001b[0m \u001b[0;34m=\u001b[0m \u001b[0mself\u001b[0m\u001b[0;34m.\u001b[0m\u001b[0m_recv\u001b[0m\u001b[0;34m(\u001b[0m\u001b[0;36m4\u001b[0m\u001b[0;34m)\u001b[0m\u001b[0;34m\u001b[0m\u001b[0;34m\u001b[0m\u001b[0m\n\u001b[0m\u001b[1;32m    408\u001b[0m         \u001b[0msize\u001b[0m\u001b[0;34m,\u001b[0m \u001b[0;34m=\u001b[0m \u001b[0mstruct\u001b[0m\u001b[0;34m.\u001b[0m\u001b[0munpack\u001b[0m\u001b[0;34m(\u001b[0m\u001b[0;34m\"!i\"\u001b[0m\u001b[0;34m,\u001b[0m \u001b[0mbuf\u001b[0m\u001b[0;34m.\u001b[0m\u001b[0mgetvalue\u001b[0m\u001b[0;34m(\u001b[0m\u001b[0;34m)\u001b[0m\u001b[0;34m)\u001b[0m\u001b[0;34m\u001b[0m\u001b[0;34m\u001b[0m\u001b[0m\n\u001b[1;32m    409\u001b[0m         \u001b[0;32mif\u001b[0m \u001b[0mmaxsize\u001b[0m \u001b[0;32mis\u001b[0m \u001b[0;32mnot\u001b[0m \u001b[0;32mNone\u001b[0m \u001b[0;32mand\u001b[0m \u001b[0msize\u001b[0m \u001b[0;34m>\u001b[0m \u001b[0mmaxsize\u001b[0m\u001b[0;34m:\u001b[0m\u001b[0;34m\u001b[0m\u001b[0;34m\u001b[0m\u001b[0m\n",
            "\u001b[0;32m/usr/lib/python3.6/multiprocessing/connection.py\u001b[0m in \u001b[0;36m_recv\u001b[0;34m(self, size, read)\u001b[0m\n\u001b[1;32m    377\u001b[0m         \u001b[0mremaining\u001b[0m \u001b[0;34m=\u001b[0m \u001b[0msize\u001b[0m\u001b[0;34m\u001b[0m\u001b[0;34m\u001b[0m\u001b[0m\n\u001b[1;32m    378\u001b[0m         \u001b[0;32mwhile\u001b[0m \u001b[0mremaining\u001b[0m \u001b[0;34m>\u001b[0m \u001b[0;36m0\u001b[0m\u001b[0;34m:\u001b[0m\u001b[0;34m\u001b[0m\u001b[0;34m\u001b[0m\u001b[0m\n\u001b[0;32m--> 379\u001b[0;31m             \u001b[0mchunk\u001b[0m \u001b[0;34m=\u001b[0m \u001b[0mread\u001b[0m\u001b[0;34m(\u001b[0m\u001b[0mhandle\u001b[0m\u001b[0;34m,\u001b[0m \u001b[0mremaining\u001b[0m\u001b[0;34m)\u001b[0m\u001b[0;34m\u001b[0m\u001b[0;34m\u001b[0m\u001b[0m\n\u001b[0m\u001b[1;32m    380\u001b[0m             \u001b[0mn\u001b[0m \u001b[0;34m=\u001b[0m \u001b[0mlen\u001b[0m\u001b[0;34m(\u001b[0m\u001b[0mchunk\u001b[0m\u001b[0;34m)\u001b[0m\u001b[0;34m\u001b[0m\u001b[0;34m\u001b[0m\u001b[0m\n\u001b[1;32m    381\u001b[0m             \u001b[0;32mif\u001b[0m \u001b[0mn\u001b[0m \u001b[0;34m==\u001b[0m \u001b[0;36m0\u001b[0m\u001b[0;34m:\u001b[0m\u001b[0;34m\u001b[0m\u001b[0;34m\u001b[0m\u001b[0m\n",
            "\u001b[0;31mKeyboardInterrupt\u001b[0m: "
          ]
        }
      ]
    },
    {
      "metadata": {
        "id": "v8_nIgeyWWx5",
        "colab_type": "text"
      },
      "cell_type": "markdown",
      "source": [
        "# Visual"
      ]
    },
    {
      "metadata": {
        "id": "5whtRQxbWYbg",
        "colab_type": "code",
        "colab": {}
      },
      "cell_type": "code",
      "source": [
        "from IPython.display import clear_output, Image, display, HTML\n",
        "import tensorflow as tf\n",
        "import numpy as np\n",
        "from google.colab import files\n",
        "\n",
        "def strip_consts(graph_def, max_const_size=32):\n",
        "    \"\"\"Strip large constant values from graph_def.\"\"\"\n",
        "    strip_def = tf.GraphDef()\n",
        "    for n0 in graph_def.node:\n",
        "        n = strip_def.node.add() \n",
        "        n.MergeFrom(n0)\n",
        "        if n.op == 'Const':\n",
        "            tensor = n.attr['value'].tensor\n",
        "            size = len(tensor.tensor_content)\n",
        "            if size > max_const_size:\n",
        "                tensor.tensor_content = bytes(\"<stripped %d bytes>\"%size, encoding = \"utf8\")\n",
        "    return strip_def\n",
        "\n",
        "def show_graph(train_graph, max_const_size=32):\n",
        "    graph_def = train_graph.as_graph_def()\n",
        "    \n",
        "    \"\"\"Visualize TensorFlow graph.\"\"\"\n",
        "    if hasattr(graph_def, 'as_graph_def'):\n",
        "        graph_def = graph_def.as_graph_def()\n",
        "    strip_def = strip_consts(graph_def, max_const_size=max_const_size)\n",
        "    code = \"\"\"\n",
        "        <script>\n",
        "          function load() {{\n",
        "            document.getElementById(\"{id}\").pbtxt = {data};\n",
        "          }}\n",
        "        </script>\n",
        "        <link rel=\"import\" href=\"https://tensorboard.appspot.com/tf-graph-basic.build.html\" onload=load()>\n",
        "        <div style=\"height:600px\">\n",
        "          <tf-graph-basic id=\"{id}\"></tf-graph-basic>\n",
        "        </div>\n",
        "    \"\"\".format(data=repr(str(strip_def)), id='graph'+str(np.random.rand()))\n",
        "\n",
        "    iframe = \"\"\"\n",
        "        <iframe seamless style=\"width:1200px;height:620px;border:0\" srcdoc=\"{}\"></iframe>\n",
        "    \"\"\".format(code.replace('\"', '&quot;'))\n",
        "    display(HTML(iframe))"
      ],
      "execution_count": 0,
      "outputs": []
    },
    {
      "metadata": {
        "id": "WX8mACpFX8T6",
        "colab_type": "code",
        "colab": {
          "base_uri": "https://localhost:8080/",
          "height": 660
        },
        "outputId": "fa2c6804-ca5a-453f-cae4-c725d1299b7f"
      },
      "cell_type": "code",
      "source": [
        "show_graph(tf.get_default_graph())"
      ],
      "execution_count": 24,
      "outputs": [
        {
          "output_type": "display_data",
          "data": {
            "text/html": [
              "\n",
              "        <iframe seamless style=\"width:1200px;height:620px;border:0\" srcdoc=\"\n",
              "        <script>\n",
              "          function load() {\n",
              "            document.getElementById(&quot;graph0.9298530636953487&quot;).pbtxt = 'node {\\n  name: &quot;Const&quot;\\n  op: &quot;Const&quot;\\n  attr {\\n    key: &quot;dtype&quot;\\n    value {\\n      type: DT_FLOAT\\n    }\\n  }\\n  attr {\\n    key: &quot;value&quot;\\n    value {\\n      tensor {\\n        dtype: DT_FLOAT\\n        tensor_shape {\\n          dim {\\n            size: 25975\\n          }\\n          dim {\\n            size: 8311\\n          }\\n        }\\n        tensor_content: &quot;<stripped 863512900 bytes>&quot;\\n      }\\n    }\\n  }\\n}\\nnode {\\n  name: &quot;user_pos_items&quot;\\n  op: &quot;Placeholder&quot;\\n  attr {\\n    key: &quot;dtype&quot;\\n    value {\\n      type: DT_INT32\\n    }\\n  }\\n  attr {\\n    key: &quot;shape&quot;\\n    value {\\n      shape {\\n        dim {\\n          size: -1\\n        }\\n        dim {\\n          size: 2\\n        }\\n      }\\n    }\\n  }\\n}\\nnode {\\n  name: &quot;neg_items&quot;\\n  op: &quot;Placeholder&quot;\\n  attr {\\n    key: &quot;dtype&quot;\\n    value {\\n      type: DT_INT32\\n    }\\n  }\\n  attr {\\n    key: &quot;shape&quot;\\n    value {\\n      shape {\\n        dim {\\n          size: -1\\n        }\\n        dim {\\n          size: -1\\n        }\\n      }\\n    }\\n  }\\n}\\nnode {\\n  name: &quot;eval_user_ids&quot;\\n  op: &quot;Placeholder&quot;\\n  attr {\\n    key: &quot;dtype&quot;\\n    value {\\n      type: DT_INT32\\n    }\\n  }\\n  attr {\\n    key: &quot;shape&quot;\\n    value {\\n      shape {\\n        dim {\\n          size: -1\\n        }\\n      }\\n    }\\n  }\\n}\\nnode {\\n  name: &quot;user_embeddings/random_normal/shape&quot;\\n  op: &quot;Const&quot;\\n  attr {\\n    key: &quot;dtype&quot;\\n    value {\\n      type: DT_INT32\\n    }\\n  }\\n  attr {\\n    key: &quot;value&quot;\\n    value {\\n      tensor {\\n        dtype: DT_INT32\\n        tensor_shape {\\n          dim {\\n            size: 2\\n          }\\n        }\\n        tensor_content: &quot;\\\\013\\\\037\\\\000\\\\000d\\\\000\\\\000\\\\000&quot;\\n      }\\n    }\\n  }\\n}\\nnode {\\n  name: &quot;user_embeddings/random_normal/mean&quot;\\n  op: &quot;Const&quot;\\n  attr {\\n    key: &quot;dtype&quot;\\n    value {\\n      type: DT_FLOAT\\n    }\\n  }\\n  attr {\\n    key: &quot;value&quot;\\n    value {\\n      tensor {\\n        dtype: DT_FLOAT\\n        tensor_shape {\\n        }\\n        float_val: 0.0\\n      }\\n    }\\n  }\\n}\\nnode {\\n  name: &quot;user_embeddings/random_normal/stddev&quot;\\n  op: &quot;Const&quot;\\n  attr {\\n    key: &quot;dtype&quot;\\n    value {\\n      type: DT_FLOAT\\n    }\\n  }\\n  attr {\\n    key: &quot;value&quot;\\n    value {\\n      tensor {\\n        dtype: DT_FLOAT\\n        tensor_shape {\\n        }\\n        float_val: 0.10000000149011612\\n      }\\n    }\\n  }\\n}\\nnode {\\n  name: &quot;user_embeddings/random_normal/RandomStandardNormal&quot;\\n  op: &quot;RandomStandardNormal&quot;\\n  input: &quot;user_embeddings/random_normal/shape&quot;\\n  attr {\\n    key: &quot;T&quot;\\n    value {\\n      type: DT_INT32\\n    }\\n  }\\n  attr {\\n    key: &quot;dtype&quot;\\n    value {\\n      type: DT_FLOAT\\n    }\\n  }\\n  attr {\\n    key: &quot;seed&quot;\\n    value {\\n      i: 0\\n    }\\n  }\\n  attr {\\n    key: &quot;seed2&quot;\\n    value {\\n      i: 0\\n    }\\n  }\\n}\\nnode {\\n  name: &quot;user_embeddings/random_normal/mul&quot;\\n  op: &quot;Mul&quot;\\n  input: &quot;user_embeddings/random_normal/RandomStandardNormal&quot;\\n  input: &quot;user_embeddings/random_normal/stddev&quot;\\n  attr {\\n    key: &quot;T&quot;\\n    value {\\n      type: DT_FLOAT\\n    }\\n  }\\n}\\nnode {\\n  name: &quot;user_embeddings/random_normal&quot;\\n  op: &quot;Add&quot;\\n  input: &quot;user_embeddings/random_normal/mul&quot;\\n  input: &quot;user_embeddings/random_normal/mean&quot;\\n  attr {\\n    key: &quot;T&quot;\\n    value {\\n      type: DT_FLOAT\\n    }\\n  }\\n}\\nnode {\\n  name: &quot;user_embeddings/Variable&quot;\\n  op: &quot;VariableV2&quot;\\n  attr {\\n    key: &quot;container&quot;\\n    value {\\n      s: &quot;&quot;\\n    }\\n  }\\n  attr {\\n    key: &quot;dtype&quot;\\n    value {\\n      type: DT_FLOAT\\n    }\\n  }\\n  attr {\\n    key: &quot;shape&quot;\\n    value {\\n      shape {\\n        dim {\\n          size: 7947\\n        }\\n        dim {\\n          size: 100\\n        }\\n      }\\n    }\\n  }\\n  attr {\\n    key: &quot;shared_name&quot;\\n    value {\\n      s: &quot;&quot;\\n    }\\n  }\\n}\\nnode {\\n  name: &quot;user_embeddings/Variable/Assign&quot;\\n  op: &quot;Assign&quot;\\n  input: &quot;user_embeddings/Variable&quot;\\n  input: &quot;user_embeddings/random_normal&quot;\\n  attr {\\n    key: &quot;T&quot;\\n    value {\\n      type: DT_FLOAT\\n    }\\n  }\\n  attr {\\n    key: &quot;_class&quot;\\n    value {\\n      list {\\n        s: &quot;loc:@user_embeddings/Variable&quot;\\n      }\\n    }\\n  }\\n  attr {\\n    key: &quot;use_locking&quot;\\n    value {\\n      b: true\\n    }\\n  }\\n  attr {\\n    key: &quot;validate_shape&quot;\\n    value {\\n      b: true\\n    }\\n  }\\n}\\nnode {\\n  name: &quot;user_embeddings/Variable/read&quot;\\n  op: &quot;Identity&quot;\\n  input: &quot;user_embeddings/Variable&quot;\\n  attr {\\n    key: &quot;T&quot;\\n    value {\\n      type: DT_FLOAT\\n    }\\n  }\\n  attr {\\n    key: &quot;_class&quot;\\n    value {\\n      list {\\n        s: &quot;loc:@user_embeddings/Variable&quot;\\n      }\\n    }\\n  }\\n}\\nnode {\\n  name: &quot;item_embeddings/random_normal/shape&quot;\\n  op: &quot;Const&quot;\\n  attr {\\n    key: &quot;dtype&quot;\\n    value {\\n      type: DT_INT32\\n    }\\n  }\\n  attr {\\n    key: &quot;value&quot;\\n    value {\\n      tensor {\\n        dtype: DT_INT32\\n        tensor_shape {\\n          dim {\\n            size: 2\\n          }\\n        }\\n        tensor_content: &quot;we\\\\000\\\\000d\\\\000\\\\000\\\\000&quot;\\n      }\\n    }\\n  }\\n}\\nnode {\\n  name: &quot;item_embeddings/random_normal/mean&quot;\\n  op: &quot;Const&quot;\\n  attr {\\n    key: &quot;dtype&quot;\\n    value {\\n      type: DT_FLOAT\\n    }\\n  }\\n  attr {\\n    key: &quot;value&quot;\\n    value {\\n      tensor {\\n        dtype: DT_FLOAT\\n        tensor_shape {\\n        }\\n        float_val: 0.0\\n      }\\n    }\\n  }\\n}\\nnode {\\n  name: &quot;item_embeddings/random_normal/stddev&quot;\\n  op: &quot;Const&quot;\\n  attr {\\n    key: &quot;dtype&quot;\\n    value {\\n      type: DT_FLOAT\\n    }\\n  }\\n  attr {\\n    key: &quot;value&quot;\\n    value {\\n      tensor {\\n        dtype: DT_FLOAT\\n        tensor_shape {\\n        }\\n        float_val: 0.10000000149011612\\n      }\\n    }\\n  }\\n}\\nnode {\\n  name: &quot;item_embeddings/random_normal/RandomStandardNormal&quot;\\n  op: &quot;RandomStandardNormal&quot;\\n  input: &quot;item_embeddings/random_normal/shape&quot;\\n  attr {\\n    key: &quot;T&quot;\\n    value {\\n      type: DT_INT32\\n    }\\n  }\\n  attr {\\n    key: &quot;dtype&quot;\\n    value {\\n      type: DT_FLOAT\\n    }\\n  }\\n  attr {\\n    key: &quot;seed&quot;\\n    value {\\n      i: 0\\n    }\\n  }\\n  attr {\\n    key: &quot;seed2&quot;\\n    value {\\n      i: 0\\n    }\\n  }\\n}\\nnode {\\n  name: &quot;item_embeddings/random_normal/mul&quot;\\n  op: &quot;Mul&quot;\\n  input: &quot;item_embeddings/random_normal/RandomStandardNormal&quot;\\n  input: &quot;item_embeddings/random_normal/stddev&quot;\\n  attr {\\n    key: &quot;T&quot;\\n    value {\\n      type: DT_FLOAT\\n    }\\n  }\\n}\\nnode {\\n  name: &quot;item_embeddings/random_normal&quot;\\n  op: &quot;Add&quot;\\n  input: &quot;item_embeddings/random_normal/mul&quot;\\n  input: &quot;item_embeddings/random_normal/mean&quot;\\n  attr {\\n    key: &quot;T&quot;\\n    value {\\n      type: DT_FLOAT\\n    }\\n  }\\n}\\nnode {\\n  name: &quot;item_embeddings/Variable&quot;\\n  op: &quot;VariableV2&quot;\\n  attr {\\n    key: &quot;container&quot;\\n    value {\\n      s: &quot;&quot;\\n    }\\n  }\\n  attr {\\n    key: &quot;dtype&quot;\\n    value {\\n      type: DT_FLOAT\\n    }\\n  }\\n  attr {\\n    key: &quot;shape&quot;\\n    value {\\n      shape {\\n        dim {\\n          size: 25975\\n        }\\n        dim {\\n          size: 100\\n        }\\n      }\\n    }\\n  }\\n  attr {\\n    key: &quot;shared_name&quot;\\n    value {\\n      s: &quot;&quot;\\n    }\\n  }\\n}\\nnode {\\n  name: &quot;item_embeddings/Variable/Assign&quot;\\n  op: &quot;Assign&quot;\\n  input: &quot;item_embeddings/Variable&quot;\\n  input: &quot;item_embeddings/random_normal&quot;\\n  attr {\\n    key: &quot;T&quot;\\n    value {\\n      type: DT_FLOAT\\n    }\\n  }\\n  attr {\\n    key: &quot;_class&quot;\\n    value {\\n      list {\\n        s: &quot;loc:@item_embeddings/Variable&quot;\\n      }\\n    }\\n  }\\n  attr {\\n    key: &quot;use_locking&quot;\\n    value {\\n      b: true\\n    }\\n  }\\n  attr {\\n    key: &quot;validate_shape&quot;\\n    value {\\n      b: true\\n    }\\n  }\\n}\\nnode {\\n  name: &quot;item_embeddings/Variable/read&quot;\\n  op: &quot;Identity&quot;\\n  input: &quot;item_embeddings/Variable&quot;\\n  attr {\\n    key: &quot;T&quot;\\n    value {\\n      type: DT_FLOAT\\n    }\\n  }\\n  attr {\\n    key: &quot;_class&quot;\\n    value {\\n      list {\\n        s: &quot;loc:@item_embeddings/Variable&quot;\\n      }\\n    }\\n  }\\n}\\nnode {\\n  name: &quot;embedding_loss/strided_slice/stack&quot;\\n  op: &quot;Const&quot;\\n  attr {\\n    key: &quot;dtype&quot;\\n    value {\\n      type: DT_INT32\\n    }\\n  }\\n  attr {\\n    key: &quot;value&quot;\\n    value {\\n      tensor {\\n        dtype: DT_INT32\\n        tensor_shape {\\n          dim {\\n            size: 2\\n          }\\n        }\\n        tensor_content: &quot;\\\\000\\\\000\\\\000\\\\000\\\\000\\\\000\\\\000\\\\000&quot;\\n      }\\n    }\\n  }\\n}\\nnode {\\n  name: &quot;embedding_loss/strided_slice/stack_1&quot;\\n  op: &quot;Const&quot;\\n  attr {\\n    key: &quot;dtype&quot;\\n    value {\\n      type: DT_INT32\\n    }\\n  }\\n  attr {\\n    key: &quot;value&quot;\\n    value {\\n      tensor {\\n        dtype: DT_INT32\\n        tensor_shape {\\n          dim {\\n            size: 2\\n          }\\n        }\\n        tensor_content: &quot;\\\\000\\\\000\\\\000\\\\000\\\\001\\\\000\\\\000\\\\000&quot;\\n      }\\n    }\\n  }\\n}\\nnode {\\n  name: &quot;embedding_loss/strided_slice/stack_2&quot;\\n  op: &quot;Const&quot;\\n  attr {\\n    key: &quot;dtype&quot;\\n    value {\\n      type: DT_INT32\\n    }\\n  }\\n  attr {\\n    key: &quot;value&quot;\\n    value {\\n      tensor {\\n        dtype: DT_INT32\\n        tensor_shape {\\n          dim {\\n            size: 2\\n          }\\n        }\\n        tensor_content: &quot;\\\\001\\\\000\\\\000\\\\000\\\\001\\\\000\\\\000\\\\000&quot;\\n      }\\n    }\\n  }\\n}\\nnode {\\n  name: &quot;embedding_loss/strided_slice&quot;\\n  op: &quot;StridedSlice&quot;\\n  input: &quot;user_pos_items&quot;\\n  input: &quot;embedding_loss/strided_slice/stack&quot;\\n  input: &quot;embedding_loss/strided_slice/stack_1&quot;\\n  input: &quot;embedding_loss/strided_slice/stack_2&quot;\\n  attr {\\n    key: &quot;Index&quot;\\n    value {\\n      type: DT_INT32\\n    }\\n  }\\n  attr {\\n    key: &quot;T&quot;\\n    value {\\n      type: DT_INT32\\n    }\\n  }\\n  attr {\\n    key: &quot;begin_mask&quot;\\n    value {\\n      i: 1\\n    }\\n  }\\n  attr {\\n    key: &quot;ellipsis_mask&quot;\\n    value {\\n      i: 0\\n    }\\n  }\\n  attr {\\n    key: &quot;end_mask&quot;\\n    value {\\n      i: 1\\n    }\\n  }\\n  attr {\\n    key: &quot;new_axis_mask&quot;\\n    value {\\n      i: 0\\n    }\\n  }\\n  attr {\\n    key: &quot;shrink_axis_mask&quot;\\n    value {\\n      i: 2\\n    }\\n  }\\n}\\nnode {\\n  name: &quot;embedding_loss/users/axis&quot;\\n  op: &quot;Const&quot;\\n  attr {\\n    key: &quot;_class&quot;\\n    value {\\n      list {\\n        s: &quot;loc:@user_embeddings/Variable&quot;\\n      }\\n    }\\n  }\\n  attr {\\n    key: &quot;dtype&quot;\\n    value {\\n      type: DT_INT32\\n    }\\n  }\\n  attr {\\n    key: &quot;value&quot;\\n    value {\\n      tensor {\\n        dtype: DT_INT32\\n        tensor_shape {\\n        }\\n        int_val: 0\\n      }\\n    }\\n  }\\n}\\nnode {\\n  name: &quot;embedding_loss/users&quot;\\n  op: &quot;GatherV2&quot;\\n  input: &quot;user_embeddings/Variable/read&quot;\\n  input: &quot;embedding_loss/strided_slice&quot;\\n  input: &quot;embedding_loss/users/axis&quot;\\n  attr {\\n    key: &quot;Taxis&quot;\\n    value {\\n      type: DT_INT32\\n    }\\n  }\\n  attr {\\n    key: &quot;Tindices&quot;\\n    value {\\n      type: DT_INT32\\n    }\\n  }\\n  attr {\\n    key: &quot;Tparams&quot;\\n    value {\\n      type: DT_FLOAT\\n    }\\n  }\\n  attr {\\n    key: &quot;_class&quot;\\n    value {\\n      list {\\n        s: &quot;loc:@user_embeddings/Variable&quot;\\n      }\\n    }\\n  }\\n}\\nnode {\\n  name: &quot;embedding_loss/users/Identity&quot;\\n  op: &quot;Identity&quot;\\n  input: &quot;embedding_loss/users&quot;\\n  attr {\\n    key: &quot;T&quot;\\n    value {\\n      type: DT_FLOAT\\n    }\\n  }\\n}\\nnode {\\n  name: &quot;embedding_loss/strided_slice_1/stack&quot;\\n  op: &quot;Const&quot;\\n  attr {\\n    key: &quot;dtype&quot;\\n    value {\\n      type: DT_INT32\\n    }\\n  }\\n  attr {\\n    key: &quot;value&quot;\\n    value {\\n      tensor {\\n        dtype: DT_INT32\\n        tensor_shape {\\n          dim {\\n            size: 2\\n          }\\n        }\\n        tensor_content: &quot;\\\\000\\\\000\\\\000\\\\000\\\\001\\\\000\\\\000\\\\000&quot;\\n      }\\n    }\\n  }\\n}\\nnode {\\n  name: &quot;embedding_loss/strided_slice_1/stack_1&quot;\\n  op: &quot;Const&quot;\\n  attr {\\n    key: &quot;dtype&quot;\\n    value {\\n      type: DT_INT32\\n    }\\n  }\\n  attr {\\n    key: &quot;value&quot;\\n    value {\\n      tensor {\\n        dtype: DT_INT32\\n        tensor_shape {\\n          dim {\\n            size: 2\\n          }\\n        }\\n        tensor_content: &quot;\\\\000\\\\000\\\\000\\\\000\\\\002\\\\000\\\\000\\\\000&quot;\\n      }\\n    }\\n  }\\n}\\nnode {\\n  name: &quot;embedding_loss/strided_slice_1/stack_2&quot;\\n  op: &quot;Const&quot;\\n  attr {\\n    key: &quot;dtype&quot;\\n    value {\\n      type: DT_INT32\\n    }\\n  }\\n  attr {\\n    key: &quot;value&quot;\\n    value {\\n      tensor {\\n        dtype: DT_INT32\\n        tensor_shape {\\n          dim {\\n            size: 2\\n          }\\n        }\\n        tensor_content: &quot;\\\\001\\\\000\\\\000\\\\000\\\\001\\\\000\\\\000\\\\000&quot;\\n      }\\n    }\\n  }\\n}\\nnode {\\n  name: &quot;embedding_loss/strided_slice_1&quot;\\n  op: &quot;StridedSlice&quot;\\n  input: &quot;user_pos_items&quot;\\n  input: &quot;embedding_loss/strided_slice_1/stack&quot;\\n  input: &quot;embedding_loss/strided_slice_1/stack_1&quot;\\n  input: &quot;embedding_loss/strided_slice_1/stack_2&quot;\\n  attr {\\n    key: &quot;Index&quot;\\n    value {\\n      type: DT_INT32\\n    }\\n  }\\n  attr {\\n    key: &quot;T&quot;\\n    value {\\n      type: DT_INT32\\n    }\\n  }\\n  attr {\\n    key: &quot;begin_mask&quot;\\n    value {\\n      i: 1\\n    }\\n  }\\n  attr {\\n    key: &quot;ellipsis_mask&quot;\\n    value {\\n      i: 0\\n    }\\n  }\\n  attr {\\n    key: &quot;end_mask&quot;\\n    value {\\n      i: 1\\n    }\\n  }\\n  attr {\\n    key: &quot;new_axis_mask&quot;\\n    value {\\n      i: 0\\n    }\\n  }\\n  attr {\\n    key: &quot;shrink_axis_mask&quot;\\n    value {\\n      i: 2\\n    }\\n  }\\n}\\nnode {\\n  name: &quot;embedding_loss/pos_items/axis&quot;\\n  op: &quot;Const&quot;\\n  attr {\\n    key: &quot;_class&quot;\\n    value {\\n      list {\\n        s: &quot;loc:@item_embeddings/Variable&quot;\\n      }\\n    }\\n  }\\n  attr {\\n    key: &quot;dtype&quot;\\n    value {\\n      type: DT_INT32\\n    }\\n  }\\n  attr {\\n    key: &quot;value&quot;\\n    value {\\n      tensor {\\n        dtype: DT_INT32\\n        tensor_shape {\\n        }\\n        int_val: 0\\n      }\\n    }\\n  }\\n}\\nnode {\\n  name: &quot;embedding_loss/pos_items&quot;\\n  op: &quot;GatherV2&quot;\\n  input: &quot;item_embeddings/Variable/read&quot;\\n  input: &quot;embedding_loss/strided_slice_1&quot;\\n  input: &quot;embedding_loss/pos_items/axis&quot;\\n  attr {\\n    key: &quot;Taxis&quot;\\n    value {\\n      type: DT_INT32\\n    }\\n  }\\n  attr {\\n    key: &quot;Tindices&quot;\\n    value {\\n      type: DT_INT32\\n    }\\n  }\\n  attr {\\n    key: &quot;Tparams&quot;\\n    value {\\n      type: DT_FLOAT\\n    }\\n  }\\n  attr {\\n    key: &quot;_class&quot;\\n    value {\\n      list {\\n        s: &quot;loc:@item_embeddings/Variable&quot;\\n      }\\n    }\\n  }\\n}\\nnode {\\n  name: &quot;embedding_loss/pos_items/Identity&quot;\\n  op: &quot;Identity&quot;\\n  input: &quot;embedding_loss/pos_items&quot;\\n  attr {\\n    key: &quot;T&quot;\\n    value {\\n      type: DT_FLOAT\\n    }\\n  }\\n}\\nnode {\\n  name: &quot;embedding_loss/SquaredDifference&quot;\\n  op: &quot;SquaredDifference&quot;\\n  input: &quot;embedding_loss/users/Identity&quot;\\n  input: &quot;embedding_loss/pos_items/Identity&quot;\\n  attr {\\n    key: &quot;T&quot;\\n    value {\\n      type: DT_FLOAT\\n    }\\n  }\\n}\\nnode {\\n  name: &quot;embedding_loss/pos_distances/reduction_indices&quot;\\n  op: &quot;Const&quot;\\n  attr {\\n    key: &quot;dtype&quot;\\n    value {\\n      type: DT_INT32\\n    }\\n  }\\n  attr {\\n    key: &quot;value&quot;\\n    value {\\n      tensor {\\n        dtype: DT_INT32\\n        tensor_shape {\\n        }\\n        int_val: 1\\n      }\\n    }\\n  }\\n}\\nnode {\\n  name: &quot;embedding_loss/pos_distances&quot;\\n  op: &quot;Sum&quot;\\n  input: &quot;embedding_loss/SquaredDifference&quot;\\n  input: &quot;embedding_loss/pos_distances/reduction_indices&quot;\\n  attr {\\n    key: &quot;T&quot;\\n    value {\\n      type: DT_FLOAT\\n    }\\n  }\\n  attr {\\n    key: &quot;Tidx&quot;\\n    value {\\n      type: DT_INT32\\n    }\\n  }\\n  attr {\\n    key: &quot;keep_dims&quot;\\n    value {\\n      b: false\\n    }\\n  }\\n}\\nnode {\\n  name: &quot;embedding_loss/embedding_lookup/axis&quot;\\n  op: &quot;Const&quot;\\n  attr {\\n    key: &quot;_class&quot;\\n    value {\\n      list {\\n        s: &quot;loc:@item_embeddings/Variable&quot;\\n      }\\n    }\\n  }\\n  attr {\\n    key: &quot;dtype&quot;\\n    value {\\n      type: DT_INT32\\n    }\\n  }\\n  attr {\\n    key: &quot;value&quot;\\n    value {\\n      tensor {\\n        dtype: DT_INT32\\n        tensor_shape {\\n        }\\n        int_val: 0\\n      }\\n    }\\n  }\\n}\\nnode {\\n  name: &quot;embedding_loss/embedding_lookup&quot;\\n  op: &quot;GatherV2&quot;\\n  input: &quot;item_embeddings/Variable/read&quot;\\n  input: &quot;neg_items&quot;\\n  input: &quot;embedding_loss/embedding_lookup/axis&quot;\\n  attr {\\n    key: &quot;Taxis&quot;\\n    value {\\n      type: DT_INT32\\n    }\\n  }\\n  attr {\\n    key: &quot;Tindices&quot;\\n    value {\\n      type: DT_INT32\\n    }\\n  }\\n  attr {\\n    key: &quot;Tparams&quot;\\n    value {\\n      type: DT_FLOAT\\n    }\\n  }\\n  attr {\\n    key: &quot;_class&quot;\\n    value {\\n      list {\\n        s: &quot;loc:@item_embeddings/Variable&quot;\\n      }\\n    }\\n  }\\n}\\nnode {\\n  name: &quot;embedding_loss/embedding_lookup/Identity&quot;\\n  op: &quot;Identity&quot;\\n  input: &quot;embedding_loss/embedding_lookup&quot;\\n  attr {\\n    key: &quot;T&quot;\\n    value {\\n      type: DT_FLOAT\\n    }\\n  }\\n}\\nnode {\\n  name: &quot;embedding_loss/neg_items/perm&quot;\\n  op: &quot;Const&quot;\\n  attr {\\n    key: &quot;dtype&quot;\\n    value {\\n      type: DT_INT32\\n    }\\n  }\\n  attr {\\n    key: &quot;value&quot;\\n    value {\\n      tensor {\\n        dtype: DT_INT32\\n        tensor_shape {\\n          dim {\\n            size: 3\\n          }\\n        }\\n        tensor_content: &quot;\\\\000\\\\000\\\\000\\\\000\\\\002\\\\000\\\\000\\\\000\\\\001\\\\000\\\\000\\\\000&quot;\\n      }\\n    }\\n  }\\n}\\nnode {\\n  name: &quot;embedding_loss/neg_items&quot;\\n  op: &quot;Transpose&quot;\\n  input: &quot;embedding_loss/embedding_lookup/Identity&quot;\\n  input: &quot;embedding_loss/neg_items/perm&quot;\\n  attr {\\n    key: &quot;T&quot;\\n    value {\\n      type: DT_FLOAT\\n    }\\n  }\\n  attr {\\n    key: &quot;Tperm&quot;\\n    value {\\n      type: DT_INT32\\n    }\\n  }\\n}\\nnode {\\n  name: &quot;embedding_loss/ExpandDims/dim&quot;\\n  op: &quot;Const&quot;\\n  attr {\\n    key: &quot;dtype&quot;\\n    value {\\n      type: DT_INT32\\n    }\\n  }\\n  attr {\\n    key: &quot;value&quot;\\n    value {\\n      tensor {\\n        dtype: DT_INT32\\n        tensor_shape {\\n        }\\n        int_val: -1\\n      }\\n    }\\n  }\\n}\\nnode {\\n  name: &quot;embedding_loss/ExpandDims&quot;\\n  op: &quot;ExpandDims&quot;\\n  input: &quot;embedding_loss/users/Identity&quot;\\n  input: &quot;embedding_loss/ExpandDims/dim&quot;\\n  attr {\\n    key: &quot;T&quot;\\n    value {\\n      type: DT_FLOAT\\n    }\\n  }\\n  attr {\\n    key: &quot;Tdim&quot;\\n    value {\\n      type: DT_INT32\\n    }\\n  }\\n}\\nnode {\\n  name: &quot;embedding_loss/SquaredDifference_1&quot;\\n  op: &quot;SquaredDifference&quot;\\n  input: &quot;embedding_loss/ExpandDims&quot;\\n  input: &quot;embedding_loss/neg_items&quot;\\n  attr {\\n    key: &quot;T&quot;\\n    value {\\n      type: DT_FLOAT\\n    }\\n  }\\n}\\nnode {\\n  name: &quot;embedding_loss/distance_to_neg_items/reduction_indices&quot;\\n  op: &quot;Const&quot;\\n  attr {\\n    key: &quot;dtype&quot;\\n    value {\\n      type: DT_INT32\\n    }\\n  }\\n  attr {\\n    key: &quot;value&quot;\\n    value {\\n      tensor {\\n        dtype: DT_INT32\\n        tensor_shape {\\n        }\\n        int_val: 1\\n      }\\n    }\\n  }\\n}\\nnode {\\n  name: &quot;embedding_loss/distance_to_neg_items&quot;\\n  op: &quot;Sum&quot;\\n  input: &quot;embedding_loss/SquaredDifference_1&quot;\\n  input: &quot;embedding_loss/distance_to_neg_items/reduction_indices&quot;\\n  attr {\\n    key: &quot;T&quot;\\n    value {\\n      type: DT_FLOAT\\n    }\\n  }\\n  attr {\\n    key: &quot;Tidx&quot;\\n    value {\\n      type: DT_INT32\\n    }\\n  }\\n  attr {\\n    key: &quot;keep_dims&quot;\\n    value {\\n      b: false\\n    }\\n  }\\n}\\nnode {\\n  name: &quot;embedding_loss/closest_negative_distances/reduction_indices&quot;\\n  op: &quot;Const&quot;\\n  attr {\\n    key: &quot;dtype&quot;\\n    value {\\n      type: DT_INT32\\n    }\\n  }\\n  attr {\\n    key: &quot;value&quot;\\n    value {\\n      tensor {\\n        dtype: DT_INT32\\n        tensor_shape {\\n        }\\n        int_val: 1\\n      }\\n    }\\n  }\\n}\\nnode {\\n  name: &quot;embedding_loss/closest_negative_distances&quot;\\n  op: &quot;Min&quot;\\n  input: &quot;embedding_loss/distance_to_neg_items&quot;\\n  input: &quot;embedding_loss/closest_negative_distances/reduction_indices&quot;\\n  attr {\\n    key: &quot;T&quot;\\n    value {\\n      type: DT_FLOAT\\n    }\\n  }\\n  attr {\\n    key: &quot;Tidx&quot;\\n    value {\\n      type: DT_INT32\\n    }\\n  }\\n  attr {\\n    key: &quot;keep_dims&quot;\\n    value {\\n      b: false\\n    }\\n  }\\n}\\nnode {\\n  name: &quot;embedding_loss/sub&quot;\\n  op: &quot;Sub&quot;\\n  input: &quot;embedding_loss/pos_distances&quot;\\n  input: &quot;embedding_loss/closest_negative_distances&quot;\\n  attr {\\n    key: &quot;T&quot;\\n    value {\\n      type: DT_FLOAT\\n    }\\n  }\\n}\\nnode {\\n  name: &quot;embedding_loss/add/y&quot;\\n  op: &quot;Const&quot;\\n  attr {\\n    key: &quot;dtype&quot;\\n    value {\\n      type: DT_FLOAT\\n    }\\n  }\\n  attr {\\n    key: &quot;value&quot;\\n    value {\\n      tensor {\\n        dtype: DT_FLOAT\\n        tensor_shape {\\n        }\\n        float_val: 2.0\\n      }\\n    }\\n  }\\n}\\nnode {\\n  name: &quot;embedding_loss/add&quot;\\n  op: &quot;Add&quot;\\n  input: &quot;embedding_loss/sub&quot;\\n  input: &quot;embedding_loss/add/y&quot;\\n  attr {\\n    key: &quot;T&quot;\\n    value {\\n      type: DT_FLOAT\\n    }\\n  }\\n}\\nnode {\\n  name: &quot;embedding_loss/pair_loss/y&quot;\\n  op: &quot;Const&quot;\\n  attr {\\n    key: &quot;dtype&quot;\\n    value {\\n      type: DT_FLOAT\\n    }\\n  }\\n  attr {\\n    key: &quot;value&quot;\\n    value {\\n      tensor {\\n        dtype: DT_FLOAT\\n        tensor_shape {\\n        }\\n        float_val: 0.0\\n      }\\n    }\\n  }\\n}\\nnode {\\n  name: &quot;embedding_loss/pair_loss&quot;\\n  op: &quot;Maximum&quot;\\n  input: &quot;embedding_loss/add&quot;\\n  input: &quot;embedding_loss/pair_loss/y&quot;\\n  attr {\\n    key: &quot;T&quot;\\n    value {\\n      type: DT_FLOAT\\n    }\\n  }\\n}\\nnode {\\n  name: &quot;embedding_loss/ExpandDims_1/dim&quot;\\n  op: &quot;Const&quot;\\n  attr {\\n    key: &quot;dtype&quot;\\n    value {\\n      type: DT_INT32\\n    }\\n  }\\n  attr {\\n    key: &quot;value&quot;\\n    value {\\n      tensor {\\n        dtype: DT_INT32\\n        tensor_shape {\\n        }\\n        int_val: -1\\n      }\\n    }\\n  }\\n}\\nnode {\\n  name: &quot;embedding_loss/ExpandDims_1&quot;\\n  op: &quot;ExpandDims&quot;\\n  input: &quot;embedding_loss/pos_distances&quot;\\n  input: &quot;embedding_loss/ExpandDims_1/dim&quot;\\n  attr {\\n    key: &quot;T&quot;\\n    value {\\n      type: DT_FLOAT\\n    }\\n  }\\n  attr {\\n    key: &quot;Tdim&quot;\\n    value {\\n      type: DT_INT32\\n    }\\n  }\\n}\\nnode {\\n  name: &quot;embedding_loss/sub_1&quot;\\n  op: &quot;Sub&quot;\\n  input: &quot;embedding_loss/ExpandDims_1&quot;\\n  input: &quot;embedding_loss/distance_to_neg_items&quot;\\n  attr {\\n    key: &quot;T&quot;\\n    value {\\n      type: DT_FLOAT\\n    }\\n  }\\n}\\nnode {\\n  name: &quot;embedding_loss/add_1/y&quot;\\n  op: &quot;Const&quot;\\n  attr {\\n    key: &quot;dtype&quot;\\n    value {\\n      type: DT_FLOAT\\n    }\\n  }\\n  attr {\\n    key: &quot;value&quot;\\n    value {\\n      tensor {\\n        dtype: DT_FLOAT\\n        tensor_shape {\\n        }\\n        float_val: 2.0\\n      }\\n    }\\n  }\\n}\\nnode {\\n  name: &quot;embedding_loss/add_1&quot;\\n  op: &quot;Add&quot;\\n  input: &quot;embedding_loss/sub_1&quot;\\n  input: &quot;embedding_loss/add_1/y&quot;\\n  attr {\\n    key: &quot;T&quot;\\n    value {\\n      type: DT_FLOAT\\n    }\\n  }\\n}\\nnode {\\n  name: &quot;embedding_loss/Greater/y&quot;\\n  op: &quot;Const&quot;\\n  attr {\\n    key: &quot;dtype&quot;\\n    value {\\n      type: DT_FLOAT\\n    }\\n  }\\n  attr {\\n    key: &quot;value&quot;\\n    value {\\n      tensor {\\n        dtype: DT_FLOAT\\n        tensor_shape {\\n        }\\n        float_val: 0.0\\n      }\\n    }\\n  }\\n}\\nnode {\\n  name: &quot;embedding_loss/Greater&quot;\\n  op: &quot;Greater&quot;\\n  input: &quot;embedding_loss/add_1&quot;\\n  input: &quot;embedding_loss/Greater/y&quot;\\n  attr {\\n    key: &quot;T&quot;\\n    value {\\n      type: DT_FLOAT\\n    }\\n  }\\n}\\nnode {\\n  name: &quot;embedding_loss/Cast&quot;\\n  op: &quot;Cast&quot;\\n  input: &quot;embedding_loss/Greater&quot;\\n  attr {\\n    key: &quot;DstT&quot;\\n    value {\\n      type: DT_FLOAT\\n    }\\n  }\\n  attr {\\n    key: &quot;SrcT&quot;\\n    value {\\n      type: DT_BOOL\\n    }\\n  }\\n  attr {\\n    key: &quot;Truncate&quot;\\n    value {\\n      b: false\\n    }\\n  }\\n}\\nnode {\\n  name: &quot;embedding_loss/rank_weight/reduction_indices&quot;\\n  op: &quot;Const&quot;\\n  attr {\\n    key: &quot;dtype&quot;\\n    value {\\n      type: DT_INT32\\n    }\\n  }\\n  attr {\\n    key: &quot;value&quot;\\n    value {\\n      tensor {\\n        dtype: DT_INT32\\n        tensor_shape {\\n        }\\n        int_val: 1\\n      }\\n    }\\n  }\\n}\\nnode {\\n  name: &quot;embedding_loss/rank_weight&quot;\\n  op: &quot;Mean&quot;\\n  input: &quot;embedding_loss/Cast&quot;\\n  input: &quot;embedding_loss/rank_weight/reduction_indices&quot;\\n  attr {\\n    key: &quot;T&quot;\\n    value {\\n      type: DT_FLOAT\\n    }\\n  }\\n  attr {\\n    key: &quot;Tidx&quot;\\n    value {\\n      type: DT_INT32\\n    }\\n  }\\n  attr {\\n    key: &quot;keep_dims&quot;\\n    value {\\n      b: false\\n    }\\n  }\\n}\\nnode {\\n  name: &quot;embedding_loss/mul/y&quot;\\n  op: &quot;Const&quot;\\n  attr {\\n    key: &quot;dtype&quot;\\n    value {\\n      type: DT_FLOAT\\n    }\\n  }\\n  attr {\\n    key: &quot;value&quot;\\n    value {\\n      tensor {\\n        dtype: DT_FLOAT\\n        tensor_shape {\\n        }\\n        float_val: 25975.0\\n      }\\n    }\\n  }\\n}\\nnode {\\n  name: &quot;embedding_loss/mul&quot;\\n  op: &quot;Mul&quot;\\n  input: &quot;embedding_loss/rank_weight&quot;\\n  input: &quot;embedding_loss/mul/y&quot;\\n  attr {\\n    key: &quot;T&quot;\\n    value {\\n      type: DT_FLOAT\\n    }\\n  }\\n}\\nnode {\\n  name: &quot;embedding_loss/add_2/y&quot;\\n  op: &quot;Const&quot;\\n  attr {\\n    key: &quot;dtype&quot;\\n    value {\\n      type: DT_FLOAT\\n    }\\n  }\\n  attr {\\n    key: &quot;value&quot;\\n    value {\\n      tensor {\\n        dtype: DT_FLOAT\\n        tensor_shape {\\n        }\\n        float_val: 1.0\\n      }\\n    }\\n  }\\n}\\nnode {\\n  name: &quot;embedding_loss/add_2&quot;\\n  op: &quot;Add&quot;\\n  input: &quot;embedding_loss/mul&quot;\\n  input: &quot;embedding_loss/add_2/y&quot;\\n  attr {\\n    key: &quot;T&quot;\\n    value {\\n      type: DT_FLOAT\\n    }\\n  }\\n}\\nnode {\\n  name: &quot;embedding_loss/Log&quot;\\n  op: &quot;Log&quot;\\n  input: &quot;embedding_loss/add_2&quot;\\n  attr {\\n    key: &quot;T&quot;\\n    value {\\n      type: DT_FLOAT\\n    }\\n  }\\n}\\nnode {\\n  name: &quot;embedding_loss/mul_1&quot;\\n  op: &quot;Mul&quot;\\n  input: &quot;embedding_loss/pair_loss&quot;\\n  input: &quot;embedding_loss/Log&quot;\\n  attr {\\n    key: &quot;T&quot;\\n    value {\\n      type: DT_FLOAT\\n    }\\n  }\\n}\\nnode {\\n  name: &quot;embedding_loss/Const&quot;\\n  op: &quot;Const&quot;\\n  attr {\\n    key: &quot;dtype&quot;\\n    value {\\n      type: DT_INT32\\n    }\\n  }\\n  attr {\\n    key: &quot;value&quot;\\n    value {\\n      tensor {\\n        dtype: DT_INT32\\n        tensor_shape {\\n          dim {\\n            size: 1\\n          }\\n        }\\n        int_val: 0\\n      }\\n    }\\n  }\\n}\\nnode {\\n  name: &quot;embedding_loss/loss&quot;\\n  op: &quot;Sum&quot;\\n  input: &quot;embedding_loss/mul_1&quot;\\n  input: &quot;embedding_loss/Const&quot;\\n  attr {\\n    key: &quot;T&quot;\\n    value {\\n      type: DT_FLOAT\\n    }\\n  }\\n  attr {\\n    key: &quot;Tidx&quot;\\n    value {\\n      type: DT_INT32\\n    }\\n  }\\n  attr {\\n    key: &quot;keep_dims&quot;\\n    value {\\n      b: false\\n    }\\n  }\\n}\\nnode {\\n  name: &quot;feature_loss/Const&quot;\\n  op: &quot;Const&quot;\\n  attr {\\n    key: &quot;dtype&quot;\\n    value {\\n      type: DT_FLOAT\\n    }\\n  }\\n  attr {\\n    key: &quot;value&quot;\\n    value {\\n      tensor {\\n        dtype: DT_FLOAT\\n        tensor_shape {\\n        }\\n        float_val: 0.0\\n      }\\n    }\\n  }\\n}\\nnode {\\n  name: &quot;feature_loss/feature_projection/mlp_layer_2/mlp_layer_1/mlp_layer_1/kernel/Initializer/random_uniform/shape&quot;\\n  op: &quot;Const&quot;\\n  attr {\\n    key: &quot;_class&quot;\\n    value {\\n      list {\\n        s: &quot;loc:@feature_loss/feature_projection/mlp_layer_2/mlp_layer_1/mlp_layer_1/kernel&quot;\\n      }\\n    }\\n  }\\n  attr {\\n    key: &quot;dtype&quot;\\n    value {\\n      type: DT_INT32\\n    }\\n  }\\n  attr {\\n    key: &quot;value&quot;\\n    value {\\n      tensor {\\n        dtype: DT_INT32\\n        tensor_shape {\\n          dim {\\n            size: 2\\n          }\\n        }\\n        tensor_content: &quot;w \\\\000\\\\000\\\\000\\\\002\\\\000\\\\000&quot;\\n      }\\n    }\\n  }\\n}\\nnode {\\n  name: &quot;feature_loss/feature_projection/mlp_layer_2/mlp_layer_1/mlp_layer_1/kernel/Initializer/random_uniform/min&quot;\\n  op: &quot;Const&quot;\\n  attr {\\n    key: &quot;_class&quot;\\n    value {\\n      list {\\n        s: &quot;loc:@feature_loss/feature_projection/mlp_layer_2/mlp_layer_1/mlp_layer_1/kernel&quot;\\n      }\\n    }\\n  }\\n  attr {\\n    key: &quot;dtype&quot;\\n    value {\\n      type: DT_FLOAT\\n    }\\n  }\\n  attr {\\n    key: &quot;value&quot;\\n    value {\\n      tensor {\\n        dtype: DT_FLOAT\\n        tensor_shape {\\n        }\\n        float_val: -0.026077592745423317\\n      }\\n    }\\n  }\\n}\\nnode {\\n  name: &quot;feature_loss/feature_projection/mlp_layer_2/mlp_layer_1/mlp_layer_1/kernel/Initializer/random_uniform/max&quot;\\n  op: &quot;Const&quot;\\n  attr {\\n    key: &quot;_class&quot;\\n    value {\\n      list {\\n        s: &quot;loc:@feature_loss/feature_projection/mlp_layer_2/mlp_layer_1/mlp_layer_1/kernel&quot;\\n      }\\n    }\\n  }\\n  attr {\\n    key: &quot;dtype&quot;\\n    value {\\n      type: DT_FLOAT\\n    }\\n  }\\n  attr {\\n    key: &quot;value&quot;\\n    value {\\n      tensor {\\n        dtype: DT_FLOAT\\n        tensor_shape {\\n        }\\n        float_val: 0.026077592745423317\\n      }\\n    }\\n  }\\n}\\nnode {\\n  name: &quot;feature_loss/feature_projection/mlp_layer_2/mlp_layer_1/mlp_layer_1/kernel/Initializer/random_uniform/RandomUniform&quot;\\n  op: &quot;RandomUniform&quot;\\n  input: &quot;feature_loss/feature_projection/mlp_layer_2/mlp_layer_1/mlp_layer_1/kernel/Initializer/random_uniform/shape&quot;\\n  attr {\\n    key: &quot;T&quot;\\n    value {\\n      type: DT_INT32\\n    }\\n  }\\n  attr {\\n    key: &quot;_class&quot;\\n    value {\\n      list {\\n        s: &quot;loc:@feature_loss/feature_projection/mlp_layer_2/mlp_layer_1/mlp_layer_1/kernel&quot;\\n      }\\n    }\\n  }\\n  attr {\\n    key: &quot;dtype&quot;\\n    value {\\n      type: DT_FLOAT\\n    }\\n  }\\n  attr {\\n    key: &quot;seed&quot;\\n    value {\\n      i: 0\\n    }\\n  }\\n  attr {\\n    key: &quot;seed2&quot;\\n    value {\\n      i: 0\\n    }\\n  }\\n}\\nnode {\\n  name: &quot;feature_loss/feature_projection/mlp_layer_2/mlp_layer_1/mlp_layer_1/kernel/Initializer/random_uniform/sub&quot;\\n  op: &quot;Sub&quot;\\n  input: &quot;feature_loss/feature_projection/mlp_layer_2/mlp_layer_1/mlp_layer_1/kernel/Initializer/random_uniform/max&quot;\\n  input: &quot;feature_loss/feature_projection/mlp_layer_2/mlp_layer_1/mlp_layer_1/kernel/Initializer/random_uniform/min&quot;\\n  attr {\\n    key: &quot;T&quot;\\n    value {\\n      type: DT_FLOAT\\n    }\\n  }\\n  attr {\\n    key: &quot;_class&quot;\\n    value {\\n      list {\\n        s: &quot;loc:@feature_loss/feature_projection/mlp_layer_2/mlp_layer_1/mlp_layer_1/kernel&quot;\\n      }\\n    }\\n  }\\n}\\nnode {\\n  name: &quot;feature_loss/feature_projection/mlp_layer_2/mlp_layer_1/mlp_layer_1/kernel/Initializer/random_uniform/mul&quot;\\n  op: &quot;Mul&quot;\\n  input: &quot;feature_loss/feature_projection/mlp_layer_2/mlp_layer_1/mlp_layer_1/kernel/Initializer/random_uniform/RandomUniform&quot;\\n  input: &quot;feature_loss/feature_projection/mlp_layer_2/mlp_layer_1/mlp_layer_1/kernel/Initializer/random_uniform/sub&quot;\\n  attr {\\n    key: &quot;T&quot;\\n    value {\\n      type: DT_FLOAT\\n    }\\n  }\\n  attr {\\n    key: &quot;_class&quot;\\n    value {\\n      list {\\n        s: &quot;loc:@feature_loss/feature_projection/mlp_layer_2/mlp_layer_1/mlp_layer_1/kernel&quot;\\n      }\\n    }\\n  }\\n}\\nnode {\\n  name: &quot;feature_loss/feature_projection/mlp_layer_2/mlp_layer_1/mlp_layer_1/kernel/Initializer/random_uniform&quot;\\n  op: &quot;Add&quot;\\n  input: &quot;feature_loss/feature_projection/mlp_layer_2/mlp_layer_1/mlp_layer_1/kernel/Initializer/random_uniform/mul&quot;\\n  input: &quot;feature_loss/feature_projection/mlp_layer_2/mlp_layer_1/mlp_layer_1/kernel/Initializer/random_uniform/min&quot;\\n  attr {\\n    key: &quot;T&quot;\\n    value {\\n      type: DT_FLOAT\\n    }\\n  }\\n  attr {\\n    key: &quot;_class&quot;\\n    value {\\n      list {\\n        s: &quot;loc:@feature_loss/feature_projection/mlp_layer_2/mlp_layer_1/mlp_layer_1/kernel&quot;\\n      }\\n    }\\n  }\\n}\\nnode {\\n  name: &quot;feature_loss/feature_projection/mlp_layer_2/mlp_layer_1/mlp_layer_1/kernel&quot;\\n  op: &quot;VariableV2&quot;\\n  attr {\\n    key: &quot;_class&quot;\\n    value {\\n      list {\\n        s: &quot;loc:@feature_loss/feature_projection/mlp_layer_2/mlp_layer_1/mlp_layer_1/kernel&quot;\\n      }\\n    }\\n  }\\n  attr {\\n    key: &quot;container&quot;\\n    value {\\n      s: &quot;&quot;\\n    }\\n  }\\n  attr {\\n    key: &quot;dtype&quot;\\n    value {\\n      type: DT_FLOAT\\n    }\\n  }\\n  attr {\\n    key: &quot;shape&quot;\\n    value {\\n      shape {\\n        dim {\\n          size: 8311\\n        }\\n        dim {\\n          size: 512\\n        }\\n      }\\n    }\\n  }\\n  attr {\\n    key: &quot;shared_name&quot;\\n    value {\\n      s: &quot;&quot;\\n    }\\n  }\\n}\\nnode {\\n  name: &quot;feature_loss/feature_projection/mlp_layer_2/mlp_layer_1/mlp_layer_1/kernel/Assign&quot;\\n  op: &quot;Assign&quot;\\n  input: &quot;feature_loss/feature_projection/mlp_layer_2/mlp_layer_1/mlp_layer_1/kernel&quot;\\n  input: &quot;feature_loss/feature_projection/mlp_layer_2/mlp_layer_1/mlp_layer_1/kernel/Initializer/random_uniform&quot;\\n  attr {\\n    key: &quot;T&quot;\\n    value {\\n      type: DT_FLOAT\\n    }\\n  }\\n  attr {\\n    key: &quot;_class&quot;\\n    value {\\n      list {\\n        s: &quot;loc:@feature_loss/feature_projection/mlp_layer_2/mlp_layer_1/mlp_layer_1/kernel&quot;\\n      }\\n    }\\n  }\\n  attr {\\n    key: &quot;use_locking&quot;\\n    value {\\n      b: true\\n    }\\n  }\\n  attr {\\n    key: &quot;validate_shape&quot;\\n    value {\\n      b: true\\n    }\\n  }\\n}\\nnode {\\n  name: &quot;feature_loss/feature_projection/mlp_layer_2/mlp_layer_1/mlp_layer_1/kernel/read&quot;\\n  op: &quot;Identity&quot;\\n  input: &quot;feature_loss/feature_projection/mlp_layer_2/mlp_layer_1/mlp_layer_1/kernel&quot;\\n  attr {\\n    key: &quot;T&quot;\\n    value {\\n      type: DT_FLOAT\\n    }\\n  }\\n  attr {\\n    key: &quot;_class&quot;\\n    value {\\n      list {\\n        s: &quot;loc:@feature_loss/feature_projection/mlp_layer_2/mlp_layer_1/mlp_layer_1/kernel&quot;\\n      }\\n    }\\n  }\\n}\\nnode {\\n  name: &quot;feature_loss/feature_projection/mlp_layer_2/mlp_layer_1/mlp_layer_1/bias/Initializer/zeros&quot;\\n  op: &quot;Const&quot;\\n  attr {\\n    key: &quot;_class&quot;\\n    value {\\n      list {\\n        s: &quot;loc:@feature_loss/feature_projection/mlp_layer_2/mlp_layer_1/mlp_layer_1/bias&quot;\\n      }\\n    }\\n  }\\n  attr {\\n    key: &quot;dtype&quot;\\n    value {\\n      type: DT_FLOAT\\n    }\\n  }\\n  attr {\\n    key: &quot;value&quot;\\n    value {\\n      tensor {\\n        dtype: DT_FLOAT\\n        tensor_shape {\\n          dim {\\n            size: 512\\n          }\\n        }\\n        float_val: 0.0\\n      }\\n    }\\n  }\\n}\\nnode {\\n  name: &quot;feature_loss/feature_projection/mlp_layer_2/mlp_layer_1/mlp_layer_1/bias&quot;\\n  op: &quot;VariableV2&quot;\\n  attr {\\n    key: &quot;_class&quot;\\n    value {\\n      list {\\n        s: &quot;loc:@feature_loss/feature_projection/mlp_layer_2/mlp_layer_1/mlp_layer_1/bias&quot;\\n      }\\n    }\\n  }\\n  attr {\\n    key: &quot;container&quot;\\n    value {\\n      s: &quot;&quot;\\n    }\\n  }\\n  attr {\\n    key: &quot;dtype&quot;\\n    value {\\n      type: DT_FLOAT\\n    }\\n  }\\n  attr {\\n    key: &quot;shape&quot;\\n    value {\\n      shape {\\n        dim {\\n          size: 512\\n        }\\n      }\\n    }\\n  }\\n  attr {\\n    key: &quot;shared_name&quot;\\n    value {\\n      s: &quot;&quot;\\n    }\\n  }\\n}\\nnode {\\n  name: &quot;feature_loss/feature_projection/mlp_layer_2/mlp_layer_1/mlp_layer_1/bias/Assign&quot;\\n  op: &quot;Assign&quot;\\n  input: &quot;feature_loss/feature_projection/mlp_layer_2/mlp_layer_1/mlp_layer_1/bias&quot;\\n  input: &quot;feature_loss/feature_projection/mlp_layer_2/mlp_layer_1/mlp_layer_1/bias/Initializer/zeros&quot;\\n  attr {\\n    key: &quot;T&quot;\\n    value {\\n      type: DT_FLOAT\\n    }\\n  }\\n  attr {\\n    key: &quot;_class&quot;\\n    value {\\n      list {\\n        s: &quot;loc:@feature_loss/feature_projection/mlp_layer_2/mlp_layer_1/mlp_layer_1/bias&quot;\\n      }\\n    }\\n  }\\n  attr {\\n    key: &quot;use_locking&quot;\\n    value {\\n      b: true\\n    }\\n  }\\n  attr {\\n    key: &quot;validate_shape&quot;\\n    value {\\n      b: true\\n    }\\n  }\\n}\\nnode {\\n  name: &quot;feature_loss/feature_projection/mlp_layer_2/mlp_layer_1/mlp_layer_1/bias/read&quot;\\n  op: &quot;Identity&quot;\\n  input: &quot;feature_loss/feature_projection/mlp_layer_2/mlp_layer_1/mlp_layer_1/bias&quot;\\n  attr {\\n    key: &quot;T&quot;\\n    value {\\n      type: DT_FLOAT\\n    }\\n  }\\n  attr {\\n    key: &quot;_class&quot;\\n    value {\\n      list {\\n        s: &quot;loc:@feature_loss/feature_projection/mlp_layer_2/mlp_layer_1/mlp_layer_1/bias&quot;\\n      }\\n    }\\n  }\\n}\\nnode {\\n  name: &quot;feature_loss/feature_projection/mlp_layer_2/mlp_layer_1/mlp_layer_1/MatMul&quot;\\n  op: &quot;MatMul&quot;\\n  input: &quot;Const&quot;\\n  input: &quot;feature_loss/feature_projection/mlp_layer_2/mlp_layer_1/mlp_layer_1/kernel/read&quot;\\n  attr {\\n    key: &quot;T&quot;\\n    value {\\n      type: DT_FLOAT\\n    }\\n  }\\n  attr {\\n    key: &quot;transpose_a&quot;\\n    value {\\n      b: false\\n    }\\n  }\\n  attr {\\n    key: &quot;transpose_b&quot;\\n    value {\\n      b: false\\n    }\\n  }\\n}\\nnode {\\n  name: &quot;feature_loss/feature_projection/mlp_layer_2/mlp_layer_1/mlp_layer_1/BiasAdd&quot;\\n  op: &quot;BiasAdd&quot;\\n  input: &quot;feature_loss/feature_projection/mlp_layer_2/mlp_layer_1/mlp_layer_1/MatMul&quot;\\n  input: &quot;feature_loss/feature_projection/mlp_layer_2/mlp_layer_1/mlp_layer_1/bias/read&quot;\\n  attr {\\n    key: &quot;T&quot;\\n    value {\\n      type: DT_FLOAT\\n    }\\n  }\\n  attr {\\n    key: &quot;data_format&quot;\\n    value {\\n      s: &quot;NHWC&quot;\\n    }\\n  }\\n}\\nnode {\\n  name: &quot;feature_loss/feature_projection/mlp_layer_2/mlp_layer_1/mlp_layer_1/Relu&quot;\\n  op: &quot;Relu&quot;\\n  input: &quot;feature_loss/feature_projection/mlp_layer_2/mlp_layer_1/mlp_layer_1/BiasAdd&quot;\\n  attr {\\n    key: &quot;T&quot;\\n    value {\\n      type: DT_FLOAT\\n    }\\n  }\\n}\\nnode {\\n  name: &quot;feature_loss/feature_projection/mlp_layer_2/dropout/Identity&quot;\\n  op: &quot;Identity&quot;\\n  input: &quot;feature_loss/feature_projection/mlp_layer_2/mlp_layer_1/mlp_layer_1/Relu&quot;\\n  attr {\\n    key: &quot;T&quot;\\n    value {\\n      type: DT_FLOAT\\n    }\\n  }\\n}\\nnode {\\n  name: &quot;feature_loss/feature_projection/mlp_layer_2/mlp_layer_2/kernel/Initializer/random_uniform/shape&quot;\\n  op: &quot;Const&quot;\\n  attr {\\n    key: &quot;_class&quot;\\n    value {\\n      list {\\n        s: &quot;loc:@feature_loss/feature_projection/mlp_layer_2/mlp_layer_2/kernel&quot;\\n      }\\n    }\\n  }\\n  attr {\\n    key: &quot;dtype&quot;\\n    value {\\n      type: DT_INT32\\n    }\\n  }\\n  attr {\\n    key: &quot;value&quot;\\n    value {\\n      tensor {\\n        dtype: DT_INT32\\n        tensor_shape {\\n          dim {\\n            size: 2\\n          }\\n        }\\n        tensor_content: &quot;\\\\000\\\\002\\\\000\\\\000d\\\\000\\\\000\\\\000&quot;\\n      }\\n    }\\n  }\\n}\\nnode {\\n  name: &quot;feature_loss/feature_projection/mlp_layer_2/mlp_layer_2/kernel/Initializer/random_uniform/min&quot;\\n  op: &quot;Const&quot;\\n  attr {\\n    key: &quot;_class&quot;\\n    value {\\n      list {\\n        s: &quot;loc:@feature_loss/feature_projection/mlp_layer_2/mlp_layer_2/kernel&quot;\\n      }\\n    }\\n  }\\n  attr {\\n    key: &quot;dtype&quot;\\n    value {\\n      type: DT_FLOAT\\n    }\\n  }\\n  attr {\\n    key: &quot;value&quot;\\n    value {\\n      tensor {\\n        dtype: DT_FLOAT\\n        tensor_shape {\\n        }\\n        float_val: -0.0990147516131401\\n      }\\n    }\\n  }\\n}\\nnode {\\n  name: &quot;feature_loss/feature_projection/mlp_layer_2/mlp_layer_2/kernel/Initializer/random_uniform/max&quot;\\n  op: &quot;Const&quot;\\n  attr {\\n    key: &quot;_class&quot;\\n    value {\\n      list {\\n        s: &quot;loc:@feature_loss/feature_projection/mlp_layer_2/mlp_layer_2/kernel&quot;\\n      }\\n    }\\n  }\\n  attr {\\n    key: &quot;dtype&quot;\\n    value {\\n      type: DT_FLOAT\\n    }\\n  }\\n  attr {\\n    key: &quot;value&quot;\\n    value {\\n      tensor {\\n        dtype: DT_FLOAT\\n        tensor_shape {\\n        }\\n        float_val: 0.0990147516131401\\n      }\\n    }\\n  }\\n}\\nnode {\\n  name: &quot;feature_loss/feature_projection/mlp_layer_2/mlp_layer_2/kernel/Initializer/random_uniform/RandomUniform&quot;\\n  op: &quot;RandomUniform&quot;\\n  input: &quot;feature_loss/feature_projection/mlp_layer_2/mlp_layer_2/kernel/Initializer/random_uniform/shape&quot;\\n  attr {\\n    key: &quot;T&quot;\\n    value {\\n      type: DT_INT32\\n    }\\n  }\\n  attr {\\n    key: &quot;_class&quot;\\n    value {\\n      list {\\n        s: &quot;loc:@feature_loss/feature_projection/mlp_layer_2/mlp_layer_2/kernel&quot;\\n      }\\n    }\\n  }\\n  attr {\\n    key: &quot;dtype&quot;\\n    value {\\n      type: DT_FLOAT\\n    }\\n  }\\n  attr {\\n    key: &quot;seed&quot;\\n    value {\\n      i: 0\\n    }\\n  }\\n  attr {\\n    key: &quot;seed2&quot;\\n    value {\\n      i: 0\\n    }\\n  }\\n}\\nnode {\\n  name: &quot;feature_loss/feature_projection/mlp_layer_2/mlp_layer_2/kernel/Initializer/random_uniform/sub&quot;\\n  op: &quot;Sub&quot;\\n  input: &quot;feature_loss/feature_projection/mlp_layer_2/mlp_layer_2/kernel/Initializer/random_uniform/max&quot;\\n  input: &quot;feature_loss/feature_projection/mlp_layer_2/mlp_layer_2/kernel/Initializer/random_uniform/min&quot;\\n  attr {\\n    key: &quot;T&quot;\\n    value {\\n      type: DT_FLOAT\\n    }\\n  }\\n  attr {\\n    key: &quot;_class&quot;\\n    value {\\n      list {\\n        s: &quot;loc:@feature_loss/feature_projection/mlp_layer_2/mlp_layer_2/kernel&quot;\\n      }\\n    }\\n  }\\n}\\nnode {\\n  name: &quot;feature_loss/feature_projection/mlp_layer_2/mlp_layer_2/kernel/Initializer/random_uniform/mul&quot;\\n  op: &quot;Mul&quot;\\n  input: &quot;feature_loss/feature_projection/mlp_layer_2/mlp_layer_2/kernel/Initializer/random_uniform/RandomUniform&quot;\\n  input: &quot;feature_loss/feature_projection/mlp_layer_2/mlp_layer_2/kernel/Initializer/random_uniform/sub&quot;\\n  attr {\\n    key: &quot;T&quot;\\n    value {\\n      type: DT_FLOAT\\n    }\\n  }\\n  attr {\\n    key: &quot;_class&quot;\\n    value {\\n      list {\\n        s: &quot;loc:@feature_loss/feature_projection/mlp_layer_2/mlp_layer_2/kernel&quot;\\n      }\\n    }\\n  }\\n}\\nnode {\\n  name: &quot;feature_loss/feature_projection/mlp_layer_2/mlp_layer_2/kernel/Initializer/random_uniform&quot;\\n  op: &quot;Add&quot;\\n  input: &quot;feature_loss/feature_projection/mlp_layer_2/mlp_layer_2/kernel/Initializer/random_uniform/mul&quot;\\n  input: &quot;feature_loss/feature_projection/mlp_layer_2/mlp_layer_2/kernel/Initializer/random_uniform/min&quot;\\n  attr {\\n    key: &quot;T&quot;\\n    value {\\n      type: DT_FLOAT\\n    }\\n  }\\n  attr {\\n    key: &quot;_class&quot;\\n    value {\\n      list {\\n        s: &quot;loc:@feature_loss/feature_projection/mlp_layer_2/mlp_layer_2/kernel&quot;\\n      }\\n    }\\n  }\\n}\\nnode {\\n  name: &quot;feature_loss/feature_projection/mlp_layer_2/mlp_layer_2/kernel&quot;\\n  op: &quot;VariableV2&quot;\\n  attr {\\n    key: &quot;_class&quot;\\n    value {\\n      list {\\n        s: &quot;loc:@feature_loss/feature_projection/mlp_layer_2/mlp_layer_2/kernel&quot;\\n      }\\n    }\\n  }\\n  attr {\\n    key: &quot;container&quot;\\n    value {\\n      s: &quot;&quot;\\n    }\\n  }\\n  attr {\\n    key: &quot;dtype&quot;\\n    value {\\n      type: DT_FLOAT\\n    }\\n  }\\n  attr {\\n    key: &quot;shape&quot;\\n    value {\\n      shape {\\n        dim {\\n          size: 512\\n        }\\n        dim {\\n          size: 100\\n        }\\n      }\\n    }\\n  }\\n  attr {\\n    key: &quot;shared_name&quot;\\n    value {\\n      s: &quot;&quot;\\n    }\\n  }\\n}\\nnode {\\n  name: &quot;feature_loss/feature_projection/mlp_layer_2/mlp_layer_2/kernel/Assign&quot;\\n  op: &quot;Assign&quot;\\n  input: &quot;feature_loss/feature_projection/mlp_layer_2/mlp_layer_2/kernel&quot;\\n  input: &quot;feature_loss/feature_projection/mlp_layer_2/mlp_layer_2/kernel/Initializer/random_uniform&quot;\\n  attr {\\n    key: &quot;T&quot;\\n    value {\\n      type: DT_FLOAT\\n    }\\n  }\\n  attr {\\n    key: &quot;_class&quot;\\n    value {\\n      list {\\n        s: &quot;loc:@feature_loss/feature_projection/mlp_layer_2/mlp_layer_2/kernel&quot;\\n      }\\n    }\\n  }\\n  attr {\\n    key: &quot;use_locking&quot;\\n    value {\\n      b: true\\n    }\\n  }\\n  attr {\\n    key: &quot;validate_shape&quot;\\n    value {\\n      b: true\\n    }\\n  }\\n}\\nnode {\\n  name: &quot;feature_loss/feature_projection/mlp_layer_2/mlp_layer_2/kernel/read&quot;\\n  op: &quot;Identity&quot;\\n  input: &quot;feature_loss/feature_projection/mlp_layer_2/mlp_layer_2/kernel&quot;\\n  attr {\\n    key: &quot;T&quot;\\n    value {\\n      type: DT_FLOAT\\n    }\\n  }\\n  attr {\\n    key: &quot;_class&quot;\\n    value {\\n      list {\\n        s: &quot;loc:@feature_loss/feature_projection/mlp_layer_2/mlp_layer_2/kernel&quot;\\n      }\\n    }\\n  }\\n}\\nnode {\\n  name: &quot;feature_loss/feature_projection/mlp_layer_2/mlp_layer_2/bias/Initializer/zeros&quot;\\n  op: &quot;Const&quot;\\n  attr {\\n    key: &quot;_class&quot;\\n    value {\\n      list {\\n        s: &quot;loc:@feature_loss/feature_projection/mlp_layer_2/mlp_layer_2/bias&quot;\\n      }\\n    }\\n  }\\n  attr {\\n    key: &quot;dtype&quot;\\n    value {\\n      type: DT_FLOAT\\n    }\\n  }\\n  attr {\\n    key: &quot;value&quot;\\n    value {\\n      tensor {\\n        dtype: DT_FLOAT\\n        tensor_shape {\\n          dim {\\n            size: 100\\n          }\\n        }\\n        float_val: 0.0\\n      }\\n    }\\n  }\\n}\\nnode {\\n  name: &quot;feature_loss/feature_projection/mlp_layer_2/mlp_layer_2/bias&quot;\\n  op: &quot;VariableV2&quot;\\n  attr {\\n    key: &quot;_class&quot;\\n    value {\\n      list {\\n        s: &quot;loc:@feature_loss/feature_projection/mlp_layer_2/mlp_layer_2/bias&quot;\\n      }\\n    }\\n  }\\n  attr {\\n    key: &quot;container&quot;\\n    value {\\n      s: &quot;&quot;\\n    }\\n  }\\n  attr {\\n    key: &quot;dtype&quot;\\n    value {\\n      type: DT_FLOAT\\n    }\\n  }\\n  attr {\\n    key: &quot;shape&quot;\\n    value {\\n      shape {\\n        dim {\\n          size: 100\\n        }\\n      }\\n    }\\n  }\\n  attr {\\n    key: &quot;shared_name&quot;\\n    value {\\n      s: &quot;&quot;\\n    }\\n  }\\n}\\nnode {\\n  name: &quot;feature_loss/feature_projection/mlp_layer_2/mlp_layer_2/bias/Assign&quot;\\n  op: &quot;Assign&quot;\\n  input: &quot;feature_loss/feature_projection/mlp_layer_2/mlp_layer_2/bias&quot;\\n  input: &quot;feature_loss/feature_projection/mlp_layer_2/mlp_layer_2/bias/Initializer/zeros&quot;\\n  attr {\\n    key: &quot;T&quot;\\n    value {\\n      type: DT_FLOAT\\n    }\\n  }\\n  attr {\\n    key: &quot;_class&quot;\\n    value {\\n      list {\\n        s: &quot;loc:@feature_loss/feature_projection/mlp_layer_2/mlp_layer_2/bias&quot;\\n      }\\n    }\\n  }\\n  attr {\\n    key: &quot;use_locking&quot;\\n    value {\\n      b: true\\n    }\\n  }\\n  attr {\\n    key: &quot;validate_shape&quot;\\n    value {\\n      b: true\\n    }\\n  }\\n}\\nnode {\\n  name: &quot;feature_loss/feature_projection/mlp_layer_2/mlp_layer_2/bias/read&quot;\\n  op: &quot;Identity&quot;\\n  input: &quot;feature_loss/feature_projection/mlp_layer_2/mlp_layer_2/bias&quot;\\n  attr {\\n    key: &quot;T&quot;\\n    value {\\n      type: DT_FLOAT\\n    }\\n  }\\n  attr {\\n    key: &quot;_class&quot;\\n    value {\\n      list {\\n        s: &quot;loc:@feature_loss/feature_projection/mlp_layer_2/mlp_layer_2/bias&quot;\\n      }\\n    }\\n  }\\n}\\nnode {\\n  name: &quot;feature_loss/feature_projection/mlp_layer_2/mlp_layer_2/MatMul&quot;\\n  op: &quot;MatMul&quot;\\n  input: &quot;feature_loss/feature_projection/mlp_layer_2/dropout/Identity&quot;\\n  input: &quot;feature_loss/feature_projection/mlp_layer_2/mlp_layer_2/kernel/read&quot;\\n  attr {\\n    key: &quot;T&quot;\\n    value {\\n      type: DT_FLOAT\\n    }\\n  }\\n  attr {\\n    key: &quot;transpose_a&quot;\\n    value {\\n      b: false\\n    }\\n  }\\n  attr {\\n    key: &quot;transpose_b&quot;\\n    value {\\n      b: false\\n    }\\n  }\\n}\\nnode {\\n  name: &quot;feature_loss/feature_projection/mlp_layer_2/mlp_layer_2/BiasAdd&quot;\\n  op: &quot;BiasAdd&quot;\\n  input: &quot;feature_loss/feature_projection/mlp_layer_2/mlp_layer_2/MatMul&quot;\\n  input: &quot;feature_loss/feature_projection/mlp_layer_2/mlp_layer_2/bias/read&quot;\\n  attr {\\n    key: &quot;T&quot;\\n    value {\\n      type: DT_FLOAT\\n    }\\n  }\\n  attr {\\n    key: &quot;data_format&quot;\\n    value {\\n      s: &quot;NHWC&quot;\\n    }\\n  }\\n}\\nnode {\\n  name: &quot;feature_loss/feature_projection/mul/y&quot;\\n  op: &quot;Const&quot;\\n  attr {\\n    key: &quot;dtype&quot;\\n    value {\\n      type: DT_FLOAT\\n    }\\n  }\\n  attr {\\n    key: &quot;value&quot;\\n    value {\\n      tensor {\\n        dtype: DT_FLOAT\\n        tensor_shape {\\n        }\\n        float_val: 1.0\\n      }\\n    }\\n  }\\n}\\nnode {\\n  name: &quot;feature_loss/feature_projection/mul&quot;\\n  op: &quot;Mul&quot;\\n  input: &quot;feature_loss/feature_projection/mlp_layer_2/mlp_layer_2/BiasAdd&quot;\\n  input: &quot;feature_loss/feature_projection/mul/y&quot;\\n  attr {\\n    key: &quot;T&quot;\\n    value {\\n      type: DT_FLOAT\\n    }\\n  }\\n}\\nnode {\\n  name: &quot;feature_loss/feature_projection/feature_projection/mul&quot;\\n  op: &quot;Mul&quot;\\n  input: &quot;feature_loss/feature_projection/mul&quot;\\n  input: &quot;feature_loss/feature_projection/mul&quot;\\n  attr {\\n    key: &quot;T&quot;\\n    value {\\n      type: DT_FLOAT\\n    }\\n  }\\n}\\nnode {\\n  name: &quot;feature_loss/feature_projection/feature_projection/Sum/reduction_indices&quot;\\n  op: &quot;Const&quot;\\n  attr {\\n    key: &quot;dtype&quot;\\n    value {\\n      type: DT_INT32\\n    }\\n  }\\n  attr {\\n    key: &quot;value&quot;\\n    value {\\n      tensor {\\n        dtype: DT_INT32\\n        tensor_shape {\\n          dim {\\n            size: 1\\n          }\\n        }\\n        int_val: 1\\n      }\\n    }\\n  }\\n}\\nnode {\\n  name: &quot;feature_loss/feature_projection/feature_projection/Sum&quot;\\n  op: &quot;Sum&quot;\\n  input: &quot;feature_loss/feature_projection/feature_projection/mul&quot;\\n  input: &quot;feature_loss/feature_projection/feature_projection/Sum/reduction_indices&quot;\\n  attr {\\n    key: &quot;T&quot;\\n    value {\\n      type: DT_FLOAT\\n    }\\n  }\\n  attr {\\n    key: &quot;Tidx&quot;\\n    value {\\n      type: DT_INT32\\n    }\\n  }\\n  attr {\\n    key: &quot;keep_dims&quot;\\n    value {\\n      b: true\\n    }\\n  }\\n}\\nnode {\\n  name: &quot;feature_loss/feature_projection/feature_projection/Greater/y&quot;\\n  op: &quot;Const&quot;\\n  attr {\\n    key: &quot;dtype&quot;\\n    value {\\n      type: DT_FLOAT\\n    }\\n  }\\n  attr {\\n    key: &quot;value&quot;\\n    value {\\n      tensor {\\n        dtype: DT_FLOAT\\n        tensor_shape {\\n        }\\n        float_val: 0.0\\n      }\\n    }\\n  }\\n}\\nnode {\\n  name: &quot;feature_loss/feature_projection/feature_projection/Greater&quot;\\n  op: &quot;Greater&quot;\\n  input: &quot;feature_loss/feature_projection/feature_projection/Sum&quot;\\n  input: &quot;feature_loss/feature_projection/feature_projection/Greater/y&quot;\\n  attr {\\n    key: &quot;T&quot;\\n    value {\\n      type: DT_FLOAT\\n    }\\n  }\\n}\\nnode {\\n  name: &quot;feature_loss/feature_projection/feature_projection/ones_like/Shape&quot;\\n  op: &quot;Const&quot;\\n  attr {\\n    key: &quot;dtype&quot;\\n    value {\\n      type: DT_INT32\\n    }\\n  }\\n  attr {\\n    key: &quot;value&quot;\\n    value {\\n      tensor {\\n        dtype: DT_INT32\\n        tensor_shape {\\n          dim {\\n            size: 2\\n          }\\n        }\\n        tensor_content: &quot;we\\\\000\\\\000\\\\001\\\\000\\\\000\\\\000&quot;\\n      }\\n    }\\n  }\\n}\\nnode {\\n  name: &quot;feature_loss/feature_projection/feature_projection/ones_like/Const&quot;\\n  op: &quot;Const&quot;\\n  attr {\\n    key: &quot;dtype&quot;\\n    value {\\n      type: DT_FLOAT\\n    }\\n  }\\n  attr {\\n    key: &quot;value&quot;\\n    value {\\n      tensor {\\n        dtype: DT_FLOAT\\n        tensor_shape {\\n        }\\n        float_val: 1.0\\n      }\\n    }\\n  }\\n}\\nnode {\\n  name: &quot;feature_loss/feature_projection/feature_projection/ones_like&quot;\\n  op: &quot;Fill&quot;\\n  input: &quot;feature_loss/feature_projection/feature_projection/ones_like/Shape&quot;\\n  input: &quot;feature_loss/feature_projection/feature_projection/ones_like/Const&quot;\\n  attr {\\n    key: &quot;T&quot;\\n    value {\\n      type: DT_FLOAT\\n    }\\n  }\\n  attr {\\n    key: &quot;index_type&quot;\\n    value {\\n      type: DT_INT32\\n    }\\n  }\\n}\\nnode {\\n  name: &quot;feature_loss/feature_projection/feature_projection/Select&quot;\\n  op: &quot;Select&quot;\\n  input: &quot;feature_loss/feature_projection/feature_projection/Greater&quot;\\n  input: &quot;feature_loss/feature_projection/feature_projection/Sum&quot;\\n  input: &quot;feature_loss/feature_projection/feature_projection/ones_like&quot;\\n  attr {\\n    key: &quot;T&quot;\\n    value {\\n      type: DT_FLOAT\\n    }\\n  }\\n}\\nnode {\\n  name: &quot;feature_loss/feature_projection/feature_projection/Sqrt&quot;\\n  op: &quot;Sqrt&quot;\\n  input: &quot;feature_loss/feature_projection/feature_projection/Select&quot;\\n  attr {\\n    key: &quot;T&quot;\\n    value {\\n      type: DT_FLOAT\\n    }\\n  }\\n}\\nnode {\\n  name: &quot;feature_loss/feature_projection/feature_projection/Select_1&quot;\\n  op: &quot;Select&quot;\\n  input: &quot;feature_loss/feature_projection/feature_projection/Greater&quot;\\n  input: &quot;feature_loss/feature_projection/feature_projection/Sqrt&quot;\\n  input: &quot;feature_loss/feature_projection/feature_projection/Sum&quot;\\n  attr {\\n    key: &quot;T&quot;\\n    value {\\n      type: DT_FLOAT\\n    }\\n  }\\n}\\nnode {\\n  name: &quot;feature_loss/feature_projection/feature_projection/mul_1/y&quot;\\n  op: &quot;Const&quot;\\n  attr {\\n    key: &quot;dtype&quot;\\n    value {\\n      type: DT_FLOAT\\n    }\\n  }\\n  attr {\\n    key: &quot;value&quot;\\n    value {\\n      tensor {\\n        dtype: DT_FLOAT\\n        tensor_shape {\\n        }\\n        float_val: 1.100000023841858\\n      }\\n    }\\n  }\\n}\\nnode {\\n  name: &quot;feature_loss/feature_projection/feature_projection/mul_1&quot;\\n  op: &quot;Mul&quot;\\n  input: &quot;feature_loss/feature_projection/mul&quot;\\n  input: &quot;feature_loss/feature_projection/feature_projection/mul_1/y&quot;\\n  attr {\\n    key: &quot;T&quot;\\n    value {\\n      type: DT_FLOAT\\n    }\\n  }\\n}\\nnode {\\n  name: &quot;feature_loss/feature_projection/feature_projection/Maximum/y&quot;\\n  op: &quot;Const&quot;\\n  attr {\\n    key: &quot;dtype&quot;\\n    value {\\n      type: DT_FLOAT\\n    }\\n  }\\n  attr {\\n    key: &quot;value&quot;\\n    value {\\n      tensor {\\n        dtype: DT_FLOAT\\n        tensor_shape {\\n        }\\n        float_val: 1.100000023841858\\n      }\\n    }\\n  }\\n}\\nnode {\\n  name: &quot;feature_loss/feature_projection/feature_projection/Maximum&quot;\\n  op: &quot;Maximum&quot;\\n  input: &quot;feature_loss/feature_projection/feature_projection/Select_1&quot;\\n  input: &quot;feature_loss/feature_projection/feature_projection/Maximum/y&quot;\\n  attr {\\n    key: &quot;T&quot;\\n    value {\\n      type: DT_FLOAT\\n    }\\n  }\\n}\\nnode {\\n  name: &quot;feature_loss/feature_projection/feature_projection/truediv&quot;\\n  op: &quot;RealDiv&quot;\\n  input: &quot;feature_loss/feature_projection/feature_projection/mul_1&quot;\\n  input: &quot;feature_loss/feature_projection/feature_projection/Maximum&quot;\\n  attr {\\n    key: &quot;T&quot;\\n    value {\\n      type: DT_FLOAT\\n    }\\n  }\\n}\\nnode {\\n  name: &quot;feature_loss/feature_projection/feature_projection&quot;\\n  op: &quot;Identity&quot;\\n  input: &quot;feature_loss/feature_projection/feature_projection/truediv&quot;\\n  attr {\\n    key: &quot;T&quot;\\n    value {\\n      type: DT_FLOAT\\n    }\\n  }\\n}\\nnode {\\n  name: &quot;feature_loss/SquaredDifference&quot;\\n  op: &quot;SquaredDifference&quot;\\n  input: &quot;item_embeddings/Variable/read&quot;\\n  input: &quot;feature_loss/feature_projection/feature_projection&quot;\\n  attr {\\n    key: &quot;T&quot;\\n    value {\\n      type: DT_FLOAT\\n    }\\n  }\\n}\\nnode {\\n  name: &quot;feature_loss/Sum/reduction_indices&quot;\\n  op: &quot;Const&quot;\\n  attr {\\n    key: &quot;dtype&quot;\\n    value {\\n      type: DT_INT32\\n    }\\n  }\\n  attr {\\n    key: &quot;value&quot;\\n    value {\\n      tensor {\\n        dtype: DT_INT32\\n        tensor_shape {\\n        }\\n        int_val: 1\\n      }\\n    }\\n  }\\n}\\nnode {\\n  name: &quot;feature_loss/Sum&quot;\\n  op: &quot;Sum&quot;\\n  input: &quot;feature_loss/SquaredDifference&quot;\\n  input: &quot;feature_loss/Sum/reduction_indices&quot;\\n  attr {\\n    key: &quot;T&quot;\\n    value {\\n      type: DT_FLOAT\\n    }\\n  }\\n  attr {\\n    key: &quot;Tidx&quot;\\n    value {\\n      type: DT_INT32\\n    }\\n  }\\n  attr {\\n    key: &quot;keep_dims&quot;\\n    value {\\n      b: false\\n    }\\n  }\\n}\\nnode {\\n  name: &quot;feature_loss/Const_1&quot;\\n  op: &quot;Const&quot;\\n  attr {\\n    key: &quot;dtype&quot;\\n    value {\\n      type: DT_INT32\\n    }\\n  }\\n  attr {\\n    key: &quot;value&quot;\\n    value {\\n      tensor {\\n        dtype: DT_INT32\\n        tensor_shape {\\n          dim {\\n            size: 1\\n          }\\n        }\\n        int_val: 0\\n      }\\n    }\\n  }\\n}\\nnode {\\n  name: &quot;feature_loss/feature_loss&quot;\\n  op: &quot;Sum&quot;\\n  input: &quot;feature_loss/Sum&quot;\\n  input: &quot;feature_loss/Const_1&quot;\\n  attr {\\n    key: &quot;T&quot;\\n    value {\\n      type: DT_FLOAT\\n    }\\n  }\\n  attr {\\n    key: &quot;Tidx&quot;\\n    value {\\n      type: DT_INT32\\n    }\\n  }\\n  attr {\\n    key: &quot;keep_dims&quot;\\n    value {\\n      b: false\\n    }\\n  }\\n}\\nnode {\\n  name: &quot;feature_loss/mul/y&quot;\\n  op: &quot;Const&quot;\\n  attr {\\n    key: &quot;dtype&quot;\\n    value {\\n      type: DT_FLOAT\\n    }\\n  }\\n  attr {\\n    key: &quot;value&quot;\\n    value {\\n      tensor {\\n        dtype: DT_FLOAT\\n        tensor_shape {\\n        }\\n        float_val: 0.10000000149011612\\n      }\\n    }\\n  }\\n}\\nnode {\\n  name: &quot;feature_loss/mul&quot;\\n  op: &quot;Mul&quot;\\n  input: &quot;feature_loss/feature_loss&quot;\\n  input: &quot;feature_loss/mul/y&quot;\\n  attr {\\n    key: &quot;T&quot;\\n    value {\\n      type: DT_FLOAT\\n    }\\n  }\\n}\\nnode {\\n  name: &quot;feature_loss/add&quot;\\n  op: &quot;Add&quot;\\n  input: &quot;feature_loss/Const&quot;\\n  input: &quot;feature_loss/mul&quot;\\n  attr {\\n    key: &quot;T&quot;\\n    value {\\n      type: DT_FLOAT\\n    }\\n  }\\n}\\nnode {\\n  name: &quot;loss/add&quot;\\n  op: &quot;Add&quot;\\n  input: &quot;embedding_loss/loss&quot;\\n  input: &quot;feature_loss/add&quot;\\n  attr {\\n    key: &quot;T&quot;\\n    value {\\n      type: DT_FLOAT\\n    }\\n  }\\n}\\nnode {\\n  name: &quot;loss/covariance_loss/concat/axis&quot;\\n  op: &quot;Const&quot;\\n  attr {\\n    key: &quot;dtype&quot;\\n    value {\\n      type: DT_INT32\\n    }\\n  }\\n  attr {\\n    key: &quot;value&quot;\\n    value {\\n      tensor {\\n        dtype: DT_INT32\\n        tensor_shape {\\n        }\\n        int_val: 0\\n      }\\n    }\\n  }\\n}\\nnode {\\n  name: &quot;loss/covariance_loss/concat&quot;\\n  op: &quot;ConcatV2&quot;\\n  input: &quot;item_embeddings/Variable/read&quot;\\n  input: &quot;user_embeddings/Variable/read&quot;\\n  input: &quot;loss/covariance_loss/concat/axis&quot;\\n  attr {\\n    key: &quot;N&quot;\\n    value {\\n      i: 2\\n    }\\n  }\\n  attr {\\n    key: &quot;T&quot;\\n    value {\\n      type: DT_FLOAT\\n    }\\n  }\\n  attr {\\n    key: &quot;Tidx&quot;\\n    value {\\n      type: DT_INT32\\n    }\\n  }\\n}\\nnode {\\n  name: &quot;loss/covariance_loss/Shape&quot;\\n  op: &quot;Const&quot;\\n  attr {\\n    key: &quot;dtype&quot;\\n    value {\\n      type: DT_INT32\\n    }\\n  }\\n  attr {\\n    key: &quot;value&quot;\\n    value {\\n      tensor {\\n        dtype: DT_INT32\\n        tensor_shape {\\n          dim {\\n            size: 2\\n          }\\n        }\\n        tensor_content: &quot;\\\\202\\\\204\\\\000\\\\000d\\\\000\\\\000\\\\000&quot;\\n      }\\n    }\\n  }\\n}\\nnode {\\n  name: &quot;loss/covariance_loss/strided_slice/stack&quot;\\n  op: &quot;Const&quot;\\n  attr {\\n    key: &quot;dtype&quot;\\n    value {\\n      type: DT_INT32\\n    }\\n  }\\n  attr {\\n    key: &quot;value&quot;\\n    value {\\n      tensor {\\n        dtype: DT_INT32\\n        tensor_shape {\\n          dim {\\n            size: 1\\n          }\\n        }\\n        int_val: 0\\n      }\\n    }\\n  }\\n}\\nnode {\\n  name: &quot;loss/covariance_loss/strided_slice/stack_1&quot;\\n  op: &quot;Const&quot;\\n  attr {\\n    key: &quot;dtype&quot;\\n    value {\\n      type: DT_INT32\\n    }\\n  }\\n  attr {\\n    key: &quot;value&quot;\\n    value {\\n      tensor {\\n        dtype: DT_INT32\\n        tensor_shape {\\n          dim {\\n            size: 1\\n          }\\n        }\\n        int_val: 1\\n      }\\n    }\\n  }\\n}\\nnode {\\n  name: &quot;loss/covariance_loss/strided_slice/stack_2&quot;\\n  op: &quot;Const&quot;\\n  attr {\\n    key: &quot;dtype&quot;\\n    value {\\n      type: DT_INT32\\n    }\\n  }\\n  attr {\\n    key: &quot;value&quot;\\n    value {\\n      tensor {\\n        dtype: DT_INT32\\n        tensor_shape {\\n          dim {\\n            size: 1\\n          }\\n        }\\n        int_val: 1\\n      }\\n    }\\n  }\\n}\\nnode {\\n  name: &quot;loss/covariance_loss/strided_slice&quot;\\n  op: &quot;StridedSlice&quot;\\n  input: &quot;loss/covariance_loss/Shape&quot;\\n  input: &quot;loss/covariance_loss/strided_slice/stack&quot;\\n  input: &quot;loss/covariance_loss/strided_slice/stack_1&quot;\\n  input: &quot;loss/covariance_loss/strided_slice/stack_2&quot;\\n  attr {\\n    key: &quot;Index&quot;\\n    value {\\n      type: DT_INT32\\n    }\\n  }\\n  attr {\\n    key: &quot;T&quot;\\n    value {\\n      type: DT_INT32\\n    }\\n  }\\n  attr {\\n    key: &quot;begin_mask&quot;\\n    value {\\n      i: 0\\n    }\\n  }\\n  attr {\\n    key: &quot;ellipsis_mask&quot;\\n    value {\\n      i: 0\\n    }\\n  }\\n  attr {\\n    key: &quot;end_mask&quot;\\n    value {\\n      i: 0\\n    }\\n  }\\n  attr {\\n    key: &quot;new_axis_mask&quot;\\n    value {\\n      i: 0\\n    }\\n  }\\n  attr {\\n    key: &quot;shrink_axis_mask&quot;\\n    value {\\n      i: 1\\n    }\\n  }\\n}\\nnode {\\n  name: &quot;loss/covariance_loss/Cast&quot;\\n  op: &quot;Cast&quot;\\n  input: &quot;loss/covariance_loss/strided_slice&quot;\\n  attr {\\n    key: &quot;DstT&quot;\\n    value {\\n      type: DT_FLOAT\\n    }\\n  }\\n  attr {\\n    key: &quot;SrcT&quot;\\n    value {\\n      type: DT_INT32\\n    }\\n  }\\n  attr {\\n    key: &quot;Truncate&quot;\\n    value {\\n      b: false\\n    }\\n  }\\n}\\nnode {\\n  name: &quot;loss/covariance_loss/Mean/reduction_indices&quot;\\n  op: &quot;Const&quot;\\n  attr {\\n    key: &quot;dtype&quot;\\n    value {\\n      type: DT_INT32\\n    }\\n  }\\n  attr {\\n    key: &quot;value&quot;\\n    value {\\n      tensor {\\n        dtype: DT_INT32\\n        tensor_shape {\\n        }\\n        int_val: 0\\n      }\\n    }\\n  }\\n}\\nnode {\\n  name: &quot;loss/covariance_loss/Mean&quot;\\n  op: &quot;Mean&quot;\\n  input: &quot;loss/covariance_loss/concat&quot;\\n  input: &quot;loss/covariance_loss/Mean/reduction_indices&quot;\\n  attr {\\n    key: &quot;T&quot;\\n    value {\\n      type: DT_FLOAT\\n    }\\n  }\\n  attr {\\n    key: &quot;Tidx&quot;\\n    value {\\n      type: DT_INT32\\n    }\\n  }\\n  attr {\\n    key: &quot;keep_dims&quot;\\n    value {\\n      b: false\\n    }\\n  }\\n}\\nnode {\\n  name: &quot;loss/covariance_loss/sub&quot;\\n  op: &quot;Sub&quot;\\n  input: &quot;loss/covariance_loss/concat&quot;\\n  input: &quot;loss/covariance_loss/Mean&quot;\\n  attr {\\n    key: &quot;T&quot;\\n    value {\\n      type: DT_FLOAT\\n    }\\n  }\\n}\\nnode {\\n  name: &quot;loss/covariance_loss/MatMul&quot;\\n  op: &quot;MatMul&quot;\\n  input: &quot;loss/covariance_loss/sub&quot;\\n  input: &quot;loss/covariance_loss/sub&quot;\\n  attr {\\n    key: &quot;T&quot;\\n    value {\\n      type: DT_FLOAT\\n    }\\n  }\\n  attr {\\n    key: &quot;transpose_a&quot;\\n    value {\\n      b: true\\n    }\\n  }\\n  attr {\\n    key: &quot;transpose_b&quot;\\n    value {\\n      b: false\\n    }\\n  }\\n}\\nnode {\\n  name: &quot;loss/covariance_loss/truediv&quot;\\n  op: &quot;RealDiv&quot;\\n  input: &quot;loss/covariance_loss/MatMul&quot;\\n  input: &quot;loss/covariance_loss/Cast&quot;\\n  attr {\\n    key: &quot;T&quot;\\n    value {\\n      type: DT_FLOAT\\n    }\\n  }\\n}\\nnode {\\n  name: &quot;loss/covariance_loss/zeros/shape_as_tensor&quot;\\n  op: &quot;Const&quot;\\n  attr {\\n    key: &quot;dtype&quot;\\n    value {\\n      type: DT_INT32\\n    }\\n  }\\n  attr {\\n    key: &quot;value&quot;\\n    value {\\n      tensor {\\n        dtype: DT_INT32\\n        tensor_shape {\\n          dim {\\n            size: 1\\n          }\\n        }\\n        int_val: 100\\n      }\\n    }\\n  }\\n}\\nnode {\\n  name: &quot;loss/covariance_loss/zeros/Const&quot;\\n  op: &quot;Const&quot;\\n  attr {\\n    key: &quot;dtype&quot;\\n    value {\\n      type: DT_FLOAT\\n    }\\n  }\\n  attr {\\n    key: &quot;value&quot;\\n    value {\\n      tensor {\\n        dtype: DT_FLOAT\\n        tensor_shape {\\n        }\\n        float_val: 0.0\\n      }\\n    }\\n  }\\n}\\nnode {\\n  name: &quot;loss/covariance_loss/zeros&quot;\\n  op: &quot;Fill&quot;\\n  input: &quot;loss/covariance_loss/zeros/shape_as_tensor&quot;\\n  input: &quot;loss/covariance_loss/zeros/Const&quot;\\n  attr {\\n    key: &quot;T&quot;\\n    value {\\n      type: DT_FLOAT\\n    }\\n  }\\n  attr {\\n    key: &quot;index_type&quot;\\n    value {\\n      type: DT_INT32\\n    }\\n  }\\n}\\nnode {\\n  name: &quot;loss/covariance_loss/MatrixSetDiag&quot;\\n  op: &quot;MatrixSetDiag&quot;\\n  input: &quot;loss/covariance_loss/truediv&quot;\\n  input: &quot;loss/covariance_loss/zeros&quot;\\n  attr {\\n    key: &quot;T&quot;\\n    value {\\n      type: DT_FLOAT\\n    }\\n  }\\n}\\nnode {\\n  name: &quot;loss/covariance_loss/Const&quot;\\n  op: &quot;Const&quot;\\n  attr {\\n    key: &quot;dtype&quot;\\n    value {\\n      type: DT_INT32\\n    }\\n  }\\n  attr {\\n    key: &quot;value&quot;\\n    value {\\n      tensor {\\n        dtype: DT_INT32\\n        tensor_shape {\\n          dim {\\n            size: 2\\n          }\\n        }\\n        tensor_content: &quot;\\\\000\\\\000\\\\000\\\\000\\\\001\\\\000\\\\000\\\\000&quot;\\n      }\\n    }\\n  }\\n}\\nnode {\\n  name: &quot;loss/covariance_loss/Sum&quot;\\n  op: &quot;Sum&quot;\\n  input: &quot;loss/covariance_loss/MatrixSetDiag&quot;\\n  input: &quot;loss/covariance_loss/Const&quot;\\n  attr {\\n    key: &quot;T&quot;\\n    value {\\n      type: DT_FLOAT\\n    }\\n  }\\n  attr {\\n    key: &quot;Tidx&quot;\\n    value {\\n      type: DT_INT32\\n    }\\n  }\\n  attr {\\n    key: &quot;keep_dims&quot;\\n    value {\\n      b: false\\n    }\\n  }\\n}\\nnode {\\n  name: &quot;loss/covariance_loss/mul/y&quot;\\n  op: &quot;Const&quot;\\n  attr {\\n    key: &quot;dtype&quot;\\n    value {\\n      type: DT_FLOAT\\n    }\\n  }\\n  attr {\\n    key: &quot;value&quot;\\n    value {\\n      tensor {\\n        dtype: DT_FLOAT\\n        tensor_shape {\\n        }\\n        float_val: 1.0\\n      }\\n    }\\n  }\\n}\\nnode {\\n  name: &quot;loss/covariance_loss/mul&quot;\\n  op: &quot;Mul&quot;\\n  input: &quot;loss/covariance_loss/Sum&quot;\\n  input: &quot;loss/covariance_loss/mul/y&quot;\\n  attr {\\n    key: &quot;T&quot;\\n    value {\\n      type: DT_FLOAT\\n    }\\n  }\\n}\\nnode {\\n  name: &quot;loss/add_1&quot;\\n  op: &quot;Add&quot;\\n  input: &quot;loss/add&quot;\\n  input: &quot;loss/covariance_loss/mul&quot;\\n  attr {\\n    key: &quot;T&quot;\\n    value {\\n      type: DT_FLOAT\\n    }\\n  }\\n}\\nnode {\\n  name: &quot;optimize/gradients/Shape&quot;\\n  op: &quot;Const&quot;\\n  attr {\\n    key: &quot;dtype&quot;\\n    value {\\n      type: DT_INT32\\n    }\\n  }\\n  attr {\\n    key: &quot;value&quot;\\n    value {\\n      tensor {\\n        dtype: DT_INT32\\n        tensor_shape {\\n          dim {\\n          }\\n        }\\n      }\\n    }\\n  }\\n}\\nnode {\\n  name: &quot;optimize/gradients/grad_ys_0&quot;\\n  op: &quot;Const&quot;\\n  attr {\\n    key: &quot;dtype&quot;\\n    value {\\n      type: DT_FLOAT\\n    }\\n  }\\n  attr {\\n    key: &quot;value&quot;\\n    value {\\n      tensor {\\n        dtype: DT_FLOAT\\n        tensor_shape {\\n        }\\n        float_val: 1.0\\n      }\\n    }\\n  }\\n}\\nnode {\\n  name: &quot;optimize/gradients/Fill&quot;\\n  op: &quot;Fill&quot;\\n  input: &quot;optimize/gradients/Shape&quot;\\n  input: &quot;optimize/gradients/grad_ys_0&quot;\\n  attr {\\n    key: &quot;T&quot;\\n    value {\\n      type: DT_FLOAT\\n    }\\n  }\\n  attr {\\n    key: &quot;index_type&quot;\\n    value {\\n      type: DT_INT32\\n    }\\n  }\\n}\\nnode {\\n  name: &quot;optimize/gradients/loss/add_1_grad/tuple/group_deps&quot;\\n  op: &quot;NoOp&quot;\\n  input: &quot;^optimize/gradients/Fill&quot;\\n}\\nnode {\\n  name: &quot;optimize/gradients/loss/add_1_grad/tuple/control_dependency&quot;\\n  op: &quot;Identity&quot;\\n  input: &quot;optimize/gradients/Fill&quot;\\n  input: &quot;^optimize/gradients/loss/add_1_grad/tuple/group_deps&quot;\\n  attr {\\n    key: &quot;T&quot;\\n    value {\\n      type: DT_FLOAT\\n    }\\n  }\\n  attr {\\n    key: &quot;_class&quot;\\n    value {\\n      list {\\n        s: &quot;loc:@optimize/gradients/Fill&quot;\\n      }\\n    }\\n  }\\n}\\nnode {\\n  name: &quot;optimize/gradients/loss/add_1_grad/tuple/control_dependency_1&quot;\\n  op: &quot;Identity&quot;\\n  input: &quot;optimize/gradients/Fill&quot;\\n  input: &quot;^optimize/gradients/loss/add_1_grad/tuple/group_deps&quot;\\n  attr {\\n    key: &quot;T&quot;\\n    value {\\n      type: DT_FLOAT\\n    }\\n  }\\n  attr {\\n    key: &quot;_class&quot;\\n    value {\\n      list {\\n        s: &quot;loc:@optimize/gradients/Fill&quot;\\n      }\\n    }\\n  }\\n}\\nnode {\\n  name: &quot;optimize/gradients/loss/add_grad/tuple/group_deps&quot;\\n  op: &quot;NoOp&quot;\\n  input: &quot;^optimize/gradients/loss/add_1_grad/tuple/control_dependency&quot;\\n}\\nnode {\\n  name: &quot;optimize/gradients/loss/add_grad/tuple/control_dependency&quot;\\n  op: &quot;Identity&quot;\\n  input: &quot;optimize/gradients/loss/add_1_grad/tuple/control_dependency&quot;\\n  input: &quot;^optimize/gradients/loss/add_grad/tuple/group_deps&quot;\\n  attr {\\n    key: &quot;T&quot;\\n    value {\\n      type: DT_FLOAT\\n    }\\n  }\\n  attr {\\n    key: &quot;_class&quot;\\n    value {\\n      list {\\n        s: &quot;loc:@optimize/gradients/Fill&quot;\\n      }\\n    }\\n  }\\n}\\nnode {\\n  name: &quot;optimize/gradients/loss/add_grad/tuple/control_dependency_1&quot;\\n  op: &quot;Identity&quot;\\n  input: &quot;optimize/gradients/loss/add_1_grad/tuple/control_dependency&quot;\\n  input: &quot;^optimize/gradients/loss/add_grad/tuple/group_deps&quot;\\n  attr {\\n    key: &quot;T&quot;\\n    value {\\n      type: DT_FLOAT\\n    }\\n  }\\n  attr {\\n    key: &quot;_class&quot;\\n    value {\\n      list {\\n        s: &quot;loc:@optimize/gradients/Fill&quot;\\n      }\\n    }\\n  }\\n}\\nnode {\\n  name: &quot;optimize/gradients/loss/covariance_loss/mul_grad/Mul&quot;\\n  op: &quot;Mul&quot;\\n  input: &quot;optimize/gradients/loss/add_1_grad/tuple/control_dependency_1&quot;\\n  input: &quot;loss/covariance_loss/mul/y&quot;\\n  attr {\\n    key: &quot;T&quot;\\n    value {\\n      type: DT_FLOAT\\n    }\\n  }\\n}\\nnode {\\n  name: &quot;optimize/gradients/loss/covariance_loss/mul_grad/Mul_1&quot;\\n  op: &quot;Mul&quot;\\n  input: &quot;optimize/gradients/loss/add_1_grad/tuple/control_dependency_1&quot;\\n  input: &quot;loss/covariance_loss/Sum&quot;\\n  attr {\\n    key: &quot;T&quot;\\n    value {\\n      type: DT_FLOAT\\n    }\\n  }\\n}\\nnode {\\n  name: &quot;optimize/gradients/loss/covariance_loss/mul_grad/tuple/group_deps&quot;\\n  op: &quot;NoOp&quot;\\n  input: &quot;^optimize/gradients/loss/covariance_loss/mul_grad/Mul&quot;\\n  input: &quot;^optimize/gradients/loss/covariance_loss/mul_grad/Mul_1&quot;\\n}\\nnode {\\n  name: &quot;optimize/gradients/loss/covariance_loss/mul_grad/tuple/control_dependency&quot;\\n  op: &quot;Identity&quot;\\n  input: &quot;optimize/gradients/loss/covariance_loss/mul_grad/Mul&quot;\\n  input: &quot;^optimize/gradients/loss/covariance_loss/mul_grad/tuple/group_deps&quot;\\n  attr {\\n    key: &quot;T&quot;\\n    value {\\n      type: DT_FLOAT\\n    }\\n  }\\n  attr {\\n    key: &quot;_class&quot;\\n    value {\\n      list {\\n        s: &quot;loc:@optimize/gradients/loss/covariance_loss/mul_grad/Mul&quot;\\n      }\\n    }\\n  }\\n}\\nnode {\\n  name: &quot;optimize/gradients/loss/covariance_loss/mul_grad/tuple/control_dependency_1&quot;\\n  op: &quot;Identity&quot;\\n  input: &quot;optimize/gradients/loss/covariance_loss/mul_grad/Mul_1&quot;\\n  input: &quot;^optimize/gradients/loss/covariance_loss/mul_grad/tuple/group_deps&quot;\\n  attr {\\n    key: &quot;T&quot;\\n    value {\\n      type: DT_FLOAT\\n    }\\n  }\\n  attr {\\n    key: &quot;_class&quot;\\n    value {\\n      list {\\n        s: &quot;loc:@optimize/gradients/loss/covariance_loss/mul_grad/Mul_1&quot;\\n      }\\n    }\\n  }\\n}\\nnode {\\n  name: &quot;optimize/gradients/embedding_loss/loss_grad/Reshape/shape&quot;\\n  op: &quot;Const&quot;\\n  attr {\\n    key: &quot;dtype&quot;\\n    value {\\n      type: DT_INT32\\n    }\\n  }\\n  attr {\\n    key: &quot;value&quot;\\n    value {\\n      tensor {\\n        dtype: DT_INT32\\n        tensor_shape {\\n          dim {\\n            size: 1\\n          }\\n        }\\n        int_val: 1\\n      }\\n    }\\n  }\\n}\\nnode {\\n  name: &quot;optimize/gradients/embedding_loss/loss_grad/Reshape&quot;\\n  op: &quot;Reshape&quot;\\n  input: &quot;optimize/gradients/loss/add_grad/tuple/control_dependency&quot;\\n  input: &quot;optimize/gradients/embedding_loss/loss_grad/Reshape/shape&quot;\\n  attr {\\n    key: &quot;T&quot;\\n    value {\\n      type: DT_FLOAT\\n    }\\n  }\\n  attr {\\n    key: &quot;Tshape&quot;\\n    value {\\n      type: DT_INT32\\n    }\\n  }\\n}\\nnode {\\n  name: &quot;optimize/gradients/embedding_loss/loss_grad/Shape&quot;\\n  op: &quot;Shape&quot;\\n  input: &quot;embedding_loss/mul_1&quot;\\n  attr {\\n    key: &quot;T&quot;\\n    value {\\n      type: DT_FLOAT\\n    }\\n  }\\n  attr {\\n    key: &quot;out_type&quot;\\n    value {\\n      type: DT_INT32\\n    }\\n  }\\n}\\nnode {\\n  name: &quot;optimize/gradients/embedding_loss/loss_grad/Tile&quot;\\n  op: &quot;Tile&quot;\\n  input: &quot;optimize/gradients/embedding_loss/loss_grad/Reshape&quot;\\n  input: &quot;optimize/gradients/embedding_loss/loss_grad/Shape&quot;\\n  attr {\\n    key: &quot;T&quot;\\n    value {\\n      type: DT_FLOAT\\n    }\\n  }\\n  attr {\\n    key: &quot;Tmultiples&quot;\\n    value {\\n      type: DT_INT32\\n    }\\n  }\\n}\\nnode {\\n  name: &quot;optimize/gradients/feature_loss/add_grad/tuple/group_deps&quot;\\n  op: &quot;NoOp&quot;\\n  input: &quot;^optimize/gradients/loss/add_grad/tuple/control_dependency_1&quot;\\n}\\nnode {\\n  name: &quot;optimize/gradients/feature_loss/add_grad/tuple/control_dependency&quot;\\n  op: &quot;Identity&quot;\\n  input: &quot;optimize/gradients/loss/add_grad/tuple/control_dependency_1&quot;\\n  input: &quot;^optimize/gradients/feature_loss/add_grad/tuple/group_deps&quot;\\n  attr {\\n    key: &quot;T&quot;\\n    value {\\n      type: DT_FLOAT\\n    }\\n  }\\n  attr {\\n    key: &quot;_class&quot;\\n    value {\\n      list {\\n        s: &quot;loc:@optimize/gradients/Fill&quot;\\n      }\\n    }\\n  }\\n}\\nnode {\\n  name: &quot;optimize/gradients/feature_loss/add_grad/tuple/control_dependency_1&quot;\\n  op: &quot;Identity&quot;\\n  input: &quot;optimize/gradients/loss/add_grad/tuple/control_dependency_1&quot;\\n  input: &quot;^optimize/gradients/feature_loss/add_grad/tuple/group_deps&quot;\\n  attr {\\n    key: &quot;T&quot;\\n    value {\\n      type: DT_FLOAT\\n    }\\n  }\\n  attr {\\n    key: &quot;_class&quot;\\n    value {\\n      list {\\n        s: &quot;loc:@optimize/gradients/Fill&quot;\\n      }\\n    }\\n  }\\n}\\nnode {\\n  name: &quot;optimize/gradients/loss/covariance_loss/Sum_grad/Reshape/shape&quot;\\n  op: &quot;Const&quot;\\n  attr {\\n    key: &quot;dtype&quot;\\n    value {\\n      type: DT_INT32\\n    }\\n  }\\n  attr {\\n    key: &quot;value&quot;\\n    value {\\n      tensor {\\n        dtype: DT_INT32\\n        tensor_shape {\\n          dim {\\n            size: 2\\n          }\\n        }\\n        tensor_content: &quot;\\\\001\\\\000\\\\000\\\\000\\\\001\\\\000\\\\000\\\\000&quot;\\n      }\\n    }\\n  }\\n}\\nnode {\\n  name: &quot;optimize/gradients/loss/covariance_loss/Sum_grad/Reshape&quot;\\n  op: &quot;Reshape&quot;\\n  input: &quot;optimize/gradients/loss/covariance_loss/mul_grad/tuple/control_dependency&quot;\\n  input: &quot;optimize/gradients/loss/covariance_loss/Sum_grad/Reshape/shape&quot;\\n  attr {\\n    key: &quot;T&quot;\\n    value {\\n      type: DT_FLOAT\\n    }\\n  }\\n  attr {\\n    key: &quot;Tshape&quot;\\n    value {\\n      type: DT_INT32\\n    }\\n  }\\n}\\nnode {\\n  name: &quot;optimize/gradients/loss/covariance_loss/Sum_grad/Const&quot;\\n  op: &quot;Const&quot;\\n  attr {\\n    key: &quot;dtype&quot;\\n    value {\\n      type: DT_INT32\\n    }\\n  }\\n  attr {\\n    key: &quot;value&quot;\\n    value {\\n      tensor {\\n        dtype: DT_INT32\\n        tensor_shape {\\n          dim {\\n            size: 2\\n          }\\n        }\\n        tensor_content: &quot;d\\\\000\\\\000\\\\000d\\\\000\\\\000\\\\000&quot;\\n      }\\n    }\\n  }\\n}\\nnode {\\n  name: &quot;optimize/gradients/loss/covariance_loss/Sum_grad/Tile&quot;\\n  op: &quot;Tile&quot;\\n  input: &quot;optimize/gradients/loss/covariance_loss/Sum_grad/Reshape&quot;\\n  input: &quot;optimize/gradients/loss/covariance_loss/Sum_grad/Const&quot;\\n  attr {\\n    key: &quot;T&quot;\\n    value {\\n      type: DT_FLOAT\\n    }\\n  }\\n  attr {\\n    key: &quot;Tmultiples&quot;\\n    value {\\n      type: DT_INT32\\n    }\\n  }\\n}\\nnode {\\n  name: &quot;optimize/gradients/embedding_loss/mul_1_grad/Shape&quot;\\n  op: &quot;Shape&quot;\\n  input: &quot;embedding_loss/pair_loss&quot;\\n  attr {\\n    key: &quot;T&quot;\\n    value {\\n      type: DT_FLOAT\\n    }\\n  }\\n  attr {\\n    key: &quot;out_type&quot;\\n    value {\\n      type: DT_INT32\\n    }\\n  }\\n}\\nnode {\\n  name: &quot;optimize/gradients/embedding_loss/mul_1_grad/Shape_1&quot;\\n  op: &quot;Shape&quot;\\n  input: &quot;embedding_loss/Log&quot;\\n  attr {\\n    key: &quot;T&quot;\\n    value {\\n      type: DT_FLOAT\\n    }\\n  }\\n  attr {\\n    key: &quot;out_type&quot;\\n    value {\\n      type: DT_INT32\\n    }\\n  }\\n}\\nnode {\\n  name: &quot;optimize/gradients/embedding_loss/mul_1_grad/BroadcastGradientArgs&quot;\\n  op: &quot;BroadcastGradientArgs&quot;\\n  input: &quot;optimize/gradients/embedding_loss/mul_1_grad/Shape&quot;\\n  input: &quot;optimize/gradients/embedding_loss/mul_1_grad/Shape_1&quot;\\n  attr {\\n    key: &quot;T&quot;\\n    value {\\n      type: DT_INT32\\n    }\\n  }\\n}\\nnode {\\n  name: &quot;optimize/gradients/embedding_loss/mul_1_grad/Mul&quot;\\n  op: &quot;Mul&quot;\\n  input: &quot;optimize/gradients/embedding_loss/loss_grad/Tile&quot;\\n  input: &quot;embedding_loss/Log&quot;\\n  attr {\\n    key: &quot;T&quot;\\n    value {\\n      type: DT_FLOAT\\n    }\\n  }\\n}\\nnode {\\n  name: &quot;optimize/gradients/embedding_loss/mul_1_grad/Sum&quot;\\n  op: &quot;Sum&quot;\\n  input: &quot;optimize/gradients/embedding_loss/mul_1_grad/Mul&quot;\\n  input: &quot;optimize/gradients/embedding_loss/mul_1_grad/BroadcastGradientArgs&quot;\\n  attr {\\n    key: &quot;T&quot;\\n    value {\\n      type: DT_FLOAT\\n    }\\n  }\\n  attr {\\n    key: &quot;Tidx&quot;\\n    value {\\n      type: DT_INT32\\n    }\\n  }\\n  attr {\\n    key: &quot;keep_dims&quot;\\n    value {\\n      b: false\\n    }\\n  }\\n}\\nnode {\\n  name: &quot;optimize/gradients/embedding_loss/mul_1_grad/Reshape&quot;\\n  op: &quot;Reshape&quot;\\n  input: &quot;optimize/gradients/embedding_loss/mul_1_grad/Sum&quot;\\n  input: &quot;optimize/gradients/embedding_loss/mul_1_grad/Shape&quot;\\n  attr {\\n    key: &quot;T&quot;\\n    value {\\n      type: DT_FLOAT\\n    }\\n  }\\n  attr {\\n    key: &quot;Tshape&quot;\\n    value {\\n      type: DT_INT32\\n    }\\n  }\\n}\\nnode {\\n  name: &quot;optimize/gradients/embedding_loss/mul_1_grad/Mul_1&quot;\\n  op: &quot;Mul&quot;\\n  input: &quot;embedding_loss/pair_loss&quot;\\n  input: &quot;optimize/gradients/embedding_loss/loss_grad/Tile&quot;\\n  attr {\\n    key: &quot;T&quot;\\n    value {\\n      type: DT_FLOAT\\n    }\\n  }\\n}\\nnode {\\n  name: &quot;optimize/gradients/embedding_loss/mul_1_grad/Sum_1&quot;\\n  op: &quot;Sum&quot;\\n  input: &quot;optimize/gradients/embedding_loss/mul_1_grad/Mul_1&quot;\\n  input: &quot;optimize/gradients/embedding_loss/mul_1_grad/BroadcastGradientArgs:1&quot;\\n  attr {\\n    key: &quot;T&quot;\\n    value {\\n      type: DT_FLOAT\\n    }\\n  }\\n  attr {\\n    key: &quot;Tidx&quot;\\n    value {\\n      type: DT_INT32\\n    }\\n  }\\n  attr {\\n    key: &quot;keep_dims&quot;\\n    value {\\n      b: false\\n    }\\n  }\\n}\\nnode {\\n  name: &quot;optimize/gradients/embedding_loss/mul_1_grad/Reshape_1&quot;\\n  op: &quot;Reshape&quot;\\n  input: &quot;optimize/gradients/embedding_loss/mul_1_grad/Sum_1&quot;\\n  input: &quot;optimize/gradients/embedding_loss/mul_1_grad/Shape_1&quot;\\n  attr {\\n    key: &quot;T&quot;\\n    value {\\n      type: DT_FLOAT\\n    }\\n  }\\n  attr {\\n    key: &quot;Tshape&quot;\\n    value {\\n      type: DT_INT32\\n    }\\n  }\\n}\\nnode {\\n  name: &quot;optimize/gradients/embedding_loss/mul_1_grad/tuple/group_deps&quot;\\n  op: &quot;NoOp&quot;\\n  input: &quot;^optimize/gradients/embedding_loss/mul_1_grad/Reshape&quot;\\n  input: &quot;^optimize/gradients/embedding_loss/mul_1_grad/Reshape_1&quot;\\n}\\nnode {\\n  name: &quot;optimize/gradients/embedding_loss/mul_1_grad/tuple/control_dependency&quot;\\n  op: &quot;Identity&quot;\\n  input: &quot;optimize/gradients/embedding_loss/mul_1_grad/Reshape&quot;\\n  input: &quot;^optimize/gradients/embedding_loss/mul_1_grad/tuple/group_deps&quot;\\n  attr {\\n    key: &quot;T&quot;\\n    value {\\n      type: DT_FLOAT\\n    }\\n  }\\n  attr {\\n    key: &quot;_class&quot;\\n    value {\\n      list {\\n        s: &quot;loc:@optimize/gradients/embedding_loss/mul_1_grad/Reshape&quot;\\n      }\\n    }\\n  }\\n}\\nnode {\\n  name: &quot;optimize/gradients/embedding_loss/mul_1_grad/tuple/control_dependency_1&quot;\\n  op: &quot;Identity&quot;\\n  input: &quot;optimize/gradients/embedding_loss/mul_1_grad/Reshape_1&quot;\\n  input: &quot;^optimize/gradients/embedding_loss/mul_1_grad/tuple/group_deps&quot;\\n  attr {\\n    key: &quot;T&quot;\\n    value {\\n      type: DT_FLOAT\\n    }\\n  }\\n  attr {\\n    key: &quot;_class&quot;\\n    value {\\n      list {\\n        s: &quot;loc:@optimize/gradients/embedding_loss/mul_1_grad/Reshape_1&quot;\\n      }\\n    }\\n  }\\n}\\nnode {\\n  name: &quot;optimize/gradients/feature_loss/mul_grad/Mul&quot;\\n  op: &quot;Mul&quot;\\n  input: &quot;optimize/gradients/feature_loss/add_grad/tuple/control_dependency_1&quot;\\n  input: &quot;feature_loss/mul/y&quot;\\n  attr {\\n    key: &quot;T&quot;\\n    value {\\n      type: DT_FLOAT\\n    }\\n  }\\n}\\nnode {\\n  name: &quot;optimize/gradients/feature_loss/mul_grad/Mul_1&quot;\\n  op: &quot;Mul&quot;\\n  input: &quot;optimize/gradients/feature_loss/add_grad/tuple/control_dependency_1&quot;\\n  input: &quot;feature_loss/feature_loss&quot;\\n  attr {\\n    key: &quot;T&quot;\\n    value {\\n      type: DT_FLOAT\\n    }\\n  }\\n}\\nnode {\\n  name: &quot;optimize/gradients/feature_loss/mul_grad/tuple/group_deps&quot;\\n  op: &quot;NoOp&quot;\\n  input: &quot;^optimize/gradients/feature_loss/mul_grad/Mul&quot;\\n  input: &quot;^optimize/gradients/feature_loss/mul_grad/Mul_1&quot;\\n}\\nnode {\\n  name: &quot;optimize/gradients/feature_loss/mul_grad/tuple/control_dependency&quot;\\n  op: &quot;Identity&quot;\\n  input: &quot;optimize/gradients/feature_loss/mul_grad/Mul&quot;\\n  input: &quot;^optimize/gradients/feature_loss/mul_grad/tuple/group_deps&quot;\\n  attr {\\n    key: &quot;T&quot;\\n    value {\\n      type: DT_FLOAT\\n    }\\n  }\\n  attr {\\n    key: &quot;_class&quot;\\n    value {\\n      list {\\n        s: &quot;loc:@optimize/gradients/feature_loss/mul_grad/Mul&quot;\\n      }\\n    }\\n  }\\n}\\nnode {\\n  name: &quot;optimize/gradients/feature_loss/mul_grad/tuple/control_dependency_1&quot;\\n  op: &quot;Identity&quot;\\n  input: &quot;optimize/gradients/feature_loss/mul_grad/Mul_1&quot;\\n  input: &quot;^optimize/gradients/feature_loss/mul_grad/tuple/group_deps&quot;\\n  attr {\\n    key: &quot;T&quot;\\n    value {\\n      type: DT_FLOAT\\n    }\\n  }\\n  attr {\\n    key: &quot;_class&quot;\\n    value {\\n      list {\\n        s: &quot;loc:@optimize/gradients/feature_loss/mul_grad/Mul_1&quot;\\n      }\\n    }\\n  }\\n}\\nnode {\\n  name: &quot;optimize/gradients/loss/covariance_loss/MatrixSetDiag_grad/zeros&quot;\\n  op: &quot;Const&quot;\\n  attr {\\n    key: &quot;dtype&quot;\\n    value {\\n      type: DT_FLOAT\\n    }\\n  }\\n  attr {\\n    key: &quot;value&quot;\\n    value {\\n      tensor {\\n        dtype: DT_FLOAT\\n        tensor_shape {\\n          dim {\\n            size: 100\\n          }\\n        }\\n        float_val: 0.0\\n      }\\n    }\\n  }\\n}\\nnode {\\n  name: &quot;optimize/gradients/loss/covariance_loss/MatrixSetDiag_grad/MatrixSetDiag&quot;\\n  op: &quot;MatrixSetDiag&quot;\\n  input: &quot;optimize/gradients/loss/covariance_loss/Sum_grad/Tile&quot;\\n  input: &quot;optimize/gradients/loss/covariance_loss/MatrixSetDiag_grad/zeros&quot;\\n  attr {\\n    key: &quot;T&quot;\\n    value {\\n      type: DT_FLOAT\\n    }\\n  }\\n}\\nnode {\\n  name: &quot;optimize/gradients/loss/covariance_loss/MatrixSetDiag_grad/MatrixDiagPart&quot;\\n  op: &quot;MatrixDiagPart&quot;\\n  input: &quot;optimize/gradients/loss/covariance_loss/Sum_grad/Tile&quot;\\n  attr {\\n    key: &quot;T&quot;\\n    value {\\n      type: DT_FLOAT\\n    }\\n  }\\n}\\nnode {\\n  name: &quot;optimize/gradients/loss/covariance_loss/MatrixSetDiag_grad/tuple/group_deps&quot;\\n  op: &quot;NoOp&quot;\\n  input: &quot;^optimize/gradients/loss/covariance_loss/MatrixSetDiag_grad/MatrixDiagPart&quot;\\n  input: &quot;^optimize/gradients/loss/covariance_loss/MatrixSetDiag_grad/MatrixSetDiag&quot;\\n}\\nnode {\\n  name: &quot;optimize/gradients/loss/covariance_loss/MatrixSetDiag_grad/tuple/control_dependency&quot;\\n  op: &quot;Identity&quot;\\n  input: &quot;optimize/gradients/loss/covariance_loss/MatrixSetDiag_grad/MatrixSetDiag&quot;\\n  input: &quot;^optimize/gradients/loss/covariance_loss/MatrixSetDiag_grad/tuple/group_deps&quot;\\n  attr {\\n    key: &quot;T&quot;\\n    value {\\n      type: DT_FLOAT\\n    }\\n  }\\n  attr {\\n    key: &quot;_class&quot;\\n    value {\\n      list {\\n        s: &quot;loc:@optimize/gradients/loss/covariance_loss/MatrixSetDiag_grad/MatrixSetDiag&quot;\\n      }\\n    }\\n  }\\n}\\nnode {\\n  name: &quot;optimize/gradients/loss/covariance_loss/MatrixSetDiag_grad/tuple/control_dependency_1&quot;\\n  op: &quot;Identity&quot;\\n  input: &quot;optimize/gradients/loss/covariance_loss/MatrixSetDiag_grad/MatrixDiagPart&quot;\\n  input: &quot;^optimize/gradients/loss/covariance_loss/MatrixSetDiag_grad/tuple/group_deps&quot;\\n  attr {\\n    key: &quot;T&quot;\\n    value {\\n      type: DT_FLOAT\\n    }\\n  }\\n  attr {\\n    key: &quot;_class&quot;\\n    value {\\n      list {\\n        s: &quot;loc:@optimize/gradients/loss/covariance_loss/MatrixSetDiag_grad/MatrixDiagPart&quot;\\n      }\\n    }\\n  }\\n}\\nnode {\\n  name: &quot;optimize/gradients/embedding_loss/pair_loss_grad/Shape&quot;\\n  op: &quot;Shape&quot;\\n  input: &quot;embedding_loss/add&quot;\\n  attr {\\n    key: &quot;T&quot;\\n    value {\\n      type: DT_FLOAT\\n    }\\n  }\\n  attr {\\n    key: &quot;out_type&quot;\\n    value {\\n      type: DT_INT32\\n    }\\n  }\\n}\\nnode {\\n  name: &quot;optimize/gradients/embedding_loss/pair_loss_grad/Shape_1&quot;\\n  op: &quot;Const&quot;\\n  attr {\\n    key: &quot;dtype&quot;\\n    value {\\n      type: DT_INT32\\n    }\\n  }\\n  attr {\\n    key: &quot;value&quot;\\n    value {\\n      tensor {\\n        dtype: DT_INT32\\n        tensor_shape {\\n          dim {\\n          }\\n        }\\n      }\\n    }\\n  }\\n}\\nnode {\\n  name: &quot;optimize/gradients/embedding_loss/pair_loss_grad/Shape_2&quot;\\n  op: &quot;Shape&quot;\\n  input: &quot;optimize/gradients/embedding_loss/mul_1_grad/tuple/control_dependency&quot;\\n  attr {\\n    key: &quot;T&quot;\\n    value {\\n      type: DT_FLOAT\\n    }\\n  }\\n  attr {\\n    key: &quot;out_type&quot;\\n    value {\\n      type: DT_INT32\\n    }\\n  }\\n}\\nnode {\\n  name: &quot;optimize/gradients/embedding_loss/pair_loss_grad/zeros/Const&quot;\\n  op: &quot;Const&quot;\\n  attr {\\n    key: &quot;dtype&quot;\\n    value {\\n      type: DT_FLOAT\\n    }\\n  }\\n  attr {\\n    key: &quot;value&quot;\\n    value {\\n      tensor {\\n        dtype: DT_FLOAT\\n        tensor_shape {\\n        }\\n        float_val: 0.0\\n      }\\n    }\\n  }\\n}\\nnode {\\n  name: &quot;optimize/gradients/embedding_loss/pair_loss_grad/zeros&quot;\\n  op: &quot;Fill&quot;\\n  input: &quot;optimize/gradients/embedding_loss/pair_loss_grad/Shape_2&quot;\\n  input: &quot;optimize/gradients/embedding_loss/pair_loss_grad/zeros/Const&quot;\\n  attr {\\n    key: &quot;T&quot;\\n    value {\\n      type: DT_FLOAT\\n    }\\n  }\\n  attr {\\n    key: &quot;index_type&quot;\\n    value {\\n      type: DT_INT32\\n    }\\n  }\\n}\\nnode {\\n  name: &quot;optimize/gradients/embedding_loss/pair_loss_grad/GreaterEqual&quot;\\n  op: &quot;GreaterEqual&quot;\\n  input: &quot;embedding_loss/add&quot;\\n  input: &quot;embedding_loss/pair_loss/y&quot;\\n  attr {\\n    key: &quot;T&quot;\\n    value {\\n      type: DT_FLOAT\\n    }\\n  }\\n}\\nnode {\\n  name: &quot;optimize/gradients/embedding_loss/pair_loss_grad/BroadcastGradientArgs&quot;\\n  op: &quot;BroadcastGradientArgs&quot;\\n  input: &quot;optimize/gradients/embedding_loss/pair_loss_grad/Shape&quot;\\n  input: &quot;optimize/gradients/embedding_loss/pair_loss_grad/Shape_1&quot;\\n  attr {\\n    key: &quot;T&quot;\\n    value {\\n      type: DT_INT32\\n    }\\n  }\\n}\\nnode {\\n  name: &quot;optimize/gradients/embedding_loss/pair_loss_grad/Select&quot;\\n  op: &quot;Select&quot;\\n  input: &quot;optimize/gradients/embedding_loss/pair_loss_grad/GreaterEqual&quot;\\n  input: &quot;optimize/gradients/embedding_loss/mul_1_grad/tuple/control_dependency&quot;\\n  input: &quot;optimize/gradients/embedding_loss/pair_loss_grad/zeros&quot;\\n  attr {\\n    key: &quot;T&quot;\\n    value {\\n      type: DT_FLOAT\\n    }\\n  }\\n}\\nnode {\\n  name: &quot;optimize/gradients/embedding_loss/pair_loss_grad/Select_1&quot;\\n  op: &quot;Select&quot;\\n  input: &quot;optimize/gradients/embedding_loss/pair_loss_grad/GreaterEqual&quot;\\n  input: &quot;optimize/gradients/embedding_loss/pair_loss_grad/zeros&quot;\\n  input: &quot;optimize/gradients/embedding_loss/mul_1_grad/tuple/control_dependency&quot;\\n  attr {\\n    key: &quot;T&quot;\\n    value {\\n      type: DT_FLOAT\\n    }\\n  }\\n}\\nnode {\\n  name: &quot;optimize/gradients/embedding_loss/pair_loss_grad/Sum&quot;\\n  op: &quot;Sum&quot;\\n  input: &quot;optimize/gradients/embedding_loss/pair_loss_grad/Select&quot;\\n  input: &quot;optimize/gradients/embedding_loss/pair_loss_grad/BroadcastGradientArgs&quot;\\n  attr {\\n    key: &quot;T&quot;\\n    value {\\n      type: DT_FLOAT\\n    }\\n  }\\n  attr {\\n    key: &quot;Tidx&quot;\\n    value {\\n      type: DT_INT32\\n    }\\n  }\\n  attr {\\n    key: &quot;keep_dims&quot;\\n    value {\\n      b: false\\n    }\\n  }\\n}\\nnode {\\n  name: &quot;optimize/gradients/embedding_loss/pair_loss_grad/Reshape&quot;\\n  op: &quot;Reshape&quot;\\n  input: &quot;optimize/gradients/embedding_loss/pair_loss_grad/Sum&quot;\\n  input: &quot;optimize/gradients/embedding_loss/pair_loss_grad/Shape&quot;\\n  attr {\\n    key: &quot;T&quot;\\n    value {\\n      type: DT_FLOAT\\n    }\\n  }\\n  attr {\\n    key: &quot;Tshape&quot;\\n    value {\\n      type: DT_INT32\\n    }\\n  }\\n}\\nnode {\\n  name: &quot;optimize/gradients/embedding_loss/pair_loss_grad/Sum_1&quot;\\n  op: &quot;Sum&quot;\\n  input: &quot;optimize/gradients/embedding_loss/pair_loss_grad/Select_1&quot;\\n  input: &quot;optimize/gradients/embedding_loss/pair_loss_grad/BroadcastGradientArgs:1&quot;\\n  attr {\\n    key: &quot;T&quot;\\n    value {\\n      type: DT_FLOAT\\n    }\\n  }\\n  attr {\\n    key: &quot;Tidx&quot;\\n    value {\\n      type: DT_INT32\\n    }\\n  }\\n  attr {\\n    key: &quot;keep_dims&quot;\\n    value {\\n      b: false\\n    }\\n  }\\n}\\nnode {\\n  name: &quot;optimize/gradients/embedding_loss/pair_loss_grad/Reshape_1&quot;\\n  op: &quot;Reshape&quot;\\n  input: &quot;optimize/gradients/embedding_loss/pair_loss_grad/Sum_1&quot;\\n  input: &quot;optimize/gradients/embedding_loss/pair_loss_grad/Shape_1&quot;\\n  attr {\\n    key: &quot;T&quot;\\n    value {\\n      type: DT_FLOAT\\n    }\\n  }\\n  attr {\\n    key: &quot;Tshape&quot;\\n    value {\\n      type: DT_INT32\\n    }\\n  }\\n}\\nnode {\\n  name: &quot;optimize/gradients/embedding_loss/pair_loss_grad/tuple/group_deps&quot;\\n  op: &quot;NoOp&quot;\\n  input: &quot;^optimize/gradients/embedding_loss/pair_loss_grad/Reshape&quot;\\n  input: &quot;^optimize/gradients/embedding_loss/pair_loss_grad/Reshape_1&quot;\\n}\\nnode {\\n  name: &quot;optimize/gradients/embedding_loss/pair_loss_grad/tuple/control_dependency&quot;\\n  op: &quot;Identity&quot;\\n  input: &quot;optimize/gradients/embedding_loss/pair_loss_grad/Reshape&quot;\\n  input: &quot;^optimize/gradients/embedding_loss/pair_loss_grad/tuple/group_deps&quot;\\n  attr {\\n    key: &quot;T&quot;\\n    value {\\n      type: DT_FLOAT\\n    }\\n  }\\n  attr {\\n    key: &quot;_class&quot;\\n    value {\\n      list {\\n        s: &quot;loc:@optimize/gradients/embedding_loss/pair_loss_grad/Reshape&quot;\\n      }\\n    }\\n  }\\n}\\nnode {\\n  name: &quot;optimize/gradients/embedding_loss/pair_loss_grad/tuple/control_dependency_1&quot;\\n  op: &quot;Identity&quot;\\n  input: &quot;optimize/gradients/embedding_loss/pair_loss_grad/Reshape_1&quot;\\n  input: &quot;^optimize/gradients/embedding_loss/pair_loss_grad/tuple/group_deps&quot;\\n  attr {\\n    key: &quot;T&quot;\\n    value {\\n      type: DT_FLOAT\\n    }\\n  }\\n  attr {\\n    key: &quot;_class&quot;\\n    value {\\n      list {\\n        s: &quot;loc:@optimize/gradients/embedding_loss/pair_loss_grad/Reshape_1&quot;\\n      }\\n    }\\n  }\\n}\\nnode {\\n  name: &quot;optimize/gradients/feature_loss/feature_loss_grad/Reshape/shape&quot;\\n  op: &quot;Const&quot;\\n  attr {\\n    key: &quot;dtype&quot;\\n    value {\\n      type: DT_INT32\\n    }\\n  }\\n  attr {\\n    key: &quot;value&quot;\\n    value {\\n      tensor {\\n        dtype: DT_INT32\\n        tensor_shape {\\n          dim {\\n            size: 1\\n          }\\n        }\\n        int_val: 1\\n      }\\n    }\\n  }\\n}\\nnode {\\n  name: &quot;optimize/gradients/feature_loss/feature_loss_grad/Reshape&quot;\\n  op: &quot;Reshape&quot;\\n  input: &quot;optimize/gradients/feature_loss/mul_grad/tuple/control_dependency&quot;\\n  input: &quot;optimize/gradients/feature_loss/feature_loss_grad/Reshape/shape&quot;\\n  attr {\\n    key: &quot;T&quot;\\n    value {\\n      type: DT_FLOAT\\n    }\\n  }\\n  attr {\\n    key: &quot;Tshape&quot;\\n    value {\\n      type: DT_INT32\\n    }\\n  }\\n}\\nnode {\\n  name: &quot;optimize/gradients/feature_loss/feature_loss_grad/Const&quot;\\n  op: &quot;Const&quot;\\n  attr {\\n    key: &quot;dtype&quot;\\n    value {\\n      type: DT_INT32\\n    }\\n  }\\n  attr {\\n    key: &quot;value&quot;\\n    value {\\n      tensor {\\n        dtype: DT_INT32\\n        tensor_shape {\\n          dim {\\n            size: 1\\n          }\\n        }\\n        int_val: 25975\\n      }\\n    }\\n  }\\n}\\nnode {\\n  name: &quot;optimize/gradients/feature_loss/feature_loss_grad/Tile&quot;\\n  op: &quot;Tile&quot;\\n  input: &quot;optimize/gradients/feature_loss/feature_loss_grad/Reshape&quot;\\n  input: &quot;optimize/gradients/feature_loss/feature_loss_grad/Const&quot;\\n  attr {\\n    key: &quot;T&quot;\\n    value {\\n      type: DT_FLOAT\\n    }\\n  }\\n  attr {\\n    key: &quot;Tmultiples&quot;\\n    value {\\n      type: DT_INT32\\n    }\\n  }\\n}\\nnode {\\n  name: &quot;optimize/gradients/loss/covariance_loss/truediv_grad/Shape&quot;\\n  op: &quot;Const&quot;\\n  attr {\\n    key: &quot;dtype&quot;\\n    value {\\n      type: DT_INT32\\n    }\\n  }\\n  attr {\\n    key: &quot;value&quot;\\n    value {\\n      tensor {\\n        dtype: DT_INT32\\n        tensor_shape {\\n          dim {\\n            size: 2\\n          }\\n        }\\n        tensor_content: &quot;d\\\\000\\\\000\\\\000d\\\\000\\\\000\\\\000&quot;\\n      }\\n    }\\n  }\\n}\\nnode {\\n  name: &quot;optimize/gradients/loss/covariance_loss/truediv_grad/Shape_1&quot;\\n  op: &quot;Const&quot;\\n  attr {\\n    key: &quot;dtype&quot;\\n    value {\\n      type: DT_INT32\\n    }\\n  }\\n  attr {\\n    key: &quot;value&quot;\\n    value {\\n      tensor {\\n        dtype: DT_INT32\\n        tensor_shape {\\n          dim {\\n          }\\n        }\\n      }\\n    }\\n  }\\n}\\nnode {\\n  name: &quot;optimize/gradients/loss/covariance_loss/truediv_grad/BroadcastGradientArgs&quot;\\n  op: &quot;BroadcastGradientArgs&quot;\\n  input: &quot;optimize/gradients/loss/covariance_loss/truediv_grad/Shape&quot;\\n  input: &quot;optimize/gradients/loss/covariance_loss/truediv_grad/Shape_1&quot;\\n  attr {\\n    key: &quot;T&quot;\\n    value {\\n      type: DT_INT32\\n    }\\n  }\\n}\\nnode {\\n  name: &quot;optimize/gradients/loss/covariance_loss/truediv_grad/RealDiv&quot;\\n  op: &quot;RealDiv&quot;\\n  input: &quot;optimize/gradients/loss/covariance_loss/MatrixSetDiag_grad/tuple/control_dependency&quot;\\n  input: &quot;loss/covariance_loss/Cast&quot;\\n  attr {\\n    key: &quot;T&quot;\\n    value {\\n      type: DT_FLOAT\\n    }\\n  }\\n}\\nnode {\\n  name: &quot;optimize/gradients/loss/covariance_loss/truediv_grad/Sum&quot;\\n  op: &quot;Sum&quot;\\n  input: &quot;optimize/gradients/loss/covariance_loss/truediv_grad/RealDiv&quot;\\n  input: &quot;optimize/gradients/loss/covariance_loss/truediv_grad/BroadcastGradientArgs&quot;\\n  attr {\\n    key: &quot;T&quot;\\n    value {\\n      type: DT_FLOAT\\n    }\\n  }\\n  attr {\\n    key: &quot;Tidx&quot;\\n    value {\\n      type: DT_INT32\\n    }\\n  }\\n  attr {\\n    key: &quot;keep_dims&quot;\\n    value {\\n      b: false\\n    }\\n  }\\n}\\nnode {\\n  name: &quot;optimize/gradients/loss/covariance_loss/truediv_grad/Reshape&quot;\\n  op: &quot;Reshape&quot;\\n  input: &quot;optimize/gradients/loss/covariance_loss/truediv_grad/Sum&quot;\\n  input: &quot;optimize/gradients/loss/covariance_loss/truediv_grad/Shape&quot;\\n  attr {\\n    key: &quot;T&quot;\\n    value {\\n      type: DT_FLOAT\\n    }\\n  }\\n  attr {\\n    key: &quot;Tshape&quot;\\n    value {\\n      type: DT_INT32\\n    }\\n  }\\n}\\nnode {\\n  name: &quot;optimize/gradients/loss/covariance_loss/truediv_grad/Neg&quot;\\n  op: &quot;Neg&quot;\\n  input: &quot;loss/covariance_loss/MatMul&quot;\\n  attr {\\n    key: &quot;T&quot;\\n    value {\\n      type: DT_FLOAT\\n    }\\n  }\\n}\\nnode {\\n  name: &quot;optimize/gradients/loss/covariance_loss/truediv_grad/RealDiv_1&quot;\\n  op: &quot;RealDiv&quot;\\n  input: &quot;optimize/gradients/loss/covariance_loss/truediv_grad/Neg&quot;\\n  input: &quot;loss/covariance_loss/Cast&quot;\\n  attr {\\n    key: &quot;T&quot;\\n    value {\\n      type: DT_FLOAT\\n    }\\n  }\\n}\\nnode {\\n  name: &quot;optimize/gradients/loss/covariance_loss/truediv_grad/RealDiv_2&quot;\\n  op: &quot;RealDiv&quot;\\n  input: &quot;optimize/gradients/loss/covariance_loss/truediv_grad/RealDiv_1&quot;\\n  input: &quot;loss/covariance_loss/Cast&quot;\\n  attr {\\n    key: &quot;T&quot;\\n    value {\\n      type: DT_FLOAT\\n    }\\n  }\\n}\\nnode {\\n  name: &quot;optimize/gradients/loss/covariance_loss/truediv_grad/mul&quot;\\n  op: &quot;Mul&quot;\\n  input: &quot;optimize/gradients/loss/covariance_loss/MatrixSetDiag_grad/tuple/control_dependency&quot;\\n  input: &quot;optimize/gradients/loss/covariance_loss/truediv_grad/RealDiv_2&quot;\\n  attr {\\n    key: &quot;T&quot;\\n    value {\\n      type: DT_FLOAT\\n    }\\n  }\\n}\\nnode {\\n  name: &quot;optimize/gradients/loss/covariance_loss/truediv_grad/Sum_1&quot;\\n  op: &quot;Sum&quot;\\n  input: &quot;optimize/gradients/loss/covariance_loss/truediv_grad/mul&quot;\\n  input: &quot;optimize/gradients/loss/covariance_loss/truediv_grad/BroadcastGradientArgs:1&quot;\\n  attr {\\n    key: &quot;T&quot;\\n    value {\\n      type: DT_FLOAT\\n    }\\n  }\\n  attr {\\n    key: &quot;Tidx&quot;\\n    value {\\n      type: DT_INT32\\n    }\\n  }\\n  attr {\\n    key: &quot;keep_dims&quot;\\n    value {\\n      b: false\\n    }\\n  }\\n}\\nnode {\\n  name: &quot;optimize/gradients/loss/covariance_loss/truediv_grad/Reshape_1&quot;\\n  op: &quot;Reshape&quot;\\n  input: &quot;optimize/gradients/loss/covariance_loss/truediv_grad/Sum_1&quot;\\n  input: &quot;optimize/gradients/loss/covariance_loss/truediv_grad/Shape_1&quot;\\n  attr {\\n    key: &quot;T&quot;\\n    value {\\n      type: DT_FLOAT\\n    }\\n  }\\n  attr {\\n    key: &quot;Tshape&quot;\\n    value {\\n      type: DT_INT32\\n    }\\n  }\\n}\\nnode {\\n  name: &quot;optimize/gradients/loss/covariance_loss/truediv_grad/tuple/group_deps&quot;\\n  op: &quot;NoOp&quot;\\n  input: &quot;^optimize/gradients/loss/covariance_loss/truediv_grad/Reshape&quot;\\n  input: &quot;^optimize/gradients/loss/covariance_loss/truediv_grad/Reshape_1&quot;\\n}\\nnode {\\n  name: &quot;optimize/gradients/loss/covariance_loss/truediv_grad/tuple/control_dependency&quot;\\n  op: &quot;Identity&quot;\\n  input: &quot;optimize/gradients/loss/covariance_loss/truediv_grad/Reshape&quot;\\n  input: &quot;^optimize/gradients/loss/covariance_loss/truediv_grad/tuple/group_deps&quot;\\n  attr {\\n    key: &quot;T&quot;\\n    value {\\n      type: DT_FLOAT\\n    }\\n  }\\n  attr {\\n    key: &quot;_class&quot;\\n    value {\\n      list {\\n        s: &quot;loc:@optimize/gradients/loss/covariance_loss/truediv_grad/Reshape&quot;\\n      }\\n    }\\n  }\\n}\\nnode {\\n  name: &quot;optimize/gradients/loss/covariance_loss/truediv_grad/tuple/control_dependency_1&quot;\\n  op: &quot;Identity&quot;\\n  input: &quot;optimize/gradients/loss/covariance_loss/truediv_grad/Reshape_1&quot;\\n  input: &quot;^optimize/gradients/loss/covariance_loss/truediv_grad/tuple/group_deps&quot;\\n  attr {\\n    key: &quot;T&quot;\\n    value {\\n      type: DT_FLOAT\\n    }\\n  }\\n  attr {\\n    key: &quot;_class&quot;\\n    value {\\n      list {\\n        s: &quot;loc:@optimize/gradients/loss/covariance_loss/truediv_grad/Reshape_1&quot;\\n      }\\n    }\\n  }\\n}\\nnode {\\n  name: &quot;optimize/gradients/embedding_loss/add_grad/Shape&quot;\\n  op: &quot;Shape&quot;\\n  input: &quot;embedding_loss/sub&quot;\\n  attr {\\n    key: &quot;T&quot;\\n    value {\\n      type: DT_FLOAT\\n    }\\n  }\\n  attr {\\n    key: &quot;out_type&quot;\\n    value {\\n      type: DT_INT32\\n    }\\n  }\\n}\\nnode {\\n  name: &quot;optimize/gradients/embedding_loss/add_grad/Shape_1&quot;\\n  op: &quot;Const&quot;\\n  attr {\\n    key: &quot;dtype&quot;\\n    value {\\n      type: DT_INT32\\n    }\\n  }\\n  attr {\\n    key: &quot;value&quot;\\n    value {\\n      tensor {\\n        dtype: DT_INT32\\n        tensor_shape {\\n          dim {\\n          }\\n        }\\n      }\\n    }\\n  }\\n}\\nnode {\\n  name: &quot;optimize/gradients/embedding_loss/add_grad/BroadcastGradientArgs&quot;\\n  op: &quot;BroadcastGradientArgs&quot;\\n  input: &quot;optimize/gradients/embedding_loss/add_grad/Shape&quot;\\n  input: &quot;optimize/gradients/embedding_loss/add_grad/Shape_1&quot;\\n  attr {\\n    key: &quot;T&quot;\\n    value {\\n      type: DT_INT32\\n    }\\n  }\\n}\\nnode {\\n  name: &quot;optimize/gradients/embedding_loss/add_grad/Sum&quot;\\n  op: &quot;Sum&quot;\\n  input: &quot;optimize/gradients/embedding_loss/pair_loss_grad/tuple/control_dependency&quot;\\n  input: &quot;optimize/gradients/embedding_loss/add_grad/BroadcastGradientArgs&quot;\\n  attr {\\n    key: &quot;T&quot;\\n    value {\\n      type: DT_FLOAT\\n    }\\n  }\\n  attr {\\n    key: &quot;Tidx&quot;\\n    value {\\n      type: DT_INT32\\n    }\\n  }\\n  attr {\\n    key: &quot;keep_dims&quot;\\n    value {\\n      b: false\\n    }\\n  }\\n}\\nnode {\\n  name: &quot;optimize/gradients/embedding_loss/add_grad/Reshape&quot;\\n  op: &quot;Reshape&quot;\\n  input: &quot;optimize/gradients/embedding_loss/add_grad/Sum&quot;\\n  input: &quot;optimize/gradients/embedding_loss/add_grad/Shape&quot;\\n  attr {\\n    key: &quot;T&quot;\\n    value {\\n      type: DT_FLOAT\\n    }\\n  }\\n  attr {\\n    key: &quot;Tshape&quot;\\n    value {\\n      type: DT_INT32\\n    }\\n  }\\n}\\nnode {\\n  name: &quot;optimize/gradients/embedding_loss/add_grad/Sum_1&quot;\\n  op: &quot;Sum&quot;\\n  input: &quot;optimize/gradients/embedding_loss/pair_loss_grad/tuple/control_dependency&quot;\\n  input: &quot;optimize/gradients/embedding_loss/add_grad/BroadcastGradientArgs:1&quot;\\n  attr {\\n    key: &quot;T&quot;\\n    value {\\n      type: DT_FLOAT\\n    }\\n  }\\n  attr {\\n    key: &quot;Tidx&quot;\\n    value {\\n      type: DT_INT32\\n    }\\n  }\\n  attr {\\n    key: &quot;keep_dims&quot;\\n    value {\\n      b: false\\n    }\\n  }\\n}\\nnode {\\n  name: &quot;optimize/gradients/embedding_loss/add_grad/Reshape_1&quot;\\n  op: &quot;Reshape&quot;\\n  input: &quot;optimize/gradients/embedding_loss/add_grad/Sum_1&quot;\\n  input: &quot;optimize/gradients/embedding_loss/add_grad/Shape_1&quot;\\n  attr {\\n    key: &quot;T&quot;\\n    value {\\n      type: DT_FLOAT\\n    }\\n  }\\n  attr {\\n    key: &quot;Tshape&quot;\\n    value {\\n      type: DT_INT32\\n    }\\n  }\\n}\\nnode {\\n  name: &quot;optimize/gradients/embedding_loss/add_grad/tuple/group_deps&quot;\\n  op: &quot;NoOp&quot;\\n  input: &quot;^optimize/gradients/embedding_loss/add_grad/Reshape&quot;\\n  input: &quot;^optimize/gradients/embedding_loss/add_grad/Reshape_1&quot;\\n}\\nnode {\\n  name: &quot;optimize/gradients/embedding_loss/add_grad/tuple/control_dependency&quot;\\n  op: &quot;Identity&quot;\\n  input: &quot;optimize/gradients/embedding_loss/add_grad/Reshape&quot;\\n  input: &quot;^optimize/gradients/embedding_loss/add_grad/tuple/group_deps&quot;\\n  attr {\\n    key: &quot;T&quot;\\n    value {\\n      type: DT_FLOAT\\n    }\\n  }\\n  attr {\\n    key: &quot;_class&quot;\\n    value {\\n      list {\\n        s: &quot;loc:@optimize/gradients/embedding_loss/add_grad/Reshape&quot;\\n      }\\n    }\\n  }\\n}\\nnode {\\n  name: &quot;optimize/gradients/embedding_loss/add_grad/tuple/control_dependency_1&quot;\\n  op: &quot;Identity&quot;\\n  input: &quot;optimize/gradients/embedding_loss/add_grad/Reshape_1&quot;\\n  input: &quot;^optimize/gradients/embedding_loss/add_grad/tuple/group_deps&quot;\\n  attr {\\n    key: &quot;T&quot;\\n    value {\\n      type: DT_FLOAT\\n    }\\n  }\\n  attr {\\n    key: &quot;_class&quot;\\n    value {\\n      list {\\n        s: &quot;loc:@optimize/gradients/embedding_loss/add_grad/Reshape_1&quot;\\n      }\\n    }\\n  }\\n}\\nnode {\\n  name: &quot;optimize/gradients/feature_loss/Sum_grad/Shape&quot;\\n  op: &quot;Const&quot;\\n  attr {\\n    key: &quot;dtype&quot;\\n    value {\\n      type: DT_INT32\\n    }\\n  }\\n  attr {\\n    key: &quot;value&quot;\\n    value {\\n      tensor {\\n        dtype: DT_INT32\\n        tensor_shape {\\n          dim {\\n            size: 2\\n          }\\n        }\\n        tensor_content: &quot;we\\\\000\\\\000d\\\\000\\\\000\\\\000&quot;\\n      }\\n    }\\n  }\\n}\\nnode {\\n  name: &quot;optimize/gradients/feature_loss/Sum_grad/Size&quot;\\n  op: &quot;Const&quot;\\n  attr {\\n    key: &quot;_class&quot;\\n    value {\\n      list {\\n        s: &quot;loc:@optimize/gradients/feature_loss/Sum_grad/Shape&quot;\\n      }\\n    }\\n  }\\n  attr {\\n    key: &quot;dtype&quot;\\n    value {\\n      type: DT_INT32\\n    }\\n  }\\n  attr {\\n    key: &quot;value&quot;\\n    value {\\n      tensor {\\n        dtype: DT_INT32\\n        tensor_shape {\\n        }\\n        int_val: 2\\n      }\\n    }\\n  }\\n}\\nnode {\\n  name: &quot;optimize/gradients/feature_loss/Sum_grad/add&quot;\\n  op: &quot;Add&quot;\\n  input: &quot;feature_loss/Sum/reduction_indices&quot;\\n  input: &quot;optimize/gradients/feature_loss/Sum_grad/Size&quot;\\n  attr {\\n    key: &quot;T&quot;\\n    value {\\n      type: DT_INT32\\n    }\\n  }\\n  attr {\\n    key: &quot;_class&quot;\\n    value {\\n      list {\\n        s: &quot;loc:@optimize/gradients/feature_loss/Sum_grad/Shape&quot;\\n      }\\n    }\\n  }\\n}\\nnode {\\n  name: &quot;optimize/gradients/feature_loss/Sum_grad/mod&quot;\\n  op: &quot;FloorMod&quot;\\n  input: &quot;optimize/gradients/feature_loss/Sum_grad/add&quot;\\n  input: &quot;optimize/gradients/feature_loss/Sum_grad/Size&quot;\\n  attr {\\n    key: &quot;T&quot;\\n    value {\\n      type: DT_INT32\\n    }\\n  }\\n  attr {\\n    key: &quot;_class&quot;\\n    value {\\n      list {\\n        s: &quot;loc:@optimize/gradients/feature_loss/Sum_grad/Shape&quot;\\n      }\\n    }\\n  }\\n}\\nnode {\\n  name: &quot;optimize/gradients/feature_loss/Sum_grad/Shape_1&quot;\\n  op: &quot;Const&quot;\\n  attr {\\n    key: &quot;_class&quot;\\n    value {\\n      list {\\n        s: &quot;loc:@optimize/gradients/feature_loss/Sum_grad/Shape&quot;\\n      }\\n    }\\n  }\\n  attr {\\n    key: &quot;dtype&quot;\\n    value {\\n      type: DT_INT32\\n    }\\n  }\\n  attr {\\n    key: &quot;value&quot;\\n    value {\\n      tensor {\\n        dtype: DT_INT32\\n        tensor_shape {\\n          dim {\\n          }\\n        }\\n      }\\n    }\\n  }\\n}\\nnode {\\n  name: &quot;optimize/gradients/feature_loss/Sum_grad/range/start&quot;\\n  op: &quot;Const&quot;\\n  attr {\\n    key: &quot;_class&quot;\\n    value {\\n      list {\\n        s: &quot;loc:@optimize/gradients/feature_loss/Sum_grad/Shape&quot;\\n      }\\n    }\\n  }\\n  attr {\\n    key: &quot;dtype&quot;\\n    value {\\n      type: DT_INT32\\n    }\\n  }\\n  attr {\\n    key: &quot;value&quot;\\n    value {\\n      tensor {\\n        dtype: DT_INT32\\n        tensor_shape {\\n        }\\n        int_val: 0\\n      }\\n    }\\n  }\\n}\\nnode {\\n  name: &quot;optimize/gradients/feature_loss/Sum_grad/range/delta&quot;\\n  op: &quot;Const&quot;\\n  attr {\\n    key: &quot;_class&quot;\\n    value {\\n      list {\\n        s: &quot;loc:@optimize/gradients/feature_loss/Sum_grad/Shape&quot;\\n      }\\n    }\\n  }\\n  attr {\\n    key: &quot;dtype&quot;\\n    value {\\n      type: DT_INT32\\n    }\\n  }\\n  attr {\\n    key: &quot;value&quot;\\n    value {\\n      tensor {\\n        dtype: DT_INT32\\n        tensor_shape {\\n        }\\n        int_val: 1\\n      }\\n    }\\n  }\\n}\\nnode {\\n  name: &quot;optimize/gradients/feature_loss/Sum_grad/range&quot;\\n  op: &quot;Range&quot;\\n  input: &quot;optimize/gradients/feature_loss/Sum_grad/range/start&quot;\\n  input: &quot;optimize/gradients/feature_loss/Sum_grad/Size&quot;\\n  input: &quot;optimize/gradients/feature_loss/Sum_grad/range/delta&quot;\\n  attr {\\n    key: &quot;Tidx&quot;\\n    value {\\n      type: DT_INT32\\n    }\\n  }\\n  attr {\\n    key: &quot;_class&quot;\\n    value {\\n      list {\\n        s: &quot;loc:@optimize/gradients/feature_loss/Sum_grad/Shape&quot;\\n      }\\n    }\\n  }\\n}\\nnode {\\n  name: &quot;optimize/gradients/feature_loss/Sum_grad/Fill/value&quot;\\n  op: &quot;Const&quot;\\n  attr {\\n    key: &quot;_class&quot;\\n    value {\\n      list {\\n        s: &quot;loc:@optimize/gradients/feature_loss/Sum_grad/Shape&quot;\\n      }\\n    }\\n  }\\n  attr {\\n    key: &quot;dtype&quot;\\n    value {\\n      type: DT_INT32\\n    }\\n  }\\n  attr {\\n    key: &quot;value&quot;\\n    value {\\n      tensor {\\n        dtype: DT_INT32\\n        tensor_shape {\\n        }\\n        int_val: 1\\n      }\\n    }\\n  }\\n}\\nnode {\\n  name: &quot;optimize/gradients/feature_loss/Sum_grad/Fill&quot;\\n  op: &quot;Fill&quot;\\n  input: &quot;optimize/gradients/feature_loss/Sum_grad/Shape_1&quot;\\n  input: &quot;optimize/gradients/feature_loss/Sum_grad/Fill/value&quot;\\n  attr {\\n    key: &quot;T&quot;\\n    value {\\n      type: DT_INT32\\n    }\\n  }\\n  attr {\\n    key: &quot;_class&quot;\\n    value {\\n      list {\\n        s: &quot;loc:@optimize/gradients/feature_loss/Sum_grad/Shape&quot;\\n      }\\n    }\\n  }\\n  attr {\\n    key: &quot;index_type&quot;\\n    value {\\n      type: DT_INT32\\n    }\\n  }\\n}\\nnode {\\n  name: &quot;optimize/gradients/feature_loss/Sum_grad/DynamicStitch&quot;\\n  op: &quot;DynamicStitch&quot;\\n  input: &quot;optimize/gradients/feature_loss/Sum_grad/range&quot;\\n  input: &quot;optimize/gradients/feature_loss/Sum_grad/mod&quot;\\n  input: &quot;optimize/gradients/feature_loss/Sum_grad/Shape&quot;\\n  input: &quot;optimize/gradients/feature_loss/Sum_grad/Fill&quot;\\n  attr {\\n    key: &quot;N&quot;\\n    value {\\n      i: 2\\n    }\\n  }\\n  attr {\\n    key: &quot;T&quot;\\n    value {\\n      type: DT_INT32\\n    }\\n  }\\n  attr {\\n    key: &quot;_class&quot;\\n    value {\\n      list {\\n        s: &quot;loc:@optimize/gradients/feature_loss/Sum_grad/Shape&quot;\\n      }\\n    }\\n  }\\n}\\nnode {\\n  name: &quot;optimize/gradients/feature_loss/Sum_grad/Maximum/y&quot;\\n  op: &quot;Const&quot;\\n  attr {\\n    key: &quot;_class&quot;\\n    value {\\n      list {\\n        s: &quot;loc:@optimize/gradients/feature_loss/Sum_grad/Shape&quot;\\n      }\\n    }\\n  }\\n  attr {\\n    key: &quot;dtype&quot;\\n    value {\\n      type: DT_INT32\\n    }\\n  }\\n  attr {\\n    key: &quot;value&quot;\\n    value {\\n      tensor {\\n        dtype: DT_INT32\\n        tensor_shape {\\n        }\\n        int_val: 1\\n      }\\n    }\\n  }\\n}\\nnode {\\n  name: &quot;optimize/gradients/feature_loss/Sum_grad/Maximum&quot;\\n  op: &quot;Maximum&quot;\\n  input: &quot;optimize/gradients/feature_loss/Sum_grad/DynamicStitch&quot;\\n  input: &quot;optimize/gradients/feature_loss/Sum_grad/Maximum/y&quot;\\n  attr {\\n    key: &quot;T&quot;\\n    value {\\n      type: DT_INT32\\n    }\\n  }\\n  attr {\\n    key: &quot;_class&quot;\\n    value {\\n      list {\\n        s: &quot;loc:@optimize/gradients/feature_loss/Sum_grad/Shape&quot;\\n      }\\n    }\\n  }\\n}\\nnode {\\n  name: &quot;optimize/gradients/feature_loss/Sum_grad/floordiv&quot;\\n  op: &quot;FloorDiv&quot;\\n  input: &quot;optimize/gradients/feature_loss/Sum_grad/Shape&quot;\\n  input: &quot;optimize/gradients/feature_loss/Sum_grad/Maximum&quot;\\n  attr {\\n    key: &quot;T&quot;\\n    value {\\n      type: DT_INT32\\n    }\\n  }\\n  attr {\\n    key: &quot;_class&quot;\\n    value {\\n      list {\\n        s: &quot;loc:@optimize/gradients/feature_loss/Sum_grad/Shape&quot;\\n      }\\n    }\\n  }\\n}\\nnode {\\n  name: &quot;optimize/gradients/feature_loss/Sum_grad/Reshape&quot;\\n  op: &quot;Reshape&quot;\\n  input: &quot;optimize/gradients/feature_loss/feature_loss_grad/Tile&quot;\\n  input: &quot;optimize/gradients/feature_loss/Sum_grad/DynamicStitch&quot;\\n  attr {\\n    key: &quot;T&quot;\\n    value {\\n      type: DT_FLOAT\\n    }\\n  }\\n  attr {\\n    key: &quot;Tshape&quot;\\n    value {\\n      type: DT_INT32\\n    }\\n  }\\n}\\nnode {\\n  name: &quot;optimize/gradients/feature_loss/Sum_grad/Tile&quot;\\n  op: &quot;Tile&quot;\\n  input: &quot;optimize/gradients/feature_loss/Sum_grad/Reshape&quot;\\n  input: &quot;optimize/gradients/feature_loss/Sum_grad/floordiv&quot;\\n  attr {\\n    key: &quot;T&quot;\\n    value {\\n      type: DT_FLOAT\\n    }\\n  }\\n  attr {\\n    key: &quot;Tmultiples&quot;\\n    value {\\n      type: DT_INT32\\n    }\\n  }\\n}\\nnode {\\n  name: &quot;optimize/gradients/loss/covariance_loss/MatMul_grad/MatMul&quot;\\n  op: &quot;MatMul&quot;\\n  input: &quot;loss/covariance_loss/sub&quot;\\n  input: &quot;optimize/gradients/loss/covariance_loss/truediv_grad/tuple/control_dependency&quot;\\n  attr {\\n    key: &quot;T&quot;\\n    value {\\n      type: DT_FLOAT\\n    }\\n  }\\n  attr {\\n    key: &quot;transpose_a&quot;\\n    value {\\n      b: false\\n    }\\n  }\\n  attr {\\n    key: &quot;transpose_b&quot;\\n    value {\\n      b: true\\n    }\\n  }\\n}\\nnode {\\n  name: &quot;optimize/gradients/loss/covariance_loss/MatMul_grad/MatMul_1&quot;\\n  op: &quot;MatMul&quot;\\n  input: &quot;loss/covariance_loss/sub&quot;\\n  input: &quot;optimize/gradients/loss/covariance_loss/truediv_grad/tuple/control_dependency&quot;\\n  attr {\\n    key: &quot;T&quot;\\n    value {\\n      type: DT_FLOAT\\n    }\\n  }\\n  attr {\\n    key: &quot;transpose_a&quot;\\n    value {\\n      b: false\\n    }\\n  }\\n  attr {\\n    key: &quot;transpose_b&quot;\\n    value {\\n      b: false\\n    }\\n  }\\n}\\nnode {\\n  name: &quot;optimize/gradients/loss/covariance_loss/MatMul_grad/tuple/group_deps&quot;\\n  op: &quot;NoOp&quot;\\n  input: &quot;^optimize/gradients/loss/covariance_loss/MatMul_grad/MatMul&quot;\\n  input: &quot;^optimize/gradients/loss/covariance_loss/MatMul_grad/MatMul_1&quot;\\n}\\nnode {\\n  name: &quot;optimize/gradients/loss/covariance_loss/MatMul_grad/tuple/control_dependency&quot;\\n  op: &quot;Identity&quot;\\n  input: &quot;optimize/gradients/loss/covariance_loss/MatMul_grad/MatMul&quot;\\n  input: &quot;^optimize/gradients/loss/covariance_loss/MatMul_grad/tuple/group_deps&quot;\\n  attr {\\n    key: &quot;T&quot;\\n    value {\\n      type: DT_FLOAT\\n    }\\n  }\\n  attr {\\n    key: &quot;_class&quot;\\n    value {\\n      list {\\n        s: &quot;loc:@optimize/gradients/loss/covariance_loss/MatMul_grad/MatMul&quot;\\n      }\\n    }\\n  }\\n}\\nnode {\\n  name: &quot;optimize/gradients/loss/covariance_loss/MatMul_grad/tuple/control_dependency_1&quot;\\n  op: &quot;Identity&quot;\\n  input: &quot;optimize/gradients/loss/covariance_loss/MatMul_grad/MatMul_1&quot;\\n  input: &quot;^optimize/gradients/loss/covariance_loss/MatMul_grad/tuple/group_deps&quot;\\n  attr {\\n    key: &quot;T&quot;\\n    value {\\n      type: DT_FLOAT\\n    }\\n  }\\n  attr {\\n    key: &quot;_class&quot;\\n    value {\\n      list {\\n        s: &quot;loc:@optimize/gradients/loss/covariance_loss/MatMul_grad/MatMul_1&quot;\\n      }\\n    }\\n  }\\n}\\nnode {\\n  name: &quot;optimize/gradients/embedding_loss/sub_grad/Shape&quot;\\n  op: &quot;Shape&quot;\\n  input: &quot;embedding_loss/pos_distances&quot;\\n  attr {\\n    key: &quot;T&quot;\\n    value {\\n      type: DT_FLOAT\\n    }\\n  }\\n  attr {\\n    key: &quot;out_type&quot;\\n    value {\\n      type: DT_INT32\\n    }\\n  }\\n}\\nnode {\\n  name: &quot;optimize/gradients/embedding_loss/sub_grad/Shape_1&quot;\\n  op: &quot;Shape&quot;\\n  input: &quot;embedding_loss/closest_negative_distances&quot;\\n  attr {\\n    key: &quot;T&quot;\\n    value {\\n      type: DT_FLOAT\\n    }\\n  }\\n  attr {\\n    key: &quot;out_type&quot;\\n    value {\\n      type: DT_INT32\\n    }\\n  }\\n}\\nnode {\\n  name: &quot;optimize/gradients/embedding_loss/sub_grad/BroadcastGradientArgs&quot;\\n  op: &quot;BroadcastGradientArgs&quot;\\n  input: &quot;optimize/gradients/embedding_loss/sub_grad/Shape&quot;\\n  input: &quot;optimize/gradients/embedding_loss/sub_grad/Shape_1&quot;\\n  attr {\\n    key: &quot;T&quot;\\n    value {\\n      type: DT_INT32\\n    }\\n  }\\n}\\nnode {\\n  name: &quot;optimize/gradients/embedding_loss/sub_grad/Sum&quot;\\n  op: &quot;Sum&quot;\\n  input: &quot;optimize/gradients/embedding_loss/add_grad/tuple/control_dependency&quot;\\n  input: &quot;optimize/gradients/embedding_loss/sub_grad/BroadcastGradientArgs&quot;\\n  attr {\\n    key: &quot;T&quot;\\n    value {\\n      type: DT_FLOAT\\n    }\\n  }\\n  attr {\\n    key: &quot;Tidx&quot;\\n    value {\\n      type: DT_INT32\\n    }\\n  }\\n  attr {\\n    key: &quot;keep_dims&quot;\\n    value {\\n      b: false\\n    }\\n  }\\n}\\nnode {\\n  name: &quot;optimize/gradients/embedding_loss/sub_grad/Reshape&quot;\\n  op: &quot;Reshape&quot;\\n  input: &quot;optimize/gradients/embedding_loss/sub_grad/Sum&quot;\\n  input: &quot;optimize/gradients/embedding_loss/sub_grad/Shape&quot;\\n  attr {\\n    key: &quot;T&quot;\\n    value {\\n      type: DT_FLOAT\\n    }\\n  }\\n  attr {\\n    key: &quot;Tshape&quot;\\n    value {\\n      type: DT_INT32\\n    }\\n  }\\n}\\nnode {\\n  name: &quot;optimize/gradients/embedding_loss/sub_grad/Sum_1&quot;\\n  op: &quot;Sum&quot;\\n  input: &quot;optimize/gradients/embedding_loss/add_grad/tuple/control_dependency&quot;\\n  input: &quot;optimize/gradients/embedding_loss/sub_grad/BroadcastGradientArgs:1&quot;\\n  attr {\\n    key: &quot;T&quot;\\n    value {\\n      type: DT_FLOAT\\n    }\\n  }\\n  attr {\\n    key: &quot;Tidx&quot;\\n    value {\\n      type: DT_INT32\\n    }\\n  }\\n  attr {\\n    key: &quot;keep_dims&quot;\\n    value {\\n      b: false\\n    }\\n  }\\n}\\nnode {\\n  name: &quot;optimize/gradients/embedding_loss/sub_grad/Neg&quot;\\n  op: &quot;Neg&quot;\\n  input: &quot;optimize/gradients/embedding_loss/sub_grad/Sum_1&quot;\\n  attr {\\n    key: &quot;T&quot;\\n    value {\\n      type: DT_FLOAT\\n    }\\n  }\\n}\\nnode {\\n  name: &quot;optimize/gradients/embedding_loss/sub_grad/Reshape_1&quot;\\n  op: &quot;Reshape&quot;\\n  input: &quot;optimize/gradients/embedding_loss/sub_grad/Neg&quot;\\n  input: &quot;optimize/gradients/embedding_loss/sub_grad/Shape_1&quot;\\n  attr {\\n    key: &quot;T&quot;\\n    value {\\n      type: DT_FLOAT\\n    }\\n  }\\n  attr {\\n    key: &quot;Tshape&quot;\\n    value {\\n      type: DT_INT32\\n    }\\n  }\\n}\\nnode {\\n  name: &quot;optimize/gradients/embedding_loss/sub_grad/tuple/group_deps&quot;\\n  op: &quot;NoOp&quot;\\n  input: &quot;^optimize/gradients/embedding_loss/sub_grad/Reshape&quot;\\n  input: &quot;^optimize/gradients/embedding_loss/sub_grad/Reshape_1&quot;\\n}\\nnode {\\n  name: &quot;optimize/gradients/embedding_loss/sub_grad/tuple/control_dependency&quot;\\n  op: &quot;Identity&quot;\\n  input: &quot;optimize/gradients/embedding_loss/sub_grad/Reshape&quot;\\n  input: &quot;^optimize/gradients/embedding_loss/sub_grad/tuple/group_deps&quot;\\n  attr {\\n    key: &quot;T&quot;\\n    value {\\n      type: DT_FLOAT\\n    }\\n  }\\n  attr {\\n    key: &quot;_class&quot;\\n    value {\\n      list {\\n        s: &quot;loc:@optimize/gradients/embedding_loss/sub_grad/Reshape&quot;\\n      }\\n    }\\n  }\\n}\\nnode {\\n  name: &quot;optimize/gradients/embedding_loss/sub_grad/tuple/control_dependency_1&quot;\\n  op: &quot;Identity&quot;\\n  input: &quot;optimize/gradients/embedding_loss/sub_grad/Reshape_1&quot;\\n  input: &quot;^optimize/gradients/embedding_loss/sub_grad/tuple/group_deps&quot;\\n  attr {\\n    key: &quot;T&quot;\\n    value {\\n      type: DT_FLOAT\\n    }\\n  }\\n  attr {\\n    key: &quot;_class&quot;\\n    value {\\n      list {\\n        s: &quot;loc:@optimize/gradients/embedding_loss/sub_grad/Reshape_1&quot;\\n      }\\n    }\\n  }\\n}\\nnode {\\n  name: &quot;optimize/gradients/feature_loss/SquaredDifference_grad/Shape&quot;\\n  op: &quot;Const&quot;\\n  attr {\\n    key: &quot;dtype&quot;\\n    value {\\n      type: DT_INT32\\n    }\\n  }\\n  attr {\\n    key: &quot;value&quot;\\n    value {\\n      tensor {\\n        dtype: DT_INT32\\n        tensor_shape {\\n          dim {\\n            size: 2\\n          }\\n        }\\n        tensor_content: &quot;we\\\\000\\\\000d\\\\000\\\\000\\\\000&quot;\\n      }\\n    }\\n  }\\n}\\nnode {\\n  name: &quot;optimize/gradients/feature_loss/SquaredDifference_grad/Shape_1&quot;\\n  op: &quot;Const&quot;\\n  attr {\\n    key: &quot;dtype&quot;\\n    value {\\n      type: DT_INT32\\n    }\\n  }\\n  attr {\\n    key: &quot;value&quot;\\n    value {\\n      tensor {\\n        dtype: DT_INT32\\n        tensor_shape {\\n          dim {\\n            size: 2\\n          }\\n        }\\n        tensor_content: &quot;we\\\\000\\\\000d\\\\000\\\\000\\\\000&quot;\\n      }\\n    }\\n  }\\n}\\nnode {\\n  name: &quot;optimize/gradients/feature_loss/SquaredDifference_grad/BroadcastGradientArgs&quot;\\n  op: &quot;BroadcastGradientArgs&quot;\\n  input: &quot;optimize/gradients/feature_loss/SquaredDifference_grad/Shape&quot;\\n  input: &quot;optimize/gradients/feature_loss/SquaredDifference_grad/Shape_1&quot;\\n  attr {\\n    key: &quot;T&quot;\\n    value {\\n      type: DT_INT32\\n    }\\n  }\\n}\\nnode {\\n  name: &quot;optimize/gradients/feature_loss/SquaredDifference_grad/scalar&quot;\\n  op: &quot;Const&quot;\\n  input: &quot;^optimize/gradients/feature_loss/Sum_grad/Tile&quot;\\n  attr {\\n    key: &quot;dtype&quot;\\n    value {\\n      type: DT_FLOAT\\n    }\\n  }\\n  attr {\\n    key: &quot;value&quot;\\n    value {\\n      tensor {\\n        dtype: DT_FLOAT\\n        tensor_shape {\\n        }\\n        float_val: 2.0\\n      }\\n    }\\n  }\\n}\\nnode {\\n  name: &quot;optimize/gradients/feature_loss/SquaredDifference_grad/mul&quot;\\n  op: &quot;Mul&quot;\\n  input: &quot;optimize/gradients/feature_loss/SquaredDifference_grad/scalar&quot;\\n  input: &quot;optimize/gradients/feature_loss/Sum_grad/Tile&quot;\\n  attr {\\n    key: &quot;T&quot;\\n    value {\\n      type: DT_FLOAT\\n    }\\n  }\\n}\\nnode {\\n  name: &quot;optimize/gradients/feature_loss/SquaredDifference_grad/sub&quot;\\n  op: &quot;Sub&quot;\\n  input: &quot;item_embeddings/Variable/read&quot;\\n  input: &quot;feature_loss/feature_projection/feature_projection&quot;\\n  input: &quot;^optimize/gradients/feature_loss/Sum_grad/Tile&quot;\\n  attr {\\n    key: &quot;T&quot;\\n    value {\\n      type: DT_FLOAT\\n    }\\n  }\\n}\\nnode {\\n  name: &quot;optimize/gradients/feature_loss/SquaredDifference_grad/mul_1&quot;\\n  op: &quot;Mul&quot;\\n  input: &quot;optimize/gradients/feature_loss/SquaredDifference_grad/mul&quot;\\n  input: &quot;optimize/gradients/feature_loss/SquaredDifference_grad/sub&quot;\\n  attr {\\n    key: &quot;T&quot;\\n    value {\\n      type: DT_FLOAT\\n    }\\n  }\\n}\\nnode {\\n  name: &quot;optimize/gradients/feature_loss/SquaredDifference_grad/Sum&quot;\\n  op: &quot;Sum&quot;\\n  input: &quot;optimize/gradients/feature_loss/SquaredDifference_grad/mul_1&quot;\\n  input: &quot;optimize/gradients/feature_loss/SquaredDifference_grad/BroadcastGradientArgs&quot;\\n  attr {\\n    key: &quot;T&quot;\\n    value {\\n      type: DT_FLOAT\\n    }\\n  }\\n  attr {\\n    key: &quot;Tidx&quot;\\n    value {\\n      type: DT_INT32\\n    }\\n  }\\n  attr {\\n    key: &quot;keep_dims&quot;\\n    value {\\n      b: false\\n    }\\n  }\\n}\\nnode {\\n  name: &quot;optimize/gradients/feature_loss/SquaredDifference_grad/Reshape&quot;\\n  op: &quot;Reshape&quot;\\n  input: &quot;optimize/gradients/feature_loss/SquaredDifference_grad/Sum&quot;\\n  input: &quot;optimize/gradients/feature_loss/SquaredDifference_grad/Shape&quot;\\n  attr {\\n    key: &quot;T&quot;\\n    value {\\n      type: DT_FLOAT\\n    }\\n  }\\n  attr {\\n    key: &quot;Tshape&quot;\\n    value {\\n      type: DT_INT32\\n    }\\n  }\\n}\\nnode {\\n  name: &quot;optimize/gradients/feature_loss/SquaredDifference_grad/Sum_1&quot;\\n  op: &quot;Sum&quot;\\n  input: &quot;optimize/gradients/feature_loss/SquaredDifference_grad/mul_1&quot;\\n  input: &quot;optimize/gradients/feature_loss/SquaredDifference_grad/BroadcastGradientArgs:1&quot;\\n  attr {\\n    key: &quot;T&quot;\\n    value {\\n      type: DT_FLOAT\\n    }\\n  }\\n  attr {\\n    key: &quot;Tidx&quot;\\n    value {\\n      type: DT_INT32\\n    }\\n  }\\n  attr {\\n    key: &quot;keep_dims&quot;\\n    value {\\n      b: false\\n    }\\n  }\\n}\\nnode {\\n  name: &quot;optimize/gradients/feature_loss/SquaredDifference_grad/Reshape_1&quot;\\n  op: &quot;Reshape&quot;\\n  input: &quot;optimize/gradients/feature_loss/SquaredDifference_grad/Sum_1&quot;\\n  input: &quot;optimize/gradients/feature_loss/SquaredDifference_grad/Shape_1&quot;\\n  attr {\\n    key: &quot;T&quot;\\n    value {\\n      type: DT_FLOAT\\n    }\\n  }\\n  attr {\\n    key: &quot;Tshape&quot;\\n    value {\\n      type: DT_INT32\\n    }\\n  }\\n}\\nnode {\\n  name: &quot;optimize/gradients/feature_loss/SquaredDifference_grad/Neg&quot;\\n  op: &quot;Neg&quot;\\n  input: &quot;optimize/gradients/feature_loss/SquaredDifference_grad/Reshape_1&quot;\\n  attr {\\n    key: &quot;T&quot;\\n    value {\\n      type: DT_FLOAT\\n    }\\n  }\\n}\\nnode {\\n  name: &quot;optimize/gradients/feature_loss/SquaredDifference_grad/tuple/group_deps&quot;\\n  op: &quot;NoOp&quot;\\n  input: &quot;^optimize/gradients/feature_loss/SquaredDifference_grad/Neg&quot;\\n  input: &quot;^optimize/gradients/feature_loss/SquaredDifference_grad/Reshape&quot;\\n}\\nnode {\\n  name: &quot;optimize/gradients/feature_loss/SquaredDifference_grad/tuple/control_dependency&quot;\\n  op: &quot;Identity&quot;\\n  input: &quot;optimize/gradients/feature_loss/SquaredDifference_grad/Reshape&quot;\\n  input: &quot;^optimize/gradients/feature_loss/SquaredDifference_grad/tuple/group_deps&quot;\\n  attr {\\n    key: &quot;T&quot;\\n    value {\\n      type: DT_FLOAT\\n    }\\n  }\\n  attr {\\n    key: &quot;_class&quot;\\n    value {\\n      list {\\n        s: &quot;loc:@optimize/gradients/feature_loss/SquaredDifference_grad/Reshape&quot;\\n      }\\n    }\\n  }\\n}\\nnode {\\n  name: &quot;optimize/gradients/feature_loss/SquaredDifference_grad/tuple/control_dependency_1&quot;\\n  op: &quot;Identity&quot;\\n  input: &quot;optimize/gradients/feature_loss/SquaredDifference_grad/Neg&quot;\\n  input: &quot;^optimize/gradients/feature_loss/SquaredDifference_grad/tuple/group_deps&quot;\\n  attr {\\n    key: &quot;T&quot;\\n    value {\\n      type: DT_FLOAT\\n    }\\n  }\\n  attr {\\n    key: &quot;_class&quot;\\n    value {\\n      list {\\n        s: &quot;loc:@optimize/gradients/feature_loss/SquaredDifference_grad/Neg&quot;\\n      }\\n    }\\n  }\\n}\\nnode {\\n  name: &quot;optimize/gradients/AddN&quot;\\n  op: &quot;AddN&quot;\\n  input: &quot;optimize/gradients/loss/covariance_loss/MatMul_grad/tuple/control_dependency&quot;\\n  input: &quot;optimize/gradients/loss/covariance_loss/MatMul_grad/tuple/control_dependency_1&quot;\\n  attr {\\n    key: &quot;N&quot;\\n    value {\\n      i: 2\\n    }\\n  }\\n  attr {\\n    key: &quot;T&quot;\\n    value {\\n      type: DT_FLOAT\\n    }\\n  }\\n  attr {\\n    key: &quot;_class&quot;\\n    value {\\n      list {\\n        s: &quot;loc:@optimize/gradients/loss/covariance_loss/MatMul_grad/MatMul&quot;\\n      }\\n    }\\n  }\\n}\\nnode {\\n  name: &quot;optimize/gradients/loss/covariance_loss/sub_grad/Shape&quot;\\n  op: &quot;Const&quot;\\n  attr {\\n    key: &quot;dtype&quot;\\n    value {\\n      type: DT_INT32\\n    }\\n  }\\n  attr {\\n    key: &quot;value&quot;\\n    value {\\n      tensor {\\n        dtype: DT_INT32\\n        tensor_shape {\\n          dim {\\n            size: 2\\n          }\\n        }\\n        tensor_content: &quot;\\\\202\\\\204\\\\000\\\\000d\\\\000\\\\000\\\\000&quot;\\n      }\\n    }\\n  }\\n}\\nnode {\\n  name: &quot;optimize/gradients/loss/covariance_loss/sub_grad/Shape_1&quot;\\n  op: &quot;Const&quot;\\n  attr {\\n    key: &quot;dtype&quot;\\n    value {\\n      type: DT_INT32\\n    }\\n  }\\n  attr {\\n    key: &quot;value&quot;\\n    value {\\n      tensor {\\n        dtype: DT_INT32\\n        tensor_shape {\\n          dim {\\n            size: 1\\n          }\\n        }\\n        int_val: 100\\n      }\\n    }\\n  }\\n}\\nnode {\\n  name: &quot;optimize/gradients/loss/covariance_loss/sub_grad/BroadcastGradientArgs&quot;\\n  op: &quot;BroadcastGradientArgs&quot;\\n  input: &quot;optimize/gradients/loss/covariance_loss/sub_grad/Shape&quot;\\n  input: &quot;optimize/gradients/loss/covariance_loss/sub_grad/Shape_1&quot;\\n  attr {\\n    key: &quot;T&quot;\\n    value {\\n      type: DT_INT32\\n    }\\n  }\\n}\\nnode {\\n  name: &quot;optimize/gradients/loss/covariance_loss/sub_grad/Sum&quot;\\n  op: &quot;Sum&quot;\\n  input: &quot;optimize/gradients/AddN&quot;\\n  input: &quot;optimize/gradients/loss/covariance_loss/sub_grad/BroadcastGradientArgs&quot;\\n  attr {\\n    key: &quot;T&quot;\\n    value {\\n      type: DT_FLOAT\\n    }\\n  }\\n  attr {\\n    key: &quot;Tidx&quot;\\n    value {\\n      type: DT_INT32\\n    }\\n  }\\n  attr {\\n    key: &quot;keep_dims&quot;\\n    value {\\n      b: false\\n    }\\n  }\\n}\\nnode {\\n  name: &quot;optimize/gradients/loss/covariance_loss/sub_grad/Reshape&quot;\\n  op: &quot;Reshape&quot;\\n  input: &quot;optimize/gradients/loss/covariance_loss/sub_grad/Sum&quot;\\n  input: &quot;optimize/gradients/loss/covariance_loss/sub_grad/Shape&quot;\\n  attr {\\n    key: &quot;T&quot;\\n    value {\\n      type: DT_FLOAT\\n    }\\n  }\\n  attr {\\n    key: &quot;Tshape&quot;\\n    value {\\n      type: DT_INT32\\n    }\\n  }\\n}\\nnode {\\n  name: &quot;optimize/gradients/loss/covariance_loss/sub_grad/Sum_1&quot;\\n  op: &quot;Sum&quot;\\n  input: &quot;optimize/gradients/AddN&quot;\\n  input: &quot;optimize/gradients/loss/covariance_loss/sub_grad/BroadcastGradientArgs:1&quot;\\n  attr {\\n    key: &quot;T&quot;\\n    value {\\n      type: DT_FLOAT\\n    }\\n  }\\n  attr {\\n    key: &quot;Tidx&quot;\\n    value {\\n      type: DT_INT32\\n    }\\n  }\\n  attr {\\n    key: &quot;keep_dims&quot;\\n    value {\\n      b: false\\n    }\\n  }\\n}\\nnode {\\n  name: &quot;optimize/gradients/loss/covariance_loss/sub_grad/Neg&quot;\\n  op: &quot;Neg&quot;\\n  input: &quot;optimize/gradients/loss/covariance_loss/sub_grad/Sum_1&quot;\\n  attr {\\n    key: &quot;T&quot;\\n    value {\\n      type: DT_FLOAT\\n    }\\n  }\\n}\\nnode {\\n  name: &quot;optimize/gradients/loss/covariance_loss/sub_grad/Reshape_1&quot;\\n  op: &quot;Reshape&quot;\\n  input: &quot;optimize/gradients/loss/covariance_loss/sub_grad/Neg&quot;\\n  input: &quot;optimize/gradients/loss/covariance_loss/sub_grad/Shape_1&quot;\\n  attr {\\n    key: &quot;T&quot;\\n    value {\\n      type: DT_FLOAT\\n    }\\n  }\\n  attr {\\n    key: &quot;Tshape&quot;\\n    value {\\n      type: DT_INT32\\n    }\\n  }\\n}\\nnode {\\n  name: &quot;optimize/gradients/loss/covariance_loss/sub_grad/tuple/group_deps&quot;\\n  op: &quot;NoOp&quot;\\n  input: &quot;^optimize/gradients/loss/covariance_loss/sub_grad/Reshape&quot;\\n  input: &quot;^optimize/gradients/loss/covariance_loss/sub_grad/Reshape_1&quot;\\n}\\nnode {\\n  name: &quot;optimize/gradients/loss/covariance_loss/sub_grad/tuple/control_dependency&quot;\\n  op: &quot;Identity&quot;\\n  input: &quot;optimize/gradients/loss/covariance_loss/sub_grad/Reshape&quot;\\n  input: &quot;^optimize/gradients/loss/covariance_loss/sub_grad/tuple/group_deps&quot;\\n  attr {\\n    key: &quot;T&quot;\\n    value {\\n      type: DT_FLOAT\\n    }\\n  }\\n  attr {\\n    key: &quot;_class&quot;\\n    value {\\n      list {\\n        s: &quot;loc:@optimize/gradients/loss/covariance_loss/sub_grad/Reshape&quot;\\n      }\\n    }\\n  }\\n}\\nnode {\\n  name: &quot;optimize/gradients/loss/covariance_loss/sub_grad/tuple/control_dependency_1&quot;\\n  op: &quot;Identity&quot;\\n  input: &quot;optimize/gradients/loss/covariance_loss/sub_grad/Reshape_1&quot;\\n  input: &quot;^optimize/gradients/loss/covariance_loss/sub_grad/tuple/group_deps&quot;\\n  attr {\\n    key: &quot;T&quot;\\n    value {\\n      type: DT_FLOAT\\n    }\\n  }\\n  attr {\\n    key: &quot;_class&quot;\\n    value {\\n      list {\\n        s: &quot;loc:@optimize/gradients/loss/covariance_loss/sub_grad/Reshape_1&quot;\\n      }\\n    }\\n  }\\n}\\nnode {\\n  name: &quot;optimize/gradients/embedding_loss/pos_distances_grad/Shape&quot;\\n  op: &quot;Shape&quot;\\n  input: &quot;embedding_loss/SquaredDifference&quot;\\n  attr {\\n    key: &quot;T&quot;\\n    value {\\n      type: DT_FLOAT\\n    }\\n  }\\n  attr {\\n    key: &quot;out_type&quot;\\n    value {\\n      type: DT_INT32\\n    }\\n  }\\n}\\nnode {\\n  name: &quot;optimize/gradients/embedding_loss/pos_distances_grad/Size&quot;\\n  op: &quot;Const&quot;\\n  attr {\\n    key: &quot;_class&quot;\\n    value {\\n      list {\\n        s: &quot;loc:@optimize/gradients/embedding_loss/pos_distances_grad/Shape&quot;\\n      }\\n    }\\n  }\\n  attr {\\n    key: &quot;dtype&quot;\\n    value {\\n      type: DT_INT32\\n    }\\n  }\\n  attr {\\n    key: &quot;value&quot;\\n    value {\\n      tensor {\\n        dtype: DT_INT32\\n        tensor_shape {\\n        }\\n        int_val: 2\\n      }\\n    }\\n  }\\n}\\nnode {\\n  name: &quot;optimize/gradients/embedding_loss/pos_distances_grad/add&quot;\\n  op: &quot;Add&quot;\\n  input: &quot;embedding_loss/pos_distances/reduction_indices&quot;\\n  input: &quot;optimize/gradients/embedding_loss/pos_distances_grad/Size&quot;\\n  attr {\\n    key: &quot;T&quot;\\n    value {\\n      type: DT_INT32\\n    }\\n  }\\n  attr {\\n    key: &quot;_class&quot;\\n    value {\\n      list {\\n        s: &quot;loc:@optimize/gradients/embedding_loss/pos_distances_grad/Shape&quot;\\n      }\\n    }\\n  }\\n}\\nnode {\\n  name: &quot;optimize/gradients/embedding_loss/pos_distances_grad/mod&quot;\\n  op: &quot;FloorMod&quot;\\n  input: &quot;optimize/gradients/embedding_loss/pos_distances_grad/add&quot;\\n  input: &quot;optimize/gradients/embedding_loss/pos_distances_grad/Size&quot;\\n  attr {\\n    key: &quot;T&quot;\\n    value {\\n      type: DT_INT32\\n    }\\n  }\\n  attr {\\n    key: &quot;_class&quot;\\n    value {\\n      list {\\n        s: &quot;loc:@optimize/gradients/embedding_loss/pos_distances_grad/Shape&quot;\\n      }\\n    }\\n  }\\n}\\nnode {\\n  name: &quot;optimize/gradients/embedding_loss/pos_distances_grad/Shape_1&quot;\\n  op: &quot;Const&quot;\\n  attr {\\n    key: &quot;_class&quot;\\n    value {\\n      list {\\n        s: &quot;loc:@optimize/gradients/embedding_loss/pos_distances_grad/Shape&quot;\\n      }\\n    }\\n  }\\n  attr {\\n    key: &quot;dtype&quot;\\n    value {\\n      type: DT_INT32\\n    }\\n  }\\n  attr {\\n    key: &quot;value&quot;\\n    value {\\n      tensor {\\n        dtype: DT_INT32\\n        tensor_shape {\\n          dim {\\n          }\\n        }\\n      }\\n    }\\n  }\\n}\\nnode {\\n  name: &quot;optimize/gradients/embedding_loss/pos_distances_grad/range/start&quot;\\n  op: &quot;Const&quot;\\n  attr {\\n    key: &quot;_class&quot;\\n    value {\\n      list {\\n        s: &quot;loc:@optimize/gradients/embedding_loss/pos_distances_grad/Shape&quot;\\n      }\\n    }\\n  }\\n  attr {\\n    key: &quot;dtype&quot;\\n    value {\\n      type: DT_INT32\\n    }\\n  }\\n  attr {\\n    key: &quot;value&quot;\\n    value {\\n      tensor {\\n        dtype: DT_INT32\\n        tensor_shape {\\n        }\\n        int_val: 0\\n      }\\n    }\\n  }\\n}\\nnode {\\n  name: &quot;optimize/gradients/embedding_loss/pos_distances_grad/range/delta&quot;\\n  op: &quot;Const&quot;\\n  attr {\\n    key: &quot;_class&quot;\\n    value {\\n      list {\\n        s: &quot;loc:@optimize/gradients/embedding_loss/pos_distances_grad/Shape&quot;\\n      }\\n    }\\n  }\\n  attr {\\n    key: &quot;dtype&quot;\\n    value {\\n      type: DT_INT32\\n    }\\n  }\\n  attr {\\n    key: &quot;value&quot;\\n    value {\\n      tensor {\\n        dtype: DT_INT32\\n        tensor_shape {\\n        }\\n        int_val: 1\\n      }\\n    }\\n  }\\n}\\nnode {\\n  name: &quot;optimize/gradients/embedding_loss/pos_distances_grad/range&quot;\\n  op: &quot;Range&quot;\\n  input: &quot;optimize/gradients/embedding_loss/pos_distances_grad/range/start&quot;\\n  input: &quot;optimize/gradients/embedding_loss/pos_distances_grad/Size&quot;\\n  input: &quot;optimize/gradients/embedding_loss/pos_distances_grad/range/delta&quot;\\n  attr {\\n    key: &quot;Tidx&quot;\\n    value {\\n      type: DT_INT32\\n    }\\n  }\\n  attr {\\n    key: &quot;_class&quot;\\n    value {\\n      list {\\n        s: &quot;loc:@optimize/gradients/embedding_loss/pos_distances_grad/Shape&quot;\\n      }\\n    }\\n  }\\n}\\nnode {\\n  name: &quot;optimize/gradients/embedding_loss/pos_distances_grad/Fill/value&quot;\\n  op: &quot;Const&quot;\\n  attr {\\n    key: &quot;_class&quot;\\n    value {\\n      list {\\n        s: &quot;loc:@optimize/gradients/embedding_loss/pos_distances_grad/Shape&quot;\\n      }\\n    }\\n  }\\n  attr {\\n    key: &quot;dtype&quot;\\n    value {\\n      type: DT_INT32\\n    }\\n  }\\n  attr {\\n    key: &quot;value&quot;\\n    value {\\n      tensor {\\n        dtype: DT_INT32\\n        tensor_shape {\\n        }\\n        int_val: 1\\n      }\\n    }\\n  }\\n}\\nnode {\\n  name: &quot;optimize/gradients/embedding_loss/pos_distances_grad/Fill&quot;\\n  op: &quot;Fill&quot;\\n  input: &quot;optimize/gradients/embedding_loss/pos_distances_grad/Shape_1&quot;\\n  input: &quot;optimize/gradients/embedding_loss/pos_distances_grad/Fill/value&quot;\\n  attr {\\n    key: &quot;T&quot;\\n    value {\\n      type: DT_INT32\\n    }\\n  }\\n  attr {\\n    key: &quot;_class&quot;\\n    value {\\n      list {\\n        s: &quot;loc:@optimize/gradients/embedding_loss/pos_distances_grad/Shape&quot;\\n      }\\n    }\\n  }\\n  attr {\\n    key: &quot;index_type&quot;\\n    value {\\n      type: DT_INT32\\n    }\\n  }\\n}\\nnode {\\n  name: &quot;optimize/gradients/embedding_loss/pos_distances_grad/DynamicStitch&quot;\\n  op: &quot;DynamicStitch&quot;\\n  input: &quot;optimize/gradients/embedding_loss/pos_distances_grad/range&quot;\\n  input: &quot;optimize/gradients/embedding_loss/pos_distances_grad/mod&quot;\\n  input: &quot;optimize/gradients/embedding_loss/pos_distances_grad/Shape&quot;\\n  input: &quot;optimize/gradients/embedding_loss/pos_distances_grad/Fill&quot;\\n  attr {\\n    key: &quot;N&quot;\\n    value {\\n      i: 2\\n    }\\n  }\\n  attr {\\n    key: &quot;T&quot;\\n    value {\\n      type: DT_INT32\\n    }\\n  }\\n  attr {\\n    key: &quot;_class&quot;\\n    value {\\n      list {\\n        s: &quot;loc:@optimize/gradients/embedding_loss/pos_distances_grad/Shape&quot;\\n      }\\n    }\\n  }\\n}\\nnode {\\n  name: &quot;optimize/gradients/embedding_loss/pos_distances_grad/Maximum/y&quot;\\n  op: &quot;Const&quot;\\n  attr {\\n    key: &quot;_class&quot;\\n    value {\\n      list {\\n        s: &quot;loc:@optimize/gradients/embedding_loss/pos_distances_grad/Shape&quot;\\n      }\\n    }\\n  }\\n  attr {\\n    key: &quot;dtype&quot;\\n    value {\\n      type: DT_INT32\\n    }\\n  }\\n  attr {\\n    key: &quot;value&quot;\\n    value {\\n      tensor {\\n        dtype: DT_INT32\\n        tensor_shape {\\n        }\\n        int_val: 1\\n      }\\n    }\\n  }\\n}\\nnode {\\n  name: &quot;optimize/gradients/embedding_loss/pos_distances_grad/Maximum&quot;\\n  op: &quot;Maximum&quot;\\n  input: &quot;optimize/gradients/embedding_loss/pos_distances_grad/DynamicStitch&quot;\\n  input: &quot;optimize/gradients/embedding_loss/pos_distances_grad/Maximum/y&quot;\\n  attr {\\n    key: &quot;T&quot;\\n    value {\\n      type: DT_INT32\\n    }\\n  }\\n  attr {\\n    key: &quot;_class&quot;\\n    value {\\n      list {\\n        s: &quot;loc:@optimize/gradients/embedding_loss/pos_distances_grad/Shape&quot;\\n      }\\n    }\\n  }\\n}\\nnode {\\n  name: &quot;optimize/gradients/embedding_loss/pos_distances_grad/floordiv&quot;\\n  op: &quot;FloorDiv&quot;\\n  input: &quot;optimize/gradients/embedding_loss/pos_distances_grad/Shape&quot;\\n  input: &quot;optimize/gradients/embedding_loss/pos_distances_grad/Maximum&quot;\\n  attr {\\n    key: &quot;T&quot;\\n    value {\\n      type: DT_INT32\\n    }\\n  }\\n  attr {\\n    key: &quot;_class&quot;\\n    value {\\n      list {\\n        s: &quot;loc:@optimize/gradients/embedding_loss/pos_distances_grad/Shape&quot;\\n      }\\n    }\\n  }\\n}\\nnode {\\n  name: &quot;optimize/gradients/embedding_loss/pos_distances_grad/Reshape&quot;\\n  op: &quot;Reshape&quot;\\n  input: &quot;optimize/gradients/embedding_loss/sub_grad/tuple/control_dependency&quot;\\n  input: &quot;optimize/gradients/embedding_loss/pos_distances_grad/DynamicStitch&quot;\\n  attr {\\n    key: &quot;T&quot;\\n    value {\\n      type: DT_FLOAT\\n    }\\n  }\\n  attr {\\n    key: &quot;Tshape&quot;\\n    value {\\n      type: DT_INT32\\n    }\\n  }\\n}\\nnode {\\n  name: &quot;optimize/gradients/embedding_loss/pos_distances_grad/Tile&quot;\\n  op: &quot;Tile&quot;\\n  input: &quot;optimize/gradients/embedding_loss/pos_distances_grad/Reshape&quot;\\n  input: &quot;optimize/gradients/embedding_loss/pos_distances_grad/floordiv&quot;\\n  attr {\\n    key: &quot;T&quot;\\n    value {\\n      type: DT_FLOAT\\n    }\\n  }\\n  attr {\\n    key: &quot;Tmultiples&quot;\\n    value {\\n      type: DT_INT32\\n    }\\n  }\\n}\\nnode {\\n  name: &quot;optimize/gradients/embedding_loss/closest_negative_distances_grad/Shape&quot;\\n  op: &quot;Shape&quot;\\n  input: &quot;embedding_loss/distance_to_neg_items&quot;\\n  attr {\\n    key: &quot;T&quot;\\n    value {\\n      type: DT_FLOAT\\n    }\\n  }\\n  attr {\\n    key: &quot;out_type&quot;\\n    value {\\n      type: DT_INT32\\n    }\\n  }\\n}\\nnode {\\n  name: &quot;optimize/gradients/embedding_loss/closest_negative_distances_grad/Size&quot;\\n  op: &quot;Const&quot;\\n  attr {\\n    key: &quot;dtype&quot;\\n    value {\\n      type: DT_INT32\\n    }\\n  }\\n  attr {\\n    key: &quot;value&quot;\\n    value {\\n      tensor {\\n        dtype: DT_INT32\\n        tensor_shape {\\n        }\\n        int_val: 2\\n      }\\n    }\\n  }\\n}\\nnode {\\n  name: &quot;optimize/gradients/embedding_loss/closest_negative_distances_grad/add&quot;\\n  op: &quot;Add&quot;\\n  input: &quot;embedding_loss/closest_negative_distances/reduction_indices&quot;\\n  input: &quot;optimize/gradients/embedding_loss/closest_negative_distances_grad/Size&quot;\\n  attr {\\n    key: &quot;T&quot;\\n    value {\\n      type: DT_INT32\\n    }\\n  }\\n}\\nnode {\\n  name: &quot;optimize/gradients/embedding_loss/closest_negative_distances_grad/mod&quot;\\n  op: &quot;FloorMod&quot;\\n  input: &quot;optimize/gradients/embedding_loss/closest_negative_distances_grad/add&quot;\\n  input: &quot;optimize/gradients/embedding_loss/closest_negative_distances_grad/Size&quot;\\n  attr {\\n    key: &quot;T&quot;\\n    value {\\n      type: DT_INT32\\n    }\\n  }\\n}\\nnode {\\n  name: &quot;optimize/gradients/embedding_loss/closest_negative_distances_grad/Shape_1&quot;\\n  op: &quot;Const&quot;\\n  attr {\\n    key: &quot;dtype&quot;\\n    value {\\n      type: DT_INT32\\n    }\\n  }\\n  attr {\\n    key: &quot;value&quot;\\n    value {\\n      tensor {\\n        dtype: DT_INT32\\n        tensor_shape {\\n          dim {\\n          }\\n        }\\n      }\\n    }\\n  }\\n}\\nnode {\\n  name: &quot;optimize/gradients/embedding_loss/closest_negative_distances_grad/range/start&quot;\\n  op: &quot;Const&quot;\\n  attr {\\n    key: &quot;dtype&quot;\\n    value {\\n      type: DT_INT32\\n    }\\n  }\\n  attr {\\n    key: &quot;value&quot;\\n    value {\\n      tensor {\\n        dtype: DT_INT32\\n        tensor_shape {\\n        }\\n        int_val: 0\\n      }\\n    }\\n  }\\n}\\nnode {\\n  name: &quot;optimize/gradients/embedding_loss/closest_negative_distances_grad/range/delta&quot;\\n  op: &quot;Const&quot;\\n  attr {\\n    key: &quot;dtype&quot;\\n    value {\\n      type: DT_INT32\\n    }\\n  }\\n  attr {\\n    key: &quot;value&quot;\\n    value {\\n      tensor {\\n        dtype: DT_INT32\\n        tensor_shape {\\n        }\\n        int_val: 1\\n      }\\n    }\\n  }\\n}\\nnode {\\n  name: &quot;optimize/gradients/embedding_loss/closest_negative_distances_grad/range&quot;\\n  op: &quot;Range&quot;\\n  input: &quot;optimize/gradients/embedding_loss/closest_negative_distances_grad/range/start&quot;\\n  input: &quot;optimize/gradients/embedding_loss/closest_negative_distances_grad/Size&quot;\\n  input: &quot;optimize/gradients/embedding_loss/closest_negative_distances_grad/range/delta&quot;\\n  attr {\\n    key: &quot;Tidx&quot;\\n    value {\\n      type: DT_INT32\\n    }\\n  }\\n}\\nnode {\\n  name: &quot;optimize/gradients/embedding_loss/closest_negative_distances_grad/Fill/value&quot;\\n  op: &quot;Const&quot;\\n  attr {\\n    key: &quot;dtype&quot;\\n    value {\\n      type: DT_INT32\\n    }\\n  }\\n  attr {\\n    key: &quot;value&quot;\\n    value {\\n      tensor {\\n        dtype: DT_INT32\\n        tensor_shape {\\n        }\\n        int_val: 1\\n      }\\n    }\\n  }\\n}\\nnode {\\n  name: &quot;optimize/gradients/embedding_loss/closest_negative_distances_grad/Fill&quot;\\n  op: &quot;Fill&quot;\\n  input: &quot;optimize/gradients/embedding_loss/closest_negative_distances_grad/Shape_1&quot;\\n  input: &quot;optimize/gradients/embedding_loss/closest_negative_distances_grad/Fill/value&quot;\\n  attr {\\n    key: &quot;T&quot;\\n    value {\\n      type: DT_INT32\\n    }\\n  }\\n  attr {\\n    key: &quot;index_type&quot;\\n    value {\\n      type: DT_INT32\\n    }\\n  }\\n}\\nnode {\\n  name: &quot;optimize/gradients/embedding_loss/closest_negative_distances_grad/DynamicStitch&quot;\\n  op: &quot;DynamicStitch&quot;\\n  input: &quot;optimize/gradients/embedding_loss/closest_negative_distances_grad/range&quot;\\n  input: &quot;optimize/gradients/embedding_loss/closest_negative_distances_grad/mod&quot;\\n  input: &quot;optimize/gradients/embedding_loss/closest_negative_distances_grad/Shape&quot;\\n  input: &quot;optimize/gradients/embedding_loss/closest_negative_distances_grad/Fill&quot;\\n  attr {\\n    key: &quot;N&quot;\\n    value {\\n      i: 2\\n    }\\n  }\\n  attr {\\n    key: &quot;T&quot;\\n    value {\\n      type: DT_INT32\\n    }\\n  }\\n}\\nnode {\\n  name: &quot;optimize/gradients/embedding_loss/closest_negative_distances_grad/Reshape&quot;\\n  op: &quot;Reshape&quot;\\n  input: &quot;embedding_loss/closest_negative_distances&quot;\\n  input: &quot;optimize/gradients/embedding_loss/closest_negative_distances_grad/DynamicStitch&quot;\\n  attr {\\n    key: &quot;T&quot;\\n    value {\\n      type: DT_FLOAT\\n    }\\n  }\\n  attr {\\n    key: &quot;Tshape&quot;\\n    value {\\n      type: DT_INT32\\n    }\\n  }\\n}\\nnode {\\n  name: &quot;optimize/gradients/embedding_loss/closest_negative_distances_grad/Reshape_1&quot;\\n  op: &quot;Reshape&quot;\\n  input: &quot;optimize/gradients/embedding_loss/sub_grad/tuple/control_dependency_1&quot;\\n  input: &quot;optimize/gradients/embedding_loss/closest_negative_distances_grad/DynamicStitch&quot;\\n  attr {\\n    key: &quot;T&quot;\\n    value {\\n      type: DT_FLOAT\\n    }\\n  }\\n  attr {\\n    key: &quot;Tshape&quot;\\n    value {\\n      type: DT_INT32\\n    }\\n  }\\n}\\nnode {\\n  name: &quot;optimize/gradients/embedding_loss/closest_negative_distances_grad/Equal&quot;\\n  op: &quot;Equal&quot;\\n  input: &quot;optimize/gradients/embedding_loss/closest_negative_distances_grad/Reshape&quot;\\n  input: &quot;embedding_loss/distance_to_neg_items&quot;\\n  attr {\\n    key: &quot;T&quot;\\n    value {\\n      type: DT_FLOAT\\n    }\\n  }\\n}\\nnode {\\n  name: &quot;optimize/gradients/embedding_loss/closest_negative_distances_grad/Cast&quot;\\n  op: &quot;Cast&quot;\\n  input: &quot;optimize/gradients/embedding_loss/closest_negative_distances_grad/Equal&quot;\\n  attr {\\n    key: &quot;DstT&quot;\\n    value {\\n      type: DT_FLOAT\\n    }\\n  }\\n  attr {\\n    key: &quot;SrcT&quot;\\n    value {\\n      type: DT_BOOL\\n    }\\n  }\\n  attr {\\n    key: &quot;Truncate&quot;\\n    value {\\n      b: false\\n    }\\n  }\\n}\\nnode {\\n  name: &quot;optimize/gradients/embedding_loss/closest_negative_distances_grad/Sum&quot;\\n  op: &quot;Sum&quot;\\n  input: &quot;optimize/gradients/embedding_loss/closest_negative_distances_grad/Cast&quot;\\n  input: &quot;embedding_loss/closest_negative_distances/reduction_indices&quot;\\n  attr {\\n    key: &quot;T&quot;\\n    value {\\n      type: DT_FLOAT\\n    }\\n  }\\n  attr {\\n    key: &quot;Tidx&quot;\\n    value {\\n      type: DT_INT32\\n    }\\n  }\\n  attr {\\n    key: &quot;keep_dims&quot;\\n    value {\\n      b: false\\n    }\\n  }\\n}\\nnode {\\n  name: &quot;optimize/gradients/embedding_loss/closest_negative_distances_grad/Reshape_2&quot;\\n  op: &quot;Reshape&quot;\\n  input: &quot;optimize/gradients/embedding_loss/closest_negative_distances_grad/Sum&quot;\\n  input: &quot;optimize/gradients/embedding_loss/closest_negative_distances_grad/DynamicStitch&quot;\\n  attr {\\n    key: &quot;T&quot;\\n    value {\\n      type: DT_FLOAT\\n    }\\n  }\\n  attr {\\n    key: &quot;Tshape&quot;\\n    value {\\n      type: DT_INT32\\n    }\\n  }\\n}\\nnode {\\n  name: &quot;optimize/gradients/embedding_loss/closest_negative_distances_grad/div&quot;\\n  op: &quot;RealDiv&quot;\\n  input: &quot;optimize/gradients/embedding_loss/closest_negative_distances_grad/Cast&quot;\\n  input: &quot;optimize/gradients/embedding_loss/closest_negative_distances_grad/Reshape_2&quot;\\n  attr {\\n    key: &quot;T&quot;\\n    value {\\n      type: DT_FLOAT\\n    }\\n  }\\n}\\nnode {\\n  name: &quot;optimize/gradients/embedding_loss/closest_negative_distances_grad/mul&quot;\\n  op: &quot;Mul&quot;\\n  input: &quot;optimize/gradients/embedding_loss/closest_negative_distances_grad/div&quot;\\n  input: &quot;optimize/gradients/embedding_loss/closest_negative_distances_grad/Reshape_1&quot;\\n  attr {\\n    key: &quot;T&quot;\\n    value {\\n      type: DT_FLOAT\\n    }\\n  }\\n}\\nnode {\\n  name: &quot;optimize/gradients/loss/covariance_loss/Mean_grad/Shape&quot;\\n  op: &quot;Const&quot;\\n  attr {\\n    key: &quot;dtype&quot;\\n    value {\\n      type: DT_INT32\\n    }\\n  }\\n  attr {\\n    key: &quot;value&quot;\\n    value {\\n      tensor {\\n        dtype: DT_INT32\\n        tensor_shape {\\n          dim {\\n            size: 2\\n          }\\n        }\\n        tensor_content: &quot;\\\\202\\\\204\\\\000\\\\000d\\\\000\\\\000\\\\000&quot;\\n      }\\n    }\\n  }\\n}\\nnode {\\n  name: &quot;optimize/gradients/loss/covariance_loss/Mean_grad/Size&quot;\\n  op: &quot;Const&quot;\\n  attr {\\n    key: &quot;_class&quot;\\n    value {\\n      list {\\n        s: &quot;loc:@optimize/gradients/loss/covariance_loss/Mean_grad/Shape&quot;\\n      }\\n    }\\n  }\\n  attr {\\n    key: &quot;dtype&quot;\\n    value {\\n      type: DT_INT32\\n    }\\n  }\\n  attr {\\n    key: &quot;value&quot;\\n    value {\\n      tensor {\\n        dtype: DT_INT32\\n        tensor_shape {\\n        }\\n        int_val: 2\\n      }\\n    }\\n  }\\n}\\nnode {\\n  name: &quot;optimize/gradients/loss/covariance_loss/Mean_grad/add&quot;\\n  op: &quot;Add&quot;\\n  input: &quot;loss/covariance_loss/Mean/reduction_indices&quot;\\n  input: &quot;optimize/gradients/loss/covariance_loss/Mean_grad/Size&quot;\\n  attr {\\n    key: &quot;T&quot;\\n    value {\\n      type: DT_INT32\\n    }\\n  }\\n  attr {\\n    key: &quot;_class&quot;\\n    value {\\n      list {\\n        s: &quot;loc:@optimize/gradients/loss/covariance_loss/Mean_grad/Shape&quot;\\n      }\\n    }\\n  }\\n}\\nnode {\\n  name: &quot;optimize/gradients/loss/covariance_loss/Mean_grad/mod&quot;\\n  op: &quot;FloorMod&quot;\\n  input: &quot;optimize/gradients/loss/covariance_loss/Mean_grad/add&quot;\\n  input: &quot;optimize/gradients/loss/covariance_loss/Mean_grad/Size&quot;\\n  attr {\\n    key: &quot;T&quot;\\n    value {\\n      type: DT_INT32\\n    }\\n  }\\n  attr {\\n    key: &quot;_class&quot;\\n    value {\\n      list {\\n        s: &quot;loc:@optimize/gradients/loss/covariance_loss/Mean_grad/Shape&quot;\\n      }\\n    }\\n  }\\n}\\nnode {\\n  name: &quot;optimize/gradients/loss/covariance_loss/Mean_grad/Shape_1&quot;\\n  op: &quot;Const&quot;\\n  attr {\\n    key: &quot;_class&quot;\\n    value {\\n      list {\\n        s: &quot;loc:@optimize/gradients/loss/covariance_loss/Mean_grad/Shape&quot;\\n      }\\n    }\\n  }\\n  attr {\\n    key: &quot;dtype&quot;\\n    value {\\n      type: DT_INT32\\n    }\\n  }\\n  attr {\\n    key: &quot;value&quot;\\n    value {\\n      tensor {\\n        dtype: DT_INT32\\n        tensor_shape {\\n          dim {\\n          }\\n        }\\n      }\\n    }\\n  }\\n}\\nnode {\\n  name: &quot;optimize/gradients/loss/covariance_loss/Mean_grad/range/start&quot;\\n  op: &quot;Const&quot;\\n  attr {\\n    key: &quot;_class&quot;\\n    value {\\n      list {\\n        s: &quot;loc:@optimize/gradients/loss/covariance_loss/Mean_grad/Shape&quot;\\n      }\\n    }\\n  }\\n  attr {\\n    key: &quot;dtype&quot;\\n    value {\\n      type: DT_INT32\\n    }\\n  }\\n  attr {\\n    key: &quot;value&quot;\\n    value {\\n      tensor {\\n        dtype: DT_INT32\\n        tensor_shape {\\n        }\\n        int_val: 0\\n      }\\n    }\\n  }\\n}\\nnode {\\n  name: &quot;optimize/gradients/loss/covariance_loss/Mean_grad/range/delta&quot;\\n  op: &quot;Const&quot;\\n  attr {\\n    key: &quot;_class&quot;\\n    value {\\n      list {\\n        s: &quot;loc:@optimize/gradients/loss/covariance_loss/Mean_grad/Shape&quot;\\n      }\\n    }\\n  }\\n  attr {\\n    key: &quot;dtype&quot;\\n    value {\\n      type: DT_INT32\\n    }\\n  }\\n  attr {\\n    key: &quot;value&quot;\\n    value {\\n      tensor {\\n        dtype: DT_INT32\\n        tensor_shape {\\n        }\\n        int_val: 1\\n      }\\n    }\\n  }\\n}\\nnode {\\n  name: &quot;optimize/gradients/loss/covariance_loss/Mean_grad/range&quot;\\n  op: &quot;Range&quot;\\n  input: &quot;optimize/gradients/loss/covariance_loss/Mean_grad/range/start&quot;\\n  input: &quot;optimize/gradients/loss/covariance_loss/Mean_grad/Size&quot;\\n  input: &quot;optimize/gradients/loss/covariance_loss/Mean_grad/range/delta&quot;\\n  attr {\\n    key: &quot;Tidx&quot;\\n    value {\\n      type: DT_INT32\\n    }\\n  }\\n  attr {\\n    key: &quot;_class&quot;\\n    value {\\n      list {\\n        s: &quot;loc:@optimize/gradients/loss/covariance_loss/Mean_grad/Shape&quot;\\n      }\\n    }\\n  }\\n}\\nnode {\\n  name: &quot;optimize/gradients/loss/covariance_loss/Mean_grad/Fill/value&quot;\\n  op: &quot;Const&quot;\\n  attr {\\n    key: &quot;_class&quot;\\n    value {\\n      list {\\n        s: &quot;loc:@optimize/gradients/loss/covariance_loss/Mean_grad/Shape&quot;\\n      }\\n    }\\n  }\\n  attr {\\n    key: &quot;dtype&quot;\\n    value {\\n      type: DT_INT32\\n    }\\n  }\\n  attr {\\n    key: &quot;value&quot;\\n    value {\\n      tensor {\\n        dtype: DT_INT32\\n        tensor_shape {\\n        }\\n        int_val: 1\\n      }\\n    }\\n  }\\n}\\nnode {\\n  name: &quot;optimize/gradients/loss/covariance_loss/Mean_grad/Fill&quot;\\n  op: &quot;Fill&quot;\\n  input: &quot;optimize/gradients/loss/covariance_loss/Mean_grad/Shape_1&quot;\\n  input: &quot;optimize/gradients/loss/covariance_loss/Mean_grad/Fill/value&quot;\\n  attr {\\n    key: &quot;T&quot;\\n    value {\\n      type: DT_INT32\\n    }\\n  }\\n  attr {\\n    key: &quot;_class&quot;\\n    value {\\n      list {\\n        s: &quot;loc:@optimize/gradients/loss/covariance_loss/Mean_grad/Shape&quot;\\n      }\\n    }\\n  }\\n  attr {\\n    key: &quot;index_type&quot;\\n    value {\\n      type: DT_INT32\\n    }\\n  }\\n}\\nnode {\\n  name: &quot;optimize/gradients/loss/covariance_loss/Mean_grad/DynamicStitch&quot;\\n  op: &quot;DynamicStitch&quot;\\n  input: &quot;optimize/gradients/loss/covariance_loss/Mean_grad/range&quot;\\n  input: &quot;optimize/gradients/loss/covariance_loss/Mean_grad/mod&quot;\\n  input: &quot;optimize/gradients/loss/covariance_loss/Mean_grad/Shape&quot;\\n  input: &quot;optimize/gradients/loss/covariance_loss/Mean_grad/Fill&quot;\\n  attr {\\n    key: &quot;N&quot;\\n    value {\\n      i: 2\\n    }\\n  }\\n  attr {\\n    key: &quot;T&quot;\\n    value {\\n      type: DT_INT32\\n    }\\n  }\\n  attr {\\n    key: &quot;_class&quot;\\n    value {\\n      list {\\n        s: &quot;loc:@optimize/gradients/loss/covariance_loss/Mean_grad/Shape&quot;\\n      }\\n    }\\n  }\\n}\\nnode {\\n  name: &quot;optimize/gradients/loss/covariance_loss/Mean_grad/Maximum/y&quot;\\n  op: &quot;Const&quot;\\n  attr {\\n    key: &quot;_class&quot;\\n    value {\\n      list {\\n        s: &quot;loc:@optimize/gradients/loss/covariance_loss/Mean_grad/Shape&quot;\\n      }\\n    }\\n  }\\n  attr {\\n    key: &quot;dtype&quot;\\n    value {\\n      type: DT_INT32\\n    }\\n  }\\n  attr {\\n    key: &quot;value&quot;\\n    value {\\n      tensor {\\n        dtype: DT_INT32\\n        tensor_shape {\\n        }\\n        int_val: 1\\n      }\\n    }\\n  }\\n}\\nnode {\\n  name: &quot;optimize/gradients/loss/covariance_loss/Mean_grad/Maximum&quot;\\n  op: &quot;Maximum&quot;\\n  input: &quot;optimize/gradients/loss/covariance_loss/Mean_grad/DynamicStitch&quot;\\n  input: &quot;optimize/gradients/loss/covariance_loss/Mean_grad/Maximum/y&quot;\\n  attr {\\n    key: &quot;T&quot;\\n    value {\\n      type: DT_INT32\\n    }\\n  }\\n  attr {\\n    key: &quot;_class&quot;\\n    value {\\n      list {\\n        s: &quot;loc:@optimize/gradients/loss/covariance_loss/Mean_grad/Shape&quot;\\n      }\\n    }\\n  }\\n}\\nnode {\\n  name: &quot;optimize/gradients/loss/covariance_loss/Mean_grad/floordiv&quot;\\n  op: &quot;FloorDiv&quot;\\n  input: &quot;optimize/gradients/loss/covariance_loss/Mean_grad/Shape&quot;\\n  input: &quot;optimize/gradients/loss/covariance_loss/Mean_grad/Maximum&quot;\\n  attr {\\n    key: &quot;T&quot;\\n    value {\\n      type: DT_INT32\\n    }\\n  }\\n  attr {\\n    key: &quot;_class&quot;\\n    value {\\n      list {\\n        s: &quot;loc:@optimize/gradients/loss/covariance_loss/Mean_grad/Shape&quot;\\n      }\\n    }\\n  }\\n}\\nnode {\\n  name: &quot;optimize/gradients/loss/covariance_loss/Mean_grad/Reshape&quot;\\n  op: &quot;Reshape&quot;\\n  input: &quot;optimize/gradients/loss/covariance_loss/sub_grad/tuple/control_dependency_1&quot;\\n  input: &quot;optimize/gradients/loss/covariance_loss/Mean_grad/DynamicStitch&quot;\\n  attr {\\n    key: &quot;T&quot;\\n    value {\\n      type: DT_FLOAT\\n    }\\n  }\\n  attr {\\n    key: &quot;Tshape&quot;\\n    value {\\n      type: DT_INT32\\n    }\\n  }\\n}\\nnode {\\n  name: &quot;optimize/gradients/loss/covariance_loss/Mean_grad/Tile&quot;\\n  op: &quot;Tile&quot;\\n  input: &quot;optimize/gradients/loss/covariance_loss/Mean_grad/Reshape&quot;\\n  input: &quot;optimize/gradients/loss/covariance_loss/Mean_grad/floordiv&quot;\\n  attr {\\n    key: &quot;T&quot;\\n    value {\\n      type: DT_FLOAT\\n    }\\n  }\\n  attr {\\n    key: &quot;Tmultiples&quot;\\n    value {\\n      type: DT_INT32\\n    }\\n  }\\n}\\nnode {\\n  name: &quot;optimize/gradients/loss/covariance_loss/Mean_grad/Const&quot;\\n  op: &quot;Const&quot;\\n  attr {\\n    key: &quot;dtype&quot;\\n    value {\\n      type: DT_FLOAT\\n    }\\n  }\\n  attr {\\n    key: &quot;value&quot;\\n    value {\\n      tensor {\\n        dtype: DT_FLOAT\\n        tensor_shape {\\n        }\\n        float_val: 33922.0\\n      }\\n    }\\n  }\\n}\\nnode {\\n  name: &quot;optimize/gradients/loss/covariance_loss/Mean_grad/truediv&quot;\\n  op: &quot;RealDiv&quot;\\n  input: &quot;optimize/gradients/loss/covariance_loss/Mean_grad/Tile&quot;\\n  input: &quot;optimize/gradients/loss/covariance_loss/Mean_grad/Const&quot;\\n  attr {\\n    key: &quot;T&quot;\\n    value {\\n      type: DT_FLOAT\\n    }\\n  }\\n}\\nnode {\\n  name: &quot;optimize/gradients/embedding_loss/SquaredDifference_grad/Shape&quot;\\n  op: &quot;Shape&quot;\\n  input: &quot;embedding_loss/users/Identity&quot;\\n  attr {\\n    key: &quot;T&quot;\\n    value {\\n      type: DT_FLOAT\\n    }\\n  }\\n  attr {\\n    key: &quot;out_type&quot;\\n    value {\\n      type: DT_INT32\\n    }\\n  }\\n}\\nnode {\\n  name: &quot;optimize/gradients/embedding_loss/SquaredDifference_grad/Shape_1&quot;\\n  op: &quot;Shape&quot;\\n  input: &quot;embedding_loss/pos_items/Identity&quot;\\n  attr {\\n    key: &quot;T&quot;\\n    value {\\n      type: DT_FLOAT\\n    }\\n  }\\n  attr {\\n    key: &quot;out_type&quot;\\n    value {\\n      type: DT_INT32\\n    }\\n  }\\n}\\nnode {\\n  name: &quot;optimize/gradients/embedding_loss/SquaredDifference_grad/BroadcastGradientArgs&quot;\\n  op: &quot;BroadcastGradientArgs&quot;\\n  input: &quot;optimize/gradients/embedding_loss/SquaredDifference_grad/Shape&quot;\\n  input: &quot;optimize/gradients/embedding_loss/SquaredDifference_grad/Shape_1&quot;\\n  attr {\\n    key: &quot;T&quot;\\n    value {\\n      type: DT_INT32\\n    }\\n  }\\n}\\nnode {\\n  name: &quot;optimize/gradients/embedding_loss/SquaredDifference_grad/scalar&quot;\\n  op: &quot;Const&quot;\\n  input: &quot;^optimize/gradients/embedding_loss/pos_distances_grad/Tile&quot;\\n  attr {\\n    key: &quot;dtype&quot;\\n    value {\\n      type: DT_FLOAT\\n    }\\n  }\\n  attr {\\n    key: &quot;value&quot;\\n    value {\\n      tensor {\\n        dtype: DT_FLOAT\\n        tensor_shape {\\n        }\\n        float_val: 2.0\\n      }\\n    }\\n  }\\n}\\nnode {\\n  name: &quot;optimize/gradients/embedding_loss/SquaredDifference_grad/mul&quot;\\n  op: &quot;Mul&quot;\\n  input: &quot;optimize/gradients/embedding_loss/SquaredDifference_grad/scalar&quot;\\n  input: &quot;optimize/gradients/embedding_loss/pos_distances_grad/Tile&quot;\\n  attr {\\n    key: &quot;T&quot;\\n    value {\\n      type: DT_FLOAT\\n    }\\n  }\\n}\\nnode {\\n  name: &quot;optimize/gradients/embedding_loss/SquaredDifference_grad/sub&quot;\\n  op: &quot;Sub&quot;\\n  input: &quot;embedding_loss/users/Identity&quot;\\n  input: &quot;embedding_loss/pos_items/Identity&quot;\\n  input: &quot;^optimize/gradients/embedding_loss/pos_distances_grad/Tile&quot;\\n  attr {\\n    key: &quot;T&quot;\\n    value {\\n      type: DT_FLOAT\\n    }\\n  }\\n}\\nnode {\\n  name: &quot;optimize/gradients/embedding_loss/SquaredDifference_grad/mul_1&quot;\\n  op: &quot;Mul&quot;\\n  input: &quot;optimize/gradients/embedding_loss/SquaredDifference_grad/mul&quot;\\n  input: &quot;optimize/gradients/embedding_loss/SquaredDifference_grad/sub&quot;\\n  attr {\\n    key: &quot;T&quot;\\n    value {\\n      type: DT_FLOAT\\n    }\\n  }\\n}\\nnode {\\n  name: &quot;optimize/gradients/embedding_loss/SquaredDifference_grad/Sum&quot;\\n  op: &quot;Sum&quot;\\n  input: &quot;optimize/gradients/embedding_loss/SquaredDifference_grad/mul_1&quot;\\n  input: &quot;optimize/gradients/embedding_loss/SquaredDifference_grad/BroadcastGradientArgs&quot;\\n  attr {\\n    key: &quot;T&quot;\\n    value {\\n      type: DT_FLOAT\\n    }\\n  }\\n  attr {\\n    key: &quot;Tidx&quot;\\n    value {\\n      type: DT_INT32\\n    }\\n  }\\n  attr {\\n    key: &quot;keep_dims&quot;\\n    value {\\n      b: false\\n    }\\n  }\\n}\\nnode {\\n  name: &quot;optimize/gradients/embedding_loss/SquaredDifference_grad/Reshape&quot;\\n  op: &quot;Reshape&quot;\\n  input: &quot;optimize/gradients/embedding_loss/SquaredDifference_grad/Sum&quot;\\n  input: &quot;optimize/gradients/embedding_loss/SquaredDifference_grad/Shape&quot;\\n  attr {\\n    key: &quot;T&quot;\\n    value {\\n      type: DT_FLOAT\\n    }\\n  }\\n  attr {\\n    key: &quot;Tshape&quot;\\n    value {\\n      type: DT_INT32\\n    }\\n  }\\n}\\nnode {\\n  name: &quot;optimize/gradients/embedding_loss/SquaredDifference_grad/Sum_1&quot;\\n  op: &quot;Sum&quot;\\n  input: &quot;optimize/gradients/embedding_loss/SquaredDifference_grad/mul_1&quot;\\n  input: &quot;optimize/gradients/embedding_loss/SquaredDifference_grad/BroadcastGradientArgs:1&quot;\\n  attr {\\n    key: &quot;T&quot;\\n    value {\\n      type: DT_FLOAT\\n    }\\n  }\\n  attr {\\n    key: &quot;Tidx&quot;\\n    value {\\n      type: DT_INT32\\n    }\\n  }\\n  attr {\\n    key: &quot;keep_dims&quot;\\n    value {\\n      b: false\\n    }\\n  }\\n}\\nnode {\\n  name: &quot;optimize/gradients/embedding_loss/SquaredDifference_grad/Reshape_1&quot;\\n  op: &quot;Reshape&quot;\\n  input: &quot;optimize/gradients/embedding_loss/SquaredDifference_grad/Sum_1&quot;\\n  input: &quot;optimize/gradients/embedding_loss/SquaredDifference_grad/Shape_1&quot;\\n  attr {\\n    key: &quot;T&quot;\\n    value {\\n      type: DT_FLOAT\\n    }\\n  }\\n  attr {\\n    key: &quot;Tshape&quot;\\n    value {\\n      type: DT_INT32\\n    }\\n  }\\n}\\nnode {\\n  name: &quot;optimize/gradients/embedding_loss/SquaredDifference_grad/Neg&quot;\\n  op: &quot;Neg&quot;\\n  input: &quot;optimize/gradients/embedding_loss/SquaredDifference_grad/Reshape_1&quot;\\n  attr {\\n    key: &quot;T&quot;\\n    value {\\n      type: DT_FLOAT\\n    }\\n  }\\n}\\nnode {\\n  name: &quot;optimize/gradients/embedding_loss/SquaredDifference_grad/tuple/group_deps&quot;\\n  op: &quot;NoOp&quot;\\n  input: &quot;^optimize/gradients/embedding_loss/SquaredDifference_grad/Neg&quot;\\n  input: &quot;^optimize/gradients/embedding_loss/SquaredDifference_grad/Reshape&quot;\\n}\\nnode {\\n  name: &quot;optimize/gradients/embedding_loss/SquaredDifference_grad/tuple/control_dependency&quot;\\n  op: &quot;Identity&quot;\\n  input: &quot;optimize/gradients/embedding_loss/SquaredDifference_grad/Reshape&quot;\\n  input: &quot;^optimize/gradients/embedding_loss/SquaredDifference_grad/tuple/group_deps&quot;\\n  attr {\\n    key: &quot;T&quot;\\n    value {\\n      type: DT_FLOAT\\n    }\\n  }\\n  attr {\\n    key: &quot;_class&quot;\\n    value {\\n      list {\\n        s: &quot;loc:@optimize/gradients/embedding_loss/SquaredDifference_grad/Reshape&quot;\\n      }\\n    }\\n  }\\n}\\nnode {\\n  name: &quot;optimize/gradients/embedding_loss/SquaredDifference_grad/tuple/control_dependency_1&quot;\\n  op: &quot;Identity&quot;\\n  input: &quot;optimize/gradients/embedding_loss/SquaredDifference_grad/Neg&quot;\\n  input: &quot;^optimize/gradients/embedding_loss/SquaredDifference_grad/tuple/group_deps&quot;\\n  attr {\\n    key: &quot;T&quot;\\n    value {\\n      type: DT_FLOAT\\n    }\\n  }\\n  attr {\\n    key: &quot;_class&quot;\\n    value {\\n      list {\\n        s: &quot;loc:@optimize/gradients/embedding_loss/SquaredDifference_grad/Neg&quot;\\n      }\\n    }\\n  }\\n}\\nnode {\\n  name: &quot;optimize/gradients/embedding_loss/distance_to_neg_items_grad/Shape&quot;\\n  op: &quot;Shape&quot;\\n  input: &quot;embedding_loss/SquaredDifference_1&quot;\\n  attr {\\n    key: &quot;T&quot;\\n    value {\\n      type: DT_FLOAT\\n    }\\n  }\\n  attr {\\n    key: &quot;out_type&quot;\\n    value {\\n      type: DT_INT32\\n    }\\n  }\\n}\\nnode {\\n  name: &quot;optimize/gradients/embedding_loss/distance_to_neg_items_grad/Size&quot;\\n  op: &quot;Const&quot;\\n  attr {\\n    key: &quot;_class&quot;\\n    value {\\n      list {\\n        s: &quot;loc:@optimize/gradients/embedding_loss/distance_to_neg_items_grad/Shape&quot;\\n      }\\n    }\\n  }\\n  attr {\\n    key: &quot;dtype&quot;\\n    value {\\n      type: DT_INT32\\n    }\\n  }\\n  attr {\\n    key: &quot;value&quot;\\n    value {\\n      tensor {\\n        dtype: DT_INT32\\n        tensor_shape {\\n        }\\n        int_val: 3\\n      }\\n    }\\n  }\\n}\\nnode {\\n  name: &quot;optimize/gradients/embedding_loss/distance_to_neg_items_grad/add&quot;\\n  op: &quot;Add&quot;\\n  input: &quot;embedding_loss/distance_to_neg_items/reduction_indices&quot;\\n  input: &quot;optimize/gradients/embedding_loss/distance_to_neg_items_grad/Size&quot;\\n  attr {\\n    key: &quot;T&quot;\\n    value {\\n      type: DT_INT32\\n    }\\n  }\\n  attr {\\n    key: &quot;_class&quot;\\n    value {\\n      list {\\n        s: &quot;loc:@optimize/gradients/embedding_loss/distance_to_neg_items_grad/Shape&quot;\\n      }\\n    }\\n  }\\n}\\nnode {\\n  name: &quot;optimize/gradients/embedding_loss/distance_to_neg_items_grad/mod&quot;\\n  op: &quot;FloorMod&quot;\\n  input: &quot;optimize/gradients/embedding_loss/distance_to_neg_items_grad/add&quot;\\n  input: &quot;optimize/gradients/embedding_loss/distance_to_neg_items_grad/Size&quot;\\n  attr {\\n    key: &quot;T&quot;\\n    value {\\n      type: DT_INT32\\n    }\\n  }\\n  attr {\\n    key: &quot;_class&quot;\\n    value {\\n      list {\\n        s: &quot;loc:@optimize/gradients/embedding_loss/distance_to_neg_items_grad/Shape&quot;\\n      }\\n    }\\n  }\\n}\\nnode {\\n  name: &quot;optimize/gradients/embedding_loss/distance_to_neg_items_grad/Shape_1&quot;\\n  op: &quot;Const&quot;\\n  attr {\\n    key: &quot;_class&quot;\\n    value {\\n      list {\\n        s: &quot;loc:@optimize/gradients/embedding_loss/distance_to_neg_items_grad/Shape&quot;\\n      }\\n    }\\n  }\\n  attr {\\n    key: &quot;dtype&quot;\\n    value {\\n      type: DT_INT32\\n    }\\n  }\\n  attr {\\n    key: &quot;value&quot;\\n    value {\\n      tensor {\\n        dtype: DT_INT32\\n        tensor_shape {\\n          dim {\\n          }\\n        }\\n      }\\n    }\\n  }\\n}\\nnode {\\n  name: &quot;optimize/gradients/embedding_loss/distance_to_neg_items_grad/range/start&quot;\\n  op: &quot;Const&quot;\\n  attr {\\n    key: &quot;_class&quot;\\n    value {\\n      list {\\n        s: &quot;loc:@optimize/gradients/embedding_loss/distance_to_neg_items_grad/Shape&quot;\\n      }\\n    }\\n  }\\n  attr {\\n    key: &quot;dtype&quot;\\n    value {\\n      type: DT_INT32\\n    }\\n  }\\n  attr {\\n    key: &quot;value&quot;\\n    value {\\n      tensor {\\n        dtype: DT_INT32\\n        tensor_shape {\\n        }\\n        int_val: 0\\n      }\\n    }\\n  }\\n}\\nnode {\\n  name: &quot;optimize/gradients/embedding_loss/distance_to_neg_items_grad/range/delta&quot;\\n  op: &quot;Const&quot;\\n  attr {\\n    key: &quot;_class&quot;\\n    value {\\n      list {\\n        s: &quot;loc:@optimize/gradients/embedding_loss/distance_to_neg_items_grad/Shape&quot;\\n      }\\n    }\\n  }\\n  attr {\\n    key: &quot;dtype&quot;\\n    value {\\n      type: DT_INT32\\n    }\\n  }\\n  attr {\\n    key: &quot;value&quot;\\n    value {\\n      tensor {\\n        dtype: DT_INT32\\n        tensor_shape {\\n        }\\n        int_val: 1\\n      }\\n    }\\n  }\\n}\\nnode {\\n  name: &quot;optimize/gradients/embedding_loss/distance_to_neg_items_grad/range&quot;\\n  op: &quot;Range&quot;\\n  input: &quot;optimize/gradients/embedding_loss/distance_to_neg_items_grad/range/start&quot;\\n  input: &quot;optimize/gradients/embedding_loss/distance_to_neg_items_grad/Size&quot;\\n  input: &quot;optimize/gradients/embedding_loss/distance_to_neg_items_grad/range/delta&quot;\\n  attr {\\n    key: &quot;Tidx&quot;\\n    value {\\n      type: DT_INT32\\n    }\\n  }\\n  attr {\\n    key: &quot;_class&quot;\\n    value {\\n      list {\\n        s: &quot;loc:@optimize/gradients/embedding_loss/distance_to_neg_items_grad/Shape&quot;\\n      }\\n    }\\n  }\\n}\\nnode {\\n  name: &quot;optimize/gradients/embedding_loss/distance_to_neg_items_grad/Fill/value&quot;\\n  op: &quot;Const&quot;\\n  attr {\\n    key: &quot;_class&quot;\\n    value {\\n      list {\\n        s: &quot;loc:@optimize/gradients/embedding_loss/distance_to_neg_items_grad/Shape&quot;\\n      }\\n    }\\n  }\\n  attr {\\n    key: &quot;dtype&quot;\\n    value {\\n      type: DT_INT32\\n    }\\n  }\\n  attr {\\n    key: &quot;value&quot;\\n    value {\\n      tensor {\\n        dtype: DT_INT32\\n        tensor_shape {\\n        }\\n        int_val: 1\\n      }\\n    }\\n  }\\n}\\nnode {\\n  name: &quot;optimize/gradients/embedding_loss/distance_to_neg_items_grad/Fill&quot;\\n  op: &quot;Fill&quot;\\n  input: &quot;optimize/gradients/embedding_loss/distance_to_neg_items_grad/Shape_1&quot;\\n  input: &quot;optimize/gradients/embedding_loss/distance_to_neg_items_grad/Fill/value&quot;\\n  attr {\\n    key: &quot;T&quot;\\n    value {\\n      type: DT_INT32\\n    }\\n  }\\n  attr {\\n    key: &quot;_class&quot;\\n    value {\\n      list {\\n        s: &quot;loc:@optimize/gradients/embedding_loss/distance_to_neg_items_grad/Shape&quot;\\n      }\\n    }\\n  }\\n  attr {\\n    key: &quot;index_type&quot;\\n    value {\\n      type: DT_INT32\\n    }\\n  }\\n}\\nnode {\\n  name: &quot;optimize/gradients/embedding_loss/distance_to_neg_items_grad/DynamicStitch&quot;\\n  op: &quot;DynamicStitch&quot;\\n  input: &quot;optimize/gradients/embedding_loss/distance_to_neg_items_grad/range&quot;\\n  input: &quot;optimize/gradients/embedding_loss/distance_to_neg_items_grad/mod&quot;\\n  input: &quot;optimize/gradients/embedding_loss/distance_to_neg_items_grad/Shape&quot;\\n  input: &quot;optimize/gradients/embedding_loss/distance_to_neg_items_grad/Fill&quot;\\n  attr {\\n    key: &quot;N&quot;\\n    value {\\n      i: 2\\n    }\\n  }\\n  attr {\\n    key: &quot;T&quot;\\n    value {\\n      type: DT_INT32\\n    }\\n  }\\n  attr {\\n    key: &quot;_class&quot;\\n    value {\\n      list {\\n        s: &quot;loc:@optimize/gradients/embedding_loss/distance_to_neg_items_grad/Shape&quot;\\n      }\\n    }\\n  }\\n}\\nnode {\\n  name: &quot;optimize/gradients/embedding_loss/distance_to_neg_items_grad/Maximum/y&quot;\\n  op: &quot;Const&quot;\\n  attr {\\n    key: &quot;_class&quot;\\n    value {\\n      list {\\n        s: &quot;loc:@optimize/gradients/embedding_loss/distance_to_neg_items_grad/Shape&quot;\\n      }\\n    }\\n  }\\n  attr {\\n    key: &quot;dtype&quot;\\n    value {\\n      type: DT_INT32\\n    }\\n  }\\n  attr {\\n    key: &quot;value&quot;\\n    value {\\n      tensor {\\n        dtype: DT_INT32\\n        tensor_shape {\\n        }\\n        int_val: 1\\n      }\\n    }\\n  }\\n}\\nnode {\\n  name: &quot;optimize/gradients/embedding_loss/distance_to_neg_items_grad/Maximum&quot;\\n  op: &quot;Maximum&quot;\\n  input: &quot;optimize/gradients/embedding_loss/distance_to_neg_items_grad/DynamicStitch&quot;\\n  input: &quot;optimize/gradients/embedding_loss/distance_to_neg_items_grad/Maximum/y&quot;\\n  attr {\\n    key: &quot;T&quot;\\n    value {\\n      type: DT_INT32\\n    }\\n  }\\n  attr {\\n    key: &quot;_class&quot;\\n    value {\\n      list {\\n        s: &quot;loc:@optimize/gradients/embedding_loss/distance_to_neg_items_grad/Shape&quot;\\n      }\\n    }\\n  }\\n}\\nnode {\\n  name: &quot;optimize/gradients/embedding_loss/distance_to_neg_items_grad/floordiv&quot;\\n  op: &quot;FloorDiv&quot;\\n  input: &quot;optimize/gradients/embedding_loss/distance_to_neg_items_grad/Shape&quot;\\n  input: &quot;optimize/gradients/embedding_loss/distance_to_neg_items_grad/Maximum&quot;\\n  attr {\\n    key: &quot;T&quot;\\n    value {\\n      type: DT_INT32\\n    }\\n  }\\n  attr {\\n    key: &quot;_class&quot;\\n    value {\\n      list {\\n        s: &quot;loc:@optimize/gradients/embedding_loss/distance_to_neg_items_grad/Shape&quot;\\n      }\\n    }\\n  }\\n}\\nnode {\\n  name: &quot;optimize/gradients/embedding_loss/distance_to_neg_items_grad/Reshape&quot;\\n  op: &quot;Reshape&quot;\\n  input: &quot;optimize/gradients/embedding_loss/closest_negative_distances_grad/mul&quot;\\n  input: &quot;optimize/gradients/embedding_loss/distance_to_neg_items_grad/DynamicStitch&quot;\\n  attr {\\n    key: &quot;T&quot;\\n    value {\\n      type: DT_FLOAT\\n    }\\n  }\\n  attr {\\n    key: &quot;Tshape&quot;\\n    value {\\n      type: DT_INT32\\n    }\\n  }\\n}\\nnode {\\n  name: &quot;optimize/gradients/embedding_loss/distance_to_neg_items_grad/Tile&quot;\\n  op: &quot;Tile&quot;\\n  input: &quot;optimize/gradients/embedding_loss/distance_to_neg_items_grad/Reshape&quot;\\n  input: &quot;optimize/gradients/embedding_loss/distance_to_neg_items_grad/floordiv&quot;\\n  attr {\\n    key: &quot;T&quot;\\n    value {\\n      type: DT_FLOAT\\n    }\\n  }\\n  attr {\\n    key: &quot;Tmultiples&quot;\\n    value {\\n      type: DT_INT32\\n    }\\n  }\\n}\\nnode {\\n  name: &quot;optimize/gradients/AddN_1&quot;\\n  op: &quot;AddN&quot;\\n  input: &quot;optimize/gradients/loss/covariance_loss/sub_grad/tuple/control_dependency&quot;\\n  input: &quot;optimize/gradients/loss/covariance_loss/Mean_grad/truediv&quot;\\n  attr {\\n    key: &quot;N&quot;\\n    value {\\n      i: 2\\n    }\\n  }\\n  attr {\\n    key: &quot;T&quot;\\n    value {\\n      type: DT_FLOAT\\n    }\\n  }\\n  attr {\\n    key: &quot;_class&quot;\\n    value {\\n      list {\\n        s: &quot;loc:@optimize/gradients/loss/covariance_loss/sub_grad/Reshape&quot;\\n      }\\n    }\\n  }\\n}\\nnode {\\n  name: &quot;optimize/gradients/loss/covariance_loss/concat_grad/Rank&quot;\\n  op: &quot;Const&quot;\\n  attr {\\n    key: &quot;dtype&quot;\\n    value {\\n      type: DT_INT32\\n    }\\n  }\\n  attr {\\n    key: &quot;value&quot;\\n    value {\\n      tensor {\\n        dtype: DT_INT32\\n        tensor_shape {\\n        }\\n        int_val: 2\\n      }\\n    }\\n  }\\n}\\nnode {\\n  name: &quot;optimize/gradients/loss/covariance_loss/concat_grad/mod&quot;\\n  op: &quot;FloorMod&quot;\\n  input: &quot;loss/covariance_loss/concat/axis&quot;\\n  input: &quot;optimize/gradients/loss/covariance_loss/concat_grad/Rank&quot;\\n  attr {\\n    key: &quot;T&quot;\\n    value {\\n      type: DT_INT32\\n    }\\n  }\\n}\\nnode {\\n  name: &quot;optimize/gradients/loss/covariance_loss/concat_grad/Shape&quot;\\n  op: &quot;Const&quot;\\n  attr {\\n    key: &quot;dtype&quot;\\n    value {\\n      type: DT_INT32\\n    }\\n  }\\n  attr {\\n    key: &quot;value&quot;\\n    value {\\n      tensor {\\n        dtype: DT_INT32\\n        tensor_shape {\\n          dim {\\n            size: 2\\n          }\\n        }\\n        tensor_content: &quot;we\\\\000\\\\000d\\\\000\\\\000\\\\000&quot;\\n      }\\n    }\\n  }\\n}\\nnode {\\n  name: &quot;optimize/gradients/loss/covariance_loss/concat_grad/Shape_1&quot;\\n  op: &quot;Const&quot;\\n  attr {\\n    key: &quot;dtype&quot;\\n    value {\\n      type: DT_INT32\\n    }\\n  }\\n  attr {\\n    key: &quot;value&quot;\\n    value {\\n      tensor {\\n        dtype: DT_INT32\\n        tensor_shape {\\n          dim {\\n            size: 2\\n          }\\n        }\\n        tensor_content: &quot;\\\\013\\\\037\\\\000\\\\000d\\\\000\\\\000\\\\000&quot;\\n      }\\n    }\\n  }\\n}\\nnode {\\n  name: &quot;optimize/gradients/loss/covariance_loss/concat_grad/ConcatOffset&quot;\\n  op: &quot;ConcatOffset&quot;\\n  input: &quot;optimize/gradients/loss/covariance_loss/concat_grad/mod&quot;\\n  input: &quot;optimize/gradients/loss/covariance_loss/concat_grad/Shape&quot;\\n  input: &quot;optimize/gradients/loss/covariance_loss/concat_grad/Shape_1&quot;\\n  attr {\\n    key: &quot;N&quot;\\n    value {\\n      i: 2\\n    }\\n  }\\n}\\nnode {\\n  name: &quot;optimize/gradients/loss/covariance_loss/concat_grad/Slice&quot;\\n  op: &quot;Slice&quot;\\n  input: &quot;optimize/gradients/AddN_1&quot;\\n  input: &quot;optimize/gradients/loss/covariance_loss/concat_grad/ConcatOffset&quot;\\n  input: &quot;optimize/gradients/loss/covariance_loss/concat_grad/Shape&quot;\\n  attr {\\n    key: &quot;Index&quot;\\n    value {\\n      type: DT_INT32\\n    }\\n  }\\n  attr {\\n    key: &quot;T&quot;\\n    value {\\n      type: DT_FLOAT\\n    }\\n  }\\n}\\nnode {\\n  name: &quot;optimize/gradients/loss/covariance_loss/concat_grad/Slice_1&quot;\\n  op: &quot;Slice&quot;\\n  input: &quot;optimize/gradients/AddN_1&quot;\\n  input: &quot;optimize/gradients/loss/covariance_loss/concat_grad/ConcatOffset:1&quot;\\n  input: &quot;optimize/gradients/loss/covariance_loss/concat_grad/Shape_1&quot;\\n  attr {\\n    key: &quot;Index&quot;\\n    value {\\n      type: DT_INT32\\n    }\\n  }\\n  attr {\\n    key: &quot;T&quot;\\n    value {\\n      type: DT_FLOAT\\n    }\\n  }\\n}\\nnode {\\n  name: &quot;optimize/gradients/loss/covariance_loss/concat_grad/tuple/group_deps&quot;\\n  op: &quot;NoOp&quot;\\n  input: &quot;^optimize/gradients/loss/covariance_loss/concat_grad/Slice&quot;\\n  input: &quot;^optimize/gradients/loss/covariance_loss/concat_grad/Slice_1&quot;\\n}\\nnode {\\n  name: &quot;optimize/gradients/loss/covariance_loss/concat_grad/tuple/control_dependency&quot;\\n  op: &quot;Identity&quot;\\n  input: &quot;optimize/gradients/loss/covariance_loss/concat_grad/Slice&quot;\\n  input: &quot;^optimize/gradients/loss/covariance_loss/concat_grad/tuple/group_deps&quot;\\n  attr {\\n    key: &quot;T&quot;\\n    value {\\n      type: DT_FLOAT\\n    }\\n  }\\n  attr {\\n    key: &quot;_class&quot;\\n    value {\\n      list {\\n        s: &quot;loc:@optimize/gradients/loss/covariance_loss/concat_grad/Slice&quot;\\n      }\\n    }\\n  }\\n}\\nnode {\\n  name: &quot;optimize/gradients/loss/covariance_loss/concat_grad/tuple/control_dependency_1&quot;\\n  op: &quot;Identity&quot;\\n  input: &quot;optimize/gradients/loss/covariance_loss/concat_grad/Slice_1&quot;\\n  input: &quot;^optimize/gradients/loss/covariance_loss/concat_grad/tuple/group_deps&quot;\\n  attr {\\n    key: &quot;T&quot;\\n    value {\\n      type: DT_FLOAT\\n    }\\n  }\\n  attr {\\n    key: &quot;_class&quot;\\n    value {\\n      list {\\n        s: &quot;loc:@optimize/gradients/loss/covariance_loss/concat_grad/Slice_1&quot;\\n      }\\n    }\\n  }\\n}\\nnode {\\n  name: &quot;optimize/gradients/embedding_loss/SquaredDifference_1_grad/Shape&quot;\\n  op: &quot;Shape&quot;\\n  input: &quot;embedding_loss/ExpandDims&quot;\\n  attr {\\n    key: &quot;T&quot;\\n    value {\\n      type: DT_FLOAT\\n    }\\n  }\\n  attr {\\n    key: &quot;out_type&quot;\\n    value {\\n      type: DT_INT32\\n    }\\n  }\\n}\\nnode {\\n  name: &quot;optimize/gradients/embedding_loss/SquaredDifference_1_grad/Shape_1&quot;\\n  op: &quot;Shape&quot;\\n  input: &quot;embedding_loss/neg_items&quot;\\n  attr {\\n    key: &quot;T&quot;\\n    value {\\n      type: DT_FLOAT\\n    }\\n  }\\n  attr {\\n    key: &quot;out_type&quot;\\n    value {\\n      type: DT_INT32\\n    }\\n  }\\n}\\nnode {\\n  name: &quot;optimize/gradients/embedding_loss/SquaredDifference_1_grad/BroadcastGradientArgs&quot;\\n  op: &quot;BroadcastGradientArgs&quot;\\n  input: &quot;optimize/gradients/embedding_loss/SquaredDifference_1_grad/Shape&quot;\\n  input: &quot;optimize/gradients/embedding_loss/SquaredDifference_1_grad/Shape_1&quot;\\n  attr {\\n    key: &quot;T&quot;\\n    value {\\n      type: DT_INT32\\n    }\\n  }\\n}\\nnode {\\n  name: &quot;optimize/gradients/embedding_loss/SquaredDifference_1_grad/scalar&quot;\\n  op: &quot;Const&quot;\\n  input: &quot;^optimize/gradients/embedding_loss/distance_to_neg_items_grad/Tile&quot;\\n  attr {\\n    key: &quot;dtype&quot;\\n    value {\\n      type: DT_FLOAT\\n    }\\n  }\\n  attr {\\n    key: &quot;value&quot;\\n    value {\\n      tensor {\\n        dtype: DT_FLOAT\\n        tensor_shape {\\n        }\\n        float_val: 2.0\\n      }\\n    }\\n  }\\n}\\nnode {\\n  name: &quot;optimize/gradients/embedding_loss/SquaredDifference_1_grad/mul&quot;\\n  op: &quot;Mul&quot;\\n  input: &quot;optimize/gradients/embedding_loss/SquaredDifference_1_grad/scalar&quot;\\n  input: &quot;optimize/gradients/embedding_loss/distance_to_neg_items_grad/Tile&quot;\\n  attr {\\n    key: &quot;T&quot;\\n    value {\\n      type: DT_FLOAT\\n    }\\n  }\\n}\\nnode {\\n  name: &quot;optimize/gradients/embedding_loss/SquaredDifference_1_grad/sub&quot;\\n  op: &quot;Sub&quot;\\n  input: &quot;embedding_loss/ExpandDims&quot;\\n  input: &quot;embedding_loss/neg_items&quot;\\n  input: &quot;^optimize/gradients/embedding_loss/distance_to_neg_items_grad/Tile&quot;\\n  attr {\\n    key: &quot;T&quot;\\n    value {\\n      type: DT_FLOAT\\n    }\\n  }\\n}\\nnode {\\n  name: &quot;optimize/gradients/embedding_loss/SquaredDifference_1_grad/mul_1&quot;\\n  op: &quot;Mul&quot;\\n  input: &quot;optimize/gradients/embedding_loss/SquaredDifference_1_grad/mul&quot;\\n  input: &quot;optimize/gradients/embedding_loss/SquaredDifference_1_grad/sub&quot;\\n  attr {\\n    key: &quot;T&quot;\\n    value {\\n      type: DT_FLOAT\\n    }\\n  }\\n}\\nnode {\\n  name: &quot;optimize/gradients/embedding_loss/SquaredDifference_1_grad/Sum&quot;\\n  op: &quot;Sum&quot;\\n  input: &quot;optimize/gradients/embedding_loss/SquaredDifference_1_grad/mul_1&quot;\\n  input: &quot;optimize/gradients/embedding_loss/SquaredDifference_1_grad/BroadcastGradientArgs&quot;\\n  attr {\\n    key: &quot;T&quot;\\n    value {\\n      type: DT_FLOAT\\n    }\\n  }\\n  attr {\\n    key: &quot;Tidx&quot;\\n    value {\\n      type: DT_INT32\\n    }\\n  }\\n  attr {\\n    key: &quot;keep_dims&quot;\\n    value {\\n      b: false\\n    }\\n  }\\n}\\nnode {\\n  name: &quot;optimize/gradients/embedding_loss/SquaredDifference_1_grad/Reshape&quot;\\n  op: &quot;Reshape&quot;\\n  input: &quot;optimize/gradients/embedding_loss/SquaredDifference_1_grad/Sum&quot;\\n  input: &quot;optimize/gradients/embedding_loss/SquaredDifference_1_grad/Shape&quot;\\n  attr {\\n    key: &quot;T&quot;\\n    value {\\n      type: DT_FLOAT\\n    }\\n  }\\n  attr {\\n    key: &quot;Tshape&quot;\\n    value {\\n      type: DT_INT32\\n    }\\n  }\\n}\\nnode {\\n  name: &quot;optimize/gradients/embedding_loss/SquaredDifference_1_grad/Sum_1&quot;\\n  op: &quot;Sum&quot;\\n  input: &quot;optimize/gradients/embedding_loss/SquaredDifference_1_grad/mul_1&quot;\\n  input: &quot;optimize/gradients/embedding_loss/SquaredDifference_1_grad/BroadcastGradientArgs:1&quot;\\n  attr {\\n    key: &quot;T&quot;\\n    value {\\n      type: DT_FLOAT\\n    }\\n  }\\n  attr {\\n    key: &quot;Tidx&quot;\\n    value {\\n      type: DT_INT32\\n    }\\n  }\\n  attr {\\n    key: &quot;keep_dims&quot;\\n    value {\\n      b: false\\n    }\\n  }\\n}\\nnode {\\n  name: &quot;optimize/gradients/embedding_loss/SquaredDifference_1_grad/Reshape_1&quot;\\n  op: &quot;Reshape&quot;\\n  input: &quot;optimize/gradients/embedding_loss/SquaredDifference_1_grad/Sum_1&quot;\\n  input: &quot;optimize/gradients/embedding_loss/SquaredDifference_1_grad/Shape_1&quot;\\n  attr {\\n    key: &quot;T&quot;\\n    value {\\n      type: DT_FLOAT\\n    }\\n  }\\n  attr {\\n    key: &quot;Tshape&quot;\\n    value {\\n      type: DT_INT32\\n    }\\n  }\\n}\\nnode {\\n  name: &quot;optimize/gradients/embedding_loss/SquaredDifference_1_grad/Neg&quot;\\n  op: &quot;Neg&quot;\\n  input: &quot;optimize/gradients/embedding_loss/SquaredDifference_1_grad/Reshape_1&quot;\\n  attr {\\n    key: &quot;T&quot;\\n    value {\\n      type: DT_FLOAT\\n    }\\n  }\\n}\\nnode {\\n  name: &quot;optimize/gradients/embedding_loss/SquaredDifference_1_grad/tuple/group_deps&quot;\\n  op: &quot;NoOp&quot;\\n  input: &quot;^optimize/gradients/embedding_loss/SquaredDifference_1_grad/Neg&quot;\\n  input: &quot;^optimize/gradients/embedding_loss/SquaredDifference_1_grad/Reshape&quot;\\n}\\nnode {\\n  name: &quot;optimize/gradients/embedding_loss/SquaredDifference_1_grad/tuple/control_dependency&quot;\\n  op: &quot;Identity&quot;\\n  input: &quot;optimize/gradients/embedding_loss/SquaredDifference_1_grad/Reshape&quot;\\n  input: &quot;^optimize/gradients/embedding_loss/SquaredDifference_1_grad/tuple/group_deps&quot;\\n  attr {\\n    key: &quot;T&quot;\\n    value {\\n      type: DT_FLOAT\\n    }\\n  }\\n  attr {\\n    key: &quot;_class&quot;\\n    value {\\n      list {\\n        s: &quot;loc:@optimize/gradients/embedding_loss/SquaredDifference_1_grad/Reshape&quot;\\n      }\\n    }\\n  }\\n}\\nnode {\\n  name: &quot;optimize/gradients/embedding_loss/SquaredDifference_1_grad/tuple/control_dependency_1&quot;\\n  op: &quot;Identity&quot;\\n  input: &quot;optimize/gradients/embedding_loss/SquaredDifference_1_grad/Neg&quot;\\n  input: &quot;^optimize/gradients/embedding_loss/SquaredDifference_1_grad/tuple/group_deps&quot;\\n  attr {\\n    key: &quot;T&quot;\\n    value {\\n      type: DT_FLOAT\\n    }\\n  }\\n  attr {\\n    key: &quot;_class&quot;\\n    value {\\n      list {\\n        s: &quot;loc:@optimize/gradients/embedding_loss/SquaredDifference_1_grad/Neg&quot;\\n      }\\n    }\\n  }\\n}\\nnode {\\n  name: &quot;optimize/gradients/embedding_loss/pos_items_grad/Shape&quot;\\n  op: &quot;Const&quot;\\n  attr {\\n    key: &quot;_class&quot;\\n    value {\\n      list {\\n        s: &quot;loc:@item_embeddings/Variable&quot;\\n      }\\n    }\\n  }\\n  attr {\\n    key: &quot;dtype&quot;\\n    value {\\n      type: DT_INT64\\n    }\\n  }\\n  attr {\\n    key: &quot;value&quot;\\n    value {\\n      tensor {\\n        dtype: DT_INT64\\n        tensor_shape {\\n          dim {\\n            size: 2\\n          }\\n        }\\n        tensor_content: &quot;we\\\\000\\\\000\\\\000\\\\000\\\\000\\\\000d\\\\000\\\\000\\\\000\\\\000\\\\000\\\\000\\\\000&quot;\\n      }\\n    }\\n  }\\n}\\nnode {\\n  name: &quot;optimize/gradients/embedding_loss/pos_items_grad/ToInt32&quot;\\n  op: &quot;Cast&quot;\\n  input: &quot;optimize/gradients/embedding_loss/pos_items_grad/Shape&quot;\\n  attr {\\n    key: &quot;DstT&quot;\\n    value {\\n      type: DT_INT32\\n    }\\n  }\\n  attr {\\n    key: &quot;SrcT&quot;\\n    value {\\n      type: DT_INT64\\n    }\\n  }\\n  attr {\\n    key: &quot;Truncate&quot;\\n    value {\\n      b: false\\n    }\\n  }\\n  attr {\\n    key: &quot;_class&quot;\\n    value {\\n      list {\\n        s: &quot;loc:@item_embeddings/Variable&quot;\\n      }\\n    }\\n  }\\n}\\nnode {\\n  name: &quot;optimize/gradients/embedding_loss/pos_items_grad/Size&quot;\\n  op: &quot;Size&quot;\\n  input: &quot;embedding_loss/strided_slice_1&quot;\\n  attr {\\n    key: &quot;T&quot;\\n    value {\\n      type: DT_INT32\\n    }\\n  }\\n  attr {\\n    key: &quot;out_type&quot;\\n    value {\\n      type: DT_INT32\\n    }\\n  }\\n}\\nnode {\\n  name: &quot;optimize/gradients/embedding_loss/pos_items_grad/ExpandDims/dim&quot;\\n  op: &quot;Const&quot;\\n  attr {\\n    key: &quot;dtype&quot;\\n    value {\\n      type: DT_INT32\\n    }\\n  }\\n  attr {\\n    key: &quot;value&quot;\\n    value {\\n      tensor {\\n        dtype: DT_INT32\\n        tensor_shape {\\n        }\\n        int_val: 0\\n      }\\n    }\\n  }\\n}\\nnode {\\n  name: &quot;optimize/gradients/embedding_loss/pos_items_grad/ExpandDims&quot;\\n  op: &quot;ExpandDims&quot;\\n  input: &quot;optimize/gradients/embedding_loss/pos_items_grad/Size&quot;\\n  input: &quot;optimize/gradients/embedding_loss/pos_items_grad/ExpandDims/dim&quot;\\n  attr {\\n    key: &quot;T&quot;\\n    value {\\n      type: DT_INT32\\n    }\\n  }\\n  attr {\\n    key: &quot;Tdim&quot;\\n    value {\\n      type: DT_INT32\\n    }\\n  }\\n}\\nnode {\\n  name: &quot;optimize/gradients/embedding_loss/pos_items_grad/strided_slice/stack&quot;\\n  op: &quot;Const&quot;\\n  attr {\\n    key: &quot;dtype&quot;\\n    value {\\n      type: DT_INT32\\n    }\\n  }\\n  attr {\\n    key: &quot;value&quot;\\n    value {\\n      tensor {\\n        dtype: DT_INT32\\n        tensor_shape {\\n          dim {\\n            size: 1\\n          }\\n        }\\n        int_val: 1\\n      }\\n    }\\n  }\\n}\\nnode {\\n  name: &quot;optimize/gradients/embedding_loss/pos_items_grad/strided_slice/stack_1&quot;\\n  op: &quot;Const&quot;\\n  attr {\\n    key: &quot;dtype&quot;\\n    value {\\n      type: DT_INT32\\n    }\\n  }\\n  attr {\\n    key: &quot;value&quot;\\n    value {\\n      tensor {\\n        dtype: DT_INT32\\n        tensor_shape {\\n          dim {\\n            size: 1\\n          }\\n        }\\n        int_val: 0\\n      }\\n    }\\n  }\\n}\\nnode {\\n  name: &quot;optimize/gradients/embedding_loss/pos_items_grad/strided_slice/stack_2&quot;\\n  op: &quot;Const&quot;\\n  attr {\\n    key: &quot;dtype&quot;\\n    value {\\n      type: DT_INT32\\n    }\\n  }\\n  attr {\\n    key: &quot;value&quot;\\n    value {\\n      tensor {\\n        dtype: DT_INT32\\n        tensor_shape {\\n          dim {\\n            size: 1\\n          }\\n        }\\n        int_val: 1\\n      }\\n    }\\n  }\\n}\\nnode {\\n  name: &quot;optimize/gradients/embedding_loss/pos_items_grad/strided_slice&quot;\\n  op: &quot;StridedSlice&quot;\\n  input: &quot;optimize/gradients/embedding_loss/pos_items_grad/ToInt32&quot;\\n  input: &quot;optimize/gradients/embedding_loss/pos_items_grad/strided_slice/stack&quot;\\n  input: &quot;optimize/gradients/embedding_loss/pos_items_grad/strided_slice/stack_1&quot;\\n  input: &quot;optimize/gradients/embedding_loss/pos_items_grad/strided_slice/stack_2&quot;\\n  attr {\\n    key: &quot;Index&quot;\\n    value {\\n      type: DT_INT32\\n    }\\n  }\\n  attr {\\n    key: &quot;T&quot;\\n    value {\\n      type: DT_INT32\\n    }\\n  }\\n  attr {\\n    key: &quot;begin_mask&quot;\\n    value {\\n      i: 0\\n    }\\n  }\\n  attr {\\n    key: &quot;ellipsis_mask&quot;\\n    value {\\n      i: 0\\n    }\\n  }\\n  attr {\\n    key: &quot;end_mask&quot;\\n    value {\\n      i: 1\\n    }\\n  }\\n  attr {\\n    key: &quot;new_axis_mask&quot;\\n    value {\\n      i: 0\\n    }\\n  }\\n  attr {\\n    key: &quot;shrink_axis_mask&quot;\\n    value {\\n      i: 0\\n    }\\n  }\\n}\\nnode {\\n  name: &quot;optimize/gradients/embedding_loss/pos_items_grad/concat/axis&quot;\\n  op: &quot;Const&quot;\\n  attr {\\n    key: &quot;dtype&quot;\\n    value {\\n      type: DT_INT32\\n    }\\n  }\\n  attr {\\n    key: &quot;value&quot;\\n    value {\\n      tensor {\\n        dtype: DT_INT32\\n        tensor_shape {\\n        }\\n        int_val: 0\\n      }\\n    }\\n  }\\n}\\nnode {\\n  name: &quot;optimize/gradients/embedding_loss/pos_items_grad/concat&quot;\\n  op: &quot;ConcatV2&quot;\\n  input: &quot;optimize/gradients/embedding_loss/pos_items_grad/ExpandDims&quot;\\n  input: &quot;optimize/gradients/embedding_loss/pos_items_grad/strided_slice&quot;\\n  input: &quot;optimize/gradients/embedding_loss/pos_items_grad/concat/axis&quot;\\n  attr {\\n    key: &quot;N&quot;\\n    value {\\n      i: 2\\n    }\\n  }\\n  attr {\\n    key: &quot;T&quot;\\n    value {\\n      type: DT_INT32\\n    }\\n  }\\n  attr {\\n    key: &quot;Tidx&quot;\\n    value {\\n      type: DT_INT32\\n    }\\n  }\\n}\\nnode {\\n  name: &quot;optimize/gradients/embedding_loss/pos_items_grad/Reshape&quot;\\n  op: &quot;Reshape&quot;\\n  input: &quot;optimize/gradients/embedding_loss/SquaredDifference_grad/tuple/control_dependency_1&quot;\\n  input: &quot;optimize/gradients/embedding_loss/pos_items_grad/concat&quot;\\n  attr {\\n    key: &quot;T&quot;\\n    value {\\n      type: DT_FLOAT\\n    }\\n  }\\n  attr {\\n    key: &quot;Tshape&quot;\\n    value {\\n      type: DT_INT32\\n    }\\n  }\\n}\\nnode {\\n  name: &quot;optimize/gradients/embedding_loss/pos_items_grad/Reshape_1&quot;\\n  op: &quot;Reshape&quot;\\n  input: &quot;embedding_loss/strided_slice_1&quot;\\n  input: &quot;optimize/gradients/embedding_loss/pos_items_grad/ExpandDims&quot;\\n  attr {\\n    key: &quot;T&quot;\\n    value {\\n      type: DT_INT32\\n    }\\n  }\\n  attr {\\n    key: &quot;Tshape&quot;\\n    value {\\n      type: DT_INT32\\n    }\\n  }\\n}\\nnode {\\n  name: &quot;optimize/gradients/embedding_loss/ExpandDims_grad/Shape&quot;\\n  op: &quot;Shape&quot;\\n  input: &quot;embedding_loss/users/Identity&quot;\\n  attr {\\n    key: &quot;T&quot;\\n    value {\\n      type: DT_FLOAT\\n    }\\n  }\\n  attr {\\n    key: &quot;out_type&quot;\\n    value {\\n      type: DT_INT32\\n    }\\n  }\\n}\\nnode {\\n  name: &quot;optimize/gradients/embedding_loss/ExpandDims_grad/Reshape&quot;\\n  op: &quot;Reshape&quot;\\n  input: &quot;optimize/gradients/embedding_loss/SquaredDifference_1_grad/tuple/control_dependency&quot;\\n  input: &quot;optimize/gradients/embedding_loss/ExpandDims_grad/Shape&quot;\\n  attr {\\n    key: &quot;T&quot;\\n    value {\\n      type: DT_FLOAT\\n    }\\n  }\\n  attr {\\n    key: &quot;Tshape&quot;\\n    value {\\n      type: DT_INT32\\n    }\\n  }\\n}\\nnode {\\n  name: &quot;optimize/gradients/embedding_loss/neg_items_grad/InvertPermutation&quot;\\n  op: &quot;InvertPermutation&quot;\\n  input: &quot;embedding_loss/neg_items/perm&quot;\\n  attr {\\n    key: &quot;T&quot;\\n    value {\\n      type: DT_INT32\\n    }\\n  }\\n}\\nnode {\\n  name: &quot;optimize/gradients/embedding_loss/neg_items_grad/transpose&quot;\\n  op: &quot;Transpose&quot;\\n  input: &quot;optimize/gradients/embedding_loss/SquaredDifference_1_grad/tuple/control_dependency_1&quot;\\n  input: &quot;optimize/gradients/embedding_loss/neg_items_grad/InvertPermutation&quot;\\n  attr {\\n    key: &quot;T&quot;\\n    value {\\n      type: DT_FLOAT\\n    }\\n  }\\n  attr {\\n    key: &quot;Tperm&quot;\\n    value {\\n      type: DT_INT32\\n    }\\n  }\\n}\\nnode {\\n  name: &quot;optimize/gradients/AddN_2&quot;\\n  op: &quot;AddN&quot;\\n  input: &quot;optimize/gradients/embedding_loss/SquaredDifference_grad/tuple/control_dependency&quot;\\n  input: &quot;optimize/gradients/embedding_loss/ExpandDims_grad/Reshape&quot;\\n  attr {\\n    key: &quot;N&quot;\\n    value {\\n      i: 2\\n    }\\n  }\\n  attr {\\n    key: &quot;T&quot;\\n    value {\\n      type: DT_FLOAT\\n    }\\n  }\\n  attr {\\n    key: &quot;_class&quot;\\n    value {\\n      list {\\n        s: &quot;loc:@optimize/gradients/embedding_loss/SquaredDifference_grad/Reshape&quot;\\n      }\\n    }\\n  }\\n}\\nnode {\\n  name: &quot;optimize/gradients/embedding_loss/users_grad/Shape&quot;\\n  op: &quot;Const&quot;\\n  attr {\\n    key: &quot;_class&quot;\\n    value {\\n      list {\\n        s: &quot;loc:@user_embeddings/Variable&quot;\\n      }\\n    }\\n  }\\n  attr {\\n    key: &quot;dtype&quot;\\n    value {\\n      type: DT_INT64\\n    }\\n  }\\n  attr {\\n    key: &quot;value&quot;\\n    value {\\n      tensor {\\n        dtype: DT_INT64\\n        tensor_shape {\\n          dim {\\n            size: 2\\n          }\\n        }\\n        tensor_content: &quot;\\\\013\\\\037\\\\000\\\\000\\\\000\\\\000\\\\000\\\\000d\\\\000\\\\000\\\\000\\\\000\\\\000\\\\000\\\\000&quot;\\n      }\\n    }\\n  }\\n}\\nnode {\\n  name: &quot;optimize/gradients/embedding_loss/users_grad/ToInt32&quot;\\n  op: &quot;Cast&quot;\\n  input: &quot;optimize/gradients/embedding_loss/users_grad/Shape&quot;\\n  attr {\\n    key: &quot;DstT&quot;\\n    value {\\n      type: DT_INT32\\n    }\\n  }\\n  attr {\\n    key: &quot;SrcT&quot;\\n    value {\\n      type: DT_INT64\\n    }\\n  }\\n  attr {\\n    key: &quot;Truncate&quot;\\n    value {\\n      b: false\\n    }\\n  }\\n  attr {\\n    key: &quot;_class&quot;\\n    value {\\n      list {\\n        s: &quot;loc:@user_embeddings/Variable&quot;\\n      }\\n    }\\n  }\\n}\\nnode {\\n  name: &quot;optimize/gradients/embedding_loss/users_grad/Size&quot;\\n  op: &quot;Size&quot;\\n  input: &quot;embedding_loss/strided_slice&quot;\\n  attr {\\n    key: &quot;T&quot;\\n    value {\\n      type: DT_INT32\\n    }\\n  }\\n  attr {\\n    key: &quot;out_type&quot;\\n    value {\\n      type: DT_INT32\\n    }\\n  }\\n}\\nnode {\\n  name: &quot;optimize/gradients/embedding_loss/users_grad/ExpandDims/dim&quot;\\n  op: &quot;Const&quot;\\n  attr {\\n    key: &quot;dtype&quot;\\n    value {\\n      type: DT_INT32\\n    }\\n  }\\n  attr {\\n    key: &quot;value&quot;\\n    value {\\n      tensor {\\n        dtype: DT_INT32\\n        tensor_shape {\\n        }\\n        int_val: 0\\n      }\\n    }\\n  }\\n}\\nnode {\\n  name: &quot;optimize/gradients/embedding_loss/users_grad/ExpandDims&quot;\\n  op: &quot;ExpandDims&quot;\\n  input: &quot;optimize/gradients/embedding_loss/users_grad/Size&quot;\\n  input: &quot;optimize/gradients/embedding_loss/users_grad/ExpandDims/dim&quot;\\n  attr {\\n    key: &quot;T&quot;\\n    value {\\n      type: DT_INT32\\n    }\\n  }\\n  attr {\\n    key: &quot;Tdim&quot;\\n    value {\\n      type: DT_INT32\\n    }\\n  }\\n}\\nnode {\\n  name: &quot;optimize/gradients/embedding_loss/users_grad/strided_slice/stack&quot;\\n  op: &quot;Const&quot;\\n  attr {\\n    key: &quot;dtype&quot;\\n    value {\\n      type: DT_INT32\\n    }\\n  }\\n  attr {\\n    key: &quot;value&quot;\\n    value {\\n      tensor {\\n        dtype: DT_INT32\\n        tensor_shape {\\n          dim {\\n            size: 1\\n          }\\n        }\\n        int_val: 1\\n      }\\n    }\\n  }\\n}\\nnode {\\n  name: &quot;optimize/gradients/embedding_loss/users_grad/strided_slice/stack_1&quot;\\n  op: &quot;Const&quot;\\n  attr {\\n    key: &quot;dtype&quot;\\n    value {\\n      type: DT_INT32\\n    }\\n  }\\n  attr {\\n    key: &quot;value&quot;\\n    value {\\n      tensor {\\n        dtype: DT_INT32\\n        tensor_shape {\\n          dim {\\n            size: 1\\n          }\\n        }\\n        int_val: 0\\n      }\\n    }\\n  }\\n}\\nnode {\\n  name: &quot;optimize/gradients/embedding_loss/users_grad/strided_slice/stack_2&quot;\\n  op: &quot;Const&quot;\\n  attr {\\n    key: &quot;dtype&quot;\\n    value {\\n      type: DT_INT32\\n    }\\n  }\\n  attr {\\n    key: &quot;value&quot;\\n    value {\\n      tensor {\\n        dtype: DT_INT32\\n        tensor_shape {\\n          dim {\\n            size: 1\\n          }\\n        }\\n        int_val: 1\\n      }\\n    }\\n  }\\n}\\nnode {\\n  name: &quot;optimize/gradients/embedding_loss/users_grad/strided_slice&quot;\\n  op: &quot;StridedSlice&quot;\\n  input: &quot;optimize/gradients/embedding_loss/users_grad/ToInt32&quot;\\n  input: &quot;optimize/gradients/embedding_loss/users_grad/strided_slice/stack&quot;\\n  input: &quot;optimize/gradients/embedding_loss/users_grad/strided_slice/stack_1&quot;\\n  input: &quot;optimize/gradients/embedding_loss/users_grad/strided_slice/stack_2&quot;\\n  attr {\\n    key: &quot;Index&quot;\\n    value {\\n      type: DT_INT32\\n    }\\n  }\\n  attr {\\n    key: &quot;T&quot;\\n    value {\\n      type: DT_INT32\\n    }\\n  }\\n  attr {\\n    key: &quot;begin_mask&quot;\\n    value {\\n      i: 0\\n    }\\n  }\\n  attr {\\n    key: &quot;ellipsis_mask&quot;\\n    value {\\n      i: 0\\n    }\\n  }\\n  attr {\\n    key: &quot;end_mask&quot;\\n    value {\\n      i: 1\\n    }\\n  }\\n  attr {\\n    key: &quot;new_axis_mask&quot;\\n    value {\\n      i: 0\\n    }\\n  }\\n  attr {\\n    key: &quot;shrink_axis_mask&quot;\\n    value {\\n      i: 0\\n    }\\n  }\\n}\\nnode {\\n  name: &quot;optimize/gradients/embedding_loss/users_grad/concat/axis&quot;\\n  op: &quot;Const&quot;\\n  attr {\\n    key: &quot;dtype&quot;\\n    value {\\n      type: DT_INT32\\n    }\\n  }\\n  attr {\\n    key: &quot;value&quot;\\n    value {\\n      tensor {\\n        dtype: DT_INT32\\n        tensor_shape {\\n        }\\n        int_val: 0\\n      }\\n    }\\n  }\\n}\\nnode {\\n  name: &quot;optimize/gradients/embedding_loss/users_grad/concat&quot;\\n  op: &quot;ConcatV2&quot;\\n  input: &quot;optimize/gradients/embedding_loss/users_grad/ExpandDims&quot;\\n  input: &quot;optimize/gradients/embedding_loss/users_grad/strided_slice&quot;\\n  input: &quot;optimize/gradients/embedding_loss/users_grad/concat/axis&quot;\\n  attr {\\n    key: &quot;N&quot;\\n    value {\\n      i: 2\\n    }\\n  }\\n  attr {\\n    key: &quot;T&quot;\\n    value {\\n      type: DT_INT32\\n    }\\n  }\\n  attr {\\n    key: &quot;Tidx&quot;\\n    value {\\n      type: DT_INT32\\n    }\\n  }\\n}\\nnode {\\n  name: &quot;optimize/gradients/embedding_loss/users_grad/Reshape&quot;\\n  op: &quot;Reshape&quot;\\n  input: &quot;optimize/gradients/AddN_2&quot;\\n  input: &quot;optimize/gradients/embedding_loss/users_grad/concat&quot;\\n  attr {\\n    key: &quot;T&quot;\\n    value {\\n      type: DT_FLOAT\\n    }\\n  }\\n  attr {\\n    key: &quot;Tshape&quot;\\n    value {\\n      type: DT_INT32\\n    }\\n  }\\n}\\nnode {\\n  name: &quot;optimize/gradients/embedding_loss/users_grad/Reshape_1&quot;\\n  op: &quot;Reshape&quot;\\n  input: &quot;embedding_loss/strided_slice&quot;\\n  input: &quot;optimize/gradients/embedding_loss/users_grad/ExpandDims&quot;\\n  attr {\\n    key: &quot;T&quot;\\n    value {\\n      type: DT_INT32\\n    }\\n  }\\n  attr {\\n    key: &quot;Tshape&quot;\\n    value {\\n      type: DT_INT32\\n    }\\n  }\\n}\\nnode {\\n  name: &quot;optimize/gradients/embedding_loss/embedding_lookup_grad/Shape&quot;\\n  op: &quot;Const&quot;\\n  attr {\\n    key: &quot;_class&quot;\\n    value {\\n      list {\\n        s: &quot;loc:@item_embeddings/Variable&quot;\\n      }\\n    }\\n  }\\n  attr {\\n    key: &quot;dtype&quot;\\n    value {\\n      type: DT_INT64\\n    }\\n  }\\n  attr {\\n    key: &quot;value&quot;\\n    value {\\n      tensor {\\n        dtype: DT_INT64\\n        tensor_shape {\\n          dim {\\n            size: 2\\n          }\\n        }\\n        tensor_content: &quot;we\\\\000\\\\000\\\\000\\\\000\\\\000\\\\000d\\\\000\\\\000\\\\000\\\\000\\\\000\\\\000\\\\000&quot;\\n      }\\n    }\\n  }\\n}\\nnode {\\n  name: &quot;optimize/gradients/embedding_loss/embedding_lookup_grad/ToInt32&quot;\\n  op: &quot;Cast&quot;\\n  input: &quot;optimize/gradients/embedding_loss/embedding_lookup_grad/Shape&quot;\\n  attr {\\n    key: &quot;DstT&quot;\\n    value {\\n      type: DT_INT32\\n    }\\n  }\\n  attr {\\n    key: &quot;SrcT&quot;\\n    value {\\n      type: DT_INT64\\n    }\\n  }\\n  attr {\\n    key: &quot;Truncate&quot;\\n    value {\\n      b: false\\n    }\\n  }\\n  attr {\\n    key: &quot;_class&quot;\\n    value {\\n      list {\\n        s: &quot;loc:@item_embeddings/Variable&quot;\\n      }\\n    }\\n  }\\n}\\nnode {\\n  name: &quot;optimize/gradients/embedding_loss/embedding_lookup_grad/Size&quot;\\n  op: &quot;Size&quot;\\n  input: &quot;neg_items&quot;\\n  attr {\\n    key: &quot;T&quot;\\n    value {\\n      type: DT_INT32\\n    }\\n  }\\n  attr {\\n    key: &quot;out_type&quot;\\n    value {\\n      type: DT_INT32\\n    }\\n  }\\n}\\nnode {\\n  name: &quot;optimize/gradients/embedding_loss/embedding_lookup_grad/ExpandDims/dim&quot;\\n  op: &quot;Const&quot;\\n  attr {\\n    key: &quot;dtype&quot;\\n    value {\\n      type: DT_INT32\\n    }\\n  }\\n  attr {\\n    key: &quot;value&quot;\\n    value {\\n      tensor {\\n        dtype: DT_INT32\\n        tensor_shape {\\n        }\\n        int_val: 0\\n      }\\n    }\\n  }\\n}\\nnode {\\n  name: &quot;optimize/gradients/embedding_loss/embedding_lookup_grad/ExpandDims&quot;\\n  op: &quot;ExpandDims&quot;\\n  input: &quot;optimize/gradients/embedding_loss/embedding_lookup_grad/Size&quot;\\n  input: &quot;optimize/gradients/embedding_loss/embedding_lookup_grad/ExpandDims/dim&quot;\\n  attr {\\n    key: &quot;T&quot;\\n    value {\\n      type: DT_INT32\\n    }\\n  }\\n  attr {\\n    key: &quot;Tdim&quot;\\n    value {\\n      type: DT_INT32\\n    }\\n  }\\n}\\nnode {\\n  name: &quot;optimize/gradients/embedding_loss/embedding_lookup_grad/strided_slice/stack&quot;\\n  op: &quot;Const&quot;\\n  attr {\\n    key: &quot;dtype&quot;\\n    value {\\n      type: DT_INT32\\n    }\\n  }\\n  attr {\\n    key: &quot;value&quot;\\n    value {\\n      tensor {\\n        dtype: DT_INT32\\n        tensor_shape {\\n          dim {\\n            size: 1\\n          }\\n        }\\n        int_val: 1\\n      }\\n    }\\n  }\\n}\\nnode {\\n  name: &quot;optimize/gradients/embedding_loss/embedding_lookup_grad/strided_slice/stack_1&quot;\\n  op: &quot;Const&quot;\\n  attr {\\n    key: &quot;dtype&quot;\\n    value {\\n      type: DT_INT32\\n    }\\n  }\\n  attr {\\n    key: &quot;value&quot;\\n    value {\\n      tensor {\\n        dtype: DT_INT32\\n        tensor_shape {\\n          dim {\\n            size: 1\\n          }\\n        }\\n        int_val: 0\\n      }\\n    }\\n  }\\n}\\nnode {\\n  name: &quot;optimize/gradients/embedding_loss/embedding_lookup_grad/strided_slice/stack_2&quot;\\n  op: &quot;Const&quot;\\n  attr {\\n    key: &quot;dtype&quot;\\n    value {\\n      type: DT_INT32\\n    }\\n  }\\n  attr {\\n    key: &quot;value&quot;\\n    value {\\n      tensor {\\n        dtype: DT_INT32\\n        tensor_shape {\\n          dim {\\n            size: 1\\n          }\\n        }\\n        int_val: 1\\n      }\\n    }\\n  }\\n}\\nnode {\\n  name: &quot;optimize/gradients/embedding_loss/embedding_lookup_grad/strided_slice&quot;\\n  op: &quot;StridedSlice&quot;\\n  input: &quot;optimize/gradients/embedding_loss/embedding_lookup_grad/ToInt32&quot;\\n  input: &quot;optimize/gradients/embedding_loss/embedding_lookup_grad/strided_slice/stack&quot;\\n  input: &quot;optimize/gradients/embedding_loss/embedding_lookup_grad/strided_slice/stack_1&quot;\\n  input: &quot;optimize/gradients/embedding_loss/embedding_lookup_grad/strided_slice/stack_2&quot;\\n  attr {\\n    key: &quot;Index&quot;\\n    value {\\n      type: DT_INT32\\n    }\\n  }\\n  attr {\\n    key: &quot;T&quot;\\n    value {\\n      type: DT_INT32\\n    }\\n  }\\n  attr {\\n    key: &quot;begin_mask&quot;\\n    value {\\n      i: 0\\n    }\\n  }\\n  attr {\\n    key: &quot;ellipsis_mask&quot;\\n    value {\\n      i: 0\\n    }\\n  }\\n  attr {\\n    key: &quot;end_mask&quot;\\n    value {\\n      i: 1\\n    }\\n  }\\n  attr {\\n    key: &quot;new_axis_mask&quot;\\n    value {\\n      i: 0\\n    }\\n  }\\n  attr {\\n    key: &quot;shrink_axis_mask&quot;\\n    value {\\n      i: 0\\n    }\\n  }\\n}\\nnode {\\n  name: &quot;optimize/gradients/embedding_loss/embedding_lookup_grad/concat/axis&quot;\\n  op: &quot;Const&quot;\\n  attr {\\n    key: &quot;dtype&quot;\\n    value {\\n      type: DT_INT32\\n    }\\n  }\\n  attr {\\n    key: &quot;value&quot;\\n    value {\\n      tensor {\\n        dtype: DT_INT32\\n        tensor_shape {\\n        }\\n        int_val: 0\\n      }\\n    }\\n  }\\n}\\nnode {\\n  name: &quot;optimize/gradients/embedding_loss/embedding_lookup_grad/concat&quot;\\n  op: &quot;ConcatV2&quot;\\n  input: &quot;optimize/gradients/embedding_loss/embedding_lookup_grad/ExpandDims&quot;\\n  input: &quot;optimize/gradients/embedding_loss/embedding_lookup_grad/strided_slice&quot;\\n  input: &quot;optimize/gradients/embedding_loss/embedding_lookup_grad/concat/axis&quot;\\n  attr {\\n    key: &quot;N&quot;\\n    value {\\n      i: 2\\n    }\\n  }\\n  attr {\\n    key: &quot;T&quot;\\n    value {\\n      type: DT_INT32\\n    }\\n  }\\n  attr {\\n    key: &quot;Tidx&quot;\\n    value {\\n      type: DT_INT32\\n    }\\n  }\\n}\\nnode {\\n  name: &quot;optimize/gradients/embedding_loss/embedding_lookup_grad/Reshape&quot;\\n  op: &quot;Reshape&quot;\\n  input: &quot;optimize/gradients/embedding_loss/neg_items_grad/transpose&quot;\\n  input: &quot;optimize/gradients/embedding_loss/embedding_lookup_grad/concat&quot;\\n  attr {\\n    key: &quot;T&quot;\\n    value {\\n      type: DT_FLOAT\\n    }\\n  }\\n  attr {\\n    key: &quot;Tshape&quot;\\n    value {\\n      type: DT_INT32\\n    }\\n  }\\n}\\nnode {\\n  name: &quot;optimize/gradients/embedding_loss/embedding_lookup_grad/Reshape_1&quot;\\n  op: &quot;Reshape&quot;\\n  input: &quot;neg_items&quot;\\n  input: &quot;optimize/gradients/embedding_loss/embedding_lookup_grad/ExpandDims&quot;\\n  attr {\\n    key: &quot;T&quot;\\n    value {\\n      type: DT_INT32\\n    }\\n  }\\n  attr {\\n    key: &quot;Tshape&quot;\\n    value {\\n      type: DT_INT32\\n    }\\n  }\\n}\\nnode {\\n  name: &quot;optimize/gradients/Shape_1&quot;\\n  op: &quot;Const&quot;\\n  attr {\\n    key: &quot;dtype&quot;\\n    value {\\n      type: DT_INT32\\n    }\\n  }\\n  attr {\\n    key: &quot;value&quot;\\n    value {\\n      tensor {\\n        dtype: DT_INT32\\n        tensor_shape {\\n          dim {\\n            size: 2\\n          }\\n        }\\n        tensor_content: &quot;\\\\013\\\\037\\\\000\\\\000d\\\\000\\\\000\\\\000&quot;\\n      }\\n    }\\n  }\\n}\\nnode {\\n  name: &quot;optimize/gradients/strided_slice/stack&quot;\\n  op: &quot;Const&quot;\\n  attr {\\n    key: &quot;dtype&quot;\\n    value {\\n      type: DT_INT32\\n    }\\n  }\\n  attr {\\n    key: &quot;value&quot;\\n    value {\\n      tensor {\\n        dtype: DT_INT32\\n        tensor_shape {\\n          dim {\\n            size: 1\\n          }\\n        }\\n        int_val: 0\\n      }\\n    }\\n  }\\n}\\nnode {\\n  name: &quot;optimize/gradients/strided_slice/stack_1&quot;\\n  op: &quot;Const&quot;\\n  attr {\\n    key: &quot;dtype&quot;\\n    value {\\n      type: DT_INT32\\n    }\\n  }\\n  attr {\\n    key: &quot;value&quot;\\n    value {\\n      tensor {\\n        dtype: DT_INT32\\n        tensor_shape {\\n          dim {\\n            size: 1\\n          }\\n        }\\n        int_val: 1\\n      }\\n    }\\n  }\\n}\\nnode {\\n  name: &quot;optimize/gradients/strided_slice/stack_2&quot;\\n  op: &quot;Const&quot;\\n  attr {\\n    key: &quot;dtype&quot;\\n    value {\\n      type: DT_INT32\\n    }\\n  }\\n  attr {\\n    key: &quot;value&quot;\\n    value {\\n      tensor {\\n        dtype: DT_INT32\\n        tensor_shape {\\n          dim {\\n            size: 1\\n          }\\n        }\\n        int_val: 1\\n      }\\n    }\\n  }\\n}\\nnode {\\n  name: &quot;optimize/gradients/strided_slice&quot;\\n  op: &quot;StridedSlice&quot;\\n  input: &quot;optimize/gradients/Shape_1&quot;\\n  input: &quot;optimize/gradients/strided_slice/stack&quot;\\n  input: &quot;optimize/gradients/strided_slice/stack_1&quot;\\n  input: &quot;optimize/gradients/strided_slice/stack_2&quot;\\n  attr {\\n    key: &quot;Index&quot;\\n    value {\\n      type: DT_INT32\\n    }\\n  }\\n  attr {\\n    key: &quot;T&quot;\\n    value {\\n      type: DT_INT32\\n    }\\n  }\\n  attr {\\n    key: &quot;begin_mask&quot;\\n    value {\\n      i: 0\\n    }\\n  }\\n  attr {\\n    key: &quot;ellipsis_mask&quot;\\n    value {\\n      i: 0\\n    }\\n  }\\n  attr {\\n    key: &quot;end_mask&quot;\\n    value {\\n      i: 0\\n    }\\n  }\\n  attr {\\n    key: &quot;new_axis_mask&quot;\\n    value {\\n      i: 0\\n    }\\n  }\\n  attr {\\n    key: &quot;shrink_axis_mask&quot;\\n    value {\\n      i: 1\\n    }\\n  }\\n}\\nnode {\\n  name: &quot;optimize/gradients/range/start&quot;\\n  op: &quot;Const&quot;\\n  attr {\\n    key: &quot;dtype&quot;\\n    value {\\n      type: DT_INT32\\n    }\\n  }\\n  attr {\\n    key: &quot;value&quot;\\n    value {\\n      tensor {\\n        dtype: DT_INT32\\n        tensor_shape {\\n        }\\n        int_val: 0\\n      }\\n    }\\n  }\\n}\\nnode {\\n  name: &quot;optimize/gradients/range/delta&quot;\\n  op: &quot;Const&quot;\\n  attr {\\n    key: &quot;dtype&quot;\\n    value {\\n      type: DT_INT32\\n    }\\n  }\\n  attr {\\n    key: &quot;value&quot;\\n    value {\\n      tensor {\\n        dtype: DT_INT32\\n        tensor_shape {\\n        }\\n        int_val: 1\\n      }\\n    }\\n  }\\n}\\nnode {\\n  name: &quot;optimize/gradients/range&quot;\\n  op: &quot;Range&quot;\\n  input: &quot;optimize/gradients/range/start&quot;\\n  input: &quot;optimize/gradients/strided_slice&quot;\\n  input: &quot;optimize/gradients/range/delta&quot;\\n  attr {\\n    key: &quot;Tidx&quot;\\n    value {\\n      type: DT_INT32\\n    }\\n  }\\n}\\nnode {\\n  name: &quot;optimize/gradients/concat/axis&quot;\\n  op: &quot;Const&quot;\\n  attr {\\n    key: &quot;dtype&quot;\\n    value {\\n      type: DT_INT32\\n    }\\n  }\\n  attr {\\n    key: &quot;value&quot;\\n    value {\\n      tensor {\\n        dtype: DT_INT32\\n        tensor_shape {\\n        }\\n        int_val: 0\\n      }\\n    }\\n  }\\n}\\nnode {\\n  name: &quot;optimize/gradients/concat&quot;\\n  op: &quot;ConcatV2&quot;\\n  input: &quot;optimize/gradients/loss/covariance_loss/concat_grad/tuple/control_dependency_1&quot;\\n  input: &quot;optimize/gradients/embedding_loss/users_grad/Reshape&quot;\\n  input: &quot;optimize/gradients/concat/axis&quot;\\n  attr {\\n    key: &quot;N&quot;\\n    value {\\n      i: 2\\n    }\\n  }\\n  attr {\\n    key: &quot;T&quot;\\n    value {\\n      type: DT_FLOAT\\n    }\\n  }\\n  attr {\\n    key: &quot;Tidx&quot;\\n    value {\\n      type: DT_INT32\\n    }\\n  }\\n}\\nnode {\\n  name: &quot;optimize/gradients/concat_1/axis&quot;\\n  op: &quot;Const&quot;\\n  attr {\\n    key: &quot;dtype&quot;\\n    value {\\n      type: DT_INT32\\n    }\\n  }\\n  attr {\\n    key: &quot;value&quot;\\n    value {\\n      tensor {\\n        dtype: DT_INT32\\n        tensor_shape {\\n        }\\n        int_val: 0\\n      }\\n    }\\n  }\\n}\\nnode {\\n  name: &quot;optimize/gradients/concat_1&quot;\\n  op: &quot;ConcatV2&quot;\\n  input: &quot;optimize/gradients/range&quot;\\n  input: &quot;optimize/gradients/embedding_loss/users_grad/Reshape_1&quot;\\n  input: &quot;optimize/gradients/concat_1/axis&quot;\\n  attr {\\n    key: &quot;N&quot;\\n    value {\\n      i: 2\\n    }\\n  }\\n  attr {\\n    key: &quot;T&quot;\\n    value {\\n      type: DT_INT32\\n    }\\n  }\\n  attr {\\n    key: &quot;Tidx&quot;\\n    value {\\n      type: DT_INT32\\n    }\\n  }\\n}\\nnode {\\n  name: &quot;optimize/gradients/Shape_2&quot;\\n  op: &quot;Const&quot;\\n  attr {\\n    key: &quot;dtype&quot;\\n    value {\\n      type: DT_INT32\\n    }\\n  }\\n  attr {\\n    key: &quot;value&quot;\\n    value {\\n      tensor {\\n        dtype: DT_INT32\\n        tensor_shape {\\n          dim {\\n            size: 2\\n          }\\n        }\\n        tensor_content: &quot;we\\\\000\\\\000d\\\\000\\\\000\\\\000&quot;\\n      }\\n    }\\n  }\\n}\\nnode {\\n  name: &quot;optimize/gradients/strided_slice_1/stack&quot;\\n  op: &quot;Const&quot;\\n  attr {\\n    key: &quot;dtype&quot;\\n    value {\\n      type: DT_INT32\\n    }\\n  }\\n  attr {\\n    key: &quot;value&quot;\\n    value {\\n      tensor {\\n        dtype: DT_INT32\\n        tensor_shape {\\n          dim {\\n            size: 1\\n          }\\n        }\\n        int_val: 0\\n      }\\n    }\\n  }\\n}\\nnode {\\n  name: &quot;optimize/gradients/strided_slice_1/stack_1&quot;\\n  op: &quot;Const&quot;\\n  attr {\\n    key: &quot;dtype&quot;\\n    value {\\n      type: DT_INT32\\n    }\\n  }\\n  attr {\\n    key: &quot;value&quot;\\n    value {\\n      tensor {\\n        dtype: DT_INT32\\n        tensor_shape {\\n          dim {\\n            size: 1\\n          }\\n        }\\n        int_val: 1\\n      }\\n    }\\n  }\\n}\\nnode {\\n  name: &quot;optimize/gradients/strided_slice_1/stack_2&quot;\\n  op: &quot;Const&quot;\\n  attr {\\n    key: &quot;dtype&quot;\\n    value {\\n      type: DT_INT32\\n    }\\n  }\\n  attr {\\n    key: &quot;value&quot;\\n    value {\\n      tensor {\\n        dtype: DT_INT32\\n        tensor_shape {\\n          dim {\\n            size: 1\\n          }\\n        }\\n        int_val: 1\\n      }\\n    }\\n  }\\n}\\nnode {\\n  name: &quot;optimize/gradients/strided_slice_1&quot;\\n  op: &quot;StridedSlice&quot;\\n  input: &quot;optimize/gradients/Shape_2&quot;\\n  input: &quot;optimize/gradients/strided_slice_1/stack&quot;\\n  input: &quot;optimize/gradients/strided_slice_1/stack_1&quot;\\n  input: &quot;optimize/gradients/strided_slice_1/stack_2&quot;\\n  attr {\\n    key: &quot;Index&quot;\\n    value {\\n      type: DT_INT32\\n    }\\n  }\\n  attr {\\n    key: &quot;T&quot;\\n    value {\\n      type: DT_INT32\\n    }\\n  }\\n  attr {\\n    key: &quot;begin_mask&quot;\\n    value {\\n      i: 0\\n    }\\n  }\\n  attr {\\n    key: &quot;ellipsis_mask&quot;\\n    value {\\n      i: 0\\n    }\\n  }\\n  attr {\\n    key: &quot;end_mask&quot;\\n    value {\\n      i: 0\\n    }\\n  }\\n  attr {\\n    key: &quot;new_axis_mask&quot;\\n    value {\\n      i: 0\\n    }\\n  }\\n  attr {\\n    key: &quot;shrink_axis_mask&quot;\\n    value {\\n      i: 1\\n    }\\n  }\\n}\\nnode {\\n  name: &quot;optimize/gradients/range_1/start&quot;\\n  op: &quot;Const&quot;\\n  attr {\\n    key: &quot;dtype&quot;\\n    value {\\n      type: DT_INT32\\n    }\\n  }\\n  attr {\\n    key: &quot;value&quot;\\n    value {\\n      tensor {\\n        dtype: DT_INT32\\n        tensor_shape {\\n        }\\n        int_val: 0\\n      }\\n    }\\n  }\\n}\\nnode {\\n  name: &quot;optimize/gradients/range_1/delta&quot;\\n  op: &quot;Const&quot;\\n  attr {\\n    key: &quot;dtype&quot;\\n    value {\\n      type: DT_INT32\\n    }\\n  }\\n  attr {\\n    key: &quot;value&quot;\\n    value {\\n      tensor {\\n        dtype: DT_INT32\\n        tensor_shape {\\n        }\\n        int_val: 1\\n      }\\n    }\\n  }\\n}\\nnode {\\n  name: &quot;optimize/gradients/range_1&quot;\\n  op: &quot;Range&quot;\\n  input: &quot;optimize/gradients/range_1/start&quot;\\n  input: &quot;optimize/gradients/strided_slice_1&quot;\\n  input: &quot;optimize/gradients/range_1/delta&quot;\\n  attr {\\n    key: &quot;Tidx&quot;\\n    value {\\n      type: DT_INT32\\n    }\\n  }\\n}\\nnode {\\n  name: &quot;optimize/gradients/Shape_3&quot;\\n  op: &quot;Const&quot;\\n  attr {\\n    key: &quot;dtype&quot;\\n    value {\\n      type: DT_INT32\\n    }\\n  }\\n  attr {\\n    key: &quot;value&quot;\\n    value {\\n      tensor {\\n        dtype: DT_INT32\\n        tensor_shape {\\n          dim {\\n            size: 2\\n          }\\n        }\\n        tensor_content: &quot;we\\\\000\\\\000d\\\\000\\\\000\\\\000&quot;\\n      }\\n    }\\n  }\\n}\\nnode {\\n  name: &quot;optimize/gradients/strided_slice_2/stack&quot;\\n  op: &quot;Const&quot;\\n  attr {\\n    key: &quot;dtype&quot;\\n    value {\\n      type: DT_INT32\\n    }\\n  }\\n  attr {\\n    key: &quot;value&quot;\\n    value {\\n      tensor {\\n        dtype: DT_INT32\\n        tensor_shape {\\n          dim {\\n            size: 1\\n          }\\n        }\\n        int_val: 0\\n      }\\n    }\\n  }\\n}\\nnode {\\n  name: &quot;optimize/gradients/strided_slice_2/stack_1&quot;\\n  op: &quot;Const&quot;\\n  attr {\\n    key: &quot;dtype&quot;\\n    value {\\n      type: DT_INT32\\n    }\\n  }\\n  attr {\\n    key: &quot;value&quot;\\n    value {\\n      tensor {\\n        dtype: DT_INT32\\n        tensor_shape {\\n          dim {\\n            size: 1\\n          }\\n        }\\n        int_val: 1\\n      }\\n    }\\n  }\\n}\\nnode {\\n  name: &quot;optimize/gradients/strided_slice_2/stack_2&quot;\\n  op: &quot;Const&quot;\\n  attr {\\n    key: &quot;dtype&quot;\\n    value {\\n      type: DT_INT32\\n    }\\n  }\\n  attr {\\n    key: &quot;value&quot;\\n    value {\\n      tensor {\\n        dtype: DT_INT32\\n        tensor_shape {\\n          dim {\\n            size: 1\\n          }\\n        }\\n        int_val: 1\\n      }\\n    }\\n  }\\n}\\nnode {\\n  name: &quot;optimize/gradients/strided_slice_2&quot;\\n  op: &quot;StridedSlice&quot;\\n  input: &quot;optimize/gradients/Shape_3&quot;\\n  input: &quot;optimize/gradients/strided_slice_2/stack&quot;\\n  input: &quot;optimize/gradients/strided_slice_2/stack_1&quot;\\n  input: &quot;optimize/gradients/strided_slice_2/stack_2&quot;\\n  attr {\\n    key: &quot;Index&quot;\\n    value {\\n      type: DT_INT32\\n    }\\n  }\\n  attr {\\n    key: &quot;T&quot;\\n    value {\\n      type: DT_INT32\\n    }\\n  }\\n  attr {\\n    key: &quot;begin_mask&quot;\\n    value {\\n      i: 0\\n    }\\n  }\\n  attr {\\n    key: &quot;ellipsis_mask&quot;\\n    value {\\n      i: 0\\n    }\\n  }\\n  attr {\\n    key: &quot;end_mask&quot;\\n    value {\\n      i: 0\\n    }\\n  }\\n  attr {\\n    key: &quot;new_axis_mask&quot;\\n    value {\\n      i: 0\\n    }\\n  }\\n  attr {\\n    key: &quot;shrink_axis_mask&quot;\\n    value {\\n      i: 1\\n    }\\n  }\\n}\\nnode {\\n  name: &quot;optimize/gradients/range_2/start&quot;\\n  op: &quot;Const&quot;\\n  attr {\\n    key: &quot;dtype&quot;\\n    value {\\n      type: DT_INT32\\n    }\\n  }\\n  attr {\\n    key: &quot;value&quot;\\n    value {\\n      tensor {\\n        dtype: DT_INT32\\n        tensor_shape {\\n        }\\n        int_val: 0\\n      }\\n    }\\n  }\\n}\\nnode {\\n  name: &quot;optimize/gradients/range_2/delta&quot;\\n  op: &quot;Const&quot;\\n  attr {\\n    key: &quot;dtype&quot;\\n    value {\\n      type: DT_INT32\\n    }\\n  }\\n  attr {\\n    key: &quot;value&quot;\\n    value {\\n      tensor {\\n        dtype: DT_INT32\\n        tensor_shape {\\n        }\\n        int_val: 1\\n      }\\n    }\\n  }\\n}\\nnode {\\n  name: &quot;optimize/gradients/range_2&quot;\\n  op: &quot;Range&quot;\\n  input: &quot;optimize/gradients/range_2/start&quot;\\n  input: &quot;optimize/gradients/strided_slice_2&quot;\\n  input: &quot;optimize/gradients/range_2/delta&quot;\\n  attr {\\n    key: &quot;Tidx&quot;\\n    value {\\n      type: DT_INT32\\n    }\\n  }\\n}\\nnode {\\n  name: &quot;optimize/gradients/concat_2/axis&quot;\\n  op: &quot;Const&quot;\\n  attr {\\n    key: &quot;dtype&quot;\\n    value {\\n      type: DT_INT32\\n    }\\n  }\\n  attr {\\n    key: &quot;value&quot;\\n    value {\\n      tensor {\\n        dtype: DT_INT32\\n        tensor_shape {\\n        }\\n        int_val: 0\\n      }\\n    }\\n  }\\n}\\nnode {\\n  name: &quot;optimize/gradients/concat_2&quot;\\n  op: &quot;ConcatV2&quot;\\n  input: &quot;optimize/gradients/feature_loss/SquaredDifference_grad/tuple/control_dependency&quot;\\n  input: &quot;optimize/gradients/loss/covariance_loss/concat_grad/tuple/control_dependency&quot;\\n  input: &quot;optimize/gradients/embedding_loss/pos_items_grad/Reshape&quot;\\n  input: &quot;optimize/gradients/embedding_loss/embedding_lookup_grad/Reshape&quot;\\n  input: &quot;optimize/gradients/concat_2/axis&quot;\\n  attr {\\n    key: &quot;N&quot;\\n    value {\\n      i: 4\\n    }\\n  }\\n  attr {\\n    key: &quot;T&quot;\\n    value {\\n      type: DT_FLOAT\\n    }\\n  }\\n  attr {\\n    key: &quot;Tidx&quot;\\n    value {\\n      type: DT_INT32\\n    }\\n  }\\n}\\nnode {\\n  name: &quot;optimize/gradients/concat_3/axis&quot;\\n  op: &quot;Const&quot;\\n  attr {\\n    key: &quot;dtype&quot;\\n    value {\\n      type: DT_INT32\\n    }\\n  }\\n  attr {\\n    key: &quot;value&quot;\\n    value {\\n      tensor {\\n        dtype: DT_INT32\\n        tensor_shape {\\n        }\\n        int_val: 0\\n      }\\n    }\\n  }\\n}\\nnode {\\n  name: &quot;optimize/gradients/concat_3&quot;\\n  op: &quot;ConcatV2&quot;\\n  input: &quot;optimize/gradients/range_1&quot;\\n  input: &quot;optimize/gradients/range_2&quot;\\n  input: &quot;optimize/gradients/embedding_loss/pos_items_grad/Reshape_1&quot;\\n  input: &quot;optimize/gradients/embedding_loss/embedding_lookup_grad/Reshape_1&quot;\\n  input: &quot;optimize/gradients/concat_3/axis&quot;\\n  attr {\\n    key: &quot;N&quot;\\n    value {\\n      i: 4\\n    }\\n  }\\n  attr {\\n    key: &quot;T&quot;\\n    value {\\n      type: DT_INT32\\n    }\\n  }\\n  attr {\\n    key: &quot;Tidx&quot;\\n    value {\\n      type: DT_INT32\\n    }\\n  }\\n}\\nnode {\\n  name: &quot;optimize/beta1_power/initial_value&quot;\\n  op: &quot;Const&quot;\\n  attr {\\n    key: &quot;_class&quot;\\n    value {\\n      list {\\n        s: &quot;loc:@item_embeddings/Variable&quot;\\n      }\\n    }\\n  }\\n  attr {\\n    key: &quot;dtype&quot;\\n    value {\\n      type: DT_FLOAT\\n    }\\n  }\\n  attr {\\n    key: &quot;value&quot;\\n    value {\\n      tensor {\\n        dtype: DT_FLOAT\\n        tensor_shape {\\n        }\\n        float_val: 0.8999999761581421\\n      }\\n    }\\n  }\\n}\\nnode {\\n  name: &quot;optimize/beta1_power&quot;\\n  op: &quot;VariableV2&quot;\\n  attr {\\n    key: &quot;_class&quot;\\n    value {\\n      list {\\n        s: &quot;loc:@item_embeddings/Variable&quot;\\n      }\\n    }\\n  }\\n  attr {\\n    key: &quot;container&quot;\\n    value {\\n      s: &quot;&quot;\\n    }\\n  }\\n  attr {\\n    key: &quot;dtype&quot;\\n    value {\\n      type: DT_FLOAT\\n    }\\n  }\\n  attr {\\n    key: &quot;shape&quot;\\n    value {\\n      shape {\\n      }\\n    }\\n  }\\n  attr {\\n    key: &quot;shared_name&quot;\\n    value {\\n      s: &quot;&quot;\\n    }\\n  }\\n}\\nnode {\\n  name: &quot;optimize/beta1_power/Assign&quot;\\n  op: &quot;Assign&quot;\\n  input: &quot;optimize/beta1_power&quot;\\n  input: &quot;optimize/beta1_power/initial_value&quot;\\n  attr {\\n    key: &quot;T&quot;\\n    value {\\n      type: DT_FLOAT\\n    }\\n  }\\n  attr {\\n    key: &quot;_class&quot;\\n    value {\\n      list {\\n        s: &quot;loc:@item_embeddings/Variable&quot;\\n      }\\n    }\\n  }\\n  attr {\\n    key: &quot;use_locking&quot;\\n    value {\\n      b: true\\n    }\\n  }\\n  attr {\\n    key: &quot;validate_shape&quot;\\n    value {\\n      b: true\\n    }\\n  }\\n}\\nnode {\\n  name: &quot;optimize/beta1_power/read&quot;\\n  op: &quot;Identity&quot;\\n  input: &quot;optimize/beta1_power&quot;\\n  attr {\\n    key: &quot;T&quot;\\n    value {\\n      type: DT_FLOAT\\n    }\\n  }\\n  attr {\\n    key: &quot;_class&quot;\\n    value {\\n      list {\\n        s: &quot;loc:@item_embeddings/Variable&quot;\\n      }\\n    }\\n  }\\n}\\nnode {\\n  name: &quot;optimize/beta2_power/initial_value&quot;\\n  op: &quot;Const&quot;\\n  attr {\\n    key: &quot;_class&quot;\\n    value {\\n      list {\\n        s: &quot;loc:@item_embeddings/Variable&quot;\\n      }\\n    }\\n  }\\n  attr {\\n    key: &quot;dtype&quot;\\n    value {\\n      type: DT_FLOAT\\n    }\\n  }\\n  attr {\\n    key: &quot;value&quot;\\n    value {\\n      tensor {\\n        dtype: DT_FLOAT\\n        tensor_shape {\\n        }\\n        float_val: 0.9990000128746033\\n      }\\n    }\\n  }\\n}\\nnode {\\n  name: &quot;optimize/beta2_power&quot;\\n  op: &quot;VariableV2&quot;\\n  attr {\\n    key: &quot;_class&quot;\\n    value {\\n      list {\\n        s: &quot;loc:@item_embeddings/Variable&quot;\\n      }\\n    }\\n  }\\n  attr {\\n    key: &quot;container&quot;\\n    value {\\n      s: &quot;&quot;\\n    }\\n  }\\n  attr {\\n    key: &quot;dtype&quot;\\n    value {\\n      type: DT_FLOAT\\n    }\\n  }\\n  attr {\\n    key: &quot;shape&quot;\\n    value {\\n      shape {\\n      }\\n    }\\n  }\\n  attr {\\n    key: &quot;shared_name&quot;\\n    value {\\n      s: &quot;&quot;\\n    }\\n  }\\n}\\nnode {\\n  name: &quot;optimize/beta2_power/Assign&quot;\\n  op: &quot;Assign&quot;\\n  input: &quot;optimize/beta2_power&quot;\\n  input: &quot;optimize/beta2_power/initial_value&quot;\\n  attr {\\n    key: &quot;T&quot;\\n    value {\\n      type: DT_FLOAT\\n    }\\n  }\\n  attr {\\n    key: &quot;_class&quot;\\n    value {\\n      list {\\n        s: &quot;loc:@item_embeddings/Variable&quot;\\n      }\\n    }\\n  }\\n  attr {\\n    key: &quot;use_locking&quot;\\n    value {\\n      b: true\\n    }\\n  }\\n  attr {\\n    key: &quot;validate_shape&quot;\\n    value {\\n      b: true\\n    }\\n  }\\n}\\nnode {\\n  name: &quot;optimize/beta2_power/read&quot;\\n  op: &quot;Identity&quot;\\n  input: &quot;optimize/beta2_power&quot;\\n  attr {\\n    key: &quot;T&quot;\\n    value {\\n      type: DT_FLOAT\\n    }\\n  }\\n  attr {\\n    key: &quot;_class&quot;\\n    value {\\n      list {\\n        s: &quot;loc:@item_embeddings/Variable&quot;\\n      }\\n    }\\n  }\\n}\\nnode {\\n  name: &quot;optimize/user_embeddings/Variable/Adam/Initializer/zeros/shape_as_tensor&quot;\\n  op: &quot;Const&quot;\\n  attr {\\n    key: &quot;_class&quot;\\n    value {\\n      list {\\n        s: &quot;loc:@user_embeddings/Variable&quot;\\n      }\\n    }\\n  }\\n  attr {\\n    key: &quot;dtype&quot;\\n    value {\\n      type: DT_INT32\\n    }\\n  }\\n  attr {\\n    key: &quot;value&quot;\\n    value {\\n      tensor {\\n        dtype: DT_INT32\\n        tensor_shape {\\n          dim {\\n            size: 2\\n          }\\n        }\\n        tensor_content: &quot;\\\\013\\\\037\\\\000\\\\000d\\\\000\\\\000\\\\000&quot;\\n      }\\n    }\\n  }\\n}\\nnode {\\n  name: &quot;optimize/user_embeddings/Variable/Adam/Initializer/zeros/Const&quot;\\n  op: &quot;Const&quot;\\n  attr {\\n    key: &quot;_class&quot;\\n    value {\\n      list {\\n        s: &quot;loc:@user_embeddings/Variable&quot;\\n      }\\n    }\\n  }\\n  attr {\\n    key: &quot;dtype&quot;\\n    value {\\n      type: DT_FLOAT\\n    }\\n  }\\n  attr {\\n    key: &quot;value&quot;\\n    value {\\n      tensor {\\n        dtype: DT_FLOAT\\n        tensor_shape {\\n        }\\n        float_val: 0.0\\n      }\\n    }\\n  }\\n}\\nnode {\\n  name: &quot;optimize/user_embeddings/Variable/Adam/Initializer/zeros&quot;\\n  op: &quot;Fill&quot;\\n  input: &quot;optimize/user_embeddings/Variable/Adam/Initializer/zeros/shape_as_tensor&quot;\\n  input: &quot;optimize/user_embeddings/Variable/Adam/Initializer/zeros/Const&quot;\\n  attr {\\n    key: &quot;T&quot;\\n    value {\\n      type: DT_FLOAT\\n    }\\n  }\\n  attr {\\n    key: &quot;_class&quot;\\n    value {\\n      list {\\n        s: &quot;loc:@user_embeddings/Variable&quot;\\n      }\\n    }\\n  }\\n  attr {\\n    key: &quot;index_type&quot;\\n    value {\\n      type: DT_INT32\\n    }\\n  }\\n}\\nnode {\\n  name: &quot;optimize/user_embeddings/Variable/Adam&quot;\\n  op: &quot;VariableV2&quot;\\n  attr {\\n    key: &quot;_class&quot;\\n    value {\\n      list {\\n        s: &quot;loc:@user_embeddings/Variable&quot;\\n      }\\n    }\\n  }\\n  attr {\\n    key: &quot;container&quot;\\n    value {\\n      s: &quot;&quot;\\n    }\\n  }\\n  attr {\\n    key: &quot;dtype&quot;\\n    value {\\n      type: DT_FLOAT\\n    }\\n  }\\n  attr {\\n    key: &quot;shape&quot;\\n    value {\\n      shape {\\n        dim {\\n          size: 7947\\n        }\\n        dim {\\n          size: 100\\n        }\\n      }\\n    }\\n  }\\n  attr {\\n    key: &quot;shared_name&quot;\\n    value {\\n      s: &quot;&quot;\\n    }\\n  }\\n}\\nnode {\\n  name: &quot;optimize/user_embeddings/Variable/Adam/Assign&quot;\\n  op: &quot;Assign&quot;\\n  input: &quot;optimize/user_embeddings/Variable/Adam&quot;\\n  input: &quot;optimize/user_embeddings/Variable/Adam/Initializer/zeros&quot;\\n  attr {\\n    key: &quot;T&quot;\\n    value {\\n      type: DT_FLOAT\\n    }\\n  }\\n  attr {\\n    key: &quot;_class&quot;\\n    value {\\n      list {\\n        s: &quot;loc:@user_embeddings/Variable&quot;\\n      }\\n    }\\n  }\\n  attr {\\n    key: &quot;use_locking&quot;\\n    value {\\n      b: true\\n    }\\n  }\\n  attr {\\n    key: &quot;validate_shape&quot;\\n    value {\\n      b: true\\n    }\\n  }\\n}\\nnode {\\n  name: &quot;optimize/user_embeddings/Variable/Adam/read&quot;\\n  op: &quot;Identity&quot;\\n  input: &quot;optimize/user_embeddings/Variable/Adam&quot;\\n  attr {\\n    key: &quot;T&quot;\\n    value {\\n      type: DT_FLOAT\\n    }\\n  }\\n  attr {\\n    key: &quot;_class&quot;\\n    value {\\n      list {\\n        s: &quot;loc:@user_embeddings/Variable&quot;\\n      }\\n    }\\n  }\\n}\\nnode {\\n  name: &quot;optimize/user_embeddings/Variable/Adam_1/Initializer/zeros/shape_as_tensor&quot;\\n  op: &quot;Const&quot;\\n  attr {\\n    key: &quot;_class&quot;\\n    value {\\n      list {\\n        s: &quot;loc:@user_embeddings/Variable&quot;\\n      }\\n    }\\n  }\\n  attr {\\n    key: &quot;dtype&quot;\\n    value {\\n      type: DT_INT32\\n    }\\n  }\\n  attr {\\n    key: &quot;value&quot;\\n    value {\\n      tensor {\\n        dtype: DT_INT32\\n        tensor_shape {\\n          dim {\\n            size: 2\\n          }\\n        }\\n        tensor_content: &quot;\\\\013\\\\037\\\\000\\\\000d\\\\000\\\\000\\\\000&quot;\\n      }\\n    }\\n  }\\n}\\nnode {\\n  name: &quot;optimize/user_embeddings/Variable/Adam_1/Initializer/zeros/Const&quot;\\n  op: &quot;Const&quot;\\n  attr {\\n    key: &quot;_class&quot;\\n    value {\\n      list {\\n        s: &quot;loc:@user_embeddings/Variable&quot;\\n      }\\n    }\\n  }\\n  attr {\\n    key: &quot;dtype&quot;\\n    value {\\n      type: DT_FLOAT\\n    }\\n  }\\n  attr {\\n    key: &quot;value&quot;\\n    value {\\n      tensor {\\n        dtype: DT_FLOAT\\n        tensor_shape {\\n        }\\n        float_val: 0.0\\n      }\\n    }\\n  }\\n}\\nnode {\\n  name: &quot;optimize/user_embeddings/Variable/Adam_1/Initializer/zeros&quot;\\n  op: &quot;Fill&quot;\\n  input: &quot;optimize/user_embeddings/Variable/Adam_1/Initializer/zeros/shape_as_tensor&quot;\\n  input: &quot;optimize/user_embeddings/Variable/Adam_1/Initializer/zeros/Const&quot;\\n  attr {\\n    key: &quot;T&quot;\\n    value {\\n      type: DT_FLOAT\\n    }\\n  }\\n  attr {\\n    key: &quot;_class&quot;\\n    value {\\n      list {\\n        s: &quot;loc:@user_embeddings/Variable&quot;\\n      }\\n    }\\n  }\\n  attr {\\n    key: &quot;index_type&quot;\\n    value {\\n      type: DT_INT32\\n    }\\n  }\\n}\\nnode {\\n  name: &quot;optimize/user_embeddings/Variable/Adam_1&quot;\\n  op: &quot;VariableV2&quot;\\n  attr {\\n    key: &quot;_class&quot;\\n    value {\\n      list {\\n        s: &quot;loc:@user_embeddings/Variable&quot;\\n      }\\n    }\\n  }\\n  attr {\\n    key: &quot;container&quot;\\n    value {\\n      s: &quot;&quot;\\n    }\\n  }\\n  attr {\\n    key: &quot;dtype&quot;\\n    value {\\n      type: DT_FLOAT\\n    }\\n  }\\n  attr {\\n    key: &quot;shape&quot;\\n    value {\\n      shape {\\n        dim {\\n          size: 7947\\n        }\\n        dim {\\n          size: 100\\n        }\\n      }\\n    }\\n  }\\n  attr {\\n    key: &quot;shared_name&quot;\\n    value {\\n      s: &quot;&quot;\\n    }\\n  }\\n}\\nnode {\\n  name: &quot;optimize/user_embeddings/Variable/Adam_1/Assign&quot;\\n  op: &quot;Assign&quot;\\n  input: &quot;optimize/user_embeddings/Variable/Adam_1&quot;\\n  input: &quot;optimize/user_embeddings/Variable/Adam_1/Initializer/zeros&quot;\\n  attr {\\n    key: &quot;T&quot;\\n    value {\\n      type: DT_FLOAT\\n    }\\n  }\\n  attr {\\n    key: &quot;_class&quot;\\n    value {\\n      list {\\n        s: &quot;loc:@user_embeddings/Variable&quot;\\n      }\\n    }\\n  }\\n  attr {\\n    key: &quot;use_locking&quot;\\n    value {\\n      b: true\\n    }\\n  }\\n  attr {\\n    key: &quot;validate_shape&quot;\\n    value {\\n      b: true\\n    }\\n  }\\n}\\nnode {\\n  name: &quot;optimize/user_embeddings/Variable/Adam_1/read&quot;\\n  op: &quot;Identity&quot;\\n  input: &quot;optimize/user_embeddings/Variable/Adam_1&quot;\\n  attr {\\n    key: &quot;T&quot;\\n    value {\\n      type: DT_FLOAT\\n    }\\n  }\\n  attr {\\n    key: &quot;_class&quot;\\n    value {\\n      list {\\n        s: &quot;loc:@user_embeddings/Variable&quot;\\n      }\\n    }\\n  }\\n}\\nnode {\\n  name: &quot;optimize/item_embeddings/Variable/Adam/Initializer/zeros/shape_as_tensor&quot;\\n  op: &quot;Const&quot;\\n  attr {\\n    key: &quot;_class&quot;\\n    value {\\n      list {\\n        s: &quot;loc:@item_embeddings/Variable&quot;\\n      }\\n    }\\n  }\\n  attr {\\n    key: &quot;dtype&quot;\\n    value {\\n      type: DT_INT32\\n    }\\n  }\\n  attr {\\n    key: &quot;value&quot;\\n    value {\\n      tensor {\\n        dtype: DT_INT32\\n        tensor_shape {\\n          dim {\\n            size: 2\\n          }\\n        }\\n        tensor_content: &quot;we\\\\000\\\\000d\\\\000\\\\000\\\\000&quot;\\n      }\\n    }\\n  }\\n}\\nnode {\\n  name: &quot;optimize/item_embeddings/Variable/Adam/Initializer/zeros/Const&quot;\\n  op: &quot;Const&quot;\\n  attr {\\n    key: &quot;_class&quot;\\n    value {\\n      list {\\n        s: &quot;loc:@item_embeddings/Variable&quot;\\n      }\\n    }\\n  }\\n  attr {\\n    key: &quot;dtype&quot;\\n    value {\\n      type: DT_FLOAT\\n    }\\n  }\\n  attr {\\n    key: &quot;value&quot;\\n    value {\\n      tensor {\\n        dtype: DT_FLOAT\\n        tensor_shape {\\n        }\\n        float_val: 0.0\\n      }\\n    }\\n  }\\n}\\nnode {\\n  name: &quot;optimize/item_embeddings/Variable/Adam/Initializer/zeros&quot;\\n  op: &quot;Fill&quot;\\n  input: &quot;optimize/item_embeddings/Variable/Adam/Initializer/zeros/shape_as_tensor&quot;\\n  input: &quot;optimize/item_embeddings/Variable/Adam/Initializer/zeros/Const&quot;\\n  attr {\\n    key: &quot;T&quot;\\n    value {\\n      type: DT_FLOAT\\n    }\\n  }\\n  attr {\\n    key: &quot;_class&quot;\\n    value {\\n      list {\\n        s: &quot;loc:@item_embeddings/Variable&quot;\\n      }\\n    }\\n  }\\n  attr {\\n    key: &quot;index_type&quot;\\n    value {\\n      type: DT_INT32\\n    }\\n  }\\n}\\nnode {\\n  name: &quot;optimize/item_embeddings/Variable/Adam&quot;\\n  op: &quot;VariableV2&quot;\\n  attr {\\n    key: &quot;_class&quot;\\n    value {\\n      list {\\n        s: &quot;loc:@item_embeddings/Variable&quot;\\n      }\\n    }\\n  }\\n  attr {\\n    key: &quot;container&quot;\\n    value {\\n      s: &quot;&quot;\\n    }\\n  }\\n  attr {\\n    key: &quot;dtype&quot;\\n    value {\\n      type: DT_FLOAT\\n    }\\n  }\\n  attr {\\n    key: &quot;shape&quot;\\n    value {\\n      shape {\\n        dim {\\n          size: 25975\\n        }\\n        dim {\\n          size: 100\\n        }\\n      }\\n    }\\n  }\\n  attr {\\n    key: &quot;shared_name&quot;\\n    value {\\n      s: &quot;&quot;\\n    }\\n  }\\n}\\nnode {\\n  name: &quot;optimize/item_embeddings/Variable/Adam/Assign&quot;\\n  op: &quot;Assign&quot;\\n  input: &quot;optimize/item_embeddings/Variable/Adam&quot;\\n  input: &quot;optimize/item_embeddings/Variable/Adam/Initializer/zeros&quot;\\n  attr {\\n    key: &quot;T&quot;\\n    value {\\n      type: DT_FLOAT\\n    }\\n  }\\n  attr {\\n    key: &quot;_class&quot;\\n    value {\\n      list {\\n        s: &quot;loc:@item_embeddings/Variable&quot;\\n      }\\n    }\\n  }\\n  attr {\\n    key: &quot;use_locking&quot;\\n    value {\\n      b: true\\n    }\\n  }\\n  attr {\\n    key: &quot;validate_shape&quot;\\n    value {\\n      b: true\\n    }\\n  }\\n}\\nnode {\\n  name: &quot;optimize/item_embeddings/Variable/Adam/read&quot;\\n  op: &quot;Identity&quot;\\n  input: &quot;optimize/item_embeddings/Variable/Adam&quot;\\n  attr {\\n    key: &quot;T&quot;\\n    value {\\n      type: DT_FLOAT\\n    }\\n  }\\n  attr {\\n    key: &quot;_class&quot;\\n    value {\\n      list {\\n        s: &quot;loc:@item_embeddings/Variable&quot;\\n      }\\n    }\\n  }\\n}\\nnode {\\n  name: &quot;optimize/item_embeddings/Variable/Adam_1/Initializer/zeros/shape_as_tensor&quot;\\n  op: &quot;Const&quot;\\n  attr {\\n    key: &quot;_class&quot;\\n    value {\\n      list {\\n        s: &quot;loc:@item_embeddings/Variable&quot;\\n      }\\n    }\\n  }\\n  attr {\\n    key: &quot;dtype&quot;\\n    value {\\n      type: DT_INT32\\n    }\\n  }\\n  attr {\\n    key: &quot;value&quot;\\n    value {\\n      tensor {\\n        dtype: DT_INT32\\n        tensor_shape {\\n          dim {\\n            size: 2\\n          }\\n        }\\n        tensor_content: &quot;we\\\\000\\\\000d\\\\000\\\\000\\\\000&quot;\\n      }\\n    }\\n  }\\n}\\nnode {\\n  name: &quot;optimize/item_embeddings/Variable/Adam_1/Initializer/zeros/Const&quot;\\n  op: &quot;Const&quot;\\n  attr {\\n    key: &quot;_class&quot;\\n    value {\\n      list {\\n        s: &quot;loc:@item_embeddings/Variable&quot;\\n      }\\n    }\\n  }\\n  attr {\\n    key: &quot;dtype&quot;\\n    value {\\n      type: DT_FLOAT\\n    }\\n  }\\n  attr {\\n    key: &quot;value&quot;\\n    value {\\n      tensor {\\n        dtype: DT_FLOAT\\n        tensor_shape {\\n        }\\n        float_val: 0.0\\n      }\\n    }\\n  }\\n}\\nnode {\\n  name: &quot;optimize/item_embeddings/Variable/Adam_1/Initializer/zeros&quot;\\n  op: &quot;Fill&quot;\\n  input: &quot;optimize/item_embeddings/Variable/Adam_1/Initializer/zeros/shape_as_tensor&quot;\\n  input: &quot;optimize/item_embeddings/Variable/Adam_1/Initializer/zeros/Const&quot;\\n  attr {\\n    key: &quot;T&quot;\\n    value {\\n      type: DT_FLOAT\\n    }\\n  }\\n  attr {\\n    key: &quot;_class&quot;\\n    value {\\n      list {\\n        s: &quot;loc:@item_embeddings/Variable&quot;\\n      }\\n    }\\n  }\\n  attr {\\n    key: &quot;index_type&quot;\\n    value {\\n      type: DT_INT32\\n    }\\n  }\\n}\\nnode {\\n  name: &quot;optimize/item_embeddings/Variable/Adam_1&quot;\\n  op: &quot;VariableV2&quot;\\n  attr {\\n    key: &quot;_class&quot;\\n    value {\\n      list {\\n        s: &quot;loc:@item_embeddings/Variable&quot;\\n      }\\n    }\\n  }\\n  attr {\\n    key: &quot;container&quot;\\n    value {\\n      s: &quot;&quot;\\n    }\\n  }\\n  attr {\\n    key: &quot;dtype&quot;\\n    value {\\n      type: DT_FLOAT\\n    }\\n  }\\n  attr {\\n    key: &quot;shape&quot;\\n    value {\\n      shape {\\n        dim {\\n          size: 25975\\n        }\\n        dim {\\n          size: 100\\n        }\\n      }\\n    }\\n  }\\n  attr {\\n    key: &quot;shared_name&quot;\\n    value {\\n      s: &quot;&quot;\\n    }\\n  }\\n}\\nnode {\\n  name: &quot;optimize/item_embeddings/Variable/Adam_1/Assign&quot;\\n  op: &quot;Assign&quot;\\n  input: &quot;optimize/item_embeddings/Variable/Adam_1&quot;\\n  input: &quot;optimize/item_embeddings/Variable/Adam_1/Initializer/zeros&quot;\\n  attr {\\n    key: &quot;T&quot;\\n    value {\\n      type: DT_FLOAT\\n    }\\n  }\\n  attr {\\n    key: &quot;_class&quot;\\n    value {\\n      list {\\n        s: &quot;loc:@item_embeddings/Variable&quot;\\n      }\\n    }\\n  }\\n  attr {\\n    key: &quot;use_locking&quot;\\n    value {\\n      b: true\\n    }\\n  }\\n  attr {\\n    key: &quot;validate_shape&quot;\\n    value {\\n      b: true\\n    }\\n  }\\n}\\nnode {\\n  name: &quot;optimize/item_embeddings/Variable/Adam_1/read&quot;\\n  op: &quot;Identity&quot;\\n  input: &quot;optimize/item_embeddings/Variable/Adam_1&quot;\\n  attr {\\n    key: &quot;T&quot;\\n    value {\\n      type: DT_FLOAT\\n    }\\n  }\\n  attr {\\n    key: &quot;_class&quot;\\n    value {\\n      list {\\n        s: &quot;loc:@item_embeddings/Variable&quot;\\n      }\\n    }\\n  }\\n}\\nnode {\\n  name: &quot;optimize/Adam/learning_rate&quot;\\n  op: &quot;Const&quot;\\n  attr {\\n    key: &quot;dtype&quot;\\n    value {\\n      type: DT_FLOAT\\n    }\\n  }\\n  attr {\\n    key: &quot;value&quot;\\n    value {\\n      tensor {\\n        dtype: DT_FLOAT\\n        tensor_shape {\\n        }\\n        float_val: 0.0010000000474974513\\n      }\\n    }\\n  }\\n}\\nnode {\\n  name: &quot;optimize/Adam/beta1&quot;\\n  op: &quot;Const&quot;\\n  attr {\\n    key: &quot;dtype&quot;\\n    value {\\n      type: DT_FLOAT\\n    }\\n  }\\n  attr {\\n    key: &quot;value&quot;\\n    value {\\n      tensor {\\n        dtype: DT_FLOAT\\n        tensor_shape {\\n        }\\n        float_val: 0.8999999761581421\\n      }\\n    }\\n  }\\n}\\nnode {\\n  name: &quot;optimize/Adam/beta2&quot;\\n  op: &quot;Const&quot;\\n  attr {\\n    key: &quot;dtype&quot;\\n    value {\\n      type: DT_FLOAT\\n    }\\n  }\\n  attr {\\n    key: &quot;value&quot;\\n    value {\\n      tensor {\\n        dtype: DT_FLOAT\\n        tensor_shape {\\n        }\\n        float_val: 0.9990000128746033\\n      }\\n    }\\n  }\\n}\\nnode {\\n  name: &quot;optimize/Adam/epsilon&quot;\\n  op: &quot;Const&quot;\\n  attr {\\n    key: &quot;dtype&quot;\\n    value {\\n      type: DT_FLOAT\\n    }\\n  }\\n  attr {\\n    key: &quot;value&quot;\\n    value {\\n      tensor {\\n        dtype: DT_FLOAT\\n        tensor_shape {\\n        }\\n        float_val: 9.99999993922529e-09\\n      }\\n    }\\n  }\\n}\\nnode {\\n  name: &quot;optimize/Adam/update_user_embeddings/Variable/Unique&quot;\\n  op: &quot;Unique&quot;\\n  input: &quot;optimize/gradients/concat_1&quot;\\n  attr {\\n    key: &quot;T&quot;\\n    value {\\n      type: DT_INT32\\n    }\\n  }\\n  attr {\\n    key: &quot;_class&quot;\\n    value {\\n      list {\\n        s: &quot;loc:@user_embeddings/Variable&quot;\\n      }\\n    }\\n  }\\n  attr {\\n    key: &quot;out_idx&quot;\\n    value {\\n      type: DT_INT32\\n    }\\n  }\\n}\\nnode {\\n  name: &quot;optimize/Adam/update_user_embeddings/Variable/Shape&quot;\\n  op: &quot;Shape&quot;\\n  input: &quot;optimize/Adam/update_user_embeddings/Variable/Unique&quot;\\n  attr {\\n    key: &quot;T&quot;\\n    value {\\n      type: DT_INT32\\n    }\\n  }\\n  attr {\\n    key: &quot;_class&quot;\\n    value {\\n      list {\\n        s: &quot;loc:@user_embeddings/Variable&quot;\\n      }\\n    }\\n  }\\n  attr {\\n    key: &quot;out_type&quot;\\n    value {\\n      type: DT_INT32\\n    }\\n  }\\n}\\nnode {\\n  name: &quot;optimize/Adam/update_user_embeddings/Variable/strided_slice/stack&quot;\\n  op: &quot;Const&quot;\\n  attr {\\n    key: &quot;_class&quot;\\n    value {\\n      list {\\n        s: &quot;loc:@user_embeddings/Variable&quot;\\n      }\\n    }\\n  }\\n  attr {\\n    key: &quot;dtype&quot;\\n    value {\\n      type: DT_INT32\\n    }\\n  }\\n  attr {\\n    key: &quot;value&quot;\\n    value {\\n      tensor {\\n        dtype: DT_INT32\\n        tensor_shape {\\n          dim {\\n            size: 1\\n          }\\n        }\\n        int_val: 0\\n      }\\n    }\\n  }\\n}\\nnode {\\n  name: &quot;optimize/Adam/update_user_embeddings/Variable/strided_slice/stack_1&quot;\\n  op: &quot;Const&quot;\\n  attr {\\n    key: &quot;_class&quot;\\n    value {\\n      list {\\n        s: &quot;loc:@user_embeddings/Variable&quot;\\n      }\\n    }\\n  }\\n  attr {\\n    key: &quot;dtype&quot;\\n    value {\\n      type: DT_INT32\\n    }\\n  }\\n  attr {\\n    key: &quot;value&quot;\\n    value {\\n      tensor {\\n        dtype: DT_INT32\\n        tensor_shape {\\n          dim {\\n            size: 1\\n          }\\n        }\\n        int_val: 1\\n      }\\n    }\\n  }\\n}\\nnode {\\n  name: &quot;optimize/Adam/update_user_embeddings/Variable/strided_slice/stack_2&quot;\\n  op: &quot;Const&quot;\\n  attr {\\n    key: &quot;_class&quot;\\n    value {\\n      list {\\n        s: &quot;loc:@user_embeddings/Variable&quot;\\n      }\\n    }\\n  }\\n  attr {\\n    key: &quot;dtype&quot;\\n    value {\\n      type: DT_INT32\\n    }\\n  }\\n  attr {\\n    key: &quot;value&quot;\\n    value {\\n      tensor {\\n        dtype: DT_INT32\\n        tensor_shape {\\n          dim {\\n            size: 1\\n          }\\n        }\\n        int_val: 1\\n      }\\n    }\\n  }\\n}\\nnode {\\n  name: &quot;optimize/Adam/update_user_embeddings/Variable/strided_slice&quot;\\n  op: &quot;StridedSlice&quot;\\n  input: &quot;optimize/Adam/update_user_embeddings/Variable/Shape&quot;\\n  input: &quot;optimize/Adam/update_user_embeddings/Variable/strided_slice/stack&quot;\\n  input: &quot;optimize/Adam/update_user_embeddings/Variable/strided_slice/stack_1&quot;\\n  input: &quot;optimize/Adam/update_user_embeddings/Variable/strided_slice/stack_2&quot;\\n  attr {\\n    key: &quot;Index&quot;\\n    value {\\n      type: DT_INT32\\n    }\\n  }\\n  attr {\\n    key: &quot;T&quot;\\n    value {\\n      type: DT_INT32\\n    }\\n  }\\n  attr {\\n    key: &quot;_class&quot;\\n    value {\\n      list {\\n        s: &quot;loc:@user_embeddings/Variable&quot;\\n      }\\n    }\\n  }\\n  attr {\\n    key: &quot;begin_mask&quot;\\n    value {\\n      i: 0\\n    }\\n  }\\n  attr {\\n    key: &quot;ellipsis_mask&quot;\\n    value {\\n      i: 0\\n    }\\n  }\\n  attr {\\n    key: &quot;end_mask&quot;\\n    value {\\n      i: 0\\n    }\\n  }\\n  attr {\\n    key: &quot;new_axis_mask&quot;\\n    value {\\n      i: 0\\n    }\\n  }\\n  attr {\\n    key: &quot;shrink_axis_mask&quot;\\n    value {\\n      i: 1\\n    }\\n  }\\n}\\nnode {\\n  name: &quot;optimize/Adam/update_user_embeddings/Variable/UnsortedSegmentSum&quot;\\n  op: &quot;UnsortedSegmentSum&quot;\\n  input: &quot;optimize/gradients/concat&quot;\\n  input: &quot;optimize/Adam/update_user_embeddings/Variable/Unique:1&quot;\\n  input: &quot;optimize/Adam/update_user_embeddings/Variable/strided_slice&quot;\\n  attr {\\n    key: &quot;T&quot;\\n    value {\\n      type: DT_FLOAT\\n    }\\n  }\\n  attr {\\n    key: &quot;Tindices&quot;\\n    value {\\n      type: DT_INT32\\n    }\\n  }\\n  attr {\\n    key: &quot;Tnumsegments&quot;\\n    value {\\n      type: DT_INT32\\n    }\\n  }\\n  attr {\\n    key: &quot;_class&quot;\\n    value {\\n      list {\\n        s: &quot;loc:@user_embeddings/Variable&quot;\\n      }\\n    }\\n  }\\n}\\nnode {\\n  name: &quot;optimize/Adam/update_user_embeddings/Variable/sub/x&quot;\\n  op: &quot;Const&quot;\\n  attr {\\n    key: &quot;_class&quot;\\n    value {\\n      list {\\n        s: &quot;loc:@user_embeddings/Variable&quot;\\n      }\\n    }\\n  }\\n  attr {\\n    key: &quot;dtype&quot;\\n    value {\\n      type: DT_FLOAT\\n    }\\n  }\\n  attr {\\n    key: &quot;value&quot;\\n    value {\\n      tensor {\\n        dtype: DT_FLOAT\\n        tensor_shape {\\n        }\\n        float_val: 1.0\\n      }\\n    }\\n  }\\n}\\nnode {\\n  name: &quot;optimize/Adam/update_user_embeddings/Variable/sub&quot;\\n  op: &quot;Sub&quot;\\n  input: &quot;optimize/Adam/update_user_embeddings/Variable/sub/x&quot;\\n  input: &quot;optimize/beta2_power/read&quot;\\n  attr {\\n    key: &quot;T&quot;\\n    value {\\n      type: DT_FLOAT\\n    }\\n  }\\n  attr {\\n    key: &quot;_class&quot;\\n    value {\\n      list {\\n        s: &quot;loc:@user_embeddings/Variable&quot;\\n      }\\n    }\\n  }\\n}\\nnode {\\n  name: &quot;optimize/Adam/update_user_embeddings/Variable/Sqrt&quot;\\n  op: &quot;Sqrt&quot;\\n  input: &quot;optimize/Adam/update_user_embeddings/Variable/sub&quot;\\n  attr {\\n    key: &quot;T&quot;\\n    value {\\n      type: DT_FLOAT\\n    }\\n  }\\n  attr {\\n    key: &quot;_class&quot;\\n    value {\\n      list {\\n        s: &quot;loc:@user_embeddings/Variable&quot;\\n      }\\n    }\\n  }\\n}\\nnode {\\n  name: &quot;optimize/Adam/update_user_embeddings/Variable/mul&quot;\\n  op: &quot;Mul&quot;\\n  input: &quot;optimize/Adam/learning_rate&quot;\\n  input: &quot;optimize/Adam/update_user_embeddings/Variable/Sqrt&quot;\\n  attr {\\n    key: &quot;T&quot;\\n    value {\\n      type: DT_FLOAT\\n    }\\n  }\\n  attr {\\n    key: &quot;_class&quot;\\n    value {\\n      list {\\n        s: &quot;loc:@user_embeddings/Variable&quot;\\n      }\\n    }\\n  }\\n}\\nnode {\\n  name: &quot;optimize/Adam/update_user_embeddings/Variable/sub_1/x&quot;\\n  op: &quot;Const&quot;\\n  attr {\\n    key: &quot;_class&quot;\\n    value {\\n      list {\\n        s: &quot;loc:@user_embeddings/Variable&quot;\\n      }\\n    }\\n  }\\n  attr {\\n    key: &quot;dtype&quot;\\n    value {\\n      type: DT_FLOAT\\n    }\\n  }\\n  attr {\\n    key: &quot;value&quot;\\n    value {\\n      tensor {\\n        dtype: DT_FLOAT\\n        tensor_shape {\\n        }\\n        float_val: 1.0\\n      }\\n    }\\n  }\\n}\\nnode {\\n  name: &quot;optimize/Adam/update_user_embeddings/Variable/sub_1&quot;\\n  op: &quot;Sub&quot;\\n  input: &quot;optimize/Adam/update_user_embeddings/Variable/sub_1/x&quot;\\n  input: &quot;optimize/beta1_power/read&quot;\\n  attr {\\n    key: &quot;T&quot;\\n    value {\\n      type: DT_FLOAT\\n    }\\n  }\\n  attr {\\n    key: &quot;_class&quot;\\n    value {\\n      list {\\n        s: &quot;loc:@user_embeddings/Variable&quot;\\n      }\\n    }\\n  }\\n}\\nnode {\\n  name: &quot;optimize/Adam/update_user_embeddings/Variable/truediv&quot;\\n  op: &quot;RealDiv&quot;\\n  input: &quot;optimize/Adam/update_user_embeddings/Variable/mul&quot;\\n  input: &quot;optimize/Adam/update_user_embeddings/Variable/sub_1&quot;\\n  attr {\\n    key: &quot;T&quot;\\n    value {\\n      type: DT_FLOAT\\n    }\\n  }\\n  attr {\\n    key: &quot;_class&quot;\\n    value {\\n      list {\\n        s: &quot;loc:@user_embeddings/Variable&quot;\\n      }\\n    }\\n  }\\n}\\nnode {\\n  name: &quot;optimize/Adam/update_user_embeddings/Variable/sub_2/x&quot;\\n  op: &quot;Const&quot;\\n  attr {\\n    key: &quot;_class&quot;\\n    value {\\n      list {\\n        s: &quot;loc:@user_embeddings/Variable&quot;\\n      }\\n    }\\n  }\\n  attr {\\n    key: &quot;dtype&quot;\\n    value {\\n      type: DT_FLOAT\\n    }\\n  }\\n  attr {\\n    key: &quot;value&quot;\\n    value {\\n      tensor {\\n        dtype: DT_FLOAT\\n        tensor_shape {\\n        }\\n        float_val: 1.0\\n      }\\n    }\\n  }\\n}\\nnode {\\n  name: &quot;optimize/Adam/update_user_embeddings/Variable/sub_2&quot;\\n  op: &quot;Sub&quot;\\n  input: &quot;optimize/Adam/update_user_embeddings/Variable/sub_2/x&quot;\\n  input: &quot;optimize/Adam/beta1&quot;\\n  attr {\\n    key: &quot;T&quot;\\n    value {\\n      type: DT_FLOAT\\n    }\\n  }\\n  attr {\\n    key: &quot;_class&quot;\\n    value {\\n      list {\\n        s: &quot;loc:@user_embeddings/Variable&quot;\\n      }\\n    }\\n  }\\n}\\nnode {\\n  name: &quot;optimize/Adam/update_user_embeddings/Variable/mul_1&quot;\\n  op: &quot;Mul&quot;\\n  input: &quot;optimize/Adam/update_user_embeddings/Variable/UnsortedSegmentSum&quot;\\n  input: &quot;optimize/Adam/update_user_embeddings/Variable/sub_2&quot;\\n  attr {\\n    key: &quot;T&quot;\\n    value {\\n      type: DT_FLOAT\\n    }\\n  }\\n  attr {\\n    key: &quot;_class&quot;\\n    value {\\n      list {\\n        s: &quot;loc:@user_embeddings/Variable&quot;\\n      }\\n    }\\n  }\\n}\\nnode {\\n  name: &quot;optimize/Adam/update_user_embeddings/Variable/mul_2&quot;\\n  op: &quot;Mul&quot;\\n  input: &quot;optimize/user_embeddings/Variable/Adam/read&quot;\\n  input: &quot;optimize/Adam/beta1&quot;\\n  attr {\\n    key: &quot;T&quot;\\n    value {\\n      type: DT_FLOAT\\n    }\\n  }\\n  attr {\\n    key: &quot;_class&quot;\\n    value {\\n      list {\\n        s: &quot;loc:@user_embeddings/Variable&quot;\\n      }\\n    }\\n  }\\n}\\nnode {\\n  name: &quot;optimize/Adam/update_user_embeddings/Variable/Assign&quot;\\n  op: &quot;Assign&quot;\\n  input: &quot;optimize/user_embeddings/Variable/Adam&quot;\\n  input: &quot;optimize/Adam/update_user_embeddings/Variable/mul_2&quot;\\n  attr {\\n    key: &quot;T&quot;\\n    value {\\n      type: DT_FLOAT\\n    }\\n  }\\n  attr {\\n    key: &quot;_class&quot;\\n    value {\\n      list {\\n        s: &quot;loc:@user_embeddings/Variable&quot;\\n      }\\n    }\\n  }\\n  attr {\\n    key: &quot;use_locking&quot;\\n    value {\\n      b: false\\n    }\\n  }\\n  attr {\\n    key: &quot;validate_shape&quot;\\n    value {\\n      b: true\\n    }\\n  }\\n}\\nnode {\\n  name: &quot;optimize/Adam/update_user_embeddings/Variable/ScatterAdd&quot;\\n  op: &quot;ScatterAdd&quot;\\n  input: &quot;optimize/user_embeddings/Variable/Adam&quot;\\n  input: &quot;optimize/Adam/update_user_embeddings/Variable/Unique&quot;\\n  input: &quot;optimize/Adam/update_user_embeddings/Variable/mul_1&quot;\\n  input: &quot;^optimize/Adam/update_user_embeddings/Variable/Assign&quot;\\n  attr {\\n    key: &quot;T&quot;\\n    value {\\n      type: DT_FLOAT\\n    }\\n  }\\n  attr {\\n    key: &quot;Tindices&quot;\\n    value {\\n      type: DT_INT32\\n    }\\n  }\\n  attr {\\n    key: &quot;_class&quot;\\n    value {\\n      list {\\n        s: &quot;loc:@user_embeddings/Variable&quot;\\n      }\\n    }\\n  }\\n  attr {\\n    key: &quot;use_locking&quot;\\n    value {\\n      b: false\\n    }\\n  }\\n}\\nnode {\\n  name: &quot;optimize/Adam/update_user_embeddings/Variable/mul_3&quot;\\n  op: &quot;Mul&quot;\\n  input: &quot;optimize/Adam/update_user_embeddings/Variable/UnsortedSegmentSum&quot;\\n  input: &quot;optimize/Adam/update_user_embeddings/Variable/UnsortedSegmentSum&quot;\\n  attr {\\n    key: &quot;T&quot;\\n    value {\\n      type: DT_FLOAT\\n    }\\n  }\\n  attr {\\n    key: &quot;_class&quot;\\n    value {\\n      list {\\n        s: &quot;loc:@user_embeddings/Variable&quot;\\n      }\\n    }\\n  }\\n}\\nnode {\\n  name: &quot;optimize/Adam/update_user_embeddings/Variable/sub_3/x&quot;\\n  op: &quot;Const&quot;\\n  attr {\\n    key: &quot;_class&quot;\\n    value {\\n      list {\\n        s: &quot;loc:@user_embeddings/Variable&quot;\\n      }\\n    }\\n  }\\n  attr {\\n    key: &quot;dtype&quot;\\n    value {\\n      type: DT_FLOAT\\n    }\\n  }\\n  attr {\\n    key: &quot;value&quot;\\n    value {\\n      tensor {\\n        dtype: DT_FLOAT\\n        tensor_shape {\\n        }\\n        float_val: 1.0\\n      }\\n    }\\n  }\\n}\\nnode {\\n  name: &quot;optimize/Adam/update_user_embeddings/Variable/sub_3&quot;\\n  op: &quot;Sub&quot;\\n  input: &quot;optimize/Adam/update_user_embeddings/Variable/sub_3/x&quot;\\n  input: &quot;optimize/Adam/beta2&quot;\\n  attr {\\n    key: &quot;T&quot;\\n    value {\\n      type: DT_FLOAT\\n    }\\n  }\\n  attr {\\n    key: &quot;_class&quot;\\n    value {\\n      list {\\n        s: &quot;loc:@user_embeddings/Variable&quot;\\n      }\\n    }\\n  }\\n}\\nnode {\\n  name: &quot;optimize/Adam/update_user_embeddings/Variable/mul_4&quot;\\n  op: &quot;Mul&quot;\\n  input: &quot;optimize/Adam/update_user_embeddings/Variable/mul_3&quot;\\n  input: &quot;optimize/Adam/update_user_embeddings/Variable/sub_3&quot;\\n  attr {\\n    key: &quot;T&quot;\\n    value {\\n      type: DT_FLOAT\\n    }\\n  }\\n  attr {\\n    key: &quot;_class&quot;\\n    value {\\n      list {\\n        s: &quot;loc:@user_embeddings/Variable&quot;\\n      }\\n    }\\n  }\\n}\\nnode {\\n  name: &quot;optimize/Adam/update_user_embeddings/Variable/mul_5&quot;\\n  op: &quot;Mul&quot;\\n  input: &quot;optimize/user_embeddings/Variable/Adam_1/read&quot;\\n  input: &quot;optimize/Adam/beta2&quot;\\n  attr {\\n    key: &quot;T&quot;\\n    value {\\n      type: DT_FLOAT\\n    }\\n  }\\n  attr {\\n    key: &quot;_class&quot;\\n    value {\\n      list {\\n        s: &quot;loc:@user_embeddings/Variable&quot;\\n      }\\n    }\\n  }\\n}\\nnode {\\n  name: &quot;optimize/Adam/update_user_embeddings/Variable/Assign_1&quot;\\n  op: &quot;Assign&quot;\\n  input: &quot;optimize/user_embeddings/Variable/Adam_1&quot;\\n  input: &quot;optimize/Adam/update_user_embeddings/Variable/mul_5&quot;\\n  attr {\\n    key: &quot;T&quot;\\n    value {\\n      type: DT_FLOAT\\n    }\\n  }\\n  attr {\\n    key: &quot;_class&quot;\\n    value {\\n      list {\\n        s: &quot;loc:@user_embeddings/Variable&quot;\\n      }\\n    }\\n  }\\n  attr {\\n    key: &quot;use_locking&quot;\\n    value {\\n      b: false\\n    }\\n  }\\n  attr {\\n    key: &quot;validate_shape&quot;\\n    value {\\n      b: true\\n    }\\n  }\\n}\\nnode {\\n  name: &quot;optimize/Adam/update_user_embeddings/Variable/ScatterAdd_1&quot;\\n  op: &quot;ScatterAdd&quot;\\n  input: &quot;optimize/user_embeddings/Variable/Adam_1&quot;\\n  input: &quot;optimize/Adam/update_user_embeddings/Variable/Unique&quot;\\n  input: &quot;optimize/Adam/update_user_embeddings/Variable/mul_4&quot;\\n  input: &quot;^optimize/Adam/update_user_embeddings/Variable/Assign_1&quot;\\n  attr {\\n    key: &quot;T&quot;\\n    value {\\n      type: DT_FLOAT\\n    }\\n  }\\n  attr {\\n    key: &quot;Tindices&quot;\\n    value {\\n      type: DT_INT32\\n    }\\n  }\\n  attr {\\n    key: &quot;_class&quot;\\n    value {\\n      list {\\n        s: &quot;loc:@user_embeddings/Variable&quot;\\n      }\\n    }\\n  }\\n  attr {\\n    key: &quot;use_locking&quot;\\n    value {\\n      b: false\\n    }\\n  }\\n}\\nnode {\\n  name: &quot;optimize/Adam/update_user_embeddings/Variable/Sqrt_1&quot;\\n  op: &quot;Sqrt&quot;\\n  input: &quot;optimize/Adam/update_user_embeddings/Variable/ScatterAdd_1&quot;\\n  attr {\\n    key: &quot;T&quot;\\n    value {\\n      type: DT_FLOAT\\n    }\\n  }\\n  attr {\\n    key: &quot;_class&quot;\\n    value {\\n      list {\\n        s: &quot;loc:@user_embeddings/Variable&quot;\\n      }\\n    }\\n  }\\n}\\nnode {\\n  name: &quot;optimize/Adam/update_user_embeddings/Variable/mul_6&quot;\\n  op: &quot;Mul&quot;\\n  input: &quot;optimize/Adam/update_user_embeddings/Variable/truediv&quot;\\n  input: &quot;optimize/Adam/update_user_embeddings/Variable/ScatterAdd&quot;\\n  attr {\\n    key: &quot;T&quot;\\n    value {\\n      type: DT_FLOAT\\n    }\\n  }\\n  attr {\\n    key: &quot;_class&quot;\\n    value {\\n      list {\\n        s: &quot;loc:@user_embeddings/Variable&quot;\\n      }\\n    }\\n  }\\n}\\nnode {\\n  name: &quot;optimize/Adam/update_user_embeddings/Variable/add&quot;\\n  op: &quot;Add&quot;\\n  input: &quot;optimize/Adam/update_user_embeddings/Variable/Sqrt_1&quot;\\n  input: &quot;optimize/Adam/epsilon&quot;\\n  attr {\\n    key: &quot;T&quot;\\n    value {\\n      type: DT_FLOAT\\n    }\\n  }\\n  attr {\\n    key: &quot;_class&quot;\\n    value {\\n      list {\\n        s: &quot;loc:@user_embeddings/Variable&quot;\\n      }\\n    }\\n  }\\n}\\nnode {\\n  name: &quot;optimize/Adam/update_user_embeddings/Variable/truediv_1&quot;\\n  op: &quot;RealDiv&quot;\\n  input: &quot;optimize/Adam/update_user_embeddings/Variable/mul_6&quot;\\n  input: &quot;optimize/Adam/update_user_embeddings/Variable/add&quot;\\n  attr {\\n    key: &quot;T&quot;\\n    value {\\n      type: DT_FLOAT\\n    }\\n  }\\n  attr {\\n    key: &quot;_class&quot;\\n    value {\\n      list {\\n        s: &quot;loc:@user_embeddings/Variable&quot;\\n      }\\n    }\\n  }\\n}\\nnode {\\n  name: &quot;optimize/Adam/update_user_embeddings/Variable/AssignSub&quot;\\n  op: &quot;AssignSub&quot;\\n  input: &quot;user_embeddings/Variable&quot;\\n  input: &quot;optimize/Adam/update_user_embeddings/Variable/truediv_1&quot;\\n  attr {\\n    key: &quot;T&quot;\\n    value {\\n      type: DT_FLOAT\\n    }\\n  }\\n  attr {\\n    key: &quot;_class&quot;\\n    value {\\n      list {\\n        s: &quot;loc:@user_embeddings/Variable&quot;\\n      }\\n    }\\n  }\\n  attr {\\n    key: &quot;use_locking&quot;\\n    value {\\n      b: false\\n    }\\n  }\\n}\\nnode {\\n  name: &quot;optimize/Adam/update_user_embeddings/Variable/group_deps&quot;\\n  op: &quot;NoOp&quot;\\n  input: &quot;^optimize/Adam/update_user_embeddings/Variable/AssignSub&quot;\\n  input: &quot;^optimize/Adam/update_user_embeddings/Variable/ScatterAdd&quot;\\n  input: &quot;^optimize/Adam/update_user_embeddings/Variable/ScatterAdd_1&quot;\\n  attr {\\n    key: &quot;_class&quot;\\n    value {\\n      list {\\n        s: &quot;loc:@user_embeddings/Variable&quot;\\n      }\\n    }\\n  }\\n}\\nnode {\\n  name: &quot;optimize/Adam/update_item_embeddings/Variable/Unique&quot;\\n  op: &quot;Unique&quot;\\n  input: &quot;optimize/gradients/concat_3&quot;\\n  attr {\\n    key: &quot;T&quot;\\n    value {\\n      type: DT_INT32\\n    }\\n  }\\n  attr {\\n    key: &quot;_class&quot;\\n    value {\\n      list {\\n        s: &quot;loc:@item_embeddings/Variable&quot;\\n      }\\n    }\\n  }\\n  attr {\\n    key: &quot;out_idx&quot;\\n    value {\\n      type: DT_INT32\\n    }\\n  }\\n}\\nnode {\\n  name: &quot;optimize/Adam/update_item_embeddings/Variable/Shape&quot;\\n  op: &quot;Shape&quot;\\n  input: &quot;optimize/Adam/update_item_embeddings/Variable/Unique&quot;\\n  attr {\\n    key: &quot;T&quot;\\n    value {\\n      type: DT_INT32\\n    }\\n  }\\n  attr {\\n    key: &quot;_class&quot;\\n    value {\\n      list {\\n        s: &quot;loc:@item_embeddings/Variable&quot;\\n      }\\n    }\\n  }\\n  attr {\\n    key: &quot;out_type&quot;\\n    value {\\n      type: DT_INT32\\n    }\\n  }\\n}\\nnode {\\n  name: &quot;optimize/Adam/update_item_embeddings/Variable/strided_slice/stack&quot;\\n  op: &quot;Const&quot;\\n  attr {\\n    key: &quot;_class&quot;\\n    value {\\n      list {\\n        s: &quot;loc:@item_embeddings/Variable&quot;\\n      }\\n    }\\n  }\\n  attr {\\n    key: &quot;dtype&quot;\\n    value {\\n      type: DT_INT32\\n    }\\n  }\\n  attr {\\n    key: &quot;value&quot;\\n    value {\\n      tensor {\\n        dtype: DT_INT32\\n        tensor_shape {\\n          dim {\\n            size: 1\\n          }\\n        }\\n        int_val: 0\\n      }\\n    }\\n  }\\n}\\nnode {\\n  name: &quot;optimize/Adam/update_item_embeddings/Variable/strided_slice/stack_1&quot;\\n  op: &quot;Const&quot;\\n  attr {\\n    key: &quot;_class&quot;\\n    value {\\n      list {\\n        s: &quot;loc:@item_embeddings/Variable&quot;\\n      }\\n    }\\n  }\\n  attr {\\n    key: &quot;dtype&quot;\\n    value {\\n      type: DT_INT32\\n    }\\n  }\\n  attr {\\n    key: &quot;value&quot;\\n    value {\\n      tensor {\\n        dtype: DT_INT32\\n        tensor_shape {\\n          dim {\\n            size: 1\\n          }\\n        }\\n        int_val: 1\\n      }\\n    }\\n  }\\n}\\nnode {\\n  name: &quot;optimize/Adam/update_item_embeddings/Variable/strided_slice/stack_2&quot;\\n  op: &quot;Const&quot;\\n  attr {\\n    key: &quot;_class&quot;\\n    value {\\n      list {\\n        s: &quot;loc:@item_embeddings/Variable&quot;\\n      }\\n    }\\n  }\\n  attr {\\n    key: &quot;dtype&quot;\\n    value {\\n      type: DT_INT32\\n    }\\n  }\\n  attr {\\n    key: &quot;value&quot;\\n    value {\\n      tensor {\\n        dtype: DT_INT32\\n        tensor_shape {\\n          dim {\\n            size: 1\\n          }\\n        }\\n        int_val: 1\\n      }\\n    }\\n  }\\n}\\nnode {\\n  name: &quot;optimize/Adam/update_item_embeddings/Variable/strided_slice&quot;\\n  op: &quot;StridedSlice&quot;\\n  input: &quot;optimize/Adam/update_item_embeddings/Variable/Shape&quot;\\n  input: &quot;optimize/Adam/update_item_embeddings/Variable/strided_slice/stack&quot;\\n  input: &quot;optimize/Adam/update_item_embeddings/Variable/strided_slice/stack_1&quot;\\n  input: &quot;optimize/Adam/update_item_embeddings/Variable/strided_slice/stack_2&quot;\\n  attr {\\n    key: &quot;Index&quot;\\n    value {\\n      type: DT_INT32\\n    }\\n  }\\n  attr {\\n    key: &quot;T&quot;\\n    value {\\n      type: DT_INT32\\n    }\\n  }\\n  attr {\\n    key: &quot;_class&quot;\\n    value {\\n      list {\\n        s: &quot;loc:@item_embeddings/Variable&quot;\\n      }\\n    }\\n  }\\n  attr {\\n    key: &quot;begin_mask&quot;\\n    value {\\n      i: 0\\n    }\\n  }\\n  attr {\\n    key: &quot;ellipsis_mask&quot;\\n    value {\\n      i: 0\\n    }\\n  }\\n  attr {\\n    key: &quot;end_mask&quot;\\n    value {\\n      i: 0\\n    }\\n  }\\n  attr {\\n    key: &quot;new_axis_mask&quot;\\n    value {\\n      i: 0\\n    }\\n  }\\n  attr {\\n    key: &quot;shrink_axis_mask&quot;\\n    value {\\n      i: 1\\n    }\\n  }\\n}\\nnode {\\n  name: &quot;optimize/Adam/update_item_embeddings/Variable/UnsortedSegmentSum&quot;\\n  op: &quot;UnsortedSegmentSum&quot;\\n  input: &quot;optimize/gradients/concat_2&quot;\\n  input: &quot;optimize/Adam/update_item_embeddings/Variable/Unique:1&quot;\\n  input: &quot;optimize/Adam/update_item_embeddings/Variable/strided_slice&quot;\\n  attr {\\n    key: &quot;T&quot;\\n    value {\\n      type: DT_FLOAT\\n    }\\n  }\\n  attr {\\n    key: &quot;Tindices&quot;\\n    value {\\n      type: DT_INT32\\n    }\\n  }\\n  attr {\\n    key: &quot;Tnumsegments&quot;\\n    value {\\n      type: DT_INT32\\n    }\\n  }\\n  attr {\\n    key: &quot;_class&quot;\\n    value {\\n      list {\\n        s: &quot;loc:@item_embeddings/Variable&quot;\\n      }\\n    }\\n  }\\n}\\nnode {\\n  name: &quot;optimize/Adam/update_item_embeddings/Variable/sub/x&quot;\\n  op: &quot;Const&quot;\\n  attr {\\n    key: &quot;_class&quot;\\n    value {\\n      list {\\n        s: &quot;loc:@item_embeddings/Variable&quot;\\n      }\\n    }\\n  }\\n  attr {\\n    key: &quot;dtype&quot;\\n    value {\\n      type: DT_FLOAT\\n    }\\n  }\\n  attr {\\n    key: &quot;value&quot;\\n    value {\\n      tensor {\\n        dtype: DT_FLOAT\\n        tensor_shape {\\n        }\\n        float_val: 1.0\\n      }\\n    }\\n  }\\n}\\nnode {\\n  name: &quot;optimize/Adam/update_item_embeddings/Variable/sub&quot;\\n  op: &quot;Sub&quot;\\n  input: &quot;optimize/Adam/update_item_embeddings/Variable/sub/x&quot;\\n  input: &quot;optimize/beta2_power/read&quot;\\n  attr {\\n    key: &quot;T&quot;\\n    value {\\n      type: DT_FLOAT\\n    }\\n  }\\n  attr {\\n    key: &quot;_class&quot;\\n    value {\\n      list {\\n        s: &quot;loc:@item_embeddings/Variable&quot;\\n      }\\n    }\\n  }\\n}\\nnode {\\n  name: &quot;optimize/Adam/update_item_embeddings/Variable/Sqrt&quot;\\n  op: &quot;Sqrt&quot;\\n  input: &quot;optimize/Adam/update_item_embeddings/Variable/sub&quot;\\n  attr {\\n    key: &quot;T&quot;\\n    value {\\n      type: DT_FLOAT\\n    }\\n  }\\n  attr {\\n    key: &quot;_class&quot;\\n    value {\\n      list {\\n        s: &quot;loc:@item_embeddings/Variable&quot;\\n      }\\n    }\\n  }\\n}\\nnode {\\n  name: &quot;optimize/Adam/update_item_embeddings/Variable/mul&quot;\\n  op: &quot;Mul&quot;\\n  input: &quot;optimize/Adam/learning_rate&quot;\\n  input: &quot;optimize/Adam/update_item_embeddings/Variable/Sqrt&quot;\\n  attr {\\n    key: &quot;T&quot;\\n    value {\\n      type: DT_FLOAT\\n    }\\n  }\\n  attr {\\n    key: &quot;_class&quot;\\n    value {\\n      list {\\n        s: &quot;loc:@item_embeddings/Variable&quot;\\n      }\\n    }\\n  }\\n}\\nnode {\\n  name: &quot;optimize/Adam/update_item_embeddings/Variable/sub_1/x&quot;\\n  op: &quot;Const&quot;\\n  attr {\\n    key: &quot;_class&quot;\\n    value {\\n      list {\\n        s: &quot;loc:@item_embeddings/Variable&quot;\\n      }\\n    }\\n  }\\n  attr {\\n    key: &quot;dtype&quot;\\n    value {\\n      type: DT_FLOAT\\n    }\\n  }\\n  attr {\\n    key: &quot;value&quot;\\n    value {\\n      tensor {\\n        dtype: DT_FLOAT\\n        tensor_shape {\\n        }\\n        float_val: 1.0\\n      }\\n    }\\n  }\\n}\\nnode {\\n  name: &quot;optimize/Adam/update_item_embeddings/Variable/sub_1&quot;\\n  op: &quot;Sub&quot;\\n  input: &quot;optimize/Adam/update_item_embeddings/Variable/sub_1/x&quot;\\n  input: &quot;optimize/beta1_power/read&quot;\\n  attr {\\n    key: &quot;T&quot;\\n    value {\\n      type: DT_FLOAT\\n    }\\n  }\\n  attr {\\n    key: &quot;_class&quot;\\n    value {\\n      list {\\n        s: &quot;loc:@item_embeddings/Variable&quot;\\n      }\\n    }\\n  }\\n}\\nnode {\\n  name: &quot;optimize/Adam/update_item_embeddings/Variable/truediv&quot;\\n  op: &quot;RealDiv&quot;\\n  input: &quot;optimize/Adam/update_item_embeddings/Variable/mul&quot;\\n  input: &quot;optimize/Adam/update_item_embeddings/Variable/sub_1&quot;\\n  attr {\\n    key: &quot;T&quot;\\n    value {\\n      type: DT_FLOAT\\n    }\\n  }\\n  attr {\\n    key: &quot;_class&quot;\\n    value {\\n      list {\\n        s: &quot;loc:@item_embeddings/Variable&quot;\\n      }\\n    }\\n  }\\n}\\nnode {\\n  name: &quot;optimize/Adam/update_item_embeddings/Variable/sub_2/x&quot;\\n  op: &quot;Const&quot;\\n  attr {\\n    key: &quot;_class&quot;\\n    value {\\n      list {\\n        s: &quot;loc:@item_embeddings/Variable&quot;\\n      }\\n    }\\n  }\\n  attr {\\n    key: &quot;dtype&quot;\\n    value {\\n      type: DT_FLOAT\\n    }\\n  }\\n  attr {\\n    key: &quot;value&quot;\\n    value {\\n      tensor {\\n        dtype: DT_FLOAT\\n        tensor_shape {\\n        }\\n        float_val: 1.0\\n      }\\n    }\\n  }\\n}\\nnode {\\n  name: &quot;optimize/Adam/update_item_embeddings/Variable/sub_2&quot;\\n  op: &quot;Sub&quot;\\n  input: &quot;optimize/Adam/update_item_embeddings/Variable/sub_2/x&quot;\\n  input: &quot;optimize/Adam/beta1&quot;\\n  attr {\\n    key: &quot;T&quot;\\n    value {\\n      type: DT_FLOAT\\n    }\\n  }\\n  attr {\\n    key: &quot;_class&quot;\\n    value {\\n      list {\\n        s: &quot;loc:@item_embeddings/Variable&quot;\\n      }\\n    }\\n  }\\n}\\nnode {\\n  name: &quot;optimize/Adam/update_item_embeddings/Variable/mul_1&quot;\\n  op: &quot;Mul&quot;\\n  input: &quot;optimize/Adam/update_item_embeddings/Variable/UnsortedSegmentSum&quot;\\n  input: &quot;optimize/Adam/update_item_embeddings/Variable/sub_2&quot;\\n  attr {\\n    key: &quot;T&quot;\\n    value {\\n      type: DT_FLOAT\\n    }\\n  }\\n  attr {\\n    key: &quot;_class&quot;\\n    value {\\n      list {\\n        s: &quot;loc:@item_embeddings/Variable&quot;\\n      }\\n    }\\n  }\\n}\\nnode {\\n  name: &quot;optimize/Adam/update_item_embeddings/Variable/mul_2&quot;\\n  op: &quot;Mul&quot;\\n  input: &quot;optimize/item_embeddings/Variable/Adam/read&quot;\\n  input: &quot;optimize/Adam/beta1&quot;\\n  attr {\\n    key: &quot;T&quot;\\n    value {\\n      type: DT_FLOAT\\n    }\\n  }\\n  attr {\\n    key: &quot;_class&quot;\\n    value {\\n      list {\\n        s: &quot;loc:@item_embeddings/Variable&quot;\\n      }\\n    }\\n  }\\n}\\nnode {\\n  name: &quot;optimize/Adam/update_item_embeddings/Variable/Assign&quot;\\n  op: &quot;Assign&quot;\\n  input: &quot;optimize/item_embeddings/Variable/Adam&quot;\\n  input: &quot;optimize/Adam/update_item_embeddings/Variable/mul_2&quot;\\n  attr {\\n    key: &quot;T&quot;\\n    value {\\n      type: DT_FLOAT\\n    }\\n  }\\n  attr {\\n    key: &quot;_class&quot;\\n    value {\\n      list {\\n        s: &quot;loc:@item_embeddings/Variable&quot;\\n      }\\n    }\\n  }\\n  attr {\\n    key: &quot;use_locking&quot;\\n    value {\\n      b: false\\n    }\\n  }\\n  attr {\\n    key: &quot;validate_shape&quot;\\n    value {\\n      b: true\\n    }\\n  }\\n}\\nnode {\\n  name: &quot;optimize/Adam/update_item_embeddings/Variable/ScatterAdd&quot;\\n  op: &quot;ScatterAdd&quot;\\n  input: &quot;optimize/item_embeddings/Variable/Adam&quot;\\n  input: &quot;optimize/Adam/update_item_embeddings/Variable/Unique&quot;\\n  input: &quot;optimize/Adam/update_item_embeddings/Variable/mul_1&quot;\\n  input: &quot;^optimize/Adam/update_item_embeddings/Variable/Assign&quot;\\n  attr {\\n    key: &quot;T&quot;\\n    value {\\n      type: DT_FLOAT\\n    }\\n  }\\n  attr {\\n    key: &quot;Tindices&quot;\\n    value {\\n      type: DT_INT32\\n    }\\n  }\\n  attr {\\n    key: &quot;_class&quot;\\n    value {\\n      list {\\n        s: &quot;loc:@item_embeddings/Variable&quot;\\n      }\\n    }\\n  }\\n  attr {\\n    key: &quot;use_locking&quot;\\n    value {\\n      b: false\\n    }\\n  }\\n}\\nnode {\\n  name: &quot;optimize/Adam/update_item_embeddings/Variable/mul_3&quot;\\n  op: &quot;Mul&quot;\\n  input: &quot;optimize/Adam/update_item_embeddings/Variable/UnsortedSegmentSum&quot;\\n  input: &quot;optimize/Adam/update_item_embeddings/Variable/UnsortedSegmentSum&quot;\\n  attr {\\n    key: &quot;T&quot;\\n    value {\\n      type: DT_FLOAT\\n    }\\n  }\\n  attr {\\n    key: &quot;_class&quot;\\n    value {\\n      list {\\n        s: &quot;loc:@item_embeddings/Variable&quot;\\n      }\\n    }\\n  }\\n}\\nnode {\\n  name: &quot;optimize/Adam/update_item_embeddings/Variable/sub_3/x&quot;\\n  op: &quot;Const&quot;\\n  attr {\\n    key: &quot;_class&quot;\\n    value {\\n      list {\\n        s: &quot;loc:@item_embeddings/Variable&quot;\\n      }\\n    }\\n  }\\n  attr {\\n    key: &quot;dtype&quot;\\n    value {\\n      type: DT_FLOAT\\n    }\\n  }\\n  attr {\\n    key: &quot;value&quot;\\n    value {\\n      tensor {\\n        dtype: DT_FLOAT\\n        tensor_shape {\\n        }\\n        float_val: 1.0\\n      }\\n    }\\n  }\\n}\\nnode {\\n  name: &quot;optimize/Adam/update_item_embeddings/Variable/sub_3&quot;\\n  op: &quot;Sub&quot;\\n  input: &quot;optimize/Adam/update_item_embeddings/Variable/sub_3/x&quot;\\n  input: &quot;optimize/Adam/beta2&quot;\\n  attr {\\n    key: &quot;T&quot;\\n    value {\\n      type: DT_FLOAT\\n    }\\n  }\\n  attr {\\n    key: &quot;_class&quot;\\n    value {\\n      list {\\n        s: &quot;loc:@item_embeddings/Variable&quot;\\n      }\\n    }\\n  }\\n}\\nnode {\\n  name: &quot;optimize/Adam/update_item_embeddings/Variable/mul_4&quot;\\n  op: &quot;Mul&quot;\\n  input: &quot;optimize/Adam/update_item_embeddings/Variable/mul_3&quot;\\n  input: &quot;optimize/Adam/update_item_embeddings/Variable/sub_3&quot;\\n  attr {\\n    key: &quot;T&quot;\\n    value {\\n      type: DT_FLOAT\\n    }\\n  }\\n  attr {\\n    key: &quot;_class&quot;\\n    value {\\n      list {\\n        s: &quot;loc:@item_embeddings/Variable&quot;\\n      }\\n    }\\n  }\\n}\\nnode {\\n  name: &quot;optimize/Adam/update_item_embeddings/Variable/mul_5&quot;\\n  op: &quot;Mul&quot;\\n  input: &quot;optimize/item_embeddings/Variable/Adam_1/read&quot;\\n  input: &quot;optimize/Adam/beta2&quot;\\n  attr {\\n    key: &quot;T&quot;\\n    value {\\n      type: DT_FLOAT\\n    }\\n  }\\n  attr {\\n    key: &quot;_class&quot;\\n    value {\\n      list {\\n        s: &quot;loc:@item_embeddings/Variable&quot;\\n      }\\n    }\\n  }\\n}\\nnode {\\n  name: &quot;optimize/Adam/update_item_embeddings/Variable/Assign_1&quot;\\n  op: &quot;Assign&quot;\\n  input: &quot;optimize/item_embeddings/Variable/Adam_1&quot;\\n  input: &quot;optimize/Adam/update_item_embeddings/Variable/mul_5&quot;\\n  attr {\\n    key: &quot;T&quot;\\n    value {\\n      type: DT_FLOAT\\n    }\\n  }\\n  attr {\\n    key: &quot;_class&quot;\\n    value {\\n      list {\\n        s: &quot;loc:@item_embeddings/Variable&quot;\\n      }\\n    }\\n  }\\n  attr {\\n    key: &quot;use_locking&quot;\\n    value {\\n      b: false\\n    }\\n  }\\n  attr {\\n    key: &quot;validate_shape&quot;\\n    value {\\n      b: true\\n    }\\n  }\\n}\\nnode {\\n  name: &quot;optimize/Adam/update_item_embeddings/Variable/ScatterAdd_1&quot;\\n  op: &quot;ScatterAdd&quot;\\n  input: &quot;optimize/item_embeddings/Variable/Adam_1&quot;\\n  input: &quot;optimize/Adam/update_item_embeddings/Variable/Unique&quot;\\n  input: &quot;optimize/Adam/update_item_embeddings/Variable/mul_4&quot;\\n  input: &quot;^optimize/Adam/update_item_embeddings/Variable/Assign_1&quot;\\n  attr {\\n    key: &quot;T&quot;\\n    value {\\n      type: DT_FLOAT\\n    }\\n  }\\n  attr {\\n    key: &quot;Tindices&quot;\\n    value {\\n      type: DT_INT32\\n    }\\n  }\\n  attr {\\n    key: &quot;_class&quot;\\n    value {\\n      list {\\n        s: &quot;loc:@item_embeddings/Variable&quot;\\n      }\\n    }\\n  }\\n  attr {\\n    key: &quot;use_locking&quot;\\n    value {\\n      b: false\\n    }\\n  }\\n}\\nnode {\\n  name: &quot;optimize/Adam/update_item_embeddings/Variable/Sqrt_1&quot;\\n  op: &quot;Sqrt&quot;\\n  input: &quot;optimize/Adam/update_item_embeddings/Variable/ScatterAdd_1&quot;\\n  attr {\\n    key: &quot;T&quot;\\n    value {\\n      type: DT_FLOAT\\n    }\\n  }\\n  attr {\\n    key: &quot;_class&quot;\\n    value {\\n      list {\\n        s: &quot;loc:@item_embeddings/Variable&quot;\\n      }\\n    }\\n  }\\n}\\nnode {\\n  name: &quot;optimize/Adam/update_item_embeddings/Variable/mul_6&quot;\\n  op: &quot;Mul&quot;\\n  input: &quot;optimize/Adam/update_item_embeddings/Variable/truediv&quot;\\n  input: &quot;optimize/Adam/update_item_embeddings/Variable/ScatterAdd&quot;\\n  attr {\\n    key: &quot;T&quot;\\n    value {\\n      type: DT_FLOAT\\n    }\\n  }\\n  attr {\\n    key: &quot;_class&quot;\\n    value {\\n      list {\\n        s: &quot;loc:@item_embeddings/Variable&quot;\\n      }\\n    }\\n  }\\n}\\nnode {\\n  name: &quot;optimize/Adam/update_item_embeddings/Variable/add&quot;\\n  op: &quot;Add&quot;\\n  input: &quot;optimize/Adam/update_item_embeddings/Variable/Sqrt_1&quot;\\n  input: &quot;optimize/Adam/epsilon&quot;\\n  attr {\\n    key: &quot;T&quot;\\n    value {\\n      type: DT_FLOAT\\n    }\\n  }\\n  attr {\\n    key: &quot;_class&quot;\\n    value {\\n      list {\\n        s: &quot;loc:@item_embeddings/Variable&quot;\\n      }\\n    }\\n  }\\n}\\nnode {\\n  name: &quot;optimize/Adam/update_item_embeddings/Variable/truediv_1&quot;\\n  op: &quot;RealDiv&quot;\\n  input: &quot;optimize/Adam/update_item_embeddings/Variable/mul_6&quot;\\n  input: &quot;optimize/Adam/update_item_embeddings/Variable/add&quot;\\n  attr {\\n    key: &quot;T&quot;\\n    value {\\n      type: DT_FLOAT\\n    }\\n  }\\n  attr {\\n    key: &quot;_class&quot;\\n    value {\\n      list {\\n        s: &quot;loc:@item_embeddings/Variable&quot;\\n      }\\n    }\\n  }\\n}\\nnode {\\n  name: &quot;optimize/Adam/update_item_embeddings/Variable/AssignSub&quot;\\n  op: &quot;AssignSub&quot;\\n  input: &quot;item_embeddings/Variable&quot;\\n  input: &quot;optimize/Adam/update_item_embeddings/Variable/truediv_1&quot;\\n  attr {\\n    key: &quot;T&quot;\\n    value {\\n      type: DT_FLOAT\\n    }\\n  }\\n  attr {\\n    key: &quot;_class&quot;\\n    value {\\n      list {\\n        s: &quot;loc:@item_embeddings/Variable&quot;\\n      }\\n    }\\n  }\\n  attr {\\n    key: &quot;use_locking&quot;\\n    value {\\n      b: false\\n    }\\n  }\\n}\\nnode {\\n  name: &quot;optimize/Adam/update_item_embeddings/Variable/group_deps&quot;\\n  op: &quot;NoOp&quot;\\n  input: &quot;^optimize/Adam/update_item_embeddings/Variable/AssignSub&quot;\\n  input: &quot;^optimize/Adam/update_item_embeddings/Variable/ScatterAdd&quot;\\n  input: &quot;^optimize/Adam/update_item_embeddings/Variable/ScatterAdd_1&quot;\\n  attr {\\n    key: &quot;_class&quot;\\n    value {\\n      list {\\n        s: &quot;loc:@item_embeddings/Variable&quot;\\n      }\\n    }\\n  }\\n}\\nnode {\\n  name: &quot;optimize/Adam/mul&quot;\\n  op: &quot;Mul&quot;\\n  input: &quot;optimize/beta1_power/read&quot;\\n  input: &quot;optimize/Adam/beta1&quot;\\n  input: &quot;^optimize/Adam/update_item_embeddings/Variable/group_deps&quot;\\n  input: &quot;^optimize/Adam/update_user_embeddings/Variable/group_deps&quot;\\n  attr {\\n    key: &quot;T&quot;\\n    value {\\n      type: DT_FLOAT\\n    }\\n  }\\n  attr {\\n    key: &quot;_class&quot;\\n    value {\\n      list {\\n        s: &quot;loc:@item_embeddings/Variable&quot;\\n      }\\n    }\\n  }\\n}\\nnode {\\n  name: &quot;optimize/Adam/Assign&quot;\\n  op: &quot;Assign&quot;\\n  input: &quot;optimize/beta1_power&quot;\\n  input: &quot;optimize/Adam/mul&quot;\\n  attr {\\n    key: &quot;T&quot;\\n    value {\\n      type: DT_FLOAT\\n    }\\n  }\\n  attr {\\n    key: &quot;_class&quot;\\n    value {\\n      list {\\n        s: &quot;loc:@item_embeddings/Variable&quot;\\n      }\\n    }\\n  }\\n  attr {\\n    key: &quot;use_locking&quot;\\n    value {\\n      b: false\\n    }\\n  }\\n  attr {\\n    key: &quot;validate_shape&quot;\\n    value {\\n      b: true\\n    }\\n  }\\n}\\nnode {\\n  name: &quot;optimize/Adam/mul_1&quot;\\n  op: &quot;Mul&quot;\\n  input: &quot;optimize/beta2_power/read&quot;\\n  input: &quot;optimize/Adam/beta2&quot;\\n  input: &quot;^optimize/Adam/update_item_embeddings/Variable/group_deps&quot;\\n  input: &quot;^optimize/Adam/update_user_embeddings/Variable/group_deps&quot;\\n  attr {\\n    key: &quot;T&quot;\\n    value {\\n      type: DT_FLOAT\\n    }\\n  }\\n  attr {\\n    key: &quot;_class&quot;\\n    value {\\n      list {\\n        s: &quot;loc:@item_embeddings/Variable&quot;\\n      }\\n    }\\n  }\\n}\\nnode {\\n  name: &quot;optimize/Adam/Assign_1&quot;\\n  op: &quot;Assign&quot;\\n  input: &quot;optimize/beta2_power&quot;\\n  input: &quot;optimize/Adam/mul_1&quot;\\n  attr {\\n    key: &quot;T&quot;\\n    value {\\n      type: DT_FLOAT\\n    }\\n  }\\n  attr {\\n    key: &quot;_class&quot;\\n    value {\\n      list {\\n        s: &quot;loc:@item_embeddings/Variable&quot;\\n      }\\n    }\\n  }\\n  attr {\\n    key: &quot;use_locking&quot;\\n    value {\\n      b: false\\n    }\\n  }\\n  attr {\\n    key: &quot;validate_shape&quot;\\n    value {\\n      b: true\\n    }\\n  }\\n}\\nnode {\\n  name: &quot;optimize/Adam&quot;\\n  op: &quot;NoOp&quot;\\n  input: &quot;^optimize/Adam/Assign&quot;\\n  input: &quot;^optimize/Adam/Assign_1&quot;\\n  input: &quot;^optimize/Adam/update_item_embeddings/Variable/group_deps&quot;\\n  input: &quot;^optimize/Adam/update_user_embeddings/Variable/group_deps&quot;\\n}\\nnode {\\n  name: &quot;optimize/truediv/y&quot;\\n  op: &quot;Const&quot;\\n  attr {\\n    key: &quot;dtype&quot;\\n    value {\\n      type: DT_FLOAT\\n    }\\n  }\\n  attr {\\n    key: &quot;value&quot;\\n    value {\\n      tensor {\\n        dtype: DT_FLOAT\\n        tensor_shape {\\n        }\\n        float_val: 25975.0\\n      }\\n    }\\n  }\\n}\\nnode {\\n  name: &quot;optimize/truediv&quot;\\n  op: &quot;RealDiv&quot;\\n  input: &quot;feature_loss/add&quot;\\n  input: &quot;optimize/truediv/y&quot;\\n  attr {\\n    key: &quot;T&quot;\\n    value {\\n      type: DT_FLOAT\\n    }\\n  }\\n}\\nnode {\\n  name: &quot;optimize/gradients_1/Shape&quot;\\n  op: &quot;Const&quot;\\n  attr {\\n    key: &quot;dtype&quot;\\n    value {\\n      type: DT_INT32\\n    }\\n  }\\n  attr {\\n    key: &quot;value&quot;\\n    value {\\n      tensor {\\n        dtype: DT_INT32\\n        tensor_shape {\\n          dim {\\n          }\\n        }\\n      }\\n    }\\n  }\\n}\\nnode {\\n  name: &quot;optimize/gradients_1/grad_ys_0&quot;\\n  op: &quot;Const&quot;\\n  attr {\\n    key: &quot;dtype&quot;\\n    value {\\n      type: DT_FLOAT\\n    }\\n  }\\n  attr {\\n    key: &quot;value&quot;\\n    value {\\n      tensor {\\n        dtype: DT_FLOAT\\n        tensor_shape {\\n        }\\n        float_val: 1.0\\n      }\\n    }\\n  }\\n}\\nnode {\\n  name: &quot;optimize/gradients_1/Fill&quot;\\n  op: &quot;Fill&quot;\\n  input: &quot;optimize/gradients_1/Shape&quot;\\n  input: &quot;optimize/gradients_1/grad_ys_0&quot;\\n  attr {\\n    key: &quot;T&quot;\\n    value {\\n      type: DT_FLOAT\\n    }\\n  }\\n  attr {\\n    key: &quot;index_type&quot;\\n    value {\\n      type: DT_INT32\\n    }\\n  }\\n}\\nnode {\\n  name: &quot;optimize/gradients_1/optimize/truediv_grad/Shape&quot;\\n  op: &quot;Const&quot;\\n  attr {\\n    key: &quot;dtype&quot;\\n    value {\\n      type: DT_INT32\\n    }\\n  }\\n  attr {\\n    key: &quot;value&quot;\\n    value {\\n      tensor {\\n        dtype: DT_INT32\\n        tensor_shape {\\n          dim {\\n          }\\n        }\\n      }\\n    }\\n  }\\n}\\nnode {\\n  name: &quot;optimize/gradients_1/optimize/truediv_grad/Shape_1&quot;\\n  op: &quot;Const&quot;\\n  attr {\\n    key: &quot;dtype&quot;\\n    value {\\n      type: DT_INT32\\n    }\\n  }\\n  attr {\\n    key: &quot;value&quot;\\n    value {\\n      tensor {\\n        dtype: DT_INT32\\n        tensor_shape {\\n          dim {\\n          }\\n        }\\n      }\\n    }\\n  }\\n}\\nnode {\\n  name: &quot;optimize/gradients_1/optimize/truediv_grad/BroadcastGradientArgs&quot;\\n  op: &quot;BroadcastGradientArgs&quot;\\n  input: &quot;optimize/gradients_1/optimize/truediv_grad/Shape&quot;\\n  input: &quot;optimize/gradients_1/optimize/truediv_grad/Shape_1&quot;\\n  attr {\\n    key: &quot;T&quot;\\n    value {\\n      type: DT_INT32\\n    }\\n  }\\n}\\nnode {\\n  name: &quot;optimize/gradients_1/optimize/truediv_grad/RealDiv&quot;\\n  op: &quot;RealDiv&quot;\\n  input: &quot;optimize/gradients_1/Fill&quot;\\n  input: &quot;optimize/truediv/y&quot;\\n  attr {\\n    key: &quot;T&quot;\\n    value {\\n      type: DT_FLOAT\\n    }\\n  }\\n}\\nnode {\\n  name: &quot;optimize/gradients_1/optimize/truediv_grad/Sum&quot;\\n  op: &quot;Sum&quot;\\n  input: &quot;optimize/gradients_1/optimize/truediv_grad/RealDiv&quot;\\n  input: &quot;optimize/gradients_1/optimize/truediv_grad/BroadcastGradientArgs&quot;\\n  attr {\\n    key: &quot;T&quot;\\n    value {\\n      type: DT_FLOAT\\n    }\\n  }\\n  attr {\\n    key: &quot;Tidx&quot;\\n    value {\\n      type: DT_INT32\\n    }\\n  }\\n  attr {\\n    key: &quot;keep_dims&quot;\\n    value {\\n      b: false\\n    }\\n  }\\n}\\nnode {\\n  name: &quot;optimize/gradients_1/optimize/truediv_grad/Reshape&quot;\\n  op: &quot;Reshape&quot;\\n  input: &quot;optimize/gradients_1/optimize/truediv_grad/Sum&quot;\\n  input: &quot;optimize/gradients_1/optimize/truediv_grad/Shape&quot;\\n  attr {\\n    key: &quot;T&quot;\\n    value {\\n      type: DT_FLOAT\\n    }\\n  }\\n  attr {\\n    key: &quot;Tshape&quot;\\n    value {\\n      type: DT_INT32\\n    }\\n  }\\n}\\nnode {\\n  name: &quot;optimize/gradients_1/optimize/truediv_grad/Neg&quot;\\n  op: &quot;Neg&quot;\\n  input: &quot;feature_loss/add&quot;\\n  attr {\\n    key: &quot;T&quot;\\n    value {\\n      type: DT_FLOAT\\n    }\\n  }\\n}\\nnode {\\n  name: &quot;optimize/gradients_1/optimize/truediv_grad/RealDiv_1&quot;\\n  op: &quot;RealDiv&quot;\\n  input: &quot;optimize/gradients_1/optimize/truediv_grad/Neg&quot;\\n  input: &quot;optimize/truediv/y&quot;\\n  attr {\\n    key: &quot;T&quot;\\n    value {\\n      type: DT_FLOAT\\n    }\\n  }\\n}\\nnode {\\n  name: &quot;optimize/gradients_1/optimize/truediv_grad/RealDiv_2&quot;\\n  op: &quot;RealDiv&quot;\\n  input: &quot;optimize/gradients_1/optimize/truediv_grad/RealDiv_1&quot;\\n  input: &quot;optimize/truediv/y&quot;\\n  attr {\\n    key: &quot;T&quot;\\n    value {\\n      type: DT_FLOAT\\n    }\\n  }\\n}\\nnode {\\n  name: &quot;optimize/gradients_1/optimize/truediv_grad/mul&quot;\\n  op: &quot;Mul&quot;\\n  input: &quot;optimize/gradients_1/Fill&quot;\\n  input: &quot;optimize/gradients_1/optimize/truediv_grad/RealDiv_2&quot;\\n  attr {\\n    key: &quot;T&quot;\\n    value {\\n      type: DT_FLOAT\\n    }\\n  }\\n}\\nnode {\\n  name: &quot;optimize/gradients_1/optimize/truediv_grad/Sum_1&quot;\\n  op: &quot;Sum&quot;\\n  input: &quot;optimize/gradients_1/optimize/truediv_grad/mul&quot;\\n  input: &quot;optimize/gradients_1/optimize/truediv_grad/BroadcastGradientArgs:1&quot;\\n  attr {\\n    key: &quot;T&quot;\\n    value {\\n      type: DT_FLOAT\\n    }\\n  }\\n  attr {\\n    key: &quot;Tidx&quot;\\n    value {\\n      type: DT_INT32\\n    }\\n  }\\n  attr {\\n    key: &quot;keep_dims&quot;\\n    value {\\n      b: false\\n    }\\n  }\\n}\\nnode {\\n  name: &quot;optimize/gradients_1/optimize/truediv_grad/Reshape_1&quot;\\n  op: &quot;Reshape&quot;\\n  input: &quot;optimize/gradients_1/optimize/truediv_grad/Sum_1&quot;\\n  input: &quot;optimize/gradients_1/optimize/truediv_grad/Shape_1&quot;\\n  attr {\\n    key: &quot;T&quot;\\n    value {\\n      type: DT_FLOAT\\n    }\\n  }\\n  attr {\\n    key: &quot;Tshape&quot;\\n    value {\\n      type: DT_INT32\\n    }\\n  }\\n}\\nnode {\\n  name: &quot;optimize/gradients_1/optimize/truediv_grad/tuple/group_deps&quot;\\n  op: &quot;NoOp&quot;\\n  input: &quot;^optimize/gradients_1/optimize/truediv_grad/Reshape&quot;\\n  input: &quot;^optimize/gradients_1/optimize/truediv_grad/Reshape_1&quot;\\n}\\nnode {\\n  name: &quot;optimize/gradients_1/optimize/truediv_grad/tuple/control_dependency&quot;\\n  op: &quot;Identity&quot;\\n  input: &quot;optimize/gradients_1/optimize/truediv_grad/Reshape&quot;\\n  input: &quot;^optimize/gradients_1/optimize/truediv_grad/tuple/group_deps&quot;\\n  attr {\\n    key: &quot;T&quot;\\n    value {\\n      type: DT_FLOAT\\n    }\\n  }\\n  attr {\\n    key: &quot;_class&quot;\\n    value {\\n      list {\\n        s: &quot;loc:@optimize/gradients_1/optimize/truediv_grad/Reshape&quot;\\n      }\\n    }\\n  }\\n}\\nnode {\\n  name: &quot;optimize/gradients_1/optimize/truediv_grad/tuple/control_dependency_1&quot;\\n  op: &quot;Identity&quot;\\n  input: &quot;optimize/gradients_1/optimize/truediv_grad/Reshape_1&quot;\\n  input: &quot;^optimize/gradients_1/optimize/truediv_grad/tuple/group_deps&quot;\\n  attr {\\n    key: &quot;T&quot;\\n    value {\\n      type: DT_FLOAT\\n    }\\n  }\\n  attr {\\n    key: &quot;_class&quot;\\n    value {\\n      list {\\n        s: &quot;loc:@optimize/gradients_1/optimize/truediv_grad/Reshape_1&quot;\\n      }\\n    }\\n  }\\n}\\nnode {\\n  name: &quot;optimize/gradients_1/feature_loss/add_grad/tuple/group_deps&quot;\\n  op: &quot;NoOp&quot;\\n  input: &quot;^optimize/gradients_1/optimize/truediv_grad/tuple/control_dependency&quot;\\n}\\nnode {\\n  name: &quot;optimize/gradients_1/feature_loss/add_grad/tuple/control_dependency&quot;\\n  op: &quot;Identity&quot;\\n  input: &quot;optimize/gradients_1/optimize/truediv_grad/tuple/control_dependency&quot;\\n  input: &quot;^optimize/gradients_1/feature_loss/add_grad/tuple/group_deps&quot;\\n  attr {\\n    key: &quot;T&quot;\\n    value {\\n      type: DT_FLOAT\\n    }\\n  }\\n  attr {\\n    key: &quot;_class&quot;\\n    value {\\n      list {\\n        s: &quot;loc:@optimize/gradients_1/optimize/truediv_grad/Reshape&quot;\\n      }\\n    }\\n  }\\n}\\nnode {\\n  name: &quot;optimize/gradients_1/feature_loss/add_grad/tuple/control_dependency_1&quot;\\n  op: &quot;Identity&quot;\\n  input: &quot;optimize/gradients_1/optimize/truediv_grad/tuple/control_dependency&quot;\\n  input: &quot;^optimize/gradients_1/feature_loss/add_grad/tuple/group_deps&quot;\\n  attr {\\n    key: &quot;T&quot;\\n    value {\\n      type: DT_FLOAT\\n    }\\n  }\\n  attr {\\n    key: &quot;_class&quot;\\n    value {\\n      list {\\n        s: &quot;loc:@optimize/gradients_1/optimize/truediv_grad/Reshape&quot;\\n      }\\n    }\\n  }\\n}\\nnode {\\n  name: &quot;optimize/gradients_1/feature_loss/mul_grad/Mul&quot;\\n  op: &quot;Mul&quot;\\n  input: &quot;optimize/gradients_1/feature_loss/add_grad/tuple/control_dependency_1&quot;\\n  input: &quot;feature_loss/mul/y&quot;\\n  attr {\\n    key: &quot;T&quot;\\n    value {\\n      type: DT_FLOAT\\n    }\\n  }\\n}\\nnode {\\n  name: &quot;optimize/gradients_1/feature_loss/mul_grad/Mul_1&quot;\\n  op: &quot;Mul&quot;\\n  input: &quot;optimize/gradients_1/feature_loss/add_grad/tuple/control_dependency_1&quot;\\n  input: &quot;feature_loss/feature_loss&quot;\\n  attr {\\n    key: &quot;T&quot;\\n    value {\\n      type: DT_FLOAT\\n    }\\n  }\\n}\\nnode {\\n  name: &quot;optimize/gradients_1/feature_loss/mul_grad/tuple/group_deps&quot;\\n  op: &quot;NoOp&quot;\\n  input: &quot;^optimize/gradients_1/feature_loss/mul_grad/Mul&quot;\\n  input: &quot;^optimize/gradients_1/feature_loss/mul_grad/Mul_1&quot;\\n}\\nnode {\\n  name: &quot;optimize/gradients_1/feature_loss/mul_grad/tuple/control_dependency&quot;\\n  op: &quot;Identity&quot;\\n  input: &quot;optimize/gradients_1/feature_loss/mul_grad/Mul&quot;\\n  input: &quot;^optimize/gradients_1/feature_loss/mul_grad/tuple/group_deps&quot;\\n  attr {\\n    key: &quot;T&quot;\\n    value {\\n      type: DT_FLOAT\\n    }\\n  }\\n  attr {\\n    key: &quot;_class&quot;\\n    value {\\n      list {\\n        s: &quot;loc:@optimize/gradients_1/feature_loss/mul_grad/Mul&quot;\\n      }\\n    }\\n  }\\n}\\nnode {\\n  name: &quot;optimize/gradients_1/feature_loss/mul_grad/tuple/control_dependency_1&quot;\\n  op: &quot;Identity&quot;\\n  input: &quot;optimize/gradients_1/feature_loss/mul_grad/Mul_1&quot;\\n  input: &quot;^optimize/gradients_1/feature_loss/mul_grad/tuple/group_deps&quot;\\n  attr {\\n    key: &quot;T&quot;\\n    value {\\n      type: DT_FLOAT\\n    }\\n  }\\n  attr {\\n    key: &quot;_class&quot;\\n    value {\\n      list {\\n        s: &quot;loc:@optimize/gradients_1/feature_loss/mul_grad/Mul_1&quot;\\n      }\\n    }\\n  }\\n}\\nnode {\\n  name: &quot;optimize/gradients_1/feature_loss/feature_loss_grad/Reshape/shape&quot;\\n  op: &quot;Const&quot;\\n  attr {\\n    key: &quot;dtype&quot;\\n    value {\\n      type: DT_INT32\\n    }\\n  }\\n  attr {\\n    key: &quot;value&quot;\\n    value {\\n      tensor {\\n        dtype: DT_INT32\\n        tensor_shape {\\n          dim {\\n            size: 1\\n          }\\n        }\\n        int_val: 1\\n      }\\n    }\\n  }\\n}\\nnode {\\n  name: &quot;optimize/gradients_1/feature_loss/feature_loss_grad/Reshape&quot;\\n  op: &quot;Reshape&quot;\\n  input: &quot;optimize/gradients_1/feature_loss/mul_grad/tuple/control_dependency&quot;\\n  input: &quot;optimize/gradients_1/feature_loss/feature_loss_grad/Reshape/shape&quot;\\n  attr {\\n    key: &quot;T&quot;\\n    value {\\n      type: DT_FLOAT\\n    }\\n  }\\n  attr {\\n    key: &quot;Tshape&quot;\\n    value {\\n      type: DT_INT32\\n    }\\n  }\\n}\\nnode {\\n  name: &quot;optimize/gradients_1/feature_loss/feature_loss_grad/Const&quot;\\n  op: &quot;Const&quot;\\n  attr {\\n    key: &quot;dtype&quot;\\n    value {\\n      type: DT_INT32\\n    }\\n  }\\n  attr {\\n    key: &quot;value&quot;\\n    value {\\n      tensor {\\n        dtype: DT_INT32\\n        tensor_shape {\\n          dim {\\n            size: 1\\n          }\\n        }\\n        int_val: 25975\\n      }\\n    }\\n  }\\n}\\nnode {\\n  name: &quot;optimize/gradients_1/feature_loss/feature_loss_grad/Tile&quot;\\n  op: &quot;Tile&quot;\\n  input: &quot;optimize/gradients_1/feature_loss/feature_loss_grad/Reshape&quot;\\n  input: &quot;optimize/gradients_1/feature_loss/feature_loss_grad/Const&quot;\\n  attr {\\n    key: &quot;T&quot;\\n    value {\\n      type: DT_FLOAT\\n    }\\n  }\\n  attr {\\n    key: &quot;Tmultiples&quot;\\n    value {\\n      type: DT_INT32\\n    }\\n  }\\n}\\nnode {\\n  name: &quot;optimize/gradients_1/feature_loss/Sum_grad/Shape&quot;\\n  op: &quot;Const&quot;\\n  attr {\\n    key: &quot;dtype&quot;\\n    value {\\n      type: DT_INT32\\n    }\\n  }\\n  attr {\\n    key: &quot;value&quot;\\n    value {\\n      tensor {\\n        dtype: DT_INT32\\n        tensor_shape {\\n          dim {\\n            size: 2\\n          }\\n        }\\n        tensor_content: &quot;we\\\\000\\\\000d\\\\000\\\\000\\\\000&quot;\\n      }\\n    }\\n  }\\n}\\nnode {\\n  name: &quot;optimize/gradients_1/feature_loss/Sum_grad/Size&quot;\\n  op: &quot;Const&quot;\\n  attr {\\n    key: &quot;_class&quot;\\n    value {\\n      list {\\n        s: &quot;loc:@optimize/gradients_1/feature_loss/Sum_grad/Shape&quot;\\n      }\\n    }\\n  }\\n  attr {\\n    key: &quot;dtype&quot;\\n    value {\\n      type: DT_INT32\\n    }\\n  }\\n  attr {\\n    key: &quot;value&quot;\\n    value {\\n      tensor {\\n        dtype: DT_INT32\\n        tensor_shape {\\n        }\\n        int_val: 2\\n      }\\n    }\\n  }\\n}\\nnode {\\n  name: &quot;optimize/gradients_1/feature_loss/Sum_grad/add&quot;\\n  op: &quot;Add&quot;\\n  input: &quot;feature_loss/Sum/reduction_indices&quot;\\n  input: &quot;optimize/gradients_1/feature_loss/Sum_grad/Size&quot;\\n  attr {\\n    key: &quot;T&quot;\\n    value {\\n      type: DT_INT32\\n    }\\n  }\\n  attr {\\n    key: &quot;_class&quot;\\n    value {\\n      list {\\n        s: &quot;loc:@optimize/gradients_1/feature_loss/Sum_grad/Shape&quot;\\n      }\\n    }\\n  }\\n}\\nnode {\\n  name: &quot;optimize/gradients_1/feature_loss/Sum_grad/mod&quot;\\n  op: &quot;FloorMod&quot;\\n  input: &quot;optimize/gradients_1/feature_loss/Sum_grad/add&quot;\\n  input: &quot;optimize/gradients_1/feature_loss/Sum_grad/Size&quot;\\n  attr {\\n    key: &quot;T&quot;\\n    value {\\n      type: DT_INT32\\n    }\\n  }\\n  attr {\\n    key: &quot;_class&quot;\\n    value {\\n      list {\\n        s: &quot;loc:@optimize/gradients_1/feature_loss/Sum_grad/Shape&quot;\\n      }\\n    }\\n  }\\n}\\nnode {\\n  name: &quot;optimize/gradients_1/feature_loss/Sum_grad/Shape_1&quot;\\n  op: &quot;Const&quot;\\n  attr {\\n    key: &quot;_class&quot;\\n    value {\\n      list {\\n        s: &quot;loc:@optimize/gradients_1/feature_loss/Sum_grad/Shape&quot;\\n      }\\n    }\\n  }\\n  attr {\\n    key: &quot;dtype&quot;\\n    value {\\n      type: DT_INT32\\n    }\\n  }\\n  attr {\\n    key: &quot;value&quot;\\n    value {\\n      tensor {\\n        dtype: DT_INT32\\n        tensor_shape {\\n          dim {\\n          }\\n        }\\n      }\\n    }\\n  }\\n}\\nnode {\\n  name: &quot;optimize/gradients_1/feature_loss/Sum_grad/range/start&quot;\\n  op: &quot;Const&quot;\\n  attr {\\n    key: &quot;_class&quot;\\n    value {\\n      list {\\n        s: &quot;loc:@optimize/gradients_1/feature_loss/Sum_grad/Shape&quot;\\n      }\\n    }\\n  }\\n  attr {\\n    key: &quot;dtype&quot;\\n    value {\\n      type: DT_INT32\\n    }\\n  }\\n  attr {\\n    key: &quot;value&quot;\\n    value {\\n      tensor {\\n        dtype: DT_INT32\\n        tensor_shape {\\n        }\\n        int_val: 0\\n      }\\n    }\\n  }\\n}\\nnode {\\n  name: &quot;optimize/gradients_1/feature_loss/Sum_grad/range/delta&quot;\\n  op: &quot;Const&quot;\\n  attr {\\n    key: &quot;_class&quot;\\n    value {\\n      list {\\n        s: &quot;loc:@optimize/gradients_1/feature_loss/Sum_grad/Shape&quot;\\n      }\\n    }\\n  }\\n  attr {\\n    key: &quot;dtype&quot;\\n    value {\\n      type: DT_INT32\\n    }\\n  }\\n  attr {\\n    key: &quot;value&quot;\\n    value {\\n      tensor {\\n        dtype: DT_INT32\\n        tensor_shape {\\n        }\\n        int_val: 1\\n      }\\n    }\\n  }\\n}\\nnode {\\n  name: &quot;optimize/gradients_1/feature_loss/Sum_grad/range&quot;\\n  op: &quot;Range&quot;\\n  input: &quot;optimize/gradients_1/feature_loss/Sum_grad/range/start&quot;\\n  input: &quot;optimize/gradients_1/feature_loss/Sum_grad/Size&quot;\\n  input: &quot;optimize/gradients_1/feature_loss/Sum_grad/range/delta&quot;\\n  attr {\\n    key: &quot;Tidx&quot;\\n    value {\\n      type: DT_INT32\\n    }\\n  }\\n  attr {\\n    key: &quot;_class&quot;\\n    value {\\n      list {\\n        s: &quot;loc:@optimize/gradients_1/feature_loss/Sum_grad/Shape&quot;\\n      }\\n    }\\n  }\\n}\\nnode {\\n  name: &quot;optimize/gradients_1/feature_loss/Sum_grad/Fill/value&quot;\\n  op: &quot;Const&quot;\\n  attr {\\n    key: &quot;_class&quot;\\n    value {\\n      list {\\n        s: &quot;loc:@optimize/gradients_1/feature_loss/Sum_grad/Shape&quot;\\n      }\\n    }\\n  }\\n  attr {\\n    key: &quot;dtype&quot;\\n    value {\\n      type: DT_INT32\\n    }\\n  }\\n  attr {\\n    key: &quot;value&quot;\\n    value {\\n      tensor {\\n        dtype: DT_INT32\\n        tensor_shape {\\n        }\\n        int_val: 1\\n      }\\n    }\\n  }\\n}\\nnode {\\n  name: &quot;optimize/gradients_1/feature_loss/Sum_grad/Fill&quot;\\n  op: &quot;Fill&quot;\\n  input: &quot;optimize/gradients_1/feature_loss/Sum_grad/Shape_1&quot;\\n  input: &quot;optimize/gradients_1/feature_loss/Sum_grad/Fill/value&quot;\\n  attr {\\n    key: &quot;T&quot;\\n    value {\\n      type: DT_INT32\\n    }\\n  }\\n  attr {\\n    key: &quot;_class&quot;\\n    value {\\n      list {\\n        s: &quot;loc:@optimize/gradients_1/feature_loss/Sum_grad/Shape&quot;\\n      }\\n    }\\n  }\\n  attr {\\n    key: &quot;index_type&quot;\\n    value {\\n      type: DT_INT32\\n    }\\n  }\\n}\\nnode {\\n  name: &quot;optimize/gradients_1/feature_loss/Sum_grad/DynamicStitch&quot;\\n  op: &quot;DynamicStitch&quot;\\n  input: &quot;optimize/gradients_1/feature_loss/Sum_grad/range&quot;\\n  input: &quot;optimize/gradients_1/feature_loss/Sum_grad/mod&quot;\\n  input: &quot;optimize/gradients_1/feature_loss/Sum_grad/Shape&quot;\\n  input: &quot;optimize/gradients_1/feature_loss/Sum_grad/Fill&quot;\\n  attr {\\n    key: &quot;N&quot;\\n    value {\\n      i: 2\\n    }\\n  }\\n  attr {\\n    key: &quot;T&quot;\\n    value {\\n      type: DT_INT32\\n    }\\n  }\\n  attr {\\n    key: &quot;_class&quot;\\n    value {\\n      list {\\n        s: &quot;loc:@optimize/gradients_1/feature_loss/Sum_grad/Shape&quot;\\n      }\\n    }\\n  }\\n}\\nnode {\\n  name: &quot;optimize/gradients_1/feature_loss/Sum_grad/Maximum/y&quot;\\n  op: &quot;Const&quot;\\n  attr {\\n    key: &quot;_class&quot;\\n    value {\\n      list {\\n        s: &quot;loc:@optimize/gradients_1/feature_loss/Sum_grad/Shape&quot;\\n      }\\n    }\\n  }\\n  attr {\\n    key: &quot;dtype&quot;\\n    value {\\n      type: DT_INT32\\n    }\\n  }\\n  attr {\\n    key: &quot;value&quot;\\n    value {\\n      tensor {\\n        dtype: DT_INT32\\n        tensor_shape {\\n        }\\n        int_val: 1\\n      }\\n    }\\n  }\\n}\\nnode {\\n  name: &quot;optimize/gradients_1/feature_loss/Sum_grad/Maximum&quot;\\n  op: &quot;Maximum&quot;\\n  input: &quot;optimize/gradients_1/feature_loss/Sum_grad/DynamicStitch&quot;\\n  input: &quot;optimize/gradients_1/feature_loss/Sum_grad/Maximum/y&quot;\\n  attr {\\n    key: &quot;T&quot;\\n    value {\\n      type: DT_INT32\\n    }\\n  }\\n  attr {\\n    key: &quot;_class&quot;\\n    value {\\n      list {\\n        s: &quot;loc:@optimize/gradients_1/feature_loss/Sum_grad/Shape&quot;\\n      }\\n    }\\n  }\\n}\\nnode {\\n  name: &quot;optimize/gradients_1/feature_loss/Sum_grad/floordiv&quot;\\n  op: &quot;FloorDiv&quot;\\n  input: &quot;optimize/gradients_1/feature_loss/Sum_grad/Shape&quot;\\n  input: &quot;optimize/gradients_1/feature_loss/Sum_grad/Maximum&quot;\\n  attr {\\n    key: &quot;T&quot;\\n    value {\\n      type: DT_INT32\\n    }\\n  }\\n  attr {\\n    key: &quot;_class&quot;\\n    value {\\n      list {\\n        s: &quot;loc:@optimize/gradients_1/feature_loss/Sum_grad/Shape&quot;\\n      }\\n    }\\n  }\\n}\\nnode {\\n  name: &quot;optimize/gradients_1/feature_loss/Sum_grad/Reshape&quot;\\n  op: &quot;Reshape&quot;\\n  input: &quot;optimize/gradients_1/feature_loss/feature_loss_grad/Tile&quot;\\n  input: &quot;optimize/gradients_1/feature_loss/Sum_grad/DynamicStitch&quot;\\n  attr {\\n    key: &quot;T&quot;\\n    value {\\n      type: DT_FLOAT\\n    }\\n  }\\n  attr {\\n    key: &quot;Tshape&quot;\\n    value {\\n      type: DT_INT32\\n    }\\n  }\\n}\\nnode {\\n  name: &quot;optimize/gradients_1/feature_loss/Sum_grad/Tile&quot;\\n  op: &quot;Tile&quot;\\n  input: &quot;optimize/gradients_1/feature_loss/Sum_grad/Reshape&quot;\\n  input: &quot;optimize/gradients_1/feature_loss/Sum_grad/floordiv&quot;\\n  attr {\\n    key: &quot;T&quot;\\n    value {\\n      type: DT_FLOAT\\n    }\\n  }\\n  attr {\\n    key: &quot;Tmultiples&quot;\\n    value {\\n      type: DT_INT32\\n    }\\n  }\\n}\\nnode {\\n  name: &quot;optimize/gradients_1/feature_loss/SquaredDifference_grad/Shape&quot;\\n  op: &quot;Const&quot;\\n  attr {\\n    key: &quot;dtype&quot;\\n    value {\\n      type: DT_INT32\\n    }\\n  }\\n  attr {\\n    key: &quot;value&quot;\\n    value {\\n      tensor {\\n        dtype: DT_INT32\\n        tensor_shape {\\n          dim {\\n            size: 2\\n          }\\n        }\\n        tensor_content: &quot;we\\\\000\\\\000d\\\\000\\\\000\\\\000&quot;\\n      }\\n    }\\n  }\\n}\\nnode {\\n  name: &quot;optimize/gradients_1/feature_loss/SquaredDifference_grad/Shape_1&quot;\\n  op: &quot;Const&quot;\\n  attr {\\n    key: &quot;dtype&quot;\\n    value {\\n      type: DT_INT32\\n    }\\n  }\\n  attr {\\n    key: &quot;value&quot;\\n    value {\\n      tensor {\\n        dtype: DT_INT32\\n        tensor_shape {\\n          dim {\\n            size: 2\\n          }\\n        }\\n        tensor_content: &quot;we\\\\000\\\\000d\\\\000\\\\000\\\\000&quot;\\n      }\\n    }\\n  }\\n}\\nnode {\\n  name: &quot;optimize/gradients_1/feature_loss/SquaredDifference_grad/BroadcastGradientArgs&quot;\\n  op: &quot;BroadcastGradientArgs&quot;\\n  input: &quot;optimize/gradients_1/feature_loss/SquaredDifference_grad/Shape&quot;\\n  input: &quot;optimize/gradients_1/feature_loss/SquaredDifference_grad/Shape_1&quot;\\n  attr {\\n    key: &quot;T&quot;\\n    value {\\n      type: DT_INT32\\n    }\\n  }\\n}\\nnode {\\n  name: &quot;optimize/gradients_1/feature_loss/SquaredDifference_grad/scalar&quot;\\n  op: &quot;Const&quot;\\n  input: &quot;^optimize/gradients_1/feature_loss/Sum_grad/Tile&quot;\\n  attr {\\n    key: &quot;dtype&quot;\\n    value {\\n      type: DT_FLOAT\\n    }\\n  }\\n  attr {\\n    key: &quot;value&quot;\\n    value {\\n      tensor {\\n        dtype: DT_FLOAT\\n        tensor_shape {\\n        }\\n        float_val: 2.0\\n      }\\n    }\\n  }\\n}\\nnode {\\n  name: &quot;optimize/gradients_1/feature_loss/SquaredDifference_grad/mul&quot;\\n  op: &quot;Mul&quot;\\n  input: &quot;optimize/gradients_1/feature_loss/SquaredDifference_grad/scalar&quot;\\n  input: &quot;optimize/gradients_1/feature_loss/Sum_grad/Tile&quot;\\n  attr {\\n    key: &quot;T&quot;\\n    value {\\n      type: DT_FLOAT\\n    }\\n  }\\n}\\nnode {\\n  name: &quot;optimize/gradients_1/feature_loss/SquaredDifference_grad/sub&quot;\\n  op: &quot;Sub&quot;\\n  input: &quot;item_embeddings/Variable/read&quot;\\n  input: &quot;feature_loss/feature_projection/feature_projection&quot;\\n  input: &quot;^optimize/gradients_1/feature_loss/Sum_grad/Tile&quot;\\n  attr {\\n    key: &quot;T&quot;\\n    value {\\n      type: DT_FLOAT\\n    }\\n  }\\n}\\nnode {\\n  name: &quot;optimize/gradients_1/feature_loss/SquaredDifference_grad/mul_1&quot;\\n  op: &quot;Mul&quot;\\n  input: &quot;optimize/gradients_1/feature_loss/SquaredDifference_grad/mul&quot;\\n  input: &quot;optimize/gradients_1/feature_loss/SquaredDifference_grad/sub&quot;\\n  attr {\\n    key: &quot;T&quot;\\n    value {\\n      type: DT_FLOAT\\n    }\\n  }\\n}\\nnode {\\n  name: &quot;optimize/gradients_1/feature_loss/SquaredDifference_grad/Sum&quot;\\n  op: &quot;Sum&quot;\\n  input: &quot;optimize/gradients_1/feature_loss/SquaredDifference_grad/mul_1&quot;\\n  input: &quot;optimize/gradients_1/feature_loss/SquaredDifference_grad/BroadcastGradientArgs&quot;\\n  attr {\\n    key: &quot;T&quot;\\n    value {\\n      type: DT_FLOAT\\n    }\\n  }\\n  attr {\\n    key: &quot;Tidx&quot;\\n    value {\\n      type: DT_INT32\\n    }\\n  }\\n  attr {\\n    key: &quot;keep_dims&quot;\\n    value {\\n      b: false\\n    }\\n  }\\n}\\nnode {\\n  name: &quot;optimize/gradients_1/feature_loss/SquaredDifference_grad/Reshape&quot;\\n  op: &quot;Reshape&quot;\\n  input: &quot;optimize/gradients_1/feature_loss/SquaredDifference_grad/Sum&quot;\\n  input: &quot;optimize/gradients_1/feature_loss/SquaredDifference_grad/Shape&quot;\\n  attr {\\n    key: &quot;T&quot;\\n    value {\\n      type: DT_FLOAT\\n    }\\n  }\\n  attr {\\n    key: &quot;Tshape&quot;\\n    value {\\n      type: DT_INT32\\n    }\\n  }\\n}\\nnode {\\n  name: &quot;optimize/gradients_1/feature_loss/SquaredDifference_grad/Sum_1&quot;\\n  op: &quot;Sum&quot;\\n  input: &quot;optimize/gradients_1/feature_loss/SquaredDifference_grad/mul_1&quot;\\n  input: &quot;optimize/gradients_1/feature_loss/SquaredDifference_grad/BroadcastGradientArgs:1&quot;\\n  attr {\\n    key: &quot;T&quot;\\n    value {\\n      type: DT_FLOAT\\n    }\\n  }\\n  attr {\\n    key: &quot;Tidx&quot;\\n    value {\\n      type: DT_INT32\\n    }\\n  }\\n  attr {\\n    key: &quot;keep_dims&quot;\\n    value {\\n      b: false\\n    }\\n  }\\n}\\nnode {\\n  name: &quot;optimize/gradients_1/feature_loss/SquaredDifference_grad/Reshape_1&quot;\\n  op: &quot;Reshape&quot;\\n  input: &quot;optimize/gradients_1/feature_loss/SquaredDifference_grad/Sum_1&quot;\\n  input: &quot;optimize/gradients_1/feature_loss/SquaredDifference_grad/Shape_1&quot;\\n  attr {\\n    key: &quot;T&quot;\\n    value {\\n      type: DT_FLOAT\\n    }\\n  }\\n  attr {\\n    key: &quot;Tshape&quot;\\n    value {\\n      type: DT_INT32\\n    }\\n  }\\n}\\nnode {\\n  name: &quot;optimize/gradients_1/feature_loss/SquaredDifference_grad/Neg&quot;\\n  op: &quot;Neg&quot;\\n  input: &quot;optimize/gradients_1/feature_loss/SquaredDifference_grad/Reshape_1&quot;\\n  attr {\\n    key: &quot;T&quot;\\n    value {\\n      type: DT_FLOAT\\n    }\\n  }\\n}\\nnode {\\n  name: &quot;optimize/gradients_1/feature_loss/SquaredDifference_grad/tuple/group_deps&quot;\\n  op: &quot;NoOp&quot;\\n  input: &quot;^optimize/gradients_1/feature_loss/SquaredDifference_grad/Neg&quot;\\n  input: &quot;^optimize/gradients_1/feature_loss/SquaredDifference_grad/Reshape&quot;\\n}\\nnode {\\n  name: &quot;optimize/gradients_1/feature_loss/SquaredDifference_grad/tuple/control_dependency&quot;\\n  op: &quot;Identity&quot;\\n  input: &quot;optimize/gradients_1/feature_loss/SquaredDifference_grad/Reshape&quot;\\n  input: &quot;^optimize/gradients_1/feature_loss/SquaredDifference_grad/tuple/group_deps&quot;\\n  attr {\\n    key: &quot;T&quot;\\n    value {\\n      type: DT_FLOAT\\n    }\\n  }\\n  attr {\\n    key: &quot;_class&quot;\\n    value {\\n      list {\\n        s: &quot;loc:@optimize/gradients_1/feature_loss/SquaredDifference_grad/Reshape&quot;\\n      }\\n    }\\n  }\\n}\\nnode {\\n  name: &quot;optimize/gradients_1/feature_loss/SquaredDifference_grad/tuple/control_dependency_1&quot;\\n  op: &quot;Identity&quot;\\n  input: &quot;optimize/gradients_1/feature_loss/SquaredDifference_grad/Neg&quot;\\n  input: &quot;^optimize/gradients_1/feature_loss/SquaredDifference_grad/tuple/group_deps&quot;\\n  attr {\\n    key: &quot;T&quot;\\n    value {\\n      type: DT_FLOAT\\n    }\\n  }\\n  attr {\\n    key: &quot;_class&quot;\\n    value {\\n      list {\\n        s: &quot;loc:@optimize/gradients_1/feature_loss/SquaredDifference_grad/Neg&quot;\\n      }\\n    }\\n  }\\n}\\nnode {\\n  name: &quot;optimize/gradients_1/feature_loss/feature_projection/feature_projection/truediv_grad/Shape&quot;\\n  op: &quot;Const&quot;\\n  attr {\\n    key: &quot;dtype&quot;\\n    value {\\n      type: DT_INT32\\n    }\\n  }\\n  attr {\\n    key: &quot;value&quot;\\n    value {\\n      tensor {\\n        dtype: DT_INT32\\n        tensor_shape {\\n          dim {\\n            size: 2\\n          }\\n        }\\n        tensor_content: &quot;we\\\\000\\\\000d\\\\000\\\\000\\\\000&quot;\\n      }\\n    }\\n  }\\n}\\nnode {\\n  name: &quot;optimize/gradients_1/feature_loss/feature_projection/feature_projection/truediv_grad/Shape_1&quot;\\n  op: &quot;Const&quot;\\n  attr {\\n    key: &quot;dtype&quot;\\n    value {\\n      type: DT_INT32\\n    }\\n  }\\n  attr {\\n    key: &quot;value&quot;\\n    value {\\n      tensor {\\n        dtype: DT_INT32\\n        tensor_shape {\\n          dim {\\n            size: 2\\n          }\\n        }\\n        tensor_content: &quot;we\\\\000\\\\000\\\\001\\\\000\\\\000\\\\000&quot;\\n      }\\n    }\\n  }\\n}\\nnode {\\n  name: &quot;optimize/gradients_1/feature_loss/feature_projection/feature_projection/truediv_grad/BroadcastGradientArgs&quot;\\n  op: &quot;BroadcastGradientArgs&quot;\\n  input: &quot;optimize/gradients_1/feature_loss/feature_projection/feature_projection/truediv_grad/Shape&quot;\\n  input: &quot;optimize/gradients_1/feature_loss/feature_projection/feature_projection/truediv_grad/Shape_1&quot;\\n  attr {\\n    key: &quot;T&quot;\\n    value {\\n      type: DT_INT32\\n    }\\n  }\\n}\\nnode {\\n  name: &quot;optimize/gradients_1/feature_loss/feature_projection/feature_projection/truediv_grad/RealDiv&quot;\\n  op: &quot;RealDiv&quot;\\n  input: &quot;optimize/gradients_1/feature_loss/SquaredDifference_grad/tuple/control_dependency_1&quot;\\n  input: &quot;feature_loss/feature_projection/feature_projection/Maximum&quot;\\n  attr {\\n    key: &quot;T&quot;\\n    value {\\n      type: DT_FLOAT\\n    }\\n  }\\n}\\nnode {\\n  name: &quot;optimize/gradients_1/feature_loss/feature_projection/feature_projection/truediv_grad/Sum&quot;\\n  op: &quot;Sum&quot;\\n  input: &quot;optimize/gradients_1/feature_loss/feature_projection/feature_projection/truediv_grad/RealDiv&quot;\\n  input: &quot;optimize/gradients_1/feature_loss/feature_projection/feature_projection/truediv_grad/BroadcastGradientArgs&quot;\\n  attr {\\n    key: &quot;T&quot;\\n    value {\\n      type: DT_FLOAT\\n    }\\n  }\\n  attr {\\n    key: &quot;Tidx&quot;\\n    value {\\n      type: DT_INT32\\n    }\\n  }\\n  attr {\\n    key: &quot;keep_dims&quot;\\n    value {\\n      b: false\\n    }\\n  }\\n}\\nnode {\\n  name: &quot;optimize/gradients_1/feature_loss/feature_projection/feature_projection/truediv_grad/Reshape&quot;\\n  op: &quot;Reshape&quot;\\n  input: &quot;optimize/gradients_1/feature_loss/feature_projection/feature_projection/truediv_grad/Sum&quot;\\n  input: &quot;optimize/gradients_1/feature_loss/feature_projection/feature_projection/truediv_grad/Shape&quot;\\n  attr {\\n    key: &quot;T&quot;\\n    value {\\n      type: DT_FLOAT\\n    }\\n  }\\n  attr {\\n    key: &quot;Tshape&quot;\\n    value {\\n      type: DT_INT32\\n    }\\n  }\\n}\\nnode {\\n  name: &quot;optimize/gradients_1/feature_loss/feature_projection/feature_projection/truediv_grad/Neg&quot;\\n  op: &quot;Neg&quot;\\n  input: &quot;feature_loss/feature_projection/feature_projection/mul_1&quot;\\n  attr {\\n    key: &quot;T&quot;\\n    value {\\n      type: DT_FLOAT\\n    }\\n  }\\n}\\nnode {\\n  name: &quot;optimize/gradients_1/feature_loss/feature_projection/feature_projection/truediv_grad/RealDiv_1&quot;\\n  op: &quot;RealDiv&quot;\\n  input: &quot;optimize/gradients_1/feature_loss/feature_projection/feature_projection/truediv_grad/Neg&quot;\\n  input: &quot;feature_loss/feature_projection/feature_projection/Maximum&quot;\\n  attr {\\n    key: &quot;T&quot;\\n    value {\\n      type: DT_FLOAT\\n    }\\n  }\\n}\\nnode {\\n  name: &quot;optimize/gradients_1/feature_loss/feature_projection/feature_projection/truediv_grad/RealDiv_2&quot;\\n  op: &quot;RealDiv&quot;\\n  input: &quot;optimize/gradients_1/feature_loss/feature_projection/feature_projection/truediv_grad/RealDiv_1&quot;\\n  input: &quot;feature_loss/feature_projection/feature_projection/Maximum&quot;\\n  attr {\\n    key: &quot;T&quot;\\n    value {\\n      type: DT_FLOAT\\n    }\\n  }\\n}\\nnode {\\n  name: &quot;optimize/gradients_1/feature_loss/feature_projection/feature_projection/truediv_grad/mul&quot;\\n  op: &quot;Mul&quot;\\n  input: &quot;optimize/gradients_1/feature_loss/SquaredDifference_grad/tuple/control_dependency_1&quot;\\n  input: &quot;optimize/gradients_1/feature_loss/feature_projection/feature_projection/truediv_grad/RealDiv_2&quot;\\n  attr {\\n    key: &quot;T&quot;\\n    value {\\n      type: DT_FLOAT\\n    }\\n  }\\n}\\nnode {\\n  name: &quot;optimize/gradients_1/feature_loss/feature_projection/feature_projection/truediv_grad/Sum_1&quot;\\n  op: &quot;Sum&quot;\\n  input: &quot;optimize/gradients_1/feature_loss/feature_projection/feature_projection/truediv_grad/mul&quot;\\n  input: &quot;optimize/gradients_1/feature_loss/feature_projection/feature_projection/truediv_grad/BroadcastGradientArgs:1&quot;\\n  attr {\\n    key: &quot;T&quot;\\n    value {\\n      type: DT_FLOAT\\n    }\\n  }\\n  attr {\\n    key: &quot;Tidx&quot;\\n    value {\\n      type: DT_INT32\\n    }\\n  }\\n  attr {\\n    key: &quot;keep_dims&quot;\\n    value {\\n      b: false\\n    }\\n  }\\n}\\nnode {\\n  name: &quot;optimize/gradients_1/feature_loss/feature_projection/feature_projection/truediv_grad/Reshape_1&quot;\\n  op: &quot;Reshape&quot;\\n  input: &quot;optimize/gradients_1/feature_loss/feature_projection/feature_projection/truediv_grad/Sum_1&quot;\\n  input: &quot;optimize/gradients_1/feature_loss/feature_projection/feature_projection/truediv_grad/Shape_1&quot;\\n  attr {\\n    key: &quot;T&quot;\\n    value {\\n      type: DT_FLOAT\\n    }\\n  }\\n  attr {\\n    key: &quot;Tshape&quot;\\n    value {\\n      type: DT_INT32\\n    }\\n  }\\n}\\nnode {\\n  name: &quot;optimize/gradients_1/feature_loss/feature_projection/feature_projection/truediv_grad/tuple/group_deps&quot;\\n  op: &quot;NoOp&quot;\\n  input: &quot;^optimize/gradients_1/feature_loss/feature_projection/feature_projection/truediv_grad/Reshape&quot;\\n  input: &quot;^optimize/gradients_1/feature_loss/feature_projection/feature_projection/truediv_grad/Reshape_1&quot;\\n}\\nnode {\\n  name: &quot;optimize/gradients_1/feature_loss/feature_projection/feature_projection/truediv_grad/tuple/control_dependency&quot;\\n  op: &quot;Identity&quot;\\n  input: &quot;optimize/gradients_1/feature_loss/feature_projection/feature_projection/truediv_grad/Reshape&quot;\\n  input: &quot;^optimize/gradients_1/feature_loss/feature_projection/feature_projection/truediv_grad/tuple/group_deps&quot;\\n  attr {\\n    key: &quot;T&quot;\\n    value {\\n      type: DT_FLOAT\\n    }\\n  }\\n  attr {\\n    key: &quot;_class&quot;\\n    value {\\n      list {\\n        s: &quot;loc:@optimize/gradients_1/feature_loss/feature_projection/feature_projection/truediv_grad/Reshape&quot;\\n      }\\n    }\\n  }\\n}\\nnode {\\n  name: &quot;optimize/gradients_1/feature_loss/feature_projection/feature_projection/truediv_grad/tuple/control_dependency_1&quot;\\n  op: &quot;Identity&quot;\\n  input: &quot;optimize/gradients_1/feature_loss/feature_projection/feature_projection/truediv_grad/Reshape_1&quot;\\n  input: &quot;^optimize/gradients_1/feature_loss/feature_projection/feature_projection/truediv_grad/tuple/group_deps&quot;\\n  attr {\\n    key: &quot;T&quot;\\n    value {\\n      type: DT_FLOAT\\n    }\\n  }\\n  attr {\\n    key: &quot;_class&quot;\\n    value {\\n      list {\\n        s: &quot;loc:@optimize/gradients_1/feature_loss/feature_projection/feature_projection/truediv_grad/Reshape_1&quot;\\n      }\\n    }\\n  }\\n}\\nnode {\\n  name: &quot;optimize/gradients_1/feature_loss/feature_projection/feature_projection/mul_1_grad/Shape&quot;\\n  op: &quot;Const&quot;\\n  attr {\\n    key: &quot;dtype&quot;\\n    value {\\n      type: DT_INT32\\n    }\\n  }\\n  attr {\\n    key: &quot;value&quot;\\n    value {\\n      tensor {\\n        dtype: DT_INT32\\n        tensor_shape {\\n          dim {\\n            size: 2\\n          }\\n        }\\n        tensor_content: &quot;we\\\\000\\\\000d\\\\000\\\\000\\\\000&quot;\\n      }\\n    }\\n  }\\n}\\nnode {\\n  name: &quot;optimize/gradients_1/feature_loss/feature_projection/feature_projection/mul_1_grad/Shape_1&quot;\\n  op: &quot;Const&quot;\\n  attr {\\n    key: &quot;dtype&quot;\\n    value {\\n      type: DT_INT32\\n    }\\n  }\\n  attr {\\n    key: &quot;value&quot;\\n    value {\\n      tensor {\\n        dtype: DT_INT32\\n        tensor_shape {\\n          dim {\\n          }\\n        }\\n      }\\n    }\\n  }\\n}\\nnode {\\n  name: &quot;optimize/gradients_1/feature_loss/feature_projection/feature_projection/mul_1_grad/BroadcastGradientArgs&quot;\\n  op: &quot;BroadcastGradientArgs&quot;\\n  input: &quot;optimize/gradients_1/feature_loss/feature_projection/feature_projection/mul_1_grad/Shape&quot;\\n  input: &quot;optimize/gradients_1/feature_loss/feature_projection/feature_projection/mul_1_grad/Shape_1&quot;\\n  attr {\\n    key: &quot;T&quot;\\n    value {\\n      type: DT_INT32\\n    }\\n  }\\n}\\nnode {\\n  name: &quot;optimize/gradients_1/feature_loss/feature_projection/feature_projection/mul_1_grad/Mul&quot;\\n  op: &quot;Mul&quot;\\n  input: &quot;optimize/gradients_1/feature_loss/feature_projection/feature_projection/truediv_grad/tuple/control_dependency&quot;\\n  input: &quot;feature_loss/feature_projection/feature_projection/mul_1/y&quot;\\n  attr {\\n    key: &quot;T&quot;\\n    value {\\n      type: DT_FLOAT\\n    }\\n  }\\n}\\nnode {\\n  name: &quot;optimize/gradients_1/feature_loss/feature_projection/feature_projection/mul_1_grad/Sum&quot;\\n  op: &quot;Sum&quot;\\n  input: &quot;optimize/gradients_1/feature_loss/feature_projection/feature_projection/mul_1_grad/Mul&quot;\\n  input: &quot;optimize/gradients_1/feature_loss/feature_projection/feature_projection/mul_1_grad/BroadcastGradientArgs&quot;\\n  attr {\\n    key: &quot;T&quot;\\n    value {\\n      type: DT_FLOAT\\n    }\\n  }\\n  attr {\\n    key: &quot;Tidx&quot;\\n    value {\\n      type: DT_INT32\\n    }\\n  }\\n  attr {\\n    key: &quot;keep_dims&quot;\\n    value {\\n      b: false\\n    }\\n  }\\n}\\nnode {\\n  name: &quot;optimize/gradients_1/feature_loss/feature_projection/feature_projection/mul_1_grad/Reshape&quot;\\n  op: &quot;Reshape&quot;\\n  input: &quot;optimize/gradients_1/feature_loss/feature_projection/feature_projection/mul_1_grad/Sum&quot;\\n  input: &quot;optimize/gradients_1/feature_loss/feature_projection/feature_projection/mul_1_grad/Shape&quot;\\n  attr {\\n    key: &quot;T&quot;\\n    value {\\n      type: DT_FLOAT\\n    }\\n  }\\n  attr {\\n    key: &quot;Tshape&quot;\\n    value {\\n      type: DT_INT32\\n    }\\n  }\\n}\\nnode {\\n  name: &quot;optimize/gradients_1/feature_loss/feature_projection/feature_projection/mul_1_grad/Mul_1&quot;\\n  op: &quot;Mul&quot;\\n  input: &quot;feature_loss/feature_projection/mul&quot;\\n  input: &quot;optimize/gradients_1/feature_loss/feature_projection/feature_projection/truediv_grad/tuple/control_dependency&quot;\\n  attr {\\n    key: &quot;T&quot;\\n    value {\\n      type: DT_FLOAT\\n    }\\n  }\\n}\\nnode {\\n  name: &quot;optimize/gradients_1/feature_loss/feature_projection/feature_projection/mul_1_grad/Sum_1&quot;\\n  op: &quot;Sum&quot;\\n  input: &quot;optimize/gradients_1/feature_loss/feature_projection/feature_projection/mul_1_grad/Mul_1&quot;\\n  input: &quot;optimize/gradients_1/feature_loss/feature_projection/feature_projection/mul_1_grad/BroadcastGradientArgs:1&quot;\\n  attr {\\n    key: &quot;T&quot;\\n    value {\\n      type: DT_FLOAT\\n    }\\n  }\\n  attr {\\n    key: &quot;Tidx&quot;\\n    value {\\n      type: DT_INT32\\n    }\\n  }\\n  attr {\\n    key: &quot;keep_dims&quot;\\n    value {\\n      b: false\\n    }\\n  }\\n}\\nnode {\\n  name: &quot;optimize/gradients_1/feature_loss/feature_projection/feature_projection/mul_1_grad/Reshape_1&quot;\\n  op: &quot;Reshape&quot;\\n  input: &quot;optimize/gradients_1/feature_loss/feature_projection/feature_projection/mul_1_grad/Sum_1&quot;\\n  input: &quot;optimize/gradients_1/feature_loss/feature_projection/feature_projection/mul_1_grad/Shape_1&quot;\\n  attr {\\n    key: &quot;T&quot;\\n    value {\\n      type: DT_FLOAT\\n    }\\n  }\\n  attr {\\n    key: &quot;Tshape&quot;\\n    value {\\n      type: DT_INT32\\n    }\\n  }\\n}\\nnode {\\n  name: &quot;optimize/gradients_1/feature_loss/feature_projection/feature_projection/mul_1_grad/tuple/group_deps&quot;\\n  op: &quot;NoOp&quot;\\n  input: &quot;^optimize/gradients_1/feature_loss/feature_projection/feature_projection/mul_1_grad/Reshape&quot;\\n  input: &quot;^optimize/gradients_1/feature_loss/feature_projection/feature_projection/mul_1_grad/Reshape_1&quot;\\n}\\nnode {\\n  name: &quot;optimize/gradients_1/feature_loss/feature_projection/feature_projection/mul_1_grad/tuple/control_dependency&quot;\\n  op: &quot;Identity&quot;\\n  input: &quot;optimize/gradients_1/feature_loss/feature_projection/feature_projection/mul_1_grad/Reshape&quot;\\n  input: &quot;^optimize/gradients_1/feature_loss/feature_projection/feature_projection/mul_1_grad/tuple/group_deps&quot;\\n  attr {\\n    key: &quot;T&quot;\\n    value {\\n      type: DT_FLOAT\\n    }\\n  }\\n  attr {\\n    key: &quot;_class&quot;\\n    value {\\n      list {\\n        s: &quot;loc:@optimize/gradients_1/feature_loss/feature_projection/feature_projection/mul_1_grad/Reshape&quot;\\n      }\\n    }\\n  }\\n}\\nnode {\\n  name: &quot;optimize/gradients_1/feature_loss/feature_projection/feature_projection/mul_1_grad/tuple/control_dependency_1&quot;\\n  op: &quot;Identity&quot;\\n  input: &quot;optimize/gradients_1/feature_loss/feature_projection/feature_projection/mul_1_grad/Reshape_1&quot;\\n  input: &quot;^optimize/gradients_1/feature_loss/feature_projection/feature_projection/mul_1_grad/tuple/group_deps&quot;\\n  attr {\\n    key: &quot;T&quot;\\n    value {\\n      type: DT_FLOAT\\n    }\\n  }\\n  attr {\\n    key: &quot;_class&quot;\\n    value {\\n      list {\\n        s: &quot;loc:@optimize/gradients_1/feature_loss/feature_projection/feature_projection/mul_1_grad/Reshape_1&quot;\\n      }\\n    }\\n  }\\n}\\nnode {\\n  name: &quot;optimize/gradients_1/feature_loss/feature_projection/feature_projection/Maximum_grad/Shape&quot;\\n  op: &quot;Const&quot;\\n  attr {\\n    key: &quot;dtype&quot;\\n    value {\\n      type: DT_INT32\\n    }\\n  }\\n  attr {\\n    key: &quot;value&quot;\\n    value {\\n      tensor {\\n        dtype: DT_INT32\\n        tensor_shape {\\n          dim {\\n            size: 2\\n          }\\n        }\\n        tensor_content: &quot;we\\\\000\\\\000\\\\001\\\\000\\\\000\\\\000&quot;\\n      }\\n    }\\n  }\\n}\\nnode {\\n  name: &quot;optimize/gradients_1/feature_loss/feature_projection/feature_projection/Maximum_grad/Shape_1&quot;\\n  op: &quot;Const&quot;\\n  attr {\\n    key: &quot;dtype&quot;\\n    value {\\n      type: DT_INT32\\n    }\\n  }\\n  attr {\\n    key: &quot;value&quot;\\n    value {\\n      tensor {\\n        dtype: DT_INT32\\n        tensor_shape {\\n          dim {\\n          }\\n        }\\n      }\\n    }\\n  }\\n}\\nnode {\\n  name: &quot;optimize/gradients_1/feature_loss/feature_projection/feature_projection/Maximum_grad/Shape_2&quot;\\n  op: &quot;Const&quot;\\n  attr {\\n    key: &quot;dtype&quot;\\n    value {\\n      type: DT_INT32\\n    }\\n  }\\n  attr {\\n    key: &quot;value&quot;\\n    value {\\n      tensor {\\n        dtype: DT_INT32\\n        tensor_shape {\\n          dim {\\n            size: 2\\n          }\\n        }\\n        tensor_content: &quot;we\\\\000\\\\000\\\\001\\\\000\\\\000\\\\000&quot;\\n      }\\n    }\\n  }\\n}\\nnode {\\n  name: &quot;optimize/gradients_1/feature_loss/feature_projection/feature_projection/Maximum_grad/zeros/Const&quot;\\n  op: &quot;Const&quot;\\n  attr {\\n    key: &quot;dtype&quot;\\n    value {\\n      type: DT_FLOAT\\n    }\\n  }\\n  attr {\\n    key: &quot;value&quot;\\n    value {\\n      tensor {\\n        dtype: DT_FLOAT\\n        tensor_shape {\\n        }\\n        float_val: 0.0\\n      }\\n    }\\n  }\\n}\\nnode {\\n  name: &quot;optimize/gradients_1/feature_loss/feature_projection/feature_projection/Maximum_grad/zeros&quot;\\n  op: &quot;Fill&quot;\\n  input: &quot;optimize/gradients_1/feature_loss/feature_projection/feature_projection/Maximum_grad/Shape_2&quot;\\n  input: &quot;optimize/gradients_1/feature_loss/feature_projection/feature_projection/Maximum_grad/zeros/Const&quot;\\n  attr {\\n    key: &quot;T&quot;\\n    value {\\n      type: DT_FLOAT\\n    }\\n  }\\n  attr {\\n    key: &quot;index_type&quot;\\n    value {\\n      type: DT_INT32\\n    }\\n  }\\n}\\nnode {\\n  name: &quot;optimize/gradients_1/feature_loss/feature_projection/feature_projection/Maximum_grad/GreaterEqual&quot;\\n  op: &quot;GreaterEqual&quot;\\n  input: &quot;feature_loss/feature_projection/feature_projection/Select_1&quot;\\n  input: &quot;feature_loss/feature_projection/feature_projection/Maximum/y&quot;\\n  attr {\\n    key: &quot;T&quot;\\n    value {\\n      type: DT_FLOAT\\n    }\\n  }\\n}\\nnode {\\n  name: &quot;optimize/gradients_1/feature_loss/feature_projection/feature_projection/Maximum_grad/BroadcastGradientArgs&quot;\\n  op: &quot;BroadcastGradientArgs&quot;\\n  input: &quot;optimize/gradients_1/feature_loss/feature_projection/feature_projection/Maximum_grad/Shape&quot;\\n  input: &quot;optimize/gradients_1/feature_loss/feature_projection/feature_projection/Maximum_grad/Shape_1&quot;\\n  attr {\\n    key: &quot;T&quot;\\n    value {\\n      type: DT_INT32\\n    }\\n  }\\n}\\nnode {\\n  name: &quot;optimize/gradients_1/feature_loss/feature_projection/feature_projection/Maximum_grad/Select&quot;\\n  op: &quot;Select&quot;\\n  input: &quot;optimize/gradients_1/feature_loss/feature_projection/feature_projection/Maximum_grad/GreaterEqual&quot;\\n  input: &quot;optimize/gradients_1/feature_loss/feature_projection/feature_projection/truediv_grad/tuple/control_dependency_1&quot;\\n  input: &quot;optimize/gradients_1/feature_loss/feature_projection/feature_projection/Maximum_grad/zeros&quot;\\n  attr {\\n    key: &quot;T&quot;\\n    value {\\n      type: DT_FLOAT\\n    }\\n  }\\n}\\nnode {\\n  name: &quot;optimize/gradients_1/feature_loss/feature_projection/feature_projection/Maximum_grad/Select_1&quot;\\n  op: &quot;Select&quot;\\n  input: &quot;optimize/gradients_1/feature_loss/feature_projection/feature_projection/Maximum_grad/GreaterEqual&quot;\\n  input: &quot;optimize/gradients_1/feature_loss/feature_projection/feature_projection/Maximum_grad/zeros&quot;\\n  input: &quot;optimize/gradients_1/feature_loss/feature_projection/feature_projection/truediv_grad/tuple/control_dependency_1&quot;\\n  attr {\\n    key: &quot;T&quot;\\n    value {\\n      type: DT_FLOAT\\n    }\\n  }\\n}\\nnode {\\n  name: &quot;optimize/gradients_1/feature_loss/feature_projection/feature_projection/Maximum_grad/Sum&quot;\\n  op: &quot;Sum&quot;\\n  input: &quot;optimize/gradients_1/feature_loss/feature_projection/feature_projection/Maximum_grad/Select&quot;\\n  input: &quot;optimize/gradients_1/feature_loss/feature_projection/feature_projection/Maximum_grad/BroadcastGradientArgs&quot;\\n  attr {\\n    key: &quot;T&quot;\\n    value {\\n      type: DT_FLOAT\\n    }\\n  }\\n  attr {\\n    key: &quot;Tidx&quot;\\n    value {\\n      type: DT_INT32\\n    }\\n  }\\n  attr {\\n    key: &quot;keep_dims&quot;\\n    value {\\n      b: false\\n    }\\n  }\\n}\\nnode {\\n  name: &quot;optimize/gradients_1/feature_loss/feature_projection/feature_projection/Maximum_grad/Reshape&quot;\\n  op: &quot;Reshape&quot;\\n  input: &quot;optimize/gradients_1/feature_loss/feature_projection/feature_projection/Maximum_grad/Sum&quot;\\n  input: &quot;optimize/gradients_1/feature_loss/feature_projection/feature_projection/Maximum_grad/Shape&quot;\\n  attr {\\n    key: &quot;T&quot;\\n    value {\\n      type: DT_FLOAT\\n    }\\n  }\\n  attr {\\n    key: &quot;Tshape&quot;\\n    value {\\n      type: DT_INT32\\n    }\\n  }\\n}\\nnode {\\n  name: &quot;optimize/gradients_1/feature_loss/feature_projection/feature_projection/Maximum_grad/Sum_1&quot;\\n  op: &quot;Sum&quot;\\n  input: &quot;optimize/gradients_1/feature_loss/feature_projection/feature_projection/Maximum_grad/Select_1&quot;\\n  input: &quot;optimize/gradients_1/feature_loss/feature_projection/feature_projection/Maximum_grad/BroadcastGradientArgs:1&quot;\\n  attr {\\n    key: &quot;T&quot;\\n    value {\\n      type: DT_FLOAT\\n    }\\n  }\\n  attr {\\n    key: &quot;Tidx&quot;\\n    value {\\n      type: DT_INT32\\n    }\\n  }\\n  attr {\\n    key: &quot;keep_dims&quot;\\n    value {\\n      b: false\\n    }\\n  }\\n}\\nnode {\\n  name: &quot;optimize/gradients_1/feature_loss/feature_projection/feature_projection/Maximum_grad/Reshape_1&quot;\\n  op: &quot;Reshape&quot;\\n  input: &quot;optimize/gradients_1/feature_loss/feature_projection/feature_projection/Maximum_grad/Sum_1&quot;\\n  input: &quot;optimize/gradients_1/feature_loss/feature_projection/feature_projection/Maximum_grad/Shape_1&quot;\\n  attr {\\n    key: &quot;T&quot;\\n    value {\\n      type: DT_FLOAT\\n    }\\n  }\\n  attr {\\n    key: &quot;Tshape&quot;\\n    value {\\n      type: DT_INT32\\n    }\\n  }\\n}\\nnode {\\n  name: &quot;optimize/gradients_1/feature_loss/feature_projection/feature_projection/Maximum_grad/tuple/group_deps&quot;\\n  op: &quot;NoOp&quot;\\n  input: &quot;^optimize/gradients_1/feature_loss/feature_projection/feature_projection/Maximum_grad/Reshape&quot;\\n  input: &quot;^optimize/gradients_1/feature_loss/feature_projection/feature_projection/Maximum_grad/Reshape_1&quot;\\n}\\nnode {\\n  name: &quot;optimize/gradients_1/feature_loss/feature_projection/feature_projection/Maximum_grad/tuple/control_dependency&quot;\\n  op: &quot;Identity&quot;\\n  input: &quot;optimize/gradients_1/feature_loss/feature_projection/feature_projection/Maximum_grad/Reshape&quot;\\n  input: &quot;^optimize/gradients_1/feature_loss/feature_projection/feature_projection/Maximum_grad/tuple/group_deps&quot;\\n  attr {\\n    key: &quot;T&quot;\\n    value {\\n      type: DT_FLOAT\\n    }\\n  }\\n  attr {\\n    key: &quot;_class&quot;\\n    value {\\n      list {\\n        s: &quot;loc:@optimize/gradients_1/feature_loss/feature_projection/feature_projection/Maximum_grad/Reshape&quot;\\n      }\\n    }\\n  }\\n}\\nnode {\\n  name: &quot;optimize/gradients_1/feature_loss/feature_projection/feature_projection/Maximum_grad/tuple/control_dependency_1&quot;\\n  op: &quot;Identity&quot;\\n  input: &quot;optimize/gradients_1/feature_loss/feature_projection/feature_projection/Maximum_grad/Reshape_1&quot;\\n  input: &quot;^optimize/gradients_1/feature_loss/feature_projection/feature_projection/Maximum_grad/tuple/group_deps&quot;\\n  attr {\\n    key: &quot;T&quot;\\n    value {\\n      type: DT_FLOAT\\n    }\\n  }\\n  attr {\\n    key: &quot;_class&quot;\\n    value {\\n      list {\\n        s: &quot;loc:@optimize/gradients_1/feature_loss/feature_projection/feature_projection/Maximum_grad/Reshape_1&quot;\\n      }\\n    }\\n  }\\n}\\nnode {\\n  name: &quot;optimize/gradients_1/feature_loss/feature_projection/feature_projection/Select_1_grad/zeros_like/shape_as_tensor&quot;\\n  op: &quot;Const&quot;\\n  attr {\\n    key: &quot;dtype&quot;\\n    value {\\n      type: DT_INT32\\n    }\\n  }\\n  attr {\\n    key: &quot;value&quot;\\n    value {\\n      tensor {\\n        dtype: DT_INT32\\n        tensor_shape {\\n          dim {\\n            size: 2\\n          }\\n        }\\n        tensor_content: &quot;we\\\\000\\\\000\\\\001\\\\000\\\\000\\\\000&quot;\\n      }\\n    }\\n  }\\n}\\nnode {\\n  name: &quot;optimize/gradients_1/feature_loss/feature_projection/feature_projection/Select_1_grad/zeros_like/Const&quot;\\n  op: &quot;Const&quot;\\n  attr {\\n    key: &quot;dtype&quot;\\n    value {\\n      type: DT_FLOAT\\n    }\\n  }\\n  attr {\\n    key: &quot;value&quot;\\n    value {\\n      tensor {\\n        dtype: DT_FLOAT\\n        tensor_shape {\\n        }\\n        float_val: 0.0\\n      }\\n    }\\n  }\\n}\\nnode {\\n  name: &quot;optimize/gradients_1/feature_loss/feature_projection/feature_projection/Select_1_grad/zeros_like&quot;\\n  op: &quot;Fill&quot;\\n  input: &quot;optimize/gradients_1/feature_loss/feature_projection/feature_projection/Select_1_grad/zeros_like/shape_as_tensor&quot;\\n  input: &quot;optimize/gradients_1/feature_loss/feature_projection/feature_projection/Select_1_grad/zeros_like/Const&quot;\\n  attr {\\n    key: &quot;T&quot;\\n    value {\\n      type: DT_FLOAT\\n    }\\n  }\\n  attr {\\n    key: &quot;index_type&quot;\\n    value {\\n      type: DT_INT32\\n    }\\n  }\\n}\\nnode {\\n  name: &quot;optimize/gradients_1/feature_loss/feature_projection/feature_projection/Select_1_grad/Select&quot;\\n  op: &quot;Select&quot;\\n  input: &quot;feature_loss/feature_projection/feature_projection/Greater&quot;\\n  input: &quot;optimize/gradients_1/feature_loss/feature_projection/feature_projection/Maximum_grad/tuple/control_dependency&quot;\\n  input: &quot;optimize/gradients_1/feature_loss/feature_projection/feature_projection/Select_1_grad/zeros_like&quot;\\n  attr {\\n    key: &quot;T&quot;\\n    value {\\n      type: DT_FLOAT\\n    }\\n  }\\n}\\nnode {\\n  name: &quot;optimize/gradients_1/feature_loss/feature_projection/feature_projection/Select_1_grad/Select_1&quot;\\n  op: &quot;Select&quot;\\n  input: &quot;feature_loss/feature_projection/feature_projection/Greater&quot;\\n  input: &quot;optimize/gradients_1/feature_loss/feature_projection/feature_projection/Select_1_grad/zeros_like&quot;\\n  input: &quot;optimize/gradients_1/feature_loss/feature_projection/feature_projection/Maximum_grad/tuple/control_dependency&quot;\\n  attr {\\n    key: &quot;T&quot;\\n    value {\\n      type: DT_FLOAT\\n    }\\n  }\\n}\\nnode {\\n  name: &quot;optimize/gradients_1/feature_loss/feature_projection/feature_projection/Select_1_grad/tuple/group_deps&quot;\\n  op: &quot;NoOp&quot;\\n  input: &quot;^optimize/gradients_1/feature_loss/feature_projection/feature_projection/Select_1_grad/Select&quot;\\n  input: &quot;^optimize/gradients_1/feature_loss/feature_projection/feature_projection/Select_1_grad/Select_1&quot;\\n}\\nnode {\\n  name: &quot;optimize/gradients_1/feature_loss/feature_projection/feature_projection/Select_1_grad/tuple/control_dependency&quot;\\n  op: &quot;Identity&quot;\\n  input: &quot;optimize/gradients_1/feature_loss/feature_projection/feature_projection/Select_1_grad/Select&quot;\\n  input: &quot;^optimize/gradients_1/feature_loss/feature_projection/feature_projection/Select_1_grad/tuple/group_deps&quot;\\n  attr {\\n    key: &quot;T&quot;\\n    value {\\n      type: DT_FLOAT\\n    }\\n  }\\n  attr {\\n    key: &quot;_class&quot;\\n    value {\\n      list {\\n        s: &quot;loc:@optimize/gradients_1/feature_loss/feature_projection/feature_projection/Select_1_grad/Select&quot;\\n      }\\n    }\\n  }\\n}\\nnode {\\n  name: &quot;optimize/gradients_1/feature_loss/feature_projection/feature_projection/Select_1_grad/tuple/control_dependency_1&quot;\\n  op: &quot;Identity&quot;\\n  input: &quot;optimize/gradients_1/feature_loss/feature_projection/feature_projection/Select_1_grad/Select_1&quot;\\n  input: &quot;^optimize/gradients_1/feature_loss/feature_projection/feature_projection/Select_1_grad/tuple/group_deps&quot;\\n  attr {\\n    key: &quot;T&quot;\\n    value {\\n      type: DT_FLOAT\\n    }\\n  }\\n  attr {\\n    key: &quot;_class&quot;\\n    value {\\n      list {\\n        s: &quot;loc:@optimize/gradients_1/feature_loss/feature_projection/feature_projection/Select_1_grad/Select_1&quot;\\n      }\\n    }\\n  }\\n}\\nnode {\\n  name: &quot;optimize/gradients_1/feature_loss/feature_projection/feature_projection/Sqrt_grad/SqrtGrad&quot;\\n  op: &quot;SqrtGrad&quot;\\n  input: &quot;feature_loss/feature_projection/feature_projection/Sqrt&quot;\\n  input: &quot;optimize/gradients_1/feature_loss/feature_projection/feature_projection/Select_1_grad/tuple/control_dependency&quot;\\n  attr {\\n    key: &quot;T&quot;\\n    value {\\n      type: DT_FLOAT\\n    }\\n  }\\n}\\nnode {\\n  name: &quot;optimize/gradients_1/feature_loss/feature_projection/feature_projection/Select_grad/zeros_like/shape_as_tensor&quot;\\n  op: &quot;Const&quot;\\n  attr {\\n    key: &quot;dtype&quot;\\n    value {\\n      type: DT_INT32\\n    }\\n  }\\n  attr {\\n    key: &quot;value&quot;\\n    value {\\n      tensor {\\n        dtype: DT_INT32\\n        tensor_shape {\\n          dim {\\n            size: 2\\n          }\\n        }\\n        tensor_content: &quot;we\\\\000\\\\000\\\\001\\\\000\\\\000\\\\000&quot;\\n      }\\n    }\\n  }\\n}\\nnode {\\n  name: &quot;optimize/gradients_1/feature_loss/feature_projection/feature_projection/Select_grad/zeros_like/Const&quot;\\n  op: &quot;Const&quot;\\n  attr {\\n    key: &quot;dtype&quot;\\n    value {\\n      type: DT_FLOAT\\n    }\\n  }\\n  attr {\\n    key: &quot;value&quot;\\n    value {\\n      tensor {\\n        dtype: DT_FLOAT\\n        tensor_shape {\\n        }\\n        float_val: 0.0\\n      }\\n    }\\n  }\\n}\\nnode {\\n  name: &quot;optimize/gradients_1/feature_loss/feature_projection/feature_projection/Select_grad/zeros_like&quot;\\n  op: &quot;Fill&quot;\\n  input: &quot;optimize/gradients_1/feature_loss/feature_projection/feature_projection/Select_grad/zeros_like/shape_as_tensor&quot;\\n  input: &quot;optimize/gradients_1/feature_loss/feature_projection/feature_projection/Select_grad/zeros_like/Const&quot;\\n  attr {\\n    key: &quot;T&quot;\\n    value {\\n      type: DT_FLOAT\\n    }\\n  }\\n  attr {\\n    key: &quot;index_type&quot;\\n    value {\\n      type: DT_INT32\\n    }\\n  }\\n}\\nnode {\\n  name: &quot;optimize/gradients_1/feature_loss/feature_projection/feature_projection/Select_grad/Select&quot;\\n  op: &quot;Select&quot;\\n  input: &quot;feature_loss/feature_projection/feature_projection/Greater&quot;\\n  input: &quot;optimize/gradients_1/feature_loss/feature_projection/feature_projection/Sqrt_grad/SqrtGrad&quot;\\n  input: &quot;optimize/gradients_1/feature_loss/feature_projection/feature_projection/Select_grad/zeros_like&quot;\\n  attr {\\n    key: &quot;T&quot;\\n    value {\\n      type: DT_FLOAT\\n    }\\n  }\\n}\\nnode {\\n  name: &quot;optimize/gradients_1/feature_loss/feature_projection/feature_projection/Select_grad/Select_1&quot;\\n  op: &quot;Select&quot;\\n  input: &quot;feature_loss/feature_projection/feature_projection/Greater&quot;\\n  input: &quot;optimize/gradients_1/feature_loss/feature_projection/feature_projection/Select_grad/zeros_like&quot;\\n  input: &quot;optimize/gradients_1/feature_loss/feature_projection/feature_projection/Sqrt_grad/SqrtGrad&quot;\\n  attr {\\n    key: &quot;T&quot;\\n    value {\\n      type: DT_FLOAT\\n    }\\n  }\\n}\\nnode {\\n  name: &quot;optimize/gradients_1/feature_loss/feature_projection/feature_projection/Select_grad/tuple/group_deps&quot;\\n  op: &quot;NoOp&quot;\\n  input: &quot;^optimize/gradients_1/feature_loss/feature_projection/feature_projection/Select_grad/Select&quot;\\n  input: &quot;^optimize/gradients_1/feature_loss/feature_projection/feature_projection/Select_grad/Select_1&quot;\\n}\\nnode {\\n  name: &quot;optimize/gradients_1/feature_loss/feature_projection/feature_projection/Select_grad/tuple/control_dependency&quot;\\n  op: &quot;Identity&quot;\\n  input: &quot;optimize/gradients_1/feature_loss/feature_projection/feature_projection/Select_grad/Select&quot;\\n  input: &quot;^optimize/gradients_1/feature_loss/feature_projection/feature_projection/Select_grad/tuple/group_deps&quot;\\n  attr {\\n    key: &quot;T&quot;\\n    value {\\n      type: DT_FLOAT\\n    }\\n  }\\n  attr {\\n    key: &quot;_class&quot;\\n    value {\\n      list {\\n        s: &quot;loc:@optimize/gradients_1/feature_loss/feature_projection/feature_projection/Select_grad/Select&quot;\\n      }\\n    }\\n  }\\n}\\nnode {\\n  name: &quot;optimize/gradients_1/feature_loss/feature_projection/feature_projection/Select_grad/tuple/control_dependency_1&quot;\\n  op: &quot;Identity&quot;\\n  input: &quot;optimize/gradients_1/feature_loss/feature_projection/feature_projection/Select_grad/Select_1&quot;\\n  input: &quot;^optimize/gradients_1/feature_loss/feature_projection/feature_projection/Select_grad/tuple/group_deps&quot;\\n  attr {\\n    key: &quot;T&quot;\\n    value {\\n      type: DT_FLOAT\\n    }\\n  }\\n  attr {\\n    key: &quot;_class&quot;\\n    value {\\n      list {\\n        s: &quot;loc:@optimize/gradients_1/feature_loss/feature_projection/feature_projection/Select_grad/Select_1&quot;\\n      }\\n    }\\n  }\\n}\\nnode {\\n  name: &quot;optimize/gradients_1/AddN&quot;\\n  op: &quot;AddN&quot;\\n  input: &quot;optimize/gradients_1/feature_loss/feature_projection/feature_projection/Select_1_grad/tuple/control_dependency_1&quot;\\n  input: &quot;optimize/gradients_1/feature_loss/feature_projection/feature_projection/Select_grad/tuple/control_dependency&quot;\\n  attr {\\n    key: &quot;N&quot;\\n    value {\\n      i: 2\\n    }\\n  }\\n  attr {\\n    key: &quot;T&quot;\\n    value {\\n      type: DT_FLOAT\\n    }\\n  }\\n  attr {\\n    key: &quot;_class&quot;\\n    value {\\n      list {\\n        s: &quot;loc:@optimize/gradients_1/feature_loss/feature_projection/feature_projection/Select_1_grad/Select_1&quot;\\n      }\\n    }\\n  }\\n}\\nnode {\\n  name: &quot;optimize/gradients_1/feature_loss/feature_projection/feature_projection/Sum_grad/Shape&quot;\\n  op: &quot;Const&quot;\\n  attr {\\n    key: &quot;dtype&quot;\\n    value {\\n      type: DT_INT32\\n    }\\n  }\\n  attr {\\n    key: &quot;value&quot;\\n    value {\\n      tensor {\\n        dtype: DT_INT32\\n        tensor_shape {\\n          dim {\\n            size: 2\\n          }\\n        }\\n        tensor_content: &quot;we\\\\000\\\\000d\\\\000\\\\000\\\\000&quot;\\n      }\\n    }\\n  }\\n}\\nnode {\\n  name: &quot;optimize/gradients_1/feature_loss/feature_projection/feature_projection/Sum_grad/Size&quot;\\n  op: &quot;Const&quot;\\n  attr {\\n    key: &quot;_class&quot;\\n    value {\\n      list {\\n        s: &quot;loc:@optimize/gradients_1/feature_loss/feature_projection/feature_projection/Sum_grad/Shape&quot;\\n      }\\n    }\\n  }\\n  attr {\\n    key: &quot;dtype&quot;\\n    value {\\n      type: DT_INT32\\n    }\\n  }\\n  attr {\\n    key: &quot;value&quot;\\n    value {\\n      tensor {\\n        dtype: DT_INT32\\n        tensor_shape {\\n        }\\n        int_val: 2\\n      }\\n    }\\n  }\\n}\\nnode {\\n  name: &quot;optimize/gradients_1/feature_loss/feature_projection/feature_projection/Sum_grad/add&quot;\\n  op: &quot;Add&quot;\\n  input: &quot;feature_loss/feature_projection/feature_projection/Sum/reduction_indices&quot;\\n  input: &quot;optimize/gradients_1/feature_loss/feature_projection/feature_projection/Sum_grad/Size&quot;\\n  attr {\\n    key: &quot;T&quot;\\n    value {\\n      type: DT_INT32\\n    }\\n  }\\n  attr {\\n    key: &quot;_class&quot;\\n    value {\\n      list {\\n        s: &quot;loc:@optimize/gradients_1/feature_loss/feature_projection/feature_projection/Sum_grad/Shape&quot;\\n      }\\n    }\\n  }\\n}\\nnode {\\n  name: &quot;optimize/gradients_1/feature_loss/feature_projection/feature_projection/Sum_grad/mod&quot;\\n  op: &quot;FloorMod&quot;\\n  input: &quot;optimize/gradients_1/feature_loss/feature_projection/feature_projection/Sum_grad/add&quot;\\n  input: &quot;optimize/gradients_1/feature_loss/feature_projection/feature_projection/Sum_grad/Size&quot;\\n  attr {\\n    key: &quot;T&quot;\\n    value {\\n      type: DT_INT32\\n    }\\n  }\\n  attr {\\n    key: &quot;_class&quot;\\n    value {\\n      list {\\n        s: &quot;loc:@optimize/gradients_1/feature_loss/feature_projection/feature_projection/Sum_grad/Shape&quot;\\n      }\\n    }\\n  }\\n}\\nnode {\\n  name: &quot;optimize/gradients_1/feature_loss/feature_projection/feature_projection/Sum_grad/Shape_1&quot;\\n  op: &quot;Const&quot;\\n  attr {\\n    key: &quot;_class&quot;\\n    value {\\n      list {\\n        s: &quot;loc:@optimize/gradients_1/feature_loss/feature_projection/feature_projection/Sum_grad/Shape&quot;\\n      }\\n    }\\n  }\\n  attr {\\n    key: &quot;dtype&quot;\\n    value {\\n      type: DT_INT32\\n    }\\n  }\\n  attr {\\n    key: &quot;value&quot;\\n    value {\\n      tensor {\\n        dtype: DT_INT32\\n        tensor_shape {\\n          dim {\\n            size: 1\\n          }\\n        }\\n        int_val: 1\\n      }\\n    }\\n  }\\n}\\nnode {\\n  name: &quot;optimize/gradients_1/feature_loss/feature_projection/feature_projection/Sum_grad/range/start&quot;\\n  op: &quot;Const&quot;\\n  attr {\\n    key: &quot;_class&quot;\\n    value {\\n      list {\\n        s: &quot;loc:@optimize/gradients_1/feature_loss/feature_projection/feature_projection/Sum_grad/Shape&quot;\\n      }\\n    }\\n  }\\n  attr {\\n    key: &quot;dtype&quot;\\n    value {\\n      type: DT_INT32\\n    }\\n  }\\n  attr {\\n    key: &quot;value&quot;\\n    value {\\n      tensor {\\n        dtype: DT_INT32\\n        tensor_shape {\\n        }\\n        int_val: 0\\n      }\\n    }\\n  }\\n}\\nnode {\\n  name: &quot;optimize/gradients_1/feature_loss/feature_projection/feature_projection/Sum_grad/range/delta&quot;\\n  op: &quot;Const&quot;\\n  attr {\\n    key: &quot;_class&quot;\\n    value {\\n      list {\\n        s: &quot;loc:@optimize/gradients_1/feature_loss/feature_projection/feature_projection/Sum_grad/Shape&quot;\\n      }\\n    }\\n  }\\n  attr {\\n    key: &quot;dtype&quot;\\n    value {\\n      type: DT_INT32\\n    }\\n  }\\n  attr {\\n    key: &quot;value&quot;\\n    value {\\n      tensor {\\n        dtype: DT_INT32\\n        tensor_shape {\\n        }\\n        int_val: 1\\n      }\\n    }\\n  }\\n}\\nnode {\\n  name: &quot;optimize/gradients_1/feature_loss/feature_projection/feature_projection/Sum_grad/range&quot;\\n  op: &quot;Range&quot;\\n  input: &quot;optimize/gradients_1/feature_loss/feature_projection/feature_projection/Sum_grad/range/start&quot;\\n  input: &quot;optimize/gradients_1/feature_loss/feature_projection/feature_projection/Sum_grad/Size&quot;\\n  input: &quot;optimize/gradients_1/feature_loss/feature_projection/feature_projection/Sum_grad/range/delta&quot;\\n  attr {\\n    key: &quot;Tidx&quot;\\n    value {\\n      type: DT_INT32\\n    }\\n  }\\n  attr {\\n    key: &quot;_class&quot;\\n    value {\\n      list {\\n        s: &quot;loc:@optimize/gradients_1/feature_loss/feature_projection/feature_projection/Sum_grad/Shape&quot;\\n      }\\n    }\\n  }\\n}\\nnode {\\n  name: &quot;optimize/gradients_1/feature_loss/feature_projection/feature_projection/Sum_grad/Fill/value&quot;\\n  op: &quot;Const&quot;\\n  attr {\\n    key: &quot;_class&quot;\\n    value {\\n      list {\\n        s: &quot;loc:@optimize/gradients_1/feature_loss/feature_projection/feature_projection/Sum_grad/Shape&quot;\\n      }\\n    }\\n  }\\n  attr {\\n    key: &quot;dtype&quot;\\n    value {\\n      type: DT_INT32\\n    }\\n  }\\n  attr {\\n    key: &quot;value&quot;\\n    value {\\n      tensor {\\n        dtype: DT_INT32\\n        tensor_shape {\\n        }\\n        int_val: 1\\n      }\\n    }\\n  }\\n}\\nnode {\\n  name: &quot;optimize/gradients_1/feature_loss/feature_projection/feature_projection/Sum_grad/Fill&quot;\\n  op: &quot;Fill&quot;\\n  input: &quot;optimize/gradients_1/feature_loss/feature_projection/feature_projection/Sum_grad/Shape_1&quot;\\n  input: &quot;optimize/gradients_1/feature_loss/feature_projection/feature_projection/Sum_grad/Fill/value&quot;\\n  attr {\\n    key: &quot;T&quot;\\n    value {\\n      type: DT_INT32\\n    }\\n  }\\n  attr {\\n    key: &quot;_class&quot;\\n    value {\\n      list {\\n        s: &quot;loc:@optimize/gradients_1/feature_loss/feature_projection/feature_projection/Sum_grad/Shape&quot;\\n      }\\n    }\\n  }\\n  attr {\\n    key: &quot;index_type&quot;\\n    value {\\n      type: DT_INT32\\n    }\\n  }\\n}\\nnode {\\n  name: &quot;optimize/gradients_1/feature_loss/feature_projection/feature_projection/Sum_grad/DynamicStitch&quot;\\n  op: &quot;DynamicStitch&quot;\\n  input: &quot;optimize/gradients_1/feature_loss/feature_projection/feature_projection/Sum_grad/range&quot;\\n  input: &quot;optimize/gradients_1/feature_loss/feature_projection/feature_projection/Sum_grad/mod&quot;\\n  input: &quot;optimize/gradients_1/feature_loss/feature_projection/feature_projection/Sum_grad/Shape&quot;\\n  input: &quot;optimize/gradients_1/feature_loss/feature_projection/feature_projection/Sum_grad/Fill&quot;\\n  attr {\\n    key: &quot;N&quot;\\n    value {\\n      i: 2\\n    }\\n  }\\n  attr {\\n    key: &quot;T&quot;\\n    value {\\n      type: DT_INT32\\n    }\\n  }\\n  attr {\\n    key: &quot;_class&quot;\\n    value {\\n      list {\\n        s: &quot;loc:@optimize/gradients_1/feature_loss/feature_projection/feature_projection/Sum_grad/Shape&quot;\\n      }\\n    }\\n  }\\n}\\nnode {\\n  name: &quot;optimize/gradients_1/feature_loss/feature_projection/feature_projection/Sum_grad/Maximum/y&quot;\\n  op: &quot;Const&quot;\\n  attr {\\n    key: &quot;_class&quot;\\n    value {\\n      list {\\n        s: &quot;loc:@optimize/gradients_1/feature_loss/feature_projection/feature_projection/Sum_grad/Shape&quot;\\n      }\\n    }\\n  }\\n  attr {\\n    key: &quot;dtype&quot;\\n    value {\\n      type: DT_INT32\\n    }\\n  }\\n  attr {\\n    key: &quot;value&quot;\\n    value {\\n      tensor {\\n        dtype: DT_INT32\\n        tensor_shape {\\n        }\\n        int_val: 1\\n      }\\n    }\\n  }\\n}\\nnode {\\n  name: &quot;optimize/gradients_1/feature_loss/feature_projection/feature_projection/Sum_grad/Maximum&quot;\\n  op: &quot;Maximum&quot;\\n  input: &quot;optimize/gradients_1/feature_loss/feature_projection/feature_projection/Sum_grad/DynamicStitch&quot;\\n  input: &quot;optimize/gradients_1/feature_loss/feature_projection/feature_projection/Sum_grad/Maximum/y&quot;\\n  attr {\\n    key: &quot;T&quot;\\n    value {\\n      type: DT_INT32\\n    }\\n  }\\n  attr {\\n    key: &quot;_class&quot;\\n    value {\\n      list {\\n        s: &quot;loc:@optimize/gradients_1/feature_loss/feature_projection/feature_projection/Sum_grad/Shape&quot;\\n      }\\n    }\\n  }\\n}\\nnode {\\n  name: &quot;optimize/gradients_1/feature_loss/feature_projection/feature_projection/Sum_grad/floordiv&quot;\\n  op: &quot;FloorDiv&quot;\\n  input: &quot;optimize/gradients_1/feature_loss/feature_projection/feature_projection/Sum_grad/Shape&quot;\\n  input: &quot;optimize/gradients_1/feature_loss/feature_projection/feature_projection/Sum_grad/Maximum&quot;\\n  attr {\\n    key: &quot;T&quot;\\n    value {\\n      type: DT_INT32\\n    }\\n  }\\n  attr {\\n    key: &quot;_class&quot;\\n    value {\\n      list {\\n        s: &quot;loc:@optimize/gradients_1/feature_loss/feature_projection/feature_projection/Sum_grad/Shape&quot;\\n      }\\n    }\\n  }\\n}\\nnode {\\n  name: &quot;optimize/gradients_1/feature_loss/feature_projection/feature_projection/Sum_grad/Reshape&quot;\\n  op: &quot;Reshape&quot;\\n  input: &quot;optimize/gradients_1/AddN&quot;\\n  input: &quot;optimize/gradients_1/feature_loss/feature_projection/feature_projection/Sum_grad/DynamicStitch&quot;\\n  attr {\\n    key: &quot;T&quot;\\n    value {\\n      type: DT_FLOAT\\n    }\\n  }\\n  attr {\\n    key: &quot;Tshape&quot;\\n    value {\\n      type: DT_INT32\\n    }\\n  }\\n}\\nnode {\\n  name: &quot;optimize/gradients_1/feature_loss/feature_projection/feature_projection/Sum_grad/Tile&quot;\\n  op: &quot;Tile&quot;\\n  input: &quot;optimize/gradients_1/feature_loss/feature_projection/feature_projection/Sum_grad/Reshape&quot;\\n  input: &quot;optimize/gradients_1/feature_loss/feature_projection/feature_projection/Sum_grad/floordiv&quot;\\n  attr {\\n    key: &quot;T&quot;\\n    value {\\n      type: DT_FLOAT\\n    }\\n  }\\n  attr {\\n    key: &quot;Tmultiples&quot;\\n    value {\\n      type: DT_INT32\\n    }\\n  }\\n}\\nnode {\\n  name: &quot;optimize/gradients_1/feature_loss/feature_projection/feature_projection/mul_grad/Mul&quot;\\n  op: &quot;Mul&quot;\\n  input: &quot;optimize/gradients_1/feature_loss/feature_projection/feature_projection/Sum_grad/Tile&quot;\\n  input: &quot;feature_loss/feature_projection/mul&quot;\\n  attr {\\n    key: &quot;T&quot;\\n    value {\\n      type: DT_FLOAT\\n    }\\n  }\\n}\\nnode {\\n  name: &quot;optimize/gradients_1/feature_loss/feature_projection/feature_projection/mul_grad/Mul_1&quot;\\n  op: &quot;Mul&quot;\\n  input: &quot;optimize/gradients_1/feature_loss/feature_projection/feature_projection/Sum_grad/Tile&quot;\\n  input: &quot;feature_loss/feature_projection/mul&quot;\\n  attr {\\n    key: &quot;T&quot;\\n    value {\\n      type: DT_FLOAT\\n    }\\n  }\\n}\\nnode {\\n  name: &quot;optimize/gradients_1/feature_loss/feature_projection/feature_projection/mul_grad/tuple/group_deps&quot;\\n  op: &quot;NoOp&quot;\\n  input: &quot;^optimize/gradients_1/feature_loss/feature_projection/feature_projection/mul_grad/Mul&quot;\\n  input: &quot;^optimize/gradients_1/feature_loss/feature_projection/feature_projection/mul_grad/Mul_1&quot;\\n}\\nnode {\\n  name: &quot;optimize/gradients_1/feature_loss/feature_projection/feature_projection/mul_grad/tuple/control_dependency&quot;\\n  op: &quot;Identity&quot;\\n  input: &quot;optimize/gradients_1/feature_loss/feature_projection/feature_projection/mul_grad/Mul&quot;\\n  input: &quot;^optimize/gradients_1/feature_loss/feature_projection/feature_projection/mul_grad/tuple/group_deps&quot;\\n  attr {\\n    key: &quot;T&quot;\\n    value {\\n      type: DT_FLOAT\\n    }\\n  }\\n  attr {\\n    key: &quot;_class&quot;\\n    value {\\n      list {\\n        s: &quot;loc:@optimize/gradients_1/feature_loss/feature_projection/feature_projection/mul_grad/Mul&quot;\\n      }\\n    }\\n  }\\n}\\nnode {\\n  name: &quot;optimize/gradients_1/feature_loss/feature_projection/feature_projection/mul_grad/tuple/control_dependency_1&quot;\\n  op: &quot;Identity&quot;\\n  input: &quot;optimize/gradients_1/feature_loss/feature_projection/feature_projection/mul_grad/Mul_1&quot;\\n  input: &quot;^optimize/gradients_1/feature_loss/feature_projection/feature_projection/mul_grad/tuple/group_deps&quot;\\n  attr {\\n    key: &quot;T&quot;\\n    value {\\n      type: DT_FLOAT\\n    }\\n  }\\n  attr {\\n    key: &quot;_class&quot;\\n    value {\\n      list {\\n        s: &quot;loc:@optimize/gradients_1/feature_loss/feature_projection/feature_projection/mul_grad/Mul_1&quot;\\n      }\\n    }\\n  }\\n}\\nnode {\\n  name: &quot;optimize/gradients_1/AddN_1&quot;\\n  op: &quot;AddN&quot;\\n  input: &quot;optimize/gradients_1/feature_loss/feature_projection/feature_projection/mul_1_grad/tuple/control_dependency&quot;\\n  input: &quot;optimize/gradients_1/feature_loss/feature_projection/feature_projection/mul_grad/tuple/control_dependency&quot;\\n  input: &quot;optimize/gradients_1/feature_loss/feature_projection/feature_projection/mul_grad/tuple/control_dependency_1&quot;\\n  attr {\\n    key: &quot;N&quot;\\n    value {\\n      i: 3\\n    }\\n  }\\n  attr {\\n    key: &quot;T&quot;\\n    value {\\n      type: DT_FLOAT\\n    }\\n  }\\n  attr {\\n    key: &quot;_class&quot;\\n    value {\\n      list {\\n        s: &quot;loc:@optimize/gradients_1/feature_loss/feature_projection/feature_projection/mul_1_grad/Reshape&quot;\\n      }\\n    }\\n  }\\n}\\nnode {\\n  name: &quot;optimize/gradients_1/feature_loss/feature_projection/mul_grad/Shape&quot;\\n  op: &quot;Const&quot;\\n  attr {\\n    key: &quot;dtype&quot;\\n    value {\\n      type: DT_INT32\\n    }\\n  }\\n  attr {\\n    key: &quot;value&quot;\\n    value {\\n      tensor {\\n        dtype: DT_INT32\\n        tensor_shape {\\n          dim {\\n            size: 2\\n          }\\n        }\\n        tensor_content: &quot;we\\\\000\\\\000d\\\\000\\\\000\\\\000&quot;\\n      }\\n    }\\n  }\\n}\\nnode {\\n  name: &quot;optimize/gradients_1/feature_loss/feature_projection/mul_grad/Shape_1&quot;\\n  op: &quot;Const&quot;\\n  attr {\\n    key: &quot;dtype&quot;\\n    value {\\n      type: DT_INT32\\n    }\\n  }\\n  attr {\\n    key: &quot;value&quot;\\n    value {\\n      tensor {\\n        dtype: DT_INT32\\n        tensor_shape {\\n          dim {\\n          }\\n        }\\n      }\\n    }\\n  }\\n}\\nnode {\\n  name: &quot;optimize/gradients_1/feature_loss/feature_projection/mul_grad/BroadcastGradientArgs&quot;\\n  op: &quot;BroadcastGradientArgs&quot;\\n  input: &quot;optimize/gradients_1/feature_loss/feature_projection/mul_grad/Shape&quot;\\n  input: &quot;optimize/gradients_1/feature_loss/feature_projection/mul_grad/Shape_1&quot;\\n  attr {\\n    key: &quot;T&quot;\\n    value {\\n      type: DT_INT32\\n    }\\n  }\\n}\\nnode {\\n  name: &quot;optimize/gradients_1/feature_loss/feature_projection/mul_grad/Mul&quot;\\n  op: &quot;Mul&quot;\\n  input: &quot;optimize/gradients_1/AddN_1&quot;\\n  input: &quot;feature_loss/feature_projection/mul/y&quot;\\n  attr {\\n    key: &quot;T&quot;\\n    value {\\n      type: DT_FLOAT\\n    }\\n  }\\n}\\nnode {\\n  name: &quot;optimize/gradients_1/feature_loss/feature_projection/mul_grad/Sum&quot;\\n  op: &quot;Sum&quot;\\n  input: &quot;optimize/gradients_1/feature_loss/feature_projection/mul_grad/Mul&quot;\\n  input: &quot;optimize/gradients_1/feature_loss/feature_projection/mul_grad/BroadcastGradientArgs&quot;\\n  attr {\\n    key: &quot;T&quot;\\n    value {\\n      type: DT_FLOAT\\n    }\\n  }\\n  attr {\\n    key: &quot;Tidx&quot;\\n    value {\\n      type: DT_INT32\\n    }\\n  }\\n  attr {\\n    key: &quot;keep_dims&quot;\\n    value {\\n      b: false\\n    }\\n  }\\n}\\nnode {\\n  name: &quot;optimize/gradients_1/feature_loss/feature_projection/mul_grad/Reshape&quot;\\n  op: &quot;Reshape&quot;\\n  input: &quot;optimize/gradients_1/feature_loss/feature_projection/mul_grad/Sum&quot;\\n  input: &quot;optimize/gradients_1/feature_loss/feature_projection/mul_grad/Shape&quot;\\n  attr {\\n    key: &quot;T&quot;\\n    value {\\n      type: DT_FLOAT\\n    }\\n  }\\n  attr {\\n    key: &quot;Tshape&quot;\\n    value {\\n      type: DT_INT32\\n    }\\n  }\\n}\\nnode {\\n  name: &quot;optimize/gradients_1/feature_loss/feature_projection/mul_grad/Mul_1&quot;\\n  op: &quot;Mul&quot;\\n  input: &quot;feature_loss/feature_projection/mlp_layer_2/mlp_layer_2/BiasAdd&quot;\\n  input: &quot;optimize/gradients_1/AddN_1&quot;\\n  attr {\\n    key: &quot;T&quot;\\n    value {\\n      type: DT_FLOAT\\n    }\\n  }\\n}\\nnode {\\n  name: &quot;optimize/gradients_1/feature_loss/feature_projection/mul_grad/Sum_1&quot;\\n  op: &quot;Sum&quot;\\n  input: &quot;optimize/gradients_1/feature_loss/feature_projection/mul_grad/Mul_1&quot;\\n  input: &quot;optimize/gradients_1/feature_loss/feature_projection/mul_grad/BroadcastGradientArgs:1&quot;\\n  attr {\\n    key: &quot;T&quot;\\n    value {\\n      type: DT_FLOAT\\n    }\\n  }\\n  attr {\\n    key: &quot;Tidx&quot;\\n    value {\\n      type: DT_INT32\\n    }\\n  }\\n  attr {\\n    key: &quot;keep_dims&quot;\\n    value {\\n      b: false\\n    }\\n  }\\n}\\nnode {\\n  name: &quot;optimize/gradients_1/feature_loss/feature_projection/mul_grad/Reshape_1&quot;\\n  op: &quot;Reshape&quot;\\n  input: &quot;optimize/gradients_1/feature_loss/feature_projection/mul_grad/Sum_1&quot;\\n  input: &quot;optimize/gradients_1/feature_loss/feature_projection/mul_grad/Shape_1&quot;\\n  attr {\\n    key: &quot;T&quot;\\n    value {\\n      type: DT_FLOAT\\n    }\\n  }\\n  attr {\\n    key: &quot;Tshape&quot;\\n    value {\\n      type: DT_INT32\\n    }\\n  }\\n}\\nnode {\\n  name: &quot;optimize/gradients_1/feature_loss/feature_projection/mul_grad/tuple/group_deps&quot;\\n  op: &quot;NoOp&quot;\\n  input: &quot;^optimize/gradients_1/feature_loss/feature_projection/mul_grad/Reshape&quot;\\n  input: &quot;^optimize/gradients_1/feature_loss/feature_projection/mul_grad/Reshape_1&quot;\\n}\\nnode {\\n  name: &quot;optimize/gradients_1/feature_loss/feature_projection/mul_grad/tuple/control_dependency&quot;\\n  op: &quot;Identity&quot;\\n  input: &quot;optimize/gradients_1/feature_loss/feature_projection/mul_grad/Reshape&quot;\\n  input: &quot;^optimize/gradients_1/feature_loss/feature_projection/mul_grad/tuple/group_deps&quot;\\n  attr {\\n    key: &quot;T&quot;\\n    value {\\n      type: DT_FLOAT\\n    }\\n  }\\n  attr {\\n    key: &quot;_class&quot;\\n    value {\\n      list {\\n        s: &quot;loc:@optimize/gradients_1/feature_loss/feature_projection/mul_grad/Reshape&quot;\\n      }\\n    }\\n  }\\n}\\nnode {\\n  name: &quot;optimize/gradients_1/feature_loss/feature_projection/mul_grad/tuple/control_dependency_1&quot;\\n  op: &quot;Identity&quot;\\n  input: &quot;optimize/gradients_1/feature_loss/feature_projection/mul_grad/Reshape_1&quot;\\n  input: &quot;^optimize/gradients_1/feature_loss/feature_projection/mul_grad/tuple/group_deps&quot;\\n  attr {\\n    key: &quot;T&quot;\\n    value {\\n      type: DT_FLOAT\\n    }\\n  }\\n  attr {\\n    key: &quot;_class&quot;\\n    value {\\n      list {\\n        s: &quot;loc:@optimize/gradients_1/feature_loss/feature_projection/mul_grad/Reshape_1&quot;\\n      }\\n    }\\n  }\\n}\\nnode {\\n  name: &quot;optimize/gradients_1/feature_loss/feature_projection/mlp_layer_2/mlp_layer_2/BiasAdd_grad/BiasAddGrad&quot;\\n  op: &quot;BiasAddGrad&quot;\\n  input: &quot;optimize/gradients_1/feature_loss/feature_projection/mul_grad/tuple/control_dependency&quot;\\n  attr {\\n    key: &quot;T&quot;\\n    value {\\n      type: DT_FLOAT\\n    }\\n  }\\n  attr {\\n    key: &quot;data_format&quot;\\n    value {\\n      s: &quot;NHWC&quot;\\n    }\\n  }\\n}\\nnode {\\n  name: &quot;optimize/gradients_1/feature_loss/feature_projection/mlp_layer_2/mlp_layer_2/BiasAdd_grad/tuple/group_deps&quot;\\n  op: &quot;NoOp&quot;\\n  input: &quot;^optimize/gradients_1/feature_loss/feature_projection/mlp_layer_2/mlp_layer_2/BiasAdd_grad/BiasAddGrad&quot;\\n  input: &quot;^optimize/gradients_1/feature_loss/feature_projection/mul_grad/tuple/control_dependency&quot;\\n}\\nnode {\\n  name: &quot;optimize/gradients_1/feature_loss/feature_projection/mlp_layer_2/mlp_layer_2/BiasAdd_grad/tuple/control_dependency&quot;\\n  op: &quot;Identity&quot;\\n  input: &quot;optimize/gradients_1/feature_loss/feature_projection/mul_grad/tuple/control_dependency&quot;\\n  input: &quot;^optimize/gradients_1/feature_loss/feature_projection/mlp_layer_2/mlp_layer_2/BiasAdd_grad/tuple/group_deps&quot;\\n  attr {\\n    key: &quot;T&quot;\\n    value {\\n      type: DT_FLOAT\\n    }\\n  }\\n  attr {\\n    key: &quot;_class&quot;\\n    value {\\n      list {\\n        s: &quot;loc:@optimize/gradients_1/feature_loss/feature_projection/mul_grad/Reshape&quot;\\n      }\\n    }\\n  }\\n}\\nnode {\\n  name: &quot;optimize/gradients_1/feature_loss/feature_projection/mlp_layer_2/mlp_layer_2/BiasAdd_grad/tuple/control_dependency_1&quot;\\n  op: &quot;Identity&quot;\\n  input: &quot;optimize/gradients_1/feature_loss/feature_projection/mlp_layer_2/mlp_layer_2/BiasAdd_grad/BiasAddGrad&quot;\\n  input: &quot;^optimize/gradients_1/feature_loss/feature_projection/mlp_layer_2/mlp_layer_2/BiasAdd_grad/tuple/group_deps&quot;\\n  attr {\\n    key: &quot;T&quot;\\n    value {\\n      type: DT_FLOAT\\n    }\\n  }\\n  attr {\\n    key: &quot;_class&quot;\\n    value {\\n      list {\\n        s: &quot;loc:@optimize/gradients_1/feature_loss/feature_projection/mlp_layer_2/mlp_layer_2/BiasAdd_grad/BiasAddGrad&quot;\\n      }\\n    }\\n  }\\n}\\nnode {\\n  name: &quot;optimize/gradients_1/feature_loss/feature_projection/mlp_layer_2/mlp_layer_2/MatMul_grad/MatMul&quot;\\n  op: &quot;MatMul&quot;\\n  input: &quot;optimize/gradients_1/feature_loss/feature_projection/mlp_layer_2/mlp_layer_2/BiasAdd_grad/tuple/control_dependency&quot;\\n  input: &quot;feature_loss/feature_projection/mlp_layer_2/mlp_layer_2/kernel/read&quot;\\n  attr {\\n    key: &quot;T&quot;\\n    value {\\n      type: DT_FLOAT\\n    }\\n  }\\n  attr {\\n    key: &quot;transpose_a&quot;\\n    value {\\n      b: false\\n    }\\n  }\\n  attr {\\n    key: &quot;transpose_b&quot;\\n    value {\\n      b: true\\n    }\\n  }\\n}\\nnode {\\n  name: &quot;optimize/gradients_1/feature_loss/feature_projection/mlp_layer_2/mlp_layer_2/MatMul_grad/MatMul_1&quot;\\n  op: &quot;MatMul&quot;\\n  input: &quot;feature_loss/feature_projection/mlp_layer_2/dropout/Identity&quot;\\n  input: &quot;optimize/gradients_1/feature_loss/feature_projection/mlp_layer_2/mlp_layer_2/BiasAdd_grad/tuple/control_dependency&quot;\\n  attr {\\n    key: &quot;T&quot;\\n    value {\\n      type: DT_FLOAT\\n    }\\n  }\\n  attr {\\n    key: &quot;transpose_a&quot;\\n    value {\\n      b: true\\n    }\\n  }\\n  attr {\\n    key: &quot;transpose_b&quot;\\n    value {\\n      b: false\\n    }\\n  }\\n}\\nnode {\\n  name: &quot;optimize/gradients_1/feature_loss/feature_projection/mlp_layer_2/mlp_layer_2/MatMul_grad/tuple/group_deps&quot;\\n  op: &quot;NoOp&quot;\\n  input: &quot;^optimize/gradients_1/feature_loss/feature_projection/mlp_layer_2/mlp_layer_2/MatMul_grad/MatMul&quot;\\n  input: &quot;^optimize/gradients_1/feature_loss/feature_projection/mlp_layer_2/mlp_layer_2/MatMul_grad/MatMul_1&quot;\\n}\\nnode {\\n  name: &quot;optimize/gradients_1/feature_loss/feature_projection/mlp_layer_2/mlp_layer_2/MatMul_grad/tuple/control_dependency&quot;\\n  op: &quot;Identity&quot;\\n  input: &quot;optimize/gradients_1/feature_loss/feature_projection/mlp_layer_2/mlp_layer_2/MatMul_grad/MatMul&quot;\\n  input: &quot;^optimize/gradients_1/feature_loss/feature_projection/mlp_layer_2/mlp_layer_2/MatMul_grad/tuple/group_deps&quot;\\n  attr {\\n    key: &quot;T&quot;\\n    value {\\n      type: DT_FLOAT\\n    }\\n  }\\n  attr {\\n    key: &quot;_class&quot;\\n    value {\\n      list {\\n        s: &quot;loc:@optimize/gradients_1/feature_loss/feature_projection/mlp_layer_2/mlp_layer_2/MatMul_grad/MatMul&quot;\\n      }\\n    }\\n  }\\n}\\nnode {\\n  name: &quot;optimize/gradients_1/feature_loss/feature_projection/mlp_layer_2/mlp_layer_2/MatMul_grad/tuple/control_dependency_1&quot;\\n  op: &quot;Identity&quot;\\n  input: &quot;optimize/gradients_1/feature_loss/feature_projection/mlp_layer_2/mlp_layer_2/MatMul_grad/MatMul_1&quot;\\n  input: &quot;^optimize/gradients_1/feature_loss/feature_projection/mlp_layer_2/mlp_layer_2/MatMul_grad/tuple/group_deps&quot;\\n  attr {\\n    key: &quot;T&quot;\\n    value {\\n      type: DT_FLOAT\\n    }\\n  }\\n  attr {\\n    key: &quot;_class&quot;\\n    value {\\n      list {\\n        s: &quot;loc:@optimize/gradients_1/feature_loss/feature_projection/mlp_layer_2/mlp_layer_2/MatMul_grad/MatMul_1&quot;\\n      }\\n    }\\n  }\\n}\\nnode {\\n  name: &quot;optimize/gradients_1/feature_loss/feature_projection/mlp_layer_2/mlp_layer_1/mlp_layer_1/Relu_grad/ReluGrad&quot;\\n  op: &quot;ReluGrad&quot;\\n  input: &quot;optimize/gradients_1/feature_loss/feature_projection/mlp_layer_2/mlp_layer_2/MatMul_grad/tuple/control_dependency&quot;\\n  input: &quot;feature_loss/feature_projection/mlp_layer_2/mlp_layer_1/mlp_layer_1/Relu&quot;\\n  attr {\\n    key: &quot;T&quot;\\n    value {\\n      type: DT_FLOAT\\n    }\\n  }\\n}\\nnode {\\n  name: &quot;optimize/gradients_1/feature_loss/feature_projection/mlp_layer_2/mlp_layer_1/mlp_layer_1/BiasAdd_grad/BiasAddGrad&quot;\\n  op: &quot;BiasAddGrad&quot;\\n  input: &quot;optimize/gradients_1/feature_loss/feature_projection/mlp_layer_2/mlp_layer_1/mlp_layer_1/Relu_grad/ReluGrad&quot;\\n  attr {\\n    key: &quot;T&quot;\\n    value {\\n      type: DT_FLOAT\\n    }\\n  }\\n  attr {\\n    key: &quot;data_format&quot;\\n    value {\\n      s: &quot;NHWC&quot;\\n    }\\n  }\\n}\\nnode {\\n  name: &quot;optimize/gradients_1/feature_loss/feature_projection/mlp_layer_2/mlp_layer_1/mlp_layer_1/BiasAdd_grad/tuple/group_deps&quot;\\n  op: &quot;NoOp&quot;\\n  input: &quot;^optimize/gradients_1/feature_loss/feature_projection/mlp_layer_2/mlp_layer_1/mlp_layer_1/BiasAdd_grad/BiasAddGrad&quot;\\n  input: &quot;^optimize/gradients_1/feature_loss/feature_projection/mlp_layer_2/mlp_layer_1/mlp_layer_1/Relu_grad/ReluGrad&quot;\\n}\\nnode {\\n  name: &quot;optimize/gradients_1/feature_loss/feature_projection/mlp_layer_2/mlp_layer_1/mlp_layer_1/BiasAdd_grad/tuple/control_dependency&quot;\\n  op: &quot;Identity&quot;\\n  input: &quot;optimize/gradients_1/feature_loss/feature_projection/mlp_layer_2/mlp_layer_1/mlp_layer_1/Relu_grad/ReluGrad&quot;\\n  input: &quot;^optimize/gradients_1/feature_loss/feature_projection/mlp_layer_2/mlp_layer_1/mlp_layer_1/BiasAdd_grad/tuple/group_deps&quot;\\n  attr {\\n    key: &quot;T&quot;\\n    value {\\n      type: DT_FLOAT\\n    }\\n  }\\n  attr {\\n    key: &quot;_class&quot;\\n    value {\\n      list {\\n        s: &quot;loc:@optimize/gradients_1/feature_loss/feature_projection/mlp_layer_2/mlp_layer_1/mlp_layer_1/Relu_grad/ReluGrad&quot;\\n      }\\n    }\\n  }\\n}\\nnode {\\n  name: &quot;optimize/gradients_1/feature_loss/feature_projection/mlp_layer_2/mlp_layer_1/mlp_layer_1/BiasAdd_grad/tuple/control_dependency_1&quot;\\n  op: &quot;Identity&quot;\\n  input: &quot;optimize/gradients_1/feature_loss/feature_projection/mlp_layer_2/mlp_layer_1/mlp_layer_1/BiasAdd_grad/BiasAddGrad&quot;\\n  input: &quot;^optimize/gradients_1/feature_loss/feature_projection/mlp_layer_2/mlp_layer_1/mlp_layer_1/BiasAdd_grad/tuple/group_deps&quot;\\n  attr {\\n    key: &quot;T&quot;\\n    value {\\n      type: DT_FLOAT\\n    }\\n  }\\n  attr {\\n    key: &quot;_class&quot;\\n    value {\\n      list {\\n        s: &quot;loc:@optimize/gradients_1/feature_loss/feature_projection/mlp_layer_2/mlp_layer_1/mlp_layer_1/BiasAdd_grad/BiasAddGrad&quot;\\n      }\\n    }\\n  }\\n}\\nnode {\\n  name: &quot;optimize/gradients_1/feature_loss/feature_projection/mlp_layer_2/mlp_layer_1/mlp_layer_1/MatMul_grad/MatMul&quot;\\n  op: &quot;MatMul&quot;\\n  input: &quot;optimize/gradients_1/feature_loss/feature_projection/mlp_layer_2/mlp_layer_1/mlp_layer_1/BiasAdd_grad/tuple/control_dependency&quot;\\n  input: &quot;feature_loss/feature_projection/mlp_layer_2/mlp_layer_1/mlp_layer_1/kernel/read&quot;\\n  attr {\\n    key: &quot;T&quot;\\n    value {\\n      type: DT_FLOAT\\n    }\\n  }\\n  attr {\\n    key: &quot;transpose_a&quot;\\n    value {\\n      b: false\\n    }\\n  }\\n  attr {\\n    key: &quot;transpose_b&quot;\\n    value {\\n      b: true\\n    }\\n  }\\n}\\nnode {\\n  name: &quot;optimize/gradients_1/feature_loss/feature_projection/mlp_layer_2/mlp_layer_1/mlp_layer_1/MatMul_grad/MatMul_1&quot;\\n  op: &quot;MatMul&quot;\\n  input: &quot;Const&quot;\\n  input: &quot;optimize/gradients_1/feature_loss/feature_projection/mlp_layer_2/mlp_layer_1/mlp_layer_1/BiasAdd_grad/tuple/control_dependency&quot;\\n  attr {\\n    key: &quot;T&quot;\\n    value {\\n      type: DT_FLOAT\\n    }\\n  }\\n  attr {\\n    key: &quot;transpose_a&quot;\\n    value {\\n      b: true\\n    }\\n  }\\n  attr {\\n    key: &quot;transpose_b&quot;\\n    value {\\n      b: false\\n    }\\n  }\\n}\\nnode {\\n  name: &quot;optimize/gradients_1/feature_loss/feature_projection/mlp_layer_2/mlp_layer_1/mlp_layer_1/MatMul_grad/tuple/group_deps&quot;\\n  op: &quot;NoOp&quot;\\n  input: &quot;^optimize/gradients_1/feature_loss/feature_projection/mlp_layer_2/mlp_layer_1/mlp_layer_1/MatMul_grad/MatMul&quot;\\n  input: &quot;^optimize/gradients_1/feature_loss/feature_projection/mlp_layer_2/mlp_layer_1/mlp_layer_1/MatMul_grad/MatMul_1&quot;\\n}\\nnode {\\n  name: &quot;optimize/gradients_1/feature_loss/feature_projection/mlp_layer_2/mlp_layer_1/mlp_layer_1/MatMul_grad/tuple/control_dependency&quot;\\n  op: &quot;Identity&quot;\\n  input: &quot;optimize/gradients_1/feature_loss/feature_projection/mlp_layer_2/mlp_layer_1/mlp_layer_1/MatMul_grad/MatMul&quot;\\n  input: &quot;^optimize/gradients_1/feature_loss/feature_projection/mlp_layer_2/mlp_layer_1/mlp_layer_1/MatMul_grad/tuple/group_deps&quot;\\n  attr {\\n    key: &quot;T&quot;\\n    value {\\n      type: DT_FLOAT\\n    }\\n  }\\n  attr {\\n    key: &quot;_class&quot;\\n    value {\\n      list {\\n        s: &quot;loc:@optimize/gradients_1/feature_loss/feature_projection/mlp_layer_2/mlp_layer_1/mlp_layer_1/MatMul_grad/MatMul&quot;\\n      }\\n    }\\n  }\\n}\\nnode {\\n  name: &quot;optimize/gradients_1/feature_loss/feature_projection/mlp_layer_2/mlp_layer_1/mlp_layer_1/MatMul_grad/tuple/control_dependency_1&quot;\\n  op: &quot;Identity&quot;\\n  input: &quot;optimize/gradients_1/feature_loss/feature_projection/mlp_layer_2/mlp_layer_1/mlp_layer_1/MatMul_grad/MatMul_1&quot;\\n  input: &quot;^optimize/gradients_1/feature_loss/feature_projection/mlp_layer_2/mlp_layer_1/mlp_layer_1/MatMul_grad/tuple/group_deps&quot;\\n  attr {\\n    key: &quot;T&quot;\\n    value {\\n      type: DT_FLOAT\\n    }\\n  }\\n  attr {\\n    key: &quot;_class&quot;\\n    value {\\n      list {\\n        s: &quot;loc:@optimize/gradients_1/feature_loss/feature_projection/mlp_layer_2/mlp_layer_1/mlp_layer_1/MatMul_grad/MatMul_1&quot;\\n      }\\n    }\\n  }\\n}\\nnode {\\n  name: &quot;optimize/beta1_power_1/initial_value&quot;\\n  op: &quot;Const&quot;\\n  attr {\\n    key: &quot;_class&quot;\\n    value {\\n      list {\\n        s: &quot;loc:@feature_loss/feature_projection/mlp_layer_2/mlp_layer_1/mlp_layer_1/bias&quot;\\n      }\\n    }\\n  }\\n  attr {\\n    key: &quot;dtype&quot;\\n    value {\\n      type: DT_FLOAT\\n    }\\n  }\\n  attr {\\n    key: &quot;value&quot;\\n    value {\\n      tensor {\\n        dtype: DT_FLOAT\\n        tensor_shape {\\n        }\\n        float_val: 0.8999999761581421\\n      }\\n    }\\n  }\\n}\\nnode {\\n  name: &quot;optimize/beta1_power_1&quot;\\n  op: &quot;VariableV2&quot;\\n  attr {\\n    key: &quot;_class&quot;\\n    value {\\n      list {\\n        s: &quot;loc:@feature_loss/feature_projection/mlp_layer_2/mlp_layer_1/mlp_layer_1/bias&quot;\\n      }\\n    }\\n  }\\n  attr {\\n    key: &quot;container&quot;\\n    value {\\n      s: &quot;&quot;\\n    }\\n  }\\n  attr {\\n    key: &quot;dtype&quot;\\n    value {\\n      type: DT_FLOAT\\n    }\\n  }\\n  attr {\\n    key: &quot;shape&quot;\\n    value {\\n      shape {\\n      }\\n    }\\n  }\\n  attr {\\n    key: &quot;shared_name&quot;\\n    value {\\n      s: &quot;&quot;\\n    }\\n  }\\n}\\nnode {\\n  name: &quot;optimize/beta1_power_1/Assign&quot;\\n  op: &quot;Assign&quot;\\n  input: &quot;optimize/beta1_power_1&quot;\\n  input: &quot;optimize/beta1_power_1/initial_value&quot;\\n  attr {\\n    key: &quot;T&quot;\\n    value {\\n      type: DT_FLOAT\\n    }\\n  }\\n  attr {\\n    key: &quot;_class&quot;\\n    value {\\n      list {\\n        s: &quot;loc:@feature_loss/feature_projection/mlp_layer_2/mlp_layer_1/mlp_layer_1/bias&quot;\\n      }\\n    }\\n  }\\n  attr {\\n    key: &quot;use_locking&quot;\\n    value {\\n      b: true\\n    }\\n  }\\n  attr {\\n    key: &quot;validate_shape&quot;\\n    value {\\n      b: true\\n    }\\n  }\\n}\\nnode {\\n  name: &quot;optimize/beta1_power_1/read&quot;\\n  op: &quot;Identity&quot;\\n  input: &quot;optimize/beta1_power_1&quot;\\n  attr {\\n    key: &quot;T&quot;\\n    value {\\n      type: DT_FLOAT\\n    }\\n  }\\n  attr {\\n    key: &quot;_class&quot;\\n    value {\\n      list {\\n        s: &quot;loc:@feature_loss/feature_projection/mlp_layer_2/mlp_layer_1/mlp_layer_1/bias&quot;\\n      }\\n    }\\n  }\\n}\\nnode {\\n  name: &quot;optimize/beta2_power_1/initial_value&quot;\\n  op: &quot;Const&quot;\\n  attr {\\n    key: &quot;_class&quot;\\n    value {\\n      list {\\n        s: &quot;loc:@feature_loss/feature_projection/mlp_layer_2/mlp_layer_1/mlp_layer_1/bias&quot;\\n      }\\n    }\\n  }\\n  attr {\\n    key: &quot;dtype&quot;\\n    value {\\n      type: DT_FLOAT\\n    }\\n  }\\n  attr {\\n    key: &quot;value&quot;\\n    value {\\n      tensor {\\n        dtype: DT_FLOAT\\n        tensor_shape {\\n        }\\n        float_val: 0.9990000128746033\\n      }\\n    }\\n  }\\n}\\nnode {\\n  name: &quot;optimize/beta2_power_1&quot;\\n  op: &quot;VariableV2&quot;\\n  attr {\\n    key: &quot;_class&quot;\\n    value {\\n      list {\\n        s: &quot;loc:@feature_loss/feature_projection/mlp_layer_2/mlp_layer_1/mlp_layer_1/bias&quot;\\n      }\\n    }\\n  }\\n  attr {\\n    key: &quot;container&quot;\\n    value {\\n      s: &quot;&quot;\\n    }\\n  }\\n  attr {\\n    key: &quot;dtype&quot;\\n    value {\\n      type: DT_FLOAT\\n    }\\n  }\\n  attr {\\n    key: &quot;shape&quot;\\n    value {\\n      shape {\\n      }\\n    }\\n  }\\n  attr {\\n    key: &quot;shared_name&quot;\\n    value {\\n      s: &quot;&quot;\\n    }\\n  }\\n}\\nnode {\\n  name: &quot;optimize/beta2_power_1/Assign&quot;\\n  op: &quot;Assign&quot;\\n  input: &quot;optimize/beta2_power_1&quot;\\n  input: &quot;optimize/beta2_power_1/initial_value&quot;\\n  attr {\\n    key: &quot;T&quot;\\n    value {\\n      type: DT_FLOAT\\n    }\\n  }\\n  attr {\\n    key: &quot;_class&quot;\\n    value {\\n      list {\\n        s: &quot;loc:@feature_loss/feature_projection/mlp_layer_2/mlp_layer_1/mlp_layer_1/bias&quot;\\n      }\\n    }\\n  }\\n  attr {\\n    key: &quot;use_locking&quot;\\n    value {\\n      b: true\\n    }\\n  }\\n  attr {\\n    key: &quot;validate_shape&quot;\\n    value {\\n      b: true\\n    }\\n  }\\n}\\nnode {\\n  name: &quot;optimize/beta2_power_1/read&quot;\\n  op: &quot;Identity&quot;\\n  input: &quot;optimize/beta2_power_1&quot;\\n  attr {\\n    key: &quot;T&quot;\\n    value {\\n      type: DT_FLOAT\\n    }\\n  }\\n  attr {\\n    key: &quot;_class&quot;\\n    value {\\n      list {\\n        s: &quot;loc:@feature_loss/feature_projection/mlp_layer_2/mlp_layer_1/mlp_layer_1/bias&quot;\\n      }\\n    }\\n  }\\n}\\nnode {\\n  name: &quot;optimize/item_embeddings/Variable/Adam_2/Initializer/zeros/shape_as_tensor&quot;\\n  op: &quot;Const&quot;\\n  attr {\\n    key: &quot;_class&quot;\\n    value {\\n      list {\\n        s: &quot;loc:@item_embeddings/Variable&quot;\\n      }\\n    }\\n  }\\n  attr {\\n    key: &quot;dtype&quot;\\n    value {\\n      type: DT_INT32\\n    }\\n  }\\n  attr {\\n    key: &quot;value&quot;\\n    value {\\n      tensor {\\n        dtype: DT_INT32\\n        tensor_shape {\\n          dim {\\n            size: 2\\n          }\\n        }\\n        tensor_content: &quot;we\\\\000\\\\000d\\\\000\\\\000\\\\000&quot;\\n      }\\n    }\\n  }\\n}\\nnode {\\n  name: &quot;optimize/item_embeddings/Variable/Adam_2/Initializer/zeros/Const&quot;\\n  op: &quot;Const&quot;\\n  attr {\\n    key: &quot;_class&quot;\\n    value {\\n      list {\\n        s: &quot;loc:@item_embeddings/Variable&quot;\\n      }\\n    }\\n  }\\n  attr {\\n    key: &quot;dtype&quot;\\n    value {\\n      type: DT_FLOAT\\n    }\\n  }\\n  attr {\\n    key: &quot;value&quot;\\n    value {\\n      tensor {\\n        dtype: DT_FLOAT\\n        tensor_shape {\\n        }\\n        float_val: 0.0\\n      }\\n    }\\n  }\\n}\\nnode {\\n  name: &quot;optimize/item_embeddings/Variable/Adam_2/Initializer/zeros&quot;\\n  op: &quot;Fill&quot;\\n  input: &quot;optimize/item_embeddings/Variable/Adam_2/Initializer/zeros/shape_as_tensor&quot;\\n  input: &quot;optimize/item_embeddings/Variable/Adam_2/Initializer/zeros/Const&quot;\\n  attr {\\n    key: &quot;T&quot;\\n    value {\\n      type: DT_FLOAT\\n    }\\n  }\\n  attr {\\n    key: &quot;_class&quot;\\n    value {\\n      list {\\n        s: &quot;loc:@item_embeddings/Variable&quot;\\n      }\\n    }\\n  }\\n  attr {\\n    key: &quot;index_type&quot;\\n    value {\\n      type: DT_INT32\\n    }\\n  }\\n}\\nnode {\\n  name: &quot;optimize/item_embeddings/Variable/Adam_2&quot;\\n  op: &quot;VariableV2&quot;\\n  attr {\\n    key: &quot;_class&quot;\\n    value {\\n      list {\\n        s: &quot;loc:@item_embeddings/Variable&quot;\\n      }\\n    }\\n  }\\n  attr {\\n    key: &quot;container&quot;\\n    value {\\n      s: &quot;&quot;\\n    }\\n  }\\n  attr {\\n    key: &quot;dtype&quot;\\n    value {\\n      type: DT_FLOAT\\n    }\\n  }\\n  attr {\\n    key: &quot;shape&quot;\\n    value {\\n      shape {\\n        dim {\\n          size: 25975\\n        }\\n        dim {\\n          size: 100\\n        }\\n      }\\n    }\\n  }\\n  attr {\\n    key: &quot;shared_name&quot;\\n    value {\\n      s: &quot;&quot;\\n    }\\n  }\\n}\\nnode {\\n  name: &quot;optimize/item_embeddings/Variable/Adam_2/Assign&quot;\\n  op: &quot;Assign&quot;\\n  input: &quot;optimize/item_embeddings/Variable/Adam_2&quot;\\n  input: &quot;optimize/item_embeddings/Variable/Adam_2/Initializer/zeros&quot;\\n  attr {\\n    key: &quot;T&quot;\\n    value {\\n      type: DT_FLOAT\\n    }\\n  }\\n  attr {\\n    key: &quot;_class&quot;\\n    value {\\n      list {\\n        s: &quot;loc:@item_embeddings/Variable&quot;\\n      }\\n    }\\n  }\\n  attr {\\n    key: &quot;use_locking&quot;\\n    value {\\n      b: true\\n    }\\n  }\\n  attr {\\n    key: &quot;validate_shape&quot;\\n    value {\\n      b: true\\n    }\\n  }\\n}\\nnode {\\n  name: &quot;optimize/item_embeddings/Variable/Adam_2/read&quot;\\n  op: &quot;Identity&quot;\\n  input: &quot;optimize/item_embeddings/Variable/Adam_2&quot;\\n  attr {\\n    key: &quot;T&quot;\\n    value {\\n      type: DT_FLOAT\\n    }\\n  }\\n  attr {\\n    key: &quot;_class&quot;\\n    value {\\n      list {\\n        s: &quot;loc:@item_embeddings/Variable&quot;\\n      }\\n    }\\n  }\\n}\\nnode {\\n  name: &quot;optimize/item_embeddings/Variable/Adam_3/Initializer/zeros/shape_as_tensor&quot;\\n  op: &quot;Const&quot;\\n  attr {\\n    key: &quot;_class&quot;\\n    value {\\n      list {\\n        s: &quot;loc:@item_embeddings/Variable&quot;\\n      }\\n    }\\n  }\\n  attr {\\n    key: &quot;dtype&quot;\\n    value {\\n      type: DT_INT32\\n    }\\n  }\\n  attr {\\n    key: &quot;value&quot;\\n    value {\\n      tensor {\\n        dtype: DT_INT32\\n        tensor_shape {\\n          dim {\\n            size: 2\\n          }\\n        }\\n        tensor_content: &quot;we\\\\000\\\\000d\\\\000\\\\000\\\\000&quot;\\n      }\\n    }\\n  }\\n}\\nnode {\\n  name: &quot;optimize/item_embeddings/Variable/Adam_3/Initializer/zeros/Const&quot;\\n  op: &quot;Const&quot;\\n  attr {\\n    key: &quot;_class&quot;\\n    value {\\n      list {\\n        s: &quot;loc:@item_embeddings/Variable&quot;\\n      }\\n    }\\n  }\\n  attr {\\n    key: &quot;dtype&quot;\\n    value {\\n      type: DT_FLOAT\\n    }\\n  }\\n  attr {\\n    key: &quot;value&quot;\\n    value {\\n      tensor {\\n        dtype: DT_FLOAT\\n        tensor_shape {\\n        }\\n        float_val: 0.0\\n      }\\n    }\\n  }\\n}\\nnode {\\n  name: &quot;optimize/item_embeddings/Variable/Adam_3/Initializer/zeros&quot;\\n  op: &quot;Fill&quot;\\n  input: &quot;optimize/item_embeddings/Variable/Adam_3/Initializer/zeros/shape_as_tensor&quot;\\n  input: &quot;optimize/item_embeddings/Variable/Adam_3/Initializer/zeros/Const&quot;\\n  attr {\\n    key: &quot;T&quot;\\n    value {\\n      type: DT_FLOAT\\n    }\\n  }\\n  attr {\\n    key: &quot;_class&quot;\\n    value {\\n      list {\\n        s: &quot;loc:@item_embeddings/Variable&quot;\\n      }\\n    }\\n  }\\n  attr {\\n    key: &quot;index_type&quot;\\n    value {\\n      type: DT_INT32\\n    }\\n  }\\n}\\nnode {\\n  name: &quot;optimize/item_embeddings/Variable/Adam_3&quot;\\n  op: &quot;VariableV2&quot;\\n  attr {\\n    key: &quot;_class&quot;\\n    value {\\n      list {\\n        s: &quot;loc:@item_embeddings/Variable&quot;\\n      }\\n    }\\n  }\\n  attr {\\n    key: &quot;container&quot;\\n    value {\\n      s: &quot;&quot;\\n    }\\n  }\\n  attr {\\n    key: &quot;dtype&quot;\\n    value {\\n      type: DT_FLOAT\\n    }\\n  }\\n  attr {\\n    key: &quot;shape&quot;\\n    value {\\n      shape {\\n        dim {\\n          size: 25975\\n        }\\n        dim {\\n          size: 100\\n        }\\n      }\\n    }\\n  }\\n  attr {\\n    key: &quot;shared_name&quot;\\n    value {\\n      s: &quot;&quot;\\n    }\\n  }\\n}\\nnode {\\n  name: &quot;optimize/item_embeddings/Variable/Adam_3/Assign&quot;\\n  op: &quot;Assign&quot;\\n  input: &quot;optimize/item_embeddings/Variable/Adam_3&quot;\\n  input: &quot;optimize/item_embeddings/Variable/Adam_3/Initializer/zeros&quot;\\n  attr {\\n    key: &quot;T&quot;\\n    value {\\n      type: DT_FLOAT\\n    }\\n  }\\n  attr {\\n    key: &quot;_class&quot;\\n    value {\\n      list {\\n        s: &quot;loc:@item_embeddings/Variable&quot;\\n      }\\n    }\\n  }\\n  attr {\\n    key: &quot;use_locking&quot;\\n    value {\\n      b: true\\n    }\\n  }\\n  attr {\\n    key: &quot;validate_shape&quot;\\n    value {\\n      b: true\\n    }\\n  }\\n}\\nnode {\\n  name: &quot;optimize/item_embeddings/Variable/Adam_3/read&quot;\\n  op: &quot;Identity&quot;\\n  input: &quot;optimize/item_embeddings/Variable/Adam_3&quot;\\n  attr {\\n    key: &quot;T&quot;\\n    value {\\n      type: DT_FLOAT\\n    }\\n  }\\n  attr {\\n    key: &quot;_class&quot;\\n    value {\\n      list {\\n        s: &quot;loc:@item_embeddings/Variable&quot;\\n      }\\n    }\\n  }\\n}\\nnode {\\n  name: &quot;optimize/feature_loss/feature_projection/mlp_layer_2/mlp_layer_1/mlp_layer_1/kernel/Adam/Initializer/zeros/shape_as_tensor&quot;\\n  op: &quot;Const&quot;\\n  attr {\\n    key: &quot;_class&quot;\\n    value {\\n      list {\\n        s: &quot;loc:@feature_loss/feature_projection/mlp_layer_2/mlp_layer_1/mlp_layer_1/kernel&quot;\\n      }\\n    }\\n  }\\n  attr {\\n    key: &quot;dtype&quot;\\n    value {\\n      type: DT_INT32\\n    }\\n  }\\n  attr {\\n    key: &quot;value&quot;\\n    value {\\n      tensor {\\n        dtype: DT_INT32\\n        tensor_shape {\\n          dim {\\n            size: 2\\n          }\\n        }\\n        tensor_content: &quot;w \\\\000\\\\000\\\\000\\\\002\\\\000\\\\000&quot;\\n      }\\n    }\\n  }\\n}\\nnode {\\n  name: &quot;optimize/feature_loss/feature_projection/mlp_layer_2/mlp_layer_1/mlp_layer_1/kernel/Adam/Initializer/zeros/Const&quot;\\n  op: &quot;Const&quot;\\n  attr {\\n    key: &quot;_class&quot;\\n    value {\\n      list {\\n        s: &quot;loc:@feature_loss/feature_projection/mlp_layer_2/mlp_layer_1/mlp_layer_1/kernel&quot;\\n      }\\n    }\\n  }\\n  attr {\\n    key: &quot;dtype&quot;\\n    value {\\n      type: DT_FLOAT\\n    }\\n  }\\n  attr {\\n    key: &quot;value&quot;\\n    value {\\n      tensor {\\n        dtype: DT_FLOAT\\n        tensor_shape {\\n        }\\n        float_val: 0.0\\n      }\\n    }\\n  }\\n}\\nnode {\\n  name: &quot;optimize/feature_loss/feature_projection/mlp_layer_2/mlp_layer_1/mlp_layer_1/kernel/Adam/Initializer/zeros&quot;\\n  op: &quot;Fill&quot;\\n  input: &quot;optimize/feature_loss/feature_projection/mlp_layer_2/mlp_layer_1/mlp_layer_1/kernel/Adam/Initializer/zeros/shape_as_tensor&quot;\\n  input: &quot;optimize/feature_loss/feature_projection/mlp_layer_2/mlp_layer_1/mlp_layer_1/kernel/Adam/Initializer/zeros/Const&quot;\\n  attr {\\n    key: &quot;T&quot;\\n    value {\\n      type: DT_FLOAT\\n    }\\n  }\\n  attr {\\n    key: &quot;_class&quot;\\n    value {\\n      list {\\n        s: &quot;loc:@feature_loss/feature_projection/mlp_layer_2/mlp_layer_1/mlp_layer_1/kernel&quot;\\n      }\\n    }\\n  }\\n  attr {\\n    key: &quot;index_type&quot;\\n    value {\\n      type: DT_INT32\\n    }\\n  }\\n}\\nnode {\\n  name: &quot;optimize/feature_loss/feature_projection/mlp_layer_2/mlp_layer_1/mlp_layer_1/kernel/Adam&quot;\\n  op: &quot;VariableV2&quot;\\n  attr {\\n    key: &quot;_class&quot;\\n    value {\\n      list {\\n        s: &quot;loc:@feature_loss/feature_projection/mlp_layer_2/mlp_layer_1/mlp_layer_1/kernel&quot;\\n      }\\n    }\\n  }\\n  attr {\\n    key: &quot;container&quot;\\n    value {\\n      s: &quot;&quot;\\n    }\\n  }\\n  attr {\\n    key: &quot;dtype&quot;\\n    value {\\n      type: DT_FLOAT\\n    }\\n  }\\n  attr {\\n    key: &quot;shape&quot;\\n    value {\\n      shape {\\n        dim {\\n          size: 8311\\n        }\\n        dim {\\n          size: 512\\n        }\\n      }\\n    }\\n  }\\n  attr {\\n    key: &quot;shared_name&quot;\\n    value {\\n      s: &quot;&quot;\\n    }\\n  }\\n}\\nnode {\\n  name: &quot;optimize/feature_loss/feature_projection/mlp_layer_2/mlp_layer_1/mlp_layer_1/kernel/Adam/Assign&quot;\\n  op: &quot;Assign&quot;\\n  input: &quot;optimize/feature_loss/feature_projection/mlp_layer_2/mlp_layer_1/mlp_layer_1/kernel/Adam&quot;\\n  input: &quot;optimize/feature_loss/feature_projection/mlp_layer_2/mlp_layer_1/mlp_layer_1/kernel/Adam/Initializer/zeros&quot;\\n  attr {\\n    key: &quot;T&quot;\\n    value {\\n      type: DT_FLOAT\\n    }\\n  }\\n  attr {\\n    key: &quot;_class&quot;\\n    value {\\n      list {\\n        s: &quot;loc:@feature_loss/feature_projection/mlp_layer_2/mlp_layer_1/mlp_layer_1/kernel&quot;\\n      }\\n    }\\n  }\\n  attr {\\n    key: &quot;use_locking&quot;\\n    value {\\n      b: true\\n    }\\n  }\\n  attr {\\n    key: &quot;validate_shape&quot;\\n    value {\\n      b: true\\n    }\\n  }\\n}\\nnode {\\n  name: &quot;optimize/feature_loss/feature_projection/mlp_layer_2/mlp_layer_1/mlp_layer_1/kernel/Adam/read&quot;\\n  op: &quot;Identity&quot;\\n  input: &quot;optimize/feature_loss/feature_projection/mlp_layer_2/mlp_layer_1/mlp_layer_1/kernel/Adam&quot;\\n  attr {\\n    key: &quot;T&quot;\\n    value {\\n      type: DT_FLOAT\\n    }\\n  }\\n  attr {\\n    key: &quot;_class&quot;\\n    value {\\n      list {\\n        s: &quot;loc:@feature_loss/feature_projection/mlp_layer_2/mlp_layer_1/mlp_layer_1/kernel&quot;\\n      }\\n    }\\n  }\\n}\\nnode {\\n  name: &quot;optimize/feature_loss/feature_projection/mlp_layer_2/mlp_layer_1/mlp_layer_1/kernel/Adam_1/Initializer/zeros/shape_as_tensor&quot;\\n  op: &quot;Const&quot;\\n  attr {\\n    key: &quot;_class&quot;\\n    value {\\n      list {\\n        s: &quot;loc:@feature_loss/feature_projection/mlp_layer_2/mlp_layer_1/mlp_layer_1/kernel&quot;\\n      }\\n    }\\n  }\\n  attr {\\n    key: &quot;dtype&quot;\\n    value {\\n      type: DT_INT32\\n    }\\n  }\\n  attr {\\n    key: &quot;value&quot;\\n    value {\\n      tensor {\\n        dtype: DT_INT32\\n        tensor_shape {\\n          dim {\\n            size: 2\\n          }\\n        }\\n        tensor_content: &quot;w \\\\000\\\\000\\\\000\\\\002\\\\000\\\\000&quot;\\n      }\\n    }\\n  }\\n}\\nnode {\\n  name: &quot;optimize/feature_loss/feature_projection/mlp_layer_2/mlp_layer_1/mlp_layer_1/kernel/Adam_1/Initializer/zeros/Const&quot;\\n  op: &quot;Const&quot;\\n  attr {\\n    key: &quot;_class&quot;\\n    value {\\n      list {\\n        s: &quot;loc:@feature_loss/feature_projection/mlp_layer_2/mlp_layer_1/mlp_layer_1/kernel&quot;\\n      }\\n    }\\n  }\\n  attr {\\n    key: &quot;dtype&quot;\\n    value {\\n      type: DT_FLOAT\\n    }\\n  }\\n  attr {\\n    key: &quot;value&quot;\\n    value {\\n      tensor {\\n        dtype: DT_FLOAT\\n        tensor_shape {\\n        }\\n        float_val: 0.0\\n      }\\n    }\\n  }\\n}\\nnode {\\n  name: &quot;optimize/feature_loss/feature_projection/mlp_layer_2/mlp_layer_1/mlp_layer_1/kernel/Adam_1/Initializer/zeros&quot;\\n  op: &quot;Fill&quot;\\n  input: &quot;optimize/feature_loss/feature_projection/mlp_layer_2/mlp_layer_1/mlp_layer_1/kernel/Adam_1/Initializer/zeros/shape_as_tensor&quot;\\n  input: &quot;optimize/feature_loss/feature_projection/mlp_layer_2/mlp_layer_1/mlp_layer_1/kernel/Adam_1/Initializer/zeros/Const&quot;\\n  attr {\\n    key: &quot;T&quot;\\n    value {\\n      type: DT_FLOAT\\n    }\\n  }\\n  attr {\\n    key: &quot;_class&quot;\\n    value {\\n      list {\\n        s: &quot;loc:@feature_loss/feature_projection/mlp_layer_2/mlp_layer_1/mlp_layer_1/kernel&quot;\\n      }\\n    }\\n  }\\n  attr {\\n    key: &quot;index_type&quot;\\n    value {\\n      type: DT_INT32\\n    }\\n  }\\n}\\nnode {\\n  name: &quot;optimize/feature_loss/feature_projection/mlp_layer_2/mlp_layer_1/mlp_layer_1/kernel/Adam_1&quot;\\n  op: &quot;VariableV2&quot;\\n  attr {\\n    key: &quot;_class&quot;\\n    value {\\n      list {\\n        s: &quot;loc:@feature_loss/feature_projection/mlp_layer_2/mlp_layer_1/mlp_layer_1/kernel&quot;\\n      }\\n    }\\n  }\\n  attr {\\n    key: &quot;container&quot;\\n    value {\\n      s: &quot;&quot;\\n    }\\n  }\\n  attr {\\n    key: &quot;dtype&quot;\\n    value {\\n      type: DT_FLOAT\\n    }\\n  }\\n  attr {\\n    key: &quot;shape&quot;\\n    value {\\n      shape {\\n        dim {\\n          size: 8311\\n        }\\n        dim {\\n          size: 512\\n        }\\n      }\\n    }\\n  }\\n  attr {\\n    key: &quot;shared_name&quot;\\n    value {\\n      s: &quot;&quot;\\n    }\\n  }\\n}\\nnode {\\n  name: &quot;optimize/feature_loss/feature_projection/mlp_layer_2/mlp_layer_1/mlp_layer_1/kernel/Adam_1/Assign&quot;\\n  op: &quot;Assign&quot;\\n  input: &quot;optimize/feature_loss/feature_projection/mlp_layer_2/mlp_layer_1/mlp_layer_1/kernel/Adam_1&quot;\\n  input: &quot;optimize/feature_loss/feature_projection/mlp_layer_2/mlp_layer_1/mlp_layer_1/kernel/Adam_1/Initializer/zeros&quot;\\n  attr {\\n    key: &quot;T&quot;\\n    value {\\n      type: DT_FLOAT\\n    }\\n  }\\n  attr {\\n    key: &quot;_class&quot;\\n    value {\\n      list {\\n        s: &quot;loc:@feature_loss/feature_projection/mlp_layer_2/mlp_layer_1/mlp_layer_1/kernel&quot;\\n      }\\n    }\\n  }\\n  attr {\\n    key: &quot;use_locking&quot;\\n    value {\\n      b: true\\n    }\\n  }\\n  attr {\\n    key: &quot;validate_shape&quot;\\n    value {\\n      b: true\\n    }\\n  }\\n}\\nnode {\\n  name: &quot;optimize/feature_loss/feature_projection/mlp_layer_2/mlp_layer_1/mlp_layer_1/kernel/Adam_1/read&quot;\\n  op: &quot;Identity&quot;\\n  input: &quot;optimize/feature_loss/feature_projection/mlp_layer_2/mlp_layer_1/mlp_layer_1/kernel/Adam_1&quot;\\n  attr {\\n    key: &quot;T&quot;\\n    value {\\n      type: DT_FLOAT\\n    }\\n  }\\n  attr {\\n    key: &quot;_class&quot;\\n    value {\\n      list {\\n        s: &quot;loc:@feature_loss/feature_projection/mlp_layer_2/mlp_layer_1/mlp_layer_1/kernel&quot;\\n      }\\n    }\\n  }\\n}\\nnode {\\n  name: &quot;optimize/feature_loss/feature_projection/mlp_layer_2/mlp_layer_1/mlp_layer_1/bias/Adam/Initializer/zeros&quot;\\n  op: &quot;Const&quot;\\n  attr {\\n    key: &quot;_class&quot;\\n    value {\\n      list {\\n        s: &quot;loc:@feature_loss/feature_projection/mlp_layer_2/mlp_layer_1/mlp_layer_1/bias&quot;\\n      }\\n    }\\n  }\\n  attr {\\n    key: &quot;dtype&quot;\\n    value {\\n      type: DT_FLOAT\\n    }\\n  }\\n  attr {\\n    key: &quot;value&quot;\\n    value {\\n      tensor {\\n        dtype: DT_FLOAT\\n        tensor_shape {\\n          dim {\\n            size: 512\\n          }\\n        }\\n        float_val: 0.0\\n      }\\n    }\\n  }\\n}\\nnode {\\n  name: &quot;optimize/feature_loss/feature_projection/mlp_layer_2/mlp_layer_1/mlp_layer_1/bias/Adam&quot;\\n  op: &quot;VariableV2&quot;\\n  attr {\\n    key: &quot;_class&quot;\\n    value {\\n      list {\\n        s: &quot;loc:@feature_loss/feature_projection/mlp_layer_2/mlp_layer_1/mlp_layer_1/bias&quot;\\n      }\\n    }\\n  }\\n  attr {\\n    key: &quot;container&quot;\\n    value {\\n      s: &quot;&quot;\\n    }\\n  }\\n  attr {\\n    key: &quot;dtype&quot;\\n    value {\\n      type: DT_FLOAT\\n    }\\n  }\\n  attr {\\n    key: &quot;shape&quot;\\n    value {\\n      shape {\\n        dim {\\n          size: 512\\n        }\\n      }\\n    }\\n  }\\n  attr {\\n    key: &quot;shared_name&quot;\\n    value {\\n      s: &quot;&quot;\\n    }\\n  }\\n}\\nnode {\\n  name: &quot;optimize/feature_loss/feature_projection/mlp_layer_2/mlp_layer_1/mlp_layer_1/bias/Adam/Assign&quot;\\n  op: &quot;Assign&quot;\\n  input: &quot;optimize/feature_loss/feature_projection/mlp_layer_2/mlp_layer_1/mlp_layer_1/bias/Adam&quot;\\n  input: &quot;optimize/feature_loss/feature_projection/mlp_layer_2/mlp_layer_1/mlp_layer_1/bias/Adam/Initializer/zeros&quot;\\n  attr {\\n    key: &quot;T&quot;\\n    value {\\n      type: DT_FLOAT\\n    }\\n  }\\n  attr {\\n    key: &quot;_class&quot;\\n    value {\\n      list {\\n        s: &quot;loc:@feature_loss/feature_projection/mlp_layer_2/mlp_layer_1/mlp_layer_1/bias&quot;\\n      }\\n    }\\n  }\\n  attr {\\n    key: &quot;use_locking&quot;\\n    value {\\n      b: true\\n    }\\n  }\\n  attr {\\n    key: &quot;validate_shape&quot;\\n    value {\\n      b: true\\n    }\\n  }\\n}\\nnode {\\n  name: &quot;optimize/feature_loss/feature_projection/mlp_layer_2/mlp_layer_1/mlp_layer_1/bias/Adam/read&quot;\\n  op: &quot;Identity&quot;\\n  input: &quot;optimize/feature_loss/feature_projection/mlp_layer_2/mlp_layer_1/mlp_layer_1/bias/Adam&quot;\\n  attr {\\n    key: &quot;T&quot;\\n    value {\\n      type: DT_FLOAT\\n    }\\n  }\\n  attr {\\n    key: &quot;_class&quot;\\n    value {\\n      list {\\n        s: &quot;loc:@feature_loss/feature_projection/mlp_layer_2/mlp_layer_1/mlp_layer_1/bias&quot;\\n      }\\n    }\\n  }\\n}\\nnode {\\n  name: &quot;optimize/feature_loss/feature_projection/mlp_layer_2/mlp_layer_1/mlp_layer_1/bias/Adam_1/Initializer/zeros&quot;\\n  op: &quot;Const&quot;\\n  attr {\\n    key: &quot;_class&quot;\\n    value {\\n      list {\\n        s: &quot;loc:@feature_loss/feature_projection/mlp_layer_2/mlp_layer_1/mlp_layer_1/bias&quot;\\n      }\\n    }\\n  }\\n  attr {\\n    key: &quot;dtype&quot;\\n    value {\\n      type: DT_FLOAT\\n    }\\n  }\\n  attr {\\n    key: &quot;value&quot;\\n    value {\\n      tensor {\\n        dtype: DT_FLOAT\\n        tensor_shape {\\n          dim {\\n            size: 512\\n          }\\n        }\\n        float_val: 0.0\\n      }\\n    }\\n  }\\n}\\nnode {\\n  name: &quot;optimize/feature_loss/feature_projection/mlp_layer_2/mlp_layer_1/mlp_layer_1/bias/Adam_1&quot;\\n  op: &quot;VariableV2&quot;\\n  attr {\\n    key: &quot;_class&quot;\\n    value {\\n      list {\\n        s: &quot;loc:@feature_loss/feature_projection/mlp_layer_2/mlp_layer_1/mlp_layer_1/bias&quot;\\n      }\\n    }\\n  }\\n  attr {\\n    key: &quot;container&quot;\\n    value {\\n      s: &quot;&quot;\\n    }\\n  }\\n  attr {\\n    key: &quot;dtype&quot;\\n    value {\\n      type: DT_FLOAT\\n    }\\n  }\\n  attr {\\n    key: &quot;shape&quot;\\n    value {\\n      shape {\\n        dim {\\n          size: 512\\n        }\\n      }\\n    }\\n  }\\n  attr {\\n    key: &quot;shared_name&quot;\\n    value {\\n      s: &quot;&quot;\\n    }\\n  }\\n}\\nnode {\\n  name: &quot;optimize/feature_loss/feature_projection/mlp_layer_2/mlp_layer_1/mlp_layer_1/bias/Adam_1/Assign&quot;\\n  op: &quot;Assign&quot;\\n  input: &quot;optimize/feature_loss/feature_projection/mlp_layer_2/mlp_layer_1/mlp_layer_1/bias/Adam_1&quot;\\n  input: &quot;optimize/feature_loss/feature_projection/mlp_layer_2/mlp_layer_1/mlp_layer_1/bias/Adam_1/Initializer/zeros&quot;\\n  attr {\\n    key: &quot;T&quot;\\n    value {\\n      type: DT_FLOAT\\n    }\\n  }\\n  attr {\\n    key: &quot;_class&quot;\\n    value {\\n      list {\\n        s: &quot;loc:@feature_loss/feature_projection/mlp_layer_2/mlp_layer_1/mlp_layer_1/bias&quot;\\n      }\\n    }\\n  }\\n  attr {\\n    key: &quot;use_locking&quot;\\n    value {\\n      b: true\\n    }\\n  }\\n  attr {\\n    key: &quot;validate_shape&quot;\\n    value {\\n      b: true\\n    }\\n  }\\n}\\nnode {\\n  name: &quot;optimize/feature_loss/feature_projection/mlp_layer_2/mlp_layer_1/mlp_layer_1/bias/Adam_1/read&quot;\\n  op: &quot;Identity&quot;\\n  input: &quot;optimize/feature_loss/feature_projection/mlp_layer_2/mlp_layer_1/mlp_layer_1/bias/Adam_1&quot;\\n  attr {\\n    key: &quot;T&quot;\\n    value {\\n      type: DT_FLOAT\\n    }\\n  }\\n  attr {\\n    key: &quot;_class&quot;\\n    value {\\n      list {\\n        s: &quot;loc:@feature_loss/feature_projection/mlp_layer_2/mlp_layer_1/mlp_layer_1/bias&quot;\\n      }\\n    }\\n  }\\n}\\nnode {\\n  name: &quot;optimize/feature_loss/feature_projection/mlp_layer_2/mlp_layer_2/kernel/Adam/Initializer/zeros/shape_as_tensor&quot;\\n  op: &quot;Const&quot;\\n  attr {\\n    key: &quot;_class&quot;\\n    value {\\n      list {\\n        s: &quot;loc:@feature_loss/feature_projection/mlp_layer_2/mlp_layer_2/kernel&quot;\\n      }\\n    }\\n  }\\n  attr {\\n    key: &quot;dtype&quot;\\n    value {\\n      type: DT_INT32\\n    }\\n  }\\n  attr {\\n    key: &quot;value&quot;\\n    value {\\n      tensor {\\n        dtype: DT_INT32\\n        tensor_shape {\\n          dim {\\n            size: 2\\n          }\\n        }\\n        tensor_content: &quot;\\\\000\\\\002\\\\000\\\\000d\\\\000\\\\000\\\\000&quot;\\n      }\\n    }\\n  }\\n}\\nnode {\\n  name: &quot;optimize/feature_loss/feature_projection/mlp_layer_2/mlp_layer_2/kernel/Adam/Initializer/zeros/Const&quot;\\n  op: &quot;Const&quot;\\n  attr {\\n    key: &quot;_class&quot;\\n    value {\\n      list {\\n        s: &quot;loc:@feature_loss/feature_projection/mlp_layer_2/mlp_layer_2/kernel&quot;\\n      }\\n    }\\n  }\\n  attr {\\n    key: &quot;dtype&quot;\\n    value {\\n      type: DT_FLOAT\\n    }\\n  }\\n  attr {\\n    key: &quot;value&quot;\\n    value {\\n      tensor {\\n        dtype: DT_FLOAT\\n        tensor_shape {\\n        }\\n        float_val: 0.0\\n      }\\n    }\\n  }\\n}\\nnode {\\n  name: &quot;optimize/feature_loss/feature_projection/mlp_layer_2/mlp_layer_2/kernel/Adam/Initializer/zeros&quot;\\n  op: &quot;Fill&quot;\\n  input: &quot;optimize/feature_loss/feature_projection/mlp_layer_2/mlp_layer_2/kernel/Adam/Initializer/zeros/shape_as_tensor&quot;\\n  input: &quot;optimize/feature_loss/feature_projection/mlp_layer_2/mlp_layer_2/kernel/Adam/Initializer/zeros/Const&quot;\\n  attr {\\n    key: &quot;T&quot;\\n    value {\\n      type: DT_FLOAT\\n    }\\n  }\\n  attr {\\n    key: &quot;_class&quot;\\n    value {\\n      list {\\n        s: &quot;loc:@feature_loss/feature_projection/mlp_layer_2/mlp_layer_2/kernel&quot;\\n      }\\n    }\\n  }\\n  attr {\\n    key: &quot;index_type&quot;\\n    value {\\n      type: DT_INT32\\n    }\\n  }\\n}\\nnode {\\n  name: &quot;optimize/feature_loss/feature_projection/mlp_layer_2/mlp_layer_2/kernel/Adam&quot;\\n  op: &quot;VariableV2&quot;\\n  attr {\\n    key: &quot;_class&quot;\\n    value {\\n      list {\\n        s: &quot;loc:@feature_loss/feature_projection/mlp_layer_2/mlp_layer_2/kernel&quot;\\n      }\\n    }\\n  }\\n  attr {\\n    key: &quot;container&quot;\\n    value {\\n      s: &quot;&quot;\\n    }\\n  }\\n  attr {\\n    key: &quot;dtype&quot;\\n    value {\\n      type: DT_FLOAT\\n    }\\n  }\\n  attr {\\n    key: &quot;shape&quot;\\n    value {\\n      shape {\\n        dim {\\n          size: 512\\n        }\\n        dim {\\n          size: 100\\n        }\\n      }\\n    }\\n  }\\n  attr {\\n    key: &quot;shared_name&quot;\\n    value {\\n      s: &quot;&quot;\\n    }\\n  }\\n}\\nnode {\\n  name: &quot;optimize/feature_loss/feature_projection/mlp_layer_2/mlp_layer_2/kernel/Adam/Assign&quot;\\n  op: &quot;Assign&quot;\\n  input: &quot;optimize/feature_loss/feature_projection/mlp_layer_2/mlp_layer_2/kernel/Adam&quot;\\n  input: &quot;optimize/feature_loss/feature_projection/mlp_layer_2/mlp_layer_2/kernel/Adam/Initializer/zeros&quot;\\n  attr {\\n    key: &quot;T&quot;\\n    value {\\n      type: DT_FLOAT\\n    }\\n  }\\n  attr {\\n    key: &quot;_class&quot;\\n    value {\\n      list {\\n        s: &quot;loc:@feature_loss/feature_projection/mlp_layer_2/mlp_layer_2/kernel&quot;\\n      }\\n    }\\n  }\\n  attr {\\n    key: &quot;use_locking&quot;\\n    value {\\n      b: true\\n    }\\n  }\\n  attr {\\n    key: &quot;validate_shape&quot;\\n    value {\\n      b: true\\n    }\\n  }\\n}\\nnode {\\n  name: &quot;optimize/feature_loss/feature_projection/mlp_layer_2/mlp_layer_2/kernel/Adam/read&quot;\\n  op: &quot;Identity&quot;\\n  input: &quot;optimize/feature_loss/feature_projection/mlp_layer_2/mlp_layer_2/kernel/Adam&quot;\\n  attr {\\n    key: &quot;T&quot;\\n    value {\\n      type: DT_FLOAT\\n    }\\n  }\\n  attr {\\n    key: &quot;_class&quot;\\n    value {\\n      list {\\n        s: &quot;loc:@feature_loss/feature_projection/mlp_layer_2/mlp_layer_2/kernel&quot;\\n      }\\n    }\\n  }\\n}\\nnode {\\n  name: &quot;optimize/feature_loss/feature_projection/mlp_layer_2/mlp_layer_2/kernel/Adam_1/Initializer/zeros/shape_as_tensor&quot;\\n  op: &quot;Const&quot;\\n  attr {\\n    key: &quot;_class&quot;\\n    value {\\n      list {\\n        s: &quot;loc:@feature_loss/feature_projection/mlp_layer_2/mlp_layer_2/kernel&quot;\\n      }\\n    }\\n  }\\n  attr {\\n    key: &quot;dtype&quot;\\n    value {\\n      type: DT_INT32\\n    }\\n  }\\n  attr {\\n    key: &quot;value&quot;\\n    value {\\n      tensor {\\n        dtype: DT_INT32\\n        tensor_shape {\\n          dim {\\n            size: 2\\n          }\\n        }\\n        tensor_content: &quot;\\\\000\\\\002\\\\000\\\\000d\\\\000\\\\000\\\\000&quot;\\n      }\\n    }\\n  }\\n}\\nnode {\\n  name: &quot;optimize/feature_loss/feature_projection/mlp_layer_2/mlp_layer_2/kernel/Adam_1/Initializer/zeros/Const&quot;\\n  op: &quot;Const&quot;\\n  attr {\\n    key: &quot;_class&quot;\\n    value {\\n      list {\\n        s: &quot;loc:@feature_loss/feature_projection/mlp_layer_2/mlp_layer_2/kernel&quot;\\n      }\\n    }\\n  }\\n  attr {\\n    key: &quot;dtype&quot;\\n    value {\\n      type: DT_FLOAT\\n    }\\n  }\\n  attr {\\n    key: &quot;value&quot;\\n    value {\\n      tensor {\\n        dtype: DT_FLOAT\\n        tensor_shape {\\n        }\\n        float_val: 0.0\\n      }\\n    }\\n  }\\n}\\nnode {\\n  name: &quot;optimize/feature_loss/feature_projection/mlp_layer_2/mlp_layer_2/kernel/Adam_1/Initializer/zeros&quot;\\n  op: &quot;Fill&quot;\\n  input: &quot;optimize/feature_loss/feature_projection/mlp_layer_2/mlp_layer_2/kernel/Adam_1/Initializer/zeros/shape_as_tensor&quot;\\n  input: &quot;optimize/feature_loss/feature_projection/mlp_layer_2/mlp_layer_2/kernel/Adam_1/Initializer/zeros/Const&quot;\\n  attr {\\n    key: &quot;T&quot;\\n    value {\\n      type: DT_FLOAT\\n    }\\n  }\\n  attr {\\n    key: &quot;_class&quot;\\n    value {\\n      list {\\n        s: &quot;loc:@feature_loss/feature_projection/mlp_layer_2/mlp_layer_2/kernel&quot;\\n      }\\n    }\\n  }\\n  attr {\\n    key: &quot;index_type&quot;\\n    value {\\n      type: DT_INT32\\n    }\\n  }\\n}\\nnode {\\n  name: &quot;optimize/feature_loss/feature_projection/mlp_layer_2/mlp_layer_2/kernel/Adam_1&quot;\\n  op: &quot;VariableV2&quot;\\n  attr {\\n    key: &quot;_class&quot;\\n    value {\\n      list {\\n        s: &quot;loc:@feature_loss/feature_projection/mlp_layer_2/mlp_layer_2/kernel&quot;\\n      }\\n    }\\n  }\\n  attr {\\n    key: &quot;container&quot;\\n    value {\\n      s: &quot;&quot;\\n    }\\n  }\\n  attr {\\n    key: &quot;dtype&quot;\\n    value {\\n      type: DT_FLOAT\\n    }\\n  }\\n  attr {\\n    key: &quot;shape&quot;\\n    value {\\n      shape {\\n        dim {\\n          size: 512\\n        }\\n        dim {\\n          size: 100\\n        }\\n      }\\n    }\\n  }\\n  attr {\\n    key: &quot;shared_name&quot;\\n    value {\\n      s: &quot;&quot;\\n    }\\n  }\\n}\\nnode {\\n  name: &quot;optimize/feature_loss/feature_projection/mlp_layer_2/mlp_layer_2/kernel/Adam_1/Assign&quot;\\n  op: &quot;Assign&quot;\\n  input: &quot;optimize/feature_loss/feature_projection/mlp_layer_2/mlp_layer_2/kernel/Adam_1&quot;\\n  input: &quot;optimize/feature_loss/feature_projection/mlp_layer_2/mlp_layer_2/kernel/Adam_1/Initializer/zeros&quot;\\n  attr {\\n    key: &quot;T&quot;\\n    value {\\n      type: DT_FLOAT\\n    }\\n  }\\n  attr {\\n    key: &quot;_class&quot;\\n    value {\\n      list {\\n        s: &quot;loc:@feature_loss/feature_projection/mlp_layer_2/mlp_layer_2/kernel&quot;\\n      }\\n    }\\n  }\\n  attr {\\n    key: &quot;use_locking&quot;\\n    value {\\n      b: true\\n    }\\n  }\\n  attr {\\n    key: &quot;validate_shape&quot;\\n    value {\\n      b: true\\n    }\\n  }\\n}\\nnode {\\n  name: &quot;optimize/feature_loss/feature_projection/mlp_layer_2/mlp_layer_2/kernel/Adam_1/read&quot;\\n  op: &quot;Identity&quot;\\n  input: &quot;optimize/feature_loss/feature_projection/mlp_layer_2/mlp_layer_2/kernel/Adam_1&quot;\\n  attr {\\n    key: &quot;T&quot;\\n    value {\\n      type: DT_FLOAT\\n    }\\n  }\\n  attr {\\n    key: &quot;_class&quot;\\n    value {\\n      list {\\n        s: &quot;loc:@feature_loss/feature_projection/mlp_layer_2/mlp_layer_2/kernel&quot;\\n      }\\n    }\\n  }\\n}\\nnode {\\n  name: &quot;optimize/feature_loss/feature_projection/mlp_layer_2/mlp_layer_2/bias/Adam/Initializer/zeros&quot;\\n  op: &quot;Const&quot;\\n  attr {\\n    key: &quot;_class&quot;\\n    value {\\n      list {\\n        s: &quot;loc:@feature_loss/feature_projection/mlp_layer_2/mlp_layer_2/bias&quot;\\n      }\\n    }\\n  }\\n  attr {\\n    key: &quot;dtype&quot;\\n    value {\\n      type: DT_FLOAT\\n    }\\n  }\\n  attr {\\n    key: &quot;value&quot;\\n    value {\\n      tensor {\\n        dtype: DT_FLOAT\\n        tensor_shape {\\n          dim {\\n            size: 100\\n          }\\n        }\\n        float_val: 0.0\\n      }\\n    }\\n  }\\n}\\nnode {\\n  name: &quot;optimize/feature_loss/feature_projection/mlp_layer_2/mlp_layer_2/bias/Adam&quot;\\n  op: &quot;VariableV2&quot;\\n  attr {\\n    key: &quot;_class&quot;\\n    value {\\n      list {\\n        s: &quot;loc:@feature_loss/feature_projection/mlp_layer_2/mlp_layer_2/bias&quot;\\n      }\\n    }\\n  }\\n  attr {\\n    key: &quot;container&quot;\\n    value {\\n      s: &quot;&quot;\\n    }\\n  }\\n  attr {\\n    key: &quot;dtype&quot;\\n    value {\\n      type: DT_FLOAT\\n    }\\n  }\\n  attr {\\n    key: &quot;shape&quot;\\n    value {\\n      shape {\\n        dim {\\n          size: 100\\n        }\\n      }\\n    }\\n  }\\n  attr {\\n    key: &quot;shared_name&quot;\\n    value {\\n      s: &quot;&quot;\\n    }\\n  }\\n}\\nnode {\\n  name: &quot;optimize/feature_loss/feature_projection/mlp_layer_2/mlp_layer_2/bias/Adam/Assign&quot;\\n  op: &quot;Assign&quot;\\n  input: &quot;optimize/feature_loss/feature_projection/mlp_layer_2/mlp_layer_2/bias/Adam&quot;\\n  input: &quot;optimize/feature_loss/feature_projection/mlp_layer_2/mlp_layer_2/bias/Adam/Initializer/zeros&quot;\\n  attr {\\n    key: &quot;T&quot;\\n    value {\\n      type: DT_FLOAT\\n    }\\n  }\\n  attr {\\n    key: &quot;_class&quot;\\n    value {\\n      list {\\n        s: &quot;loc:@feature_loss/feature_projection/mlp_layer_2/mlp_layer_2/bias&quot;\\n      }\\n    }\\n  }\\n  attr {\\n    key: &quot;use_locking&quot;\\n    value {\\n      b: true\\n    }\\n  }\\n  attr {\\n    key: &quot;validate_shape&quot;\\n    value {\\n      b: true\\n    }\\n  }\\n}\\nnode {\\n  name: &quot;optimize/feature_loss/feature_projection/mlp_layer_2/mlp_layer_2/bias/Adam/read&quot;\\n  op: &quot;Identity&quot;\\n  input: &quot;optimize/feature_loss/feature_projection/mlp_layer_2/mlp_layer_2/bias/Adam&quot;\\n  attr {\\n    key: &quot;T&quot;\\n    value {\\n      type: DT_FLOAT\\n    }\\n  }\\n  attr {\\n    key: &quot;_class&quot;\\n    value {\\n      list {\\n        s: &quot;loc:@feature_loss/feature_projection/mlp_layer_2/mlp_layer_2/bias&quot;\\n      }\\n    }\\n  }\\n}\\nnode {\\n  name: &quot;optimize/feature_loss/feature_projection/mlp_layer_2/mlp_layer_2/bias/Adam_1/Initializer/zeros&quot;\\n  op: &quot;Const&quot;\\n  attr {\\n    key: &quot;_class&quot;\\n    value {\\n      list {\\n        s: &quot;loc:@feature_loss/feature_projection/mlp_layer_2/mlp_layer_2/bias&quot;\\n      }\\n    }\\n  }\\n  attr {\\n    key: &quot;dtype&quot;\\n    value {\\n      type: DT_FLOAT\\n    }\\n  }\\n  attr {\\n    key: &quot;value&quot;\\n    value {\\n      tensor {\\n        dtype: DT_FLOAT\\n        tensor_shape {\\n          dim {\\n            size: 100\\n          }\\n        }\\n        float_val: 0.0\\n      }\\n    }\\n  }\\n}\\nnode {\\n  name: &quot;optimize/feature_loss/feature_projection/mlp_layer_2/mlp_layer_2/bias/Adam_1&quot;\\n  op: &quot;VariableV2&quot;\\n  attr {\\n    key: &quot;_class&quot;\\n    value {\\n      list {\\n        s: &quot;loc:@feature_loss/feature_projection/mlp_layer_2/mlp_layer_2/bias&quot;\\n      }\\n    }\\n  }\\n  attr {\\n    key: &quot;container&quot;\\n    value {\\n      s: &quot;&quot;\\n    }\\n  }\\n  attr {\\n    key: &quot;dtype&quot;\\n    value {\\n      type: DT_FLOAT\\n    }\\n  }\\n  attr {\\n    key: &quot;shape&quot;\\n    value {\\n      shape {\\n        dim {\\n          size: 100\\n        }\\n      }\\n    }\\n  }\\n  attr {\\n    key: &quot;shared_name&quot;\\n    value {\\n      s: &quot;&quot;\\n    }\\n  }\\n}\\nnode {\\n  name: &quot;optimize/feature_loss/feature_projection/mlp_layer_2/mlp_layer_2/bias/Adam_1/Assign&quot;\\n  op: &quot;Assign&quot;\\n  input: &quot;optimize/feature_loss/feature_projection/mlp_layer_2/mlp_layer_2/bias/Adam_1&quot;\\n  input: &quot;optimize/feature_loss/feature_projection/mlp_layer_2/mlp_layer_2/bias/Adam_1/Initializer/zeros&quot;\\n  attr {\\n    key: &quot;T&quot;\\n    value {\\n      type: DT_FLOAT\\n    }\\n  }\\n  attr {\\n    key: &quot;_class&quot;\\n    value {\\n      list {\\n        s: &quot;loc:@feature_loss/feature_projection/mlp_layer_2/mlp_layer_2/bias&quot;\\n      }\\n    }\\n  }\\n  attr {\\n    key: &quot;use_locking&quot;\\n    value {\\n      b: true\\n    }\\n  }\\n  attr {\\n    key: &quot;validate_shape&quot;\\n    value {\\n      b: true\\n    }\\n  }\\n}\\nnode {\\n  name: &quot;optimize/feature_loss/feature_projection/mlp_layer_2/mlp_layer_2/bias/Adam_1/read&quot;\\n  op: &quot;Identity&quot;\\n  input: &quot;optimize/feature_loss/feature_projection/mlp_layer_2/mlp_layer_2/bias/Adam_1&quot;\\n  attr {\\n    key: &quot;T&quot;\\n    value {\\n      type: DT_FLOAT\\n    }\\n  }\\n  attr {\\n    key: &quot;_class&quot;\\n    value {\\n      list {\\n        s: &quot;loc:@feature_loss/feature_projection/mlp_layer_2/mlp_layer_2/bias&quot;\\n      }\\n    }\\n  }\\n}\\nnode {\\n  name: &quot;optimize/Adam_1/learning_rate&quot;\\n  op: &quot;Const&quot;\\n  attr {\\n    key: &quot;dtype&quot;\\n    value {\\n      type: DT_FLOAT\\n    }\\n  }\\n  attr {\\n    key: &quot;value&quot;\\n    value {\\n      tensor {\\n        dtype: DT_FLOAT\\n        tensor_shape {\\n        }\\n        float_val: 0.0010000000474974513\\n      }\\n    }\\n  }\\n}\\nnode {\\n  name: &quot;optimize/Adam_1/beta1&quot;\\n  op: &quot;Const&quot;\\n  attr {\\n    key: &quot;dtype&quot;\\n    value {\\n      type: DT_FLOAT\\n    }\\n  }\\n  attr {\\n    key: &quot;value&quot;\\n    value {\\n      tensor {\\n        dtype: DT_FLOAT\\n        tensor_shape {\\n        }\\n        float_val: 0.8999999761581421\\n      }\\n    }\\n  }\\n}\\nnode {\\n  name: &quot;optimize/Adam_1/beta2&quot;\\n  op: &quot;Const&quot;\\n  attr {\\n    key: &quot;dtype&quot;\\n    value {\\n      type: DT_FLOAT\\n    }\\n  }\\n  attr {\\n    key: &quot;value&quot;\\n    value {\\n      tensor {\\n        dtype: DT_FLOAT\\n        tensor_shape {\\n        }\\n        float_val: 0.9990000128746033\\n      }\\n    }\\n  }\\n}\\nnode {\\n  name: &quot;optimize/Adam_1/epsilon&quot;\\n  op: &quot;Const&quot;\\n  attr {\\n    key: &quot;dtype&quot;\\n    value {\\n      type: DT_FLOAT\\n    }\\n  }\\n  attr {\\n    key: &quot;value&quot;\\n    value {\\n      tensor {\\n        dtype: DT_FLOAT\\n        tensor_shape {\\n        }\\n        float_val: 9.99999993922529e-09\\n      }\\n    }\\n  }\\n}\\nnode {\\n  name: &quot;optimize/Adam_1/update_item_embeddings/Variable/ApplyAdam&quot;\\n  op: &quot;ApplyAdam&quot;\\n  input: &quot;item_embeddings/Variable&quot;\\n  input: &quot;optimize/item_embeddings/Variable/Adam_2&quot;\\n  input: &quot;optimize/item_embeddings/Variable/Adam_3&quot;\\n  input: &quot;optimize/beta1_power_1/read&quot;\\n  input: &quot;optimize/beta2_power_1/read&quot;\\n  input: &quot;optimize/Adam_1/learning_rate&quot;\\n  input: &quot;optimize/Adam_1/beta1&quot;\\n  input: &quot;optimize/Adam_1/beta2&quot;\\n  input: &quot;optimize/Adam_1/epsilon&quot;\\n  input: &quot;optimize/gradients_1/feature_loss/SquaredDifference_grad/tuple/control_dependency&quot;\\n  attr {\\n    key: &quot;T&quot;\\n    value {\\n      type: DT_FLOAT\\n    }\\n  }\\n  attr {\\n    key: &quot;_class&quot;\\n    value {\\n      list {\\n        s: &quot;loc:@item_embeddings/Variable&quot;\\n      }\\n    }\\n  }\\n  attr {\\n    key: &quot;use_locking&quot;\\n    value {\\n      b: false\\n    }\\n  }\\n  attr {\\n    key: &quot;use_nesterov&quot;\\n    value {\\n      b: false\\n    }\\n  }\\n}\\nnode {\\n  name: &quot;optimize/Adam_1/update_feature_loss/feature_projection/mlp_layer_2/mlp_layer_1/mlp_layer_1/kernel/ApplyAdam&quot;\\n  op: &quot;ApplyAdam&quot;\\n  input: &quot;feature_loss/feature_projection/mlp_layer_2/mlp_layer_1/mlp_layer_1/kernel&quot;\\n  input: &quot;optimize/feature_loss/feature_projection/mlp_layer_2/mlp_layer_1/mlp_layer_1/kernel/Adam&quot;\\n  input: &quot;optimize/feature_loss/feature_projection/mlp_layer_2/mlp_layer_1/mlp_layer_1/kernel/Adam_1&quot;\\n  input: &quot;optimize/beta1_power_1/read&quot;\\n  input: &quot;optimize/beta2_power_1/read&quot;\\n  input: &quot;optimize/Adam_1/learning_rate&quot;\\n  input: &quot;optimize/Adam_1/beta1&quot;\\n  input: &quot;optimize/Adam_1/beta2&quot;\\n  input: &quot;optimize/Adam_1/epsilon&quot;\\n  input: &quot;optimize/gradients_1/feature_loss/feature_projection/mlp_layer_2/mlp_layer_1/mlp_layer_1/MatMul_grad/tuple/control_dependency_1&quot;\\n  attr {\\n    key: &quot;T&quot;\\n    value {\\n      type: DT_FLOAT\\n    }\\n  }\\n  attr {\\n    key: &quot;_class&quot;\\n    value {\\n      list {\\n        s: &quot;loc:@feature_loss/feature_projection/mlp_layer_2/mlp_layer_1/mlp_layer_1/kernel&quot;\\n      }\\n    }\\n  }\\n  attr {\\n    key: &quot;use_locking&quot;\\n    value {\\n      b: false\\n    }\\n  }\\n  attr {\\n    key: &quot;use_nesterov&quot;\\n    value {\\n      b: false\\n    }\\n  }\\n}\\nnode {\\n  name: &quot;optimize/Adam_1/update_feature_loss/feature_projection/mlp_layer_2/mlp_layer_1/mlp_layer_1/bias/ApplyAdam&quot;\\n  op: &quot;ApplyAdam&quot;\\n  input: &quot;feature_loss/feature_projection/mlp_layer_2/mlp_layer_1/mlp_layer_1/bias&quot;\\n  input: &quot;optimize/feature_loss/feature_projection/mlp_layer_2/mlp_layer_1/mlp_layer_1/bias/Adam&quot;\\n  input: &quot;optimize/feature_loss/feature_projection/mlp_layer_2/mlp_layer_1/mlp_layer_1/bias/Adam_1&quot;\\n  input: &quot;optimize/beta1_power_1/read&quot;\\n  input: &quot;optimize/beta2_power_1/read&quot;\\n  input: &quot;optimize/Adam_1/learning_rate&quot;\\n  input: &quot;optimize/Adam_1/beta1&quot;\\n  input: &quot;optimize/Adam_1/beta2&quot;\\n  input: &quot;optimize/Adam_1/epsilon&quot;\\n  input: &quot;optimize/gradients_1/feature_loss/feature_projection/mlp_layer_2/mlp_layer_1/mlp_layer_1/BiasAdd_grad/tuple/control_dependency_1&quot;\\n  attr {\\n    key: &quot;T&quot;\\n    value {\\n      type: DT_FLOAT\\n    }\\n  }\\n  attr {\\n    key: &quot;_class&quot;\\n    value {\\n      list {\\n        s: &quot;loc:@feature_loss/feature_projection/mlp_layer_2/mlp_layer_1/mlp_layer_1/bias&quot;\\n      }\\n    }\\n  }\\n  attr {\\n    key: &quot;use_locking&quot;\\n    value {\\n      b: false\\n    }\\n  }\\n  attr {\\n    key: &quot;use_nesterov&quot;\\n    value {\\n      b: false\\n    }\\n  }\\n}\\nnode {\\n  name: &quot;optimize/Adam_1/update_feature_loss/feature_projection/mlp_layer_2/mlp_layer_2/kernel/ApplyAdam&quot;\\n  op: &quot;ApplyAdam&quot;\\n  input: &quot;feature_loss/feature_projection/mlp_layer_2/mlp_layer_2/kernel&quot;\\n  input: &quot;optimize/feature_loss/feature_projection/mlp_layer_2/mlp_layer_2/kernel/Adam&quot;\\n  input: &quot;optimize/feature_loss/feature_projection/mlp_layer_2/mlp_layer_2/kernel/Adam_1&quot;\\n  input: &quot;optimize/beta1_power_1/read&quot;\\n  input: &quot;optimize/beta2_power_1/read&quot;\\n  input: &quot;optimize/Adam_1/learning_rate&quot;\\n  input: &quot;optimize/Adam_1/beta1&quot;\\n  input: &quot;optimize/Adam_1/beta2&quot;\\n  input: &quot;optimize/Adam_1/epsilon&quot;\\n  input: &quot;optimize/gradients_1/feature_loss/feature_projection/mlp_layer_2/mlp_layer_2/MatMul_grad/tuple/control_dependency_1&quot;\\n  attr {\\n    key: &quot;T&quot;\\n    value {\\n      type: DT_FLOAT\\n    }\\n  }\\n  attr {\\n    key: &quot;_class&quot;\\n    value {\\n      list {\\n        s: &quot;loc:@feature_loss/feature_projection/mlp_layer_2/mlp_layer_2/kernel&quot;\\n      }\\n    }\\n  }\\n  attr {\\n    key: &quot;use_locking&quot;\\n    value {\\n      b: false\\n    }\\n  }\\n  attr {\\n    key: &quot;use_nesterov&quot;\\n    value {\\n      b: false\\n    }\\n  }\\n}\\nnode {\\n  name: &quot;optimize/Adam_1/update_feature_loss/feature_projection/mlp_layer_2/mlp_layer_2/bias/ApplyAdam&quot;\\n  op: &quot;ApplyAdam&quot;\\n  input: &quot;feature_loss/feature_projection/mlp_layer_2/mlp_layer_2/bias&quot;\\n  input: &quot;optimize/feature_loss/feature_projection/mlp_layer_2/mlp_layer_2/bias/Adam&quot;\\n  input: &quot;optimize/feature_loss/feature_projection/mlp_layer_2/mlp_layer_2/bias/Adam_1&quot;\\n  input: &quot;optimize/beta1_power_1/read&quot;\\n  input: &quot;optimize/beta2_power_1/read&quot;\\n  input: &quot;optimize/Adam_1/learning_rate&quot;\\n  input: &quot;optimize/Adam_1/beta1&quot;\\n  input: &quot;optimize/Adam_1/beta2&quot;\\n  input: &quot;optimize/Adam_1/epsilon&quot;\\n  input: &quot;optimize/gradients_1/feature_loss/feature_projection/mlp_layer_2/mlp_layer_2/BiasAdd_grad/tuple/control_dependency_1&quot;\\n  attr {\\n    key: &quot;T&quot;\\n    value {\\n      type: DT_FLOAT\\n    }\\n  }\\n  attr {\\n    key: &quot;_class&quot;\\n    value {\\n      list {\\n        s: &quot;loc:@feature_loss/feature_projection/mlp_layer_2/mlp_layer_2/bias&quot;\\n      }\\n    }\\n  }\\n  attr {\\n    key: &quot;use_locking&quot;\\n    value {\\n      b: false\\n    }\\n  }\\n  attr {\\n    key: &quot;use_nesterov&quot;\\n    value {\\n      b: false\\n    }\\n  }\\n}\\nnode {\\n  name: &quot;optimize/Adam_1/mul&quot;\\n  op: &quot;Mul&quot;\\n  input: &quot;optimize/beta1_power_1/read&quot;\\n  input: &quot;optimize/Adam_1/beta1&quot;\\n  input: &quot;^optimize/Adam_1/update_feature_loss/feature_projection/mlp_layer_2/mlp_layer_1/mlp_layer_1/bias/ApplyAdam&quot;\\n  input: &quot;^optimize/Adam_1/update_feature_loss/feature_projection/mlp_layer_2/mlp_layer_1/mlp_layer_1/kernel/ApplyAdam&quot;\\n  input: &quot;^optimize/Adam_1/update_feature_loss/feature_projection/mlp_layer_2/mlp_layer_2/bias/ApplyAdam&quot;\\n  input: &quot;^optimize/Adam_1/update_feature_loss/feature_projection/mlp_layer_2/mlp_layer_2/kernel/ApplyAdam&quot;\\n  input: &quot;^optimize/Adam_1/update_item_embeddings/Variable/ApplyAdam&quot;\\n  attr {\\n    key: &quot;T&quot;\\n    value {\\n      type: DT_FLOAT\\n    }\\n  }\\n  attr {\\n    key: &quot;_class&quot;\\n    value {\\n      list {\\n        s: &quot;loc:@feature_loss/feature_projection/mlp_layer_2/mlp_layer_1/mlp_layer_1/bias&quot;\\n      }\\n    }\\n  }\\n}\\nnode {\\n  name: &quot;optimize/Adam_1/Assign&quot;\\n  op: &quot;Assign&quot;\\n  input: &quot;optimize/beta1_power_1&quot;\\n  input: &quot;optimize/Adam_1/mul&quot;\\n  attr {\\n    key: &quot;T&quot;\\n    value {\\n      type: DT_FLOAT\\n    }\\n  }\\n  attr {\\n    key: &quot;_class&quot;\\n    value {\\n      list {\\n        s: &quot;loc:@feature_loss/feature_projection/mlp_layer_2/mlp_layer_1/mlp_layer_1/bias&quot;\\n      }\\n    }\\n  }\\n  attr {\\n    key: &quot;use_locking&quot;\\n    value {\\n      b: false\\n    }\\n  }\\n  attr {\\n    key: &quot;validate_shape&quot;\\n    value {\\n      b: true\\n    }\\n  }\\n}\\nnode {\\n  name: &quot;optimize/Adam_1/mul_1&quot;\\n  op: &quot;Mul&quot;\\n  input: &quot;optimize/beta2_power_1/read&quot;\\n  input: &quot;optimize/Adam_1/beta2&quot;\\n  input: &quot;^optimize/Adam_1/update_feature_loss/feature_projection/mlp_layer_2/mlp_layer_1/mlp_layer_1/bias/ApplyAdam&quot;\\n  input: &quot;^optimize/Adam_1/update_feature_loss/feature_projection/mlp_layer_2/mlp_layer_1/mlp_layer_1/kernel/ApplyAdam&quot;\\n  input: &quot;^optimize/Adam_1/update_feature_loss/feature_projection/mlp_layer_2/mlp_layer_2/bias/ApplyAdam&quot;\\n  input: &quot;^optimize/Adam_1/update_feature_loss/feature_projection/mlp_layer_2/mlp_layer_2/kernel/ApplyAdam&quot;\\n  input: &quot;^optimize/Adam_1/update_item_embeddings/Variable/ApplyAdam&quot;\\n  attr {\\n    key: &quot;T&quot;\\n    value {\\n      type: DT_FLOAT\\n    }\\n  }\\n  attr {\\n    key: &quot;_class&quot;\\n    value {\\n      list {\\n        s: &quot;loc:@feature_loss/feature_projection/mlp_layer_2/mlp_layer_1/mlp_layer_1/bias&quot;\\n      }\\n    }\\n  }\\n}\\nnode {\\n  name: &quot;optimize/Adam_1/Assign_1&quot;\\n  op: &quot;Assign&quot;\\n  input: &quot;optimize/beta2_power_1&quot;\\n  input: &quot;optimize/Adam_1/mul_1&quot;\\n  attr {\\n    key: &quot;T&quot;\\n    value {\\n      type: DT_FLOAT\\n    }\\n  }\\n  attr {\\n    key: &quot;_class&quot;\\n    value {\\n      list {\\n        s: &quot;loc:@feature_loss/feature_projection/mlp_layer_2/mlp_layer_1/mlp_layer_1/bias&quot;\\n      }\\n    }\\n  }\\n  attr {\\n    key: &quot;use_locking&quot;\\n    value {\\n      b: false\\n    }\\n  }\\n  attr {\\n    key: &quot;validate_shape&quot;\\n    value {\\n      b: true\\n    }\\n  }\\n}\\nnode {\\n  name: &quot;optimize/Adam_1&quot;\\n  op: &quot;NoOp&quot;\\n  input: &quot;^optimize/Adam_1/Assign&quot;\\n  input: &quot;^optimize/Adam_1/Assign_1&quot;\\n  input: &quot;^optimize/Adam_1/update_feature_loss/feature_projection/mlp_layer_2/mlp_layer_1/mlp_layer_1/bias/ApplyAdam&quot;\\n  input: &quot;^optimize/Adam_1/update_feature_loss/feature_projection/mlp_layer_2/mlp_layer_1/mlp_layer_1/kernel/ApplyAdam&quot;\\n  input: &quot;^optimize/Adam_1/update_feature_loss/feature_projection/mlp_layer_2/mlp_layer_2/bias/ApplyAdam&quot;\\n  input: &quot;^optimize/Adam_1/update_feature_loss/feature_projection/mlp_layer_2/mlp_layer_2/kernel/ApplyAdam&quot;\\n  input: &quot;^optimize/Adam_1/update_item_embeddings/Variable/ApplyAdam&quot;\\n}\\nnode {\\n  name: &quot;optimize/clip_by_norm_op/clip_by_norm/mul&quot;\\n  op: &quot;Mul&quot;\\n  input: &quot;user_embeddings/Variable/read&quot;\\n  input: &quot;user_embeddings/Variable/read&quot;\\n  input: &quot;^optimize/Adam&quot;\\n  input: &quot;^optimize/Adam_1&quot;\\n  attr {\\n    key: &quot;T&quot;\\n    value {\\n      type: DT_FLOAT\\n    }\\n  }\\n}\\nnode {\\n  name: &quot;optimize/clip_by_norm_op/clip_by_norm/Sum/reduction_indices&quot;\\n  op: &quot;Const&quot;\\n  input: &quot;^optimize/Adam&quot;\\n  input: &quot;^optimize/Adam_1&quot;\\n  attr {\\n    key: &quot;dtype&quot;\\n    value {\\n      type: DT_INT32\\n    }\\n  }\\n  attr {\\n    key: &quot;value&quot;\\n    value {\\n      tensor {\\n        dtype: DT_INT32\\n        tensor_shape {\\n          dim {\\n            size: 1\\n          }\\n        }\\n        int_val: 1\\n      }\\n    }\\n  }\\n}\\nnode {\\n  name: &quot;optimize/clip_by_norm_op/clip_by_norm/Sum&quot;\\n  op: &quot;Sum&quot;\\n  input: &quot;optimize/clip_by_norm_op/clip_by_norm/mul&quot;\\n  input: &quot;optimize/clip_by_norm_op/clip_by_norm/Sum/reduction_indices&quot;\\n  attr {\\n    key: &quot;T&quot;\\n    value {\\n      type: DT_FLOAT\\n    }\\n  }\\n  attr {\\n    key: &quot;Tidx&quot;\\n    value {\\n      type: DT_INT32\\n    }\\n  }\\n  attr {\\n    key: &quot;keep_dims&quot;\\n    value {\\n      b: true\\n    }\\n  }\\n}\\nnode {\\n  name: &quot;optimize/clip_by_norm_op/clip_by_norm/Greater/y&quot;\\n  op: &quot;Const&quot;\\n  input: &quot;^optimize/Adam&quot;\\n  input: &quot;^optimize/Adam_1&quot;\\n  attr {\\n    key: &quot;dtype&quot;\\n    value {\\n      type: DT_FLOAT\\n    }\\n  }\\n  attr {\\n    key: &quot;value&quot;\\n    value {\\n      tensor {\\n        dtype: DT_FLOAT\\n        tensor_shape {\\n        }\\n        float_val: 0.0\\n      }\\n    }\\n  }\\n}\\nnode {\\n  name: &quot;optimize/clip_by_norm_op/clip_by_norm/Greater&quot;\\n  op: &quot;Greater&quot;\\n  input: &quot;optimize/clip_by_norm_op/clip_by_norm/Sum&quot;\\n  input: &quot;optimize/clip_by_norm_op/clip_by_norm/Greater/y&quot;\\n  attr {\\n    key: &quot;T&quot;\\n    value {\\n      type: DT_FLOAT\\n    }\\n  }\\n}\\nnode {\\n  name: &quot;optimize/clip_by_norm_op/clip_by_norm/ones_like/Shape&quot;\\n  op: &quot;Const&quot;\\n  input: &quot;^optimize/Adam&quot;\\n  input: &quot;^optimize/Adam_1&quot;\\n  attr {\\n    key: &quot;dtype&quot;\\n    value {\\n      type: DT_INT32\\n    }\\n  }\\n  attr {\\n    key: &quot;value&quot;\\n    value {\\n      tensor {\\n        dtype: DT_INT32\\n        tensor_shape {\\n          dim {\\n            size: 2\\n          }\\n        }\\n        tensor_content: &quot;\\\\013\\\\037\\\\000\\\\000\\\\001\\\\000\\\\000\\\\000&quot;\\n      }\\n    }\\n  }\\n}\\nnode {\\n  name: &quot;optimize/clip_by_norm_op/clip_by_norm/ones_like/Const&quot;\\n  op: &quot;Const&quot;\\n  input: &quot;^optimize/Adam&quot;\\n  input: &quot;^optimize/Adam_1&quot;\\n  attr {\\n    key: &quot;dtype&quot;\\n    value {\\n      type: DT_FLOAT\\n    }\\n  }\\n  attr {\\n    key: &quot;value&quot;\\n    value {\\n      tensor {\\n        dtype: DT_FLOAT\\n        tensor_shape {\\n        }\\n        float_val: 1.0\\n      }\\n    }\\n  }\\n}\\nnode {\\n  name: &quot;optimize/clip_by_norm_op/clip_by_norm/ones_like&quot;\\n  op: &quot;Fill&quot;\\n  input: &quot;optimize/clip_by_norm_op/clip_by_norm/ones_like/Shape&quot;\\n  input: &quot;optimize/clip_by_norm_op/clip_by_norm/ones_like/Const&quot;\\n  attr {\\n    key: &quot;T&quot;\\n    value {\\n      type: DT_FLOAT\\n    }\\n  }\\n  attr {\\n    key: &quot;index_type&quot;\\n    value {\\n      type: DT_INT32\\n    }\\n  }\\n}\\nnode {\\n  name: &quot;optimize/clip_by_norm_op/clip_by_norm/Select&quot;\\n  op: &quot;Select&quot;\\n  input: &quot;optimize/clip_by_norm_op/clip_by_norm/Greater&quot;\\n  input: &quot;optimize/clip_by_norm_op/clip_by_norm/Sum&quot;\\n  input: &quot;optimize/clip_by_norm_op/clip_by_norm/ones_like&quot;\\n  attr {\\n    key: &quot;T&quot;\\n    value {\\n      type: DT_FLOAT\\n    }\\n  }\\n}\\nnode {\\n  name: &quot;optimize/clip_by_norm_op/clip_by_norm/Sqrt&quot;\\n  op: &quot;Sqrt&quot;\\n  input: &quot;optimize/clip_by_norm_op/clip_by_norm/Select&quot;\\n  attr {\\n    key: &quot;T&quot;\\n    value {\\n      type: DT_FLOAT\\n    }\\n  }\\n}\\nnode {\\n  name: &quot;optimize/clip_by_norm_op/clip_by_norm/Select_1&quot;\\n  op: &quot;Select&quot;\\n  input: &quot;optimize/clip_by_norm_op/clip_by_norm/Greater&quot;\\n  input: &quot;optimize/clip_by_norm_op/clip_by_norm/Sqrt&quot;\\n  input: &quot;optimize/clip_by_norm_op/clip_by_norm/Sum&quot;\\n  attr {\\n    key: &quot;T&quot;\\n    value {\\n      type: DT_FLOAT\\n    }\\n  }\\n}\\nnode {\\n  name: &quot;optimize/clip_by_norm_op/clip_by_norm/mul_1/y&quot;\\n  op: &quot;Const&quot;\\n  input: &quot;^optimize/Adam&quot;\\n  input: &quot;^optimize/Adam_1&quot;\\n  attr {\\n    key: &quot;dtype&quot;\\n    value {\\n      type: DT_FLOAT\\n    }\\n  }\\n  attr {\\n    key: &quot;value&quot;\\n    value {\\n      tensor {\\n        dtype: DT_FLOAT\\n        tensor_shape {\\n        }\\n        float_val: 1.100000023841858\\n      }\\n    }\\n  }\\n}\\nnode {\\n  name: &quot;optimize/clip_by_norm_op/clip_by_norm/mul_1&quot;\\n  op: &quot;Mul&quot;\\n  input: &quot;user_embeddings/Variable/read&quot;\\n  input: &quot;optimize/clip_by_norm_op/clip_by_norm/mul_1/y&quot;\\n  attr {\\n    key: &quot;T&quot;\\n    value {\\n      type: DT_FLOAT\\n    }\\n  }\\n}\\nnode {\\n  name: &quot;optimize/clip_by_norm_op/clip_by_norm/Maximum/y&quot;\\n  op: &quot;Const&quot;\\n  input: &quot;^optimize/Adam&quot;\\n  input: &quot;^optimize/Adam_1&quot;\\n  attr {\\n    key: &quot;dtype&quot;\\n    value {\\n      type: DT_FLOAT\\n    }\\n  }\\n  attr {\\n    key: &quot;value&quot;\\n    value {\\n      tensor {\\n        dtype: DT_FLOAT\\n        tensor_shape {\\n        }\\n        float_val: 1.100000023841858\\n      }\\n    }\\n  }\\n}\\nnode {\\n  name: &quot;optimize/clip_by_norm_op/clip_by_norm/Maximum&quot;\\n  op: &quot;Maximum&quot;\\n  input: &quot;optimize/clip_by_norm_op/clip_by_norm/Select_1&quot;\\n  input: &quot;optimize/clip_by_norm_op/clip_by_norm/Maximum/y&quot;\\n  attr {\\n    key: &quot;T&quot;\\n    value {\\n      type: DT_FLOAT\\n    }\\n  }\\n}\\nnode {\\n  name: &quot;optimize/clip_by_norm_op/clip_by_norm/truediv&quot;\\n  op: &quot;RealDiv&quot;\\n  input: &quot;optimize/clip_by_norm_op/clip_by_norm/mul_1&quot;\\n  input: &quot;optimize/clip_by_norm_op/clip_by_norm/Maximum&quot;\\n  attr {\\n    key: &quot;T&quot;\\n    value {\\n      type: DT_FLOAT\\n    }\\n  }\\n}\\nnode {\\n  name: &quot;optimize/clip_by_norm_op/clip_by_norm&quot;\\n  op: &quot;Identity&quot;\\n  input: &quot;optimize/clip_by_norm_op/clip_by_norm/truediv&quot;\\n  attr {\\n    key: &quot;T&quot;\\n    value {\\n      type: DT_FLOAT\\n    }\\n  }\\n}\\nnode {\\n  name: &quot;optimize/clip_by_norm_op/Assign&quot;\\n  op: &quot;Assign&quot;\\n  input: &quot;user_embeddings/Variable&quot;\\n  input: &quot;optimize/clip_by_norm_op/clip_by_norm&quot;\\n  attr {\\n    key: &quot;T&quot;\\n    value {\\n      type: DT_FLOAT\\n    }\\n  }\\n  attr {\\n    key: &quot;_class&quot;\\n    value {\\n      list {\\n        s: &quot;loc:@user_embeddings/Variable&quot;\\n      }\\n    }\\n  }\\n  attr {\\n    key: &quot;use_locking&quot;\\n    value {\\n      b: true\\n    }\\n  }\\n  attr {\\n    key: &quot;validate_shape&quot;\\n    value {\\n      b: true\\n    }\\n  }\\n}\\nnode {\\n  name: &quot;optimize/clip_by_norm_op/clip_by_norm_1/mul&quot;\\n  op: &quot;Mul&quot;\\n  input: &quot;item_embeddings/Variable/read&quot;\\n  input: &quot;item_embeddings/Variable/read&quot;\\n  input: &quot;^optimize/Adam&quot;\\n  input: &quot;^optimize/Adam_1&quot;\\n  attr {\\n    key: &quot;T&quot;\\n    value {\\n      type: DT_FLOAT\\n    }\\n  }\\n}\\nnode {\\n  name: &quot;optimize/clip_by_norm_op/clip_by_norm_1/Sum/reduction_indices&quot;\\n  op: &quot;Const&quot;\\n  input: &quot;^optimize/Adam&quot;\\n  input: &quot;^optimize/Adam_1&quot;\\n  attr {\\n    key: &quot;dtype&quot;\\n    value {\\n      type: DT_INT32\\n    }\\n  }\\n  attr {\\n    key: &quot;value&quot;\\n    value {\\n      tensor {\\n        dtype: DT_INT32\\n        tensor_shape {\\n          dim {\\n            size: 1\\n          }\\n        }\\n        int_val: 1\\n      }\\n    }\\n  }\\n}\\nnode {\\n  name: &quot;optimize/clip_by_norm_op/clip_by_norm_1/Sum&quot;\\n  op: &quot;Sum&quot;\\n  input: &quot;optimize/clip_by_norm_op/clip_by_norm_1/mul&quot;\\n  input: &quot;optimize/clip_by_norm_op/clip_by_norm_1/Sum/reduction_indices&quot;\\n  attr {\\n    key: &quot;T&quot;\\n    value {\\n      type: DT_FLOAT\\n    }\\n  }\\n  attr {\\n    key: &quot;Tidx&quot;\\n    value {\\n      type: DT_INT32\\n    }\\n  }\\n  attr {\\n    key: &quot;keep_dims&quot;\\n    value {\\n      b: true\\n    }\\n  }\\n}\\nnode {\\n  name: &quot;optimize/clip_by_norm_op/clip_by_norm_1/Greater/y&quot;\\n  op: &quot;Const&quot;\\n  input: &quot;^optimize/Adam&quot;\\n  input: &quot;^optimize/Adam_1&quot;\\n  attr {\\n    key: &quot;dtype&quot;\\n    value {\\n      type: DT_FLOAT\\n    }\\n  }\\n  attr {\\n    key: &quot;value&quot;\\n    value {\\n      tensor {\\n        dtype: DT_FLOAT\\n        tensor_shape {\\n        }\\n        float_val: 0.0\\n      }\\n    }\\n  }\\n}\\nnode {\\n  name: &quot;optimize/clip_by_norm_op/clip_by_norm_1/Greater&quot;\\n  op: &quot;Greater&quot;\\n  input: &quot;optimize/clip_by_norm_op/clip_by_norm_1/Sum&quot;\\n  input: &quot;optimize/clip_by_norm_op/clip_by_norm_1/Greater/y&quot;\\n  attr {\\n    key: &quot;T&quot;\\n    value {\\n      type: DT_FLOAT\\n    }\\n  }\\n}\\nnode {\\n  name: &quot;optimize/clip_by_norm_op/clip_by_norm_1/ones_like/Shape&quot;\\n  op: &quot;Const&quot;\\n  input: &quot;^optimize/Adam&quot;\\n  input: &quot;^optimize/Adam_1&quot;\\n  attr {\\n    key: &quot;dtype&quot;\\n    value {\\n      type: DT_INT32\\n    }\\n  }\\n  attr {\\n    key: &quot;value&quot;\\n    value {\\n      tensor {\\n        dtype: DT_INT32\\n        tensor_shape {\\n          dim {\\n            size: 2\\n          }\\n        }\\n        tensor_content: &quot;we\\\\000\\\\000\\\\001\\\\000\\\\000\\\\000&quot;\\n      }\\n    }\\n  }\\n}\\nnode {\\n  name: &quot;optimize/clip_by_norm_op/clip_by_norm_1/ones_like/Const&quot;\\n  op: &quot;Const&quot;\\n  input: &quot;^optimize/Adam&quot;\\n  input: &quot;^optimize/Adam_1&quot;\\n  attr {\\n    key: &quot;dtype&quot;\\n    value {\\n      type: DT_FLOAT\\n    }\\n  }\\n  attr {\\n    key: &quot;value&quot;\\n    value {\\n      tensor {\\n        dtype: DT_FLOAT\\n        tensor_shape {\\n        }\\n        float_val: 1.0\\n      }\\n    }\\n  }\\n}\\nnode {\\n  name: &quot;optimize/clip_by_norm_op/clip_by_norm_1/ones_like&quot;\\n  op: &quot;Fill&quot;\\n  input: &quot;optimize/clip_by_norm_op/clip_by_norm_1/ones_like/Shape&quot;\\n  input: &quot;optimize/clip_by_norm_op/clip_by_norm_1/ones_like/Const&quot;\\n  attr {\\n    key: &quot;T&quot;\\n    value {\\n      type: DT_FLOAT\\n    }\\n  }\\n  attr {\\n    key: &quot;index_type&quot;\\n    value {\\n      type: DT_INT32\\n    }\\n  }\\n}\\nnode {\\n  name: &quot;optimize/clip_by_norm_op/clip_by_norm_1/Select&quot;\\n  op: &quot;Select&quot;\\n  input: &quot;optimize/clip_by_norm_op/clip_by_norm_1/Greater&quot;\\n  input: &quot;optimize/clip_by_norm_op/clip_by_norm_1/Sum&quot;\\n  input: &quot;optimize/clip_by_norm_op/clip_by_norm_1/ones_like&quot;\\n  attr {\\n    key: &quot;T&quot;\\n    value {\\n      type: DT_FLOAT\\n    }\\n  }\\n}\\nnode {\\n  name: &quot;optimize/clip_by_norm_op/clip_by_norm_1/Sqrt&quot;\\n  op: &quot;Sqrt&quot;\\n  input: &quot;optimize/clip_by_norm_op/clip_by_norm_1/Select&quot;\\n  attr {\\n    key: &quot;T&quot;\\n    value {\\n      type: DT_FLOAT\\n    }\\n  }\\n}\\nnode {\\n  name: &quot;optimize/clip_by_norm_op/clip_by_norm_1/Select_1&quot;\\n  op: &quot;Select&quot;\\n  input: &quot;optimize/clip_by_norm_op/clip_by_norm_1/Greater&quot;\\n  input: &quot;optimize/clip_by_norm_op/clip_by_norm_1/Sqrt&quot;\\n  input: &quot;optimize/clip_by_norm_op/clip_by_norm_1/Sum&quot;\\n  attr {\\n    key: &quot;T&quot;\\n    value {\\n      type: DT_FLOAT\\n    }\\n  }\\n}\\nnode {\\n  name: &quot;optimize/clip_by_norm_op/clip_by_norm_1/mul_1/y&quot;\\n  op: &quot;Const&quot;\\n  input: &quot;^optimize/Adam&quot;\\n  input: &quot;^optimize/Adam_1&quot;\\n  attr {\\n    key: &quot;dtype&quot;\\n    value {\\n      type: DT_FLOAT\\n    }\\n  }\\n  attr {\\n    key: &quot;value&quot;\\n    value {\\n      tensor {\\n        dtype: DT_FLOAT\\n        tensor_shape {\\n        }\\n        float_val: 1.100000023841858\\n      }\\n    }\\n  }\\n}\\nnode {\\n  name: &quot;optimize/clip_by_norm_op/clip_by_norm_1/mul_1&quot;\\n  op: &quot;Mul&quot;\\n  input: &quot;item_embeddings/Variable/read&quot;\\n  input: &quot;optimize/clip_by_norm_op/clip_by_norm_1/mul_1/y&quot;\\n  attr {\\n    key: &quot;T&quot;\\n    value {\\n      type: DT_FLOAT\\n    }\\n  }\\n}\\nnode {\\n  name: &quot;optimize/clip_by_norm_op/clip_by_norm_1/Maximum/y&quot;\\n  op: &quot;Const&quot;\\n  input: &quot;^optimize/Adam&quot;\\n  input: &quot;^optimize/Adam_1&quot;\\n  attr {\\n    key: &quot;dtype&quot;\\n    value {\\n      type: DT_FLOAT\\n    }\\n  }\\n  attr {\\n    key: &quot;value&quot;\\n    value {\\n      tensor {\\n        dtype: DT_FLOAT\\n        tensor_shape {\\n        }\\n        float_val: 1.100000023841858\\n      }\\n    }\\n  }\\n}\\nnode {\\n  name: &quot;optimize/clip_by_norm_op/clip_by_norm_1/Maximum&quot;\\n  op: &quot;Maximum&quot;\\n  input: &quot;optimize/clip_by_norm_op/clip_by_norm_1/Select_1&quot;\\n  input: &quot;optimize/clip_by_norm_op/clip_by_norm_1/Maximum/y&quot;\\n  attr {\\n    key: &quot;T&quot;\\n    value {\\n      type: DT_FLOAT\\n    }\\n  }\\n}\\nnode {\\n  name: &quot;optimize/clip_by_norm_op/clip_by_norm_1/truediv&quot;\\n  op: &quot;RealDiv&quot;\\n  input: &quot;optimize/clip_by_norm_op/clip_by_norm_1/mul_1&quot;\\n  input: &quot;optimize/clip_by_norm_op/clip_by_norm_1/Maximum&quot;\\n  attr {\\n    key: &quot;T&quot;\\n    value {\\n      type: DT_FLOAT\\n    }\\n  }\\n}\\nnode {\\n  name: &quot;optimize/clip_by_norm_op/clip_by_norm_1&quot;\\n  op: &quot;Identity&quot;\\n  input: &quot;optimize/clip_by_norm_op/clip_by_norm_1/truediv&quot;\\n  attr {\\n    key: &quot;T&quot;\\n    value {\\n      type: DT_FLOAT\\n    }\\n  }\\n}\\nnode {\\n  name: &quot;optimize/clip_by_norm_op/Assign_1&quot;\\n  op: &quot;Assign&quot;\\n  input: &quot;item_embeddings/Variable&quot;\\n  input: &quot;optimize/clip_by_norm_op/clip_by_norm_1&quot;\\n  attr {\\n    key: &quot;T&quot;\\n    value {\\n      type: DT_FLOAT\\n    }\\n  }\\n  attr {\\n    key: &quot;_class&quot;\\n    value {\\n      list {\\n        s: &quot;loc:@item_embeddings/Variable&quot;\\n      }\\n    }\\n  }\\n  attr {\\n    key: &quot;use_locking&quot;\\n    value {\\n      b: true\\n    }\\n  }\\n  attr {\\n    key: &quot;validate_shape&quot;\\n    value {\\n      b: true\\n    }\\n  }\\n}\\n';\n",
              "          }\n",
              "        </script>\n",
              "        <link rel=&quot;import&quot; href=&quot;https://tensorboard.appspot.com/tf-graph-basic.build.html&quot; onload=load()>\n",
              "        <div style=&quot;height:600px&quot;>\n",
              "          <tf-graph-basic id=&quot;graph0.9298530636953487&quot;></tf-graph-basic>\n",
              "        </div>\n",
              "    \"></iframe>\n",
              "    "
            ],
            "text/plain": [
              "<IPython.core.display.HTML object>"
            ]
          },
          "metadata": {
            "tags": []
          }
        }
      ]
    }
  ]
}